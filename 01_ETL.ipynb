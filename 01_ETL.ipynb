{
 "cells": [
  {
   "cell_type": "markdown",
   "id": "e8d8af45-68a2-489b-a500-e2b4526107d6",
   "metadata": {},
   "source": [
    "- https://dev.to/twitterdev/a-comprehensive-guide-for-using-the-twitter-api-v2-using-tweepy-in-python-15d9"
   ]
  },
  {
   "cell_type": "markdown",
   "id": "133c1da2-1eac-4df9-9c8e-79d784517ee7",
   "metadata": {},
   "source": [
    "## Importings"
   ]
  },
  {
   "cell_type": "code",
   "execution_count": 1,
   "id": "286e5586-7b5d-4e8c-9651-966500fc070e",
   "metadata": {},
   "outputs": [],
   "source": [
    "import tweepy\n",
    "import numpy as np\n",
    "import yaml\n",
    "import numpy as np\n",
    "import os\n",
    "import math\n",
    "\n",
    "from datetime import datetime, timedelta\n",
    "from time import sleep\n",
    "from tqdm import tqdm\n",
    "import pandas as pd\n",
    "\n",
    "from unidecode import unidecode"
   ]
  },
  {
   "cell_type": "code",
   "execution_count": 2,
   "id": "b0db0766-7ba5-4b70-b30f-c0239eb25096",
   "metadata": {},
   "outputs": [
    {
     "data": {
      "text/plain": [
       "{'access_token': '1588313600942374912-IdEtMTjQ2p1Pj1ZWtQTFSxjcOk35EP',\n",
       " 'access_token_secret': 'AHPh4D7bS7egiwYqRyMrXfIPXTmcQ9yxVEqYTHsTov9En',\n",
       " 'Smoke Nova': {'api_key': 'wgr8tGnddtm58uVYItrekpfax',\n",
       "  'api_key_secret': 'croFkMmPqnOIMagZklr8GRClpeYTZwqtsh7FsSN8GLg0iTyo2u',\n",
       "  'bearer_token': 'AAAAAAAAAAAAAAAAAAAAADioiwEAAAAASqpNyScfLso0EfUwfV1aCAn4m60%3D6JzrW4Bno4LzCVXl7Ejn8PoDW0KF2dg5PngQ2bRQ1tGqlqvKGN'},\n",
       " 'kul-thesis': {'api_key': 'zoby4xjcptFVVOGnbdjsWw4h2',\n",
       "  'api_key_secret': '7D9HBgvIjN5TaHH7EBenrFq3D9e26jdOSwx7z0DXkQWjGZnHfI',\n",
       "  'bearer_token': 'AAAAAAAAAAAAAAAAAAAAACWLlgEAAAAA%2BHeor7xDZWyWbRcm85krxfGAvQo%3DnmAkL2A0JB98DpyJq1ZmIABnOygfjmYFPeSfbslB3jYapj26kE'}}"
      ]
     },
     "execution_count": 2,
     "metadata": {},
     "output_type": "execute_result"
    }
   ],
   "source": [
    "with open('twitter_keys.yaml', 'r') as f:\n",
    "    credentials = yaml.safe_load(f)\n",
    "\n",
    "credentials"
   ]
  },
  {
   "cell_type": "code",
   "execution_count": 3,
   "id": "dd6b7976-8553-445b-971d-d6e545f88489",
   "metadata": {},
   "outputs": [],
   "source": [
    "TWITTER_API_ACCESS_TOKEN = credentials['access_token']\n",
    "TWITTER_API_ACCESS_TOKEN_SECRET = credentials['access_token_secret']\n",
    "TWITTER_API_KEY = credentials['kul-thesis']['api_key']\n",
    "TWITTER_API_KEY_SECRET = credentials['kul-thesis']['api_key_secret']\n",
    "TWITTER_BEARER_TOKEN = credentials['kul-thesis']['bearer_token']"
   ]
  },
  {
   "cell_type": "code",
   "execution_count": 5,
   "id": "23921148-8afb-4899-b028-3554a5e8819c",
   "metadata": {},
   "outputs": [
    {
     "name": "stdout",
     "output_type": "stream",
     "text": [
      "TWEEPY API client is successfully created...\n"
     ]
    }
   ],
   "source": [
    "auth = tweepy.OAuthHandler(TWITTER_API_KEY, TWITTER_API_KEY_SECRET)\n",
    "auth.set_access_token(TWITTER_API_ACCESS_TOKEN, TWITTER_API_ACCESS_TOKEN_SECRET)\n",
    "\n",
    "tweepy_client = tweepy.Client(\n",
    "    bearer_token=TWITTER_BEARER_TOKEN,\n",
    "    consumer_key=TWITTER_API_KEY,\n",
    "    consumer_secret=TWITTER_API_KEY_SECRET,\n",
    "    access_token=TWITTER_API_ACCESS_TOKEN,\n",
    "    access_token_secret=TWITTER_API_ACCESS_TOKEN_SECRET,\n",
    "    wait_on_rate_limit=True\n",
    ")\n",
    "\n",
    "print(\"TWEEPY API client is successfully created...\")"
   ]
  },
  {
   "cell_type": "markdown",
   "id": "1796fdaf-c944-4d0e-a517-e977a7ab4110",
   "metadata": {},
   "source": [
    "## Sandbox"
   ]
  },
  {
   "cell_type": "markdown",
   "id": "c5087240-bf51-4973-a32b-a40b58907b59",
   "metadata": {},
   "source": [
    "### Get all tweets from users"
   ]
  },
  {
   "cell_type": "code",
   "execution_count": 6,
   "id": "37c071ee-6506-45ec-830b-fc0f66b23cee",
   "metadata": {},
   "outputs": [],
   "source": [
    "end_time = datetime(2023, 1, 30)\n",
    "start_time = datetime(2022, 1, 1)"
   ]
  },
  {
   "cell_type": "code",
   "execution_count": 7,
   "id": "53d00d13-61ba-4c82-a7e0-0fdeb58ff63c",
   "metadata": {},
   "outputs": [
    {
     "data": {
      "text/plain": [
       "39"
      ]
     },
     "execution_count": 7,
     "metadata": {},
     "output_type": "execute_result"
    }
   ],
   "source": [
    "((end_time - start_time) / 10).days"
   ]
  },
  {
   "cell_type": "code",
   "execution_count": 15,
   "id": "77d7fae3-5a04-415a-86aa-c33a8aa4e3a0",
   "metadata": {},
   "outputs": [],
   "source": [
    "def get_all_user_tweets(query, years=1, days_range=10, num_iter=39, end_time=datetime(2023, 1, 30)):\n",
    "    \"\"\"Get all tweets from a given user\n",
    "    \n",
    "    Example of query: from: mehdizana_ -is:retweet\n",
    "    \"\"\"\n",
    "    \n",
    "    # select time range\n",
    "    # end_time = datetime.today()\n",
    "    start_time = end_time - timedelta(days=days_range)\n",
    "    \n",
    "    all_tweets = []\n",
    "    for i in tqdm(range(num_iter)):\n",
    "\n",
    "        tweets = tweepy_client.search_all_tweets(\n",
    "            query=query,\n",
    "            tweet_fields=[\n",
    "                \"attachments\",\n",
    "                \"author_id\",\n",
    "                \"context_annotations\",\n",
    "                \"conversation_id\",\n",
    "                \"created_at\",\n",
    "                \"edit_controls\",\n",
    "                \"entities\",\n",
    "                \"geo\",\n",
    "                \"id\",\n",
    "                \"in_reply_to_user_id\",\n",
    "                \"lang\",\n",
    "                \"public_metrics\",\n",
    "                \"possibly_sensitive\",\n",
    "                \"referenced_tweets\",\n",
    "                \"reply_settings\",\n",
    "                \"source\",\n",
    "                \"text\",\n",
    "                \"withheld\"\n",
    "            ],\n",
    "            start_time=start_time,\n",
    "            end_time=end_time,\n",
    "            max_results=100\n",
    "        )\n",
    "        \n",
    "        # include only valid tweets\n",
    "        if tweets.meta['result_count'] > 0:\n",
    "            all_tweets += tweets.data\n",
    "\n",
    "            # alert when there is more than 100 tweets in the considered time range\n",
    "            if tweets.meta['result_count'] > 100:\n",
    "                print(f'There are more tweets between {start_time} and {end_time}')\n",
    "\n",
    "        end_time -= timedelta(days=days_range)\n",
    "        start_time -= timedelta(days=days_range)   \n",
    "\n",
    "        sleep(1)\n",
    "        \n",
    "    all_tweets = pd.DataFrame(all_tweets)\n",
    "        \n",
    "    return all_tweets"
   ]
  },
  {
   "cell_type": "code",
   "execution_count": 16,
   "id": "061ce142-5d45-4f5b-b0fd-daae6146b43b",
   "metadata": {},
   "outputs": [
    {
     "name": "stderr",
     "output_type": "stream",
     "text": [
      "C:\\Users\\milto\\AppData\\Local\\Temp/ipykernel_1292/1388474157.py:1: FutureWarning: Inferring datetime64[ns, UTC] from data containing strings is deprecated and will be removed in a future version. To retain the old behavior explicitly pass Series(data, dtype=datetime64[ns, UTC])\n",
      "  df_hra = pd.read_excel('HRA Twitter Accounts.xlsx')\n"
     ]
    }
   ],
   "source": [
    "df_hra = pd.read_excel('HRA Twitter Accounts.xlsx')"
   ]
  },
  {
   "cell_type": "code",
   "execution_count": 18,
   "id": "a7f8af3c-fcbe-4a13-976d-d3a16a00244c",
   "metadata": {},
   "outputs": [
    {
     "data": {
      "text/plain": [
       "351"
      ]
     },
     "execution_count": 18,
     "metadata": {},
     "output_type": "execute_result"
    }
   ],
   "source": [
    "saved_tweets = [i.replace('.csv', '') for i in os.listdir('tweets/')]\n",
    "len(saved_tweets)"
   ]
  },
  {
   "cell_type": "code",
   "execution_count": 19,
   "id": "4a9de115-40bc-44f6-a594-6d88fc514e3a",
   "metadata": {},
   "outputs": [
    {
     "data": {
      "text/plain": [
       "353"
      ]
     },
     "execution_count": 19,
     "metadata": {},
     "output_type": "execute_result"
    }
   ],
   "source": [
    "users = df_hra['screen_name'].dropna().values\n",
    "len(users)"
   ]
  },
  {
   "cell_type": "code",
   "execution_count": 20,
   "id": "205d824b-09e6-4b23-b6b7-12292568b3fa",
   "metadata": {},
   "outputs": [
    {
     "data": {
      "text/plain": [
       "0"
      ]
     },
     "execution_count": 20,
     "metadata": {},
     "output_type": "execute_result"
    }
   ],
   "source": [
    "users = [i for i in users if i not in saved_tweets]\n",
    "len(users)"
   ]
  },
  {
   "cell_type": "code",
   "execution_count": 14,
   "id": "41a725cd-1acf-4cd2-986e-9d1863391aba",
   "metadata": {
    "collapsed": true,
    "jupyter": {
     "outputs_hidden": true
    },
    "tags": []
   },
   "outputs": [
    {
     "name": "stdout",
     "output_type": "stream",
     "text": [
      "meryemce74\n"
     ]
    },
    {
     "name": "stderr",
     "output_type": "stream",
     "text": [
      "100%|█████████████████████████████████████████████████████████████████████████████████████████████████| 39/39 [01:13<00:00,  1.90s/it]\n"
     ]
    },
    {
     "name": "stdout",
     "output_type": "stream",
     "text": [
      "HaticeTopalogl\n"
     ]
    },
    {
     "name": "stderr",
     "output_type": "stream",
     "text": [
      "100%|█████████████████████████████████████████████████████████████████████████████████████████████████| 39/39 [01:16<00:00,  1.97s/it]\n"
     ]
    },
    {
     "name": "stdout",
     "output_type": "stream",
     "text": [
      "profdrhakankar\n"
     ]
    },
    {
     "name": "stderr",
     "output_type": "stream",
     "text": [
      "100%|█████████████████████████████████████████████████████████████████████████████████████████████████| 39/39 [00:56<00:00,  1.44s/it]\n"
     ]
    },
    {
     "name": "stdout",
     "output_type": "stream",
     "text": [
      "CerenTurkdili53\n"
     ]
    },
    {
     "name": "stderr",
     "output_type": "stream",
     "text": [
      "100%|█████████████████████████████████████████████████████████████████████████████████████████████████| 39/39 [01:11<00:00,  1.84s/it]\n"
     ]
    },
    {
     "name": "stdout",
     "output_type": "stream",
     "text": [
      "DilaraK2013\n"
     ]
    },
    {
     "name": "stderr",
     "output_type": "stream",
     "text": [
      "100%|█████████████████████████████████████████████████████████████████████████████████████████████████| 39/39 [01:11<00:00,  1.83s/it]\n"
     ]
    },
    {
     "name": "stdout",
     "output_type": "stream",
     "text": [
      "Esra_Vural_\n"
     ]
    },
    {
     "name": "stderr",
     "output_type": "stream",
     "text": [
      "100%|█████████████████████████████████████████████████████████████████████████████████████████████████| 39/39 [00:54<00:00,  1.41s/it]\n"
     ]
    },
    {
     "name": "stdout",
     "output_type": "stream",
     "text": [
      "dilaratambova\n"
     ]
    },
    {
     "name": "stderr",
     "output_type": "stream",
     "text": [
      " 49%|███████████████████████████████████████████████▎                                                 | 19/39 [00:27<00:28,  1.43s/it]Rate limit exceeded. Sleeping for 294 seconds.\n",
      "100%|█████████████████████████████████████████████████████████████████████████████████████████████████| 39/39 [05:51<00:00,  9.00s/it]\n"
     ]
    },
    {
     "name": "stdout",
     "output_type": "stream",
     "text": [
      "vegan__earth\n"
     ]
    },
    {
     "name": "stderr",
     "output_type": "stream",
     "text": [
      "100%|█████████████████████████████████████████████████████████████████████████████████████████████████| 39/39 [00:55<00:00,  1.42s/it]\n"
     ]
    },
    {
     "name": "stdout",
     "output_type": "stream",
     "text": [
      "kelebeklivegan\n"
     ]
    },
    {
     "name": "stderr",
     "output_type": "stream",
     "text": [
      "100%|█████████████████████████████████████████████████████████████████████████████████████████████████| 39/39 [00:54<00:00,  1.41s/it]\n"
     ]
    },
    {
     "name": "stdout",
     "output_type": "stream",
     "text": [
      "earmutcu\n"
     ]
    },
    {
     "name": "stderr",
     "output_type": "stream",
     "text": [
      "100%|█████████████████████████████████████████████████████████████████████████████████████████████████| 39/39 [00:59<00:00,  1.54s/it]\n"
     ]
    },
    {
     "name": "stdout",
     "output_type": "stream",
     "text": [
      "Saliimsen\n"
     ]
    },
    {
     "name": "stderr",
     "output_type": "stream",
     "text": [
      "100%|█████████████████████████████████████████████████████████████████████████████████████████████████| 39/39 [00:58<00:00,  1.50s/it]\n"
     ]
    },
    {
     "name": "stdout",
     "output_type": "stream",
     "text": [
      "DenizOzbilgin\n"
     ]
    },
    {
     "name": "stderr",
     "output_type": "stream",
     "text": [
      "100%|█████████████████████████████████████████████████████████████████████████████████████████████████| 39/39 [01:01<00:00,  1.57s/it]\n"
     ]
    },
    {
     "name": "stdout",
     "output_type": "stream",
     "text": [
      "Kadirkacan1\n"
     ]
    },
    {
     "name": "stderr",
     "output_type": "stream",
     "text": [
      "100%|█████████████████████████████████████████████████████████████████████████████████████████████████| 39/39 [00:55<00:00,  1.43s/it]\n"
     ]
    },
    {
     "name": "stdout",
     "output_type": "stream",
     "text": [
      "minelirana\n"
     ]
    },
    {
     "name": "stderr",
     "output_type": "stream",
     "text": [
      "100%|█████████████████████████████████████████████████████████████████████████████████████████████████| 39/39 [01:01<00:00,  1.58s/it]\n"
     ]
    },
    {
     "name": "stdout",
     "output_type": "stream",
     "text": [
      "baraneminn\n"
     ]
    },
    {
     "name": "stderr",
     "output_type": "stream",
     "text": [
      " 18%|█████████████████▌                                                                                | 7/39 [00:09<00:42,  1.32s/it]Rate limit exceeded. Sleeping for 455 seconds.\n",
      "100%|█████████████████████████████████████████████████████████████████████████████████████████████████| 39/39 [08:30<00:00, 13.09s/it]\n"
     ]
    },
    {
     "name": "stdout",
     "output_type": "stream",
     "text": [
      "Isbsuzann\n"
     ]
    },
    {
     "name": "stderr",
     "output_type": "stream",
     "text": [
      "100%|█████████████████████████████████████████████████████████████████████████████████████████████████| 39/39 [00:55<00:00,  1.42s/it]\n"
     ]
    },
    {
     "name": "stdout",
     "output_type": "stream",
     "text": [
      "MehmetAvat\n"
     ]
    },
    {
     "name": "stderr",
     "output_type": "stream",
     "text": [
      "100%|█████████████████████████████████████████████████████████████████████████████████████████████████| 39/39 [00:56<00:00,  1.45s/it]\n"
     ]
    },
    {
     "name": "stdout",
     "output_type": "stream",
     "text": [
      "huseyingunturkn\n"
     ]
    },
    {
     "name": "stderr",
     "output_type": "stream",
     "text": [
      "100%|█████████████████████████████████████████████████████████████████████████████████████████████████| 39/39 [00:52<00:00,  1.36s/it]\n"
     ]
    },
    {
     "name": "stdout",
     "output_type": "stream",
     "text": [
      "baskanibrahim06\n"
     ]
    },
    {
     "name": "stderr",
     "output_type": "stream",
     "text": [
      "100%|█████████████████████████████████████████████████████████████████████████████████████████████████| 39/39 [01:00<00:00,  1.55s/it]\n"
     ]
    }
   ],
   "source": [
    "for user in users:\n",
    "    print(user)\n",
    "    \n",
    "    all_tweets = get_all_user_tweets(f'from: {user}')\n",
    "    all_tweets.to_csv(f'tweets/{user}.csv', index=False)"
   ]
  },
  {
   "cell_type": "code",
   "execution_count": null,
   "id": "45f5d842-ba9f-4cdd-8a3a-d7e82d0e6f8c",
   "metadata": {},
   "outputs": [],
   "source": []
  }
 ],
 "metadata": {
  "kernelspec": {
   "display_name": "Python 3 (ipykernel)",
   "language": "python",
   "name": "python3"
  },
  "language_info": {
   "codemirror_mode": {
    "name": "ipython",
    "version": 3
   },
   "file_extension": ".py",
   "mimetype": "text/x-python",
   "name": "python",
   "nbconvert_exporter": "python",
   "pygments_lexer": "ipython3",
   "version": "3.9.7"
  }
 },
 "nbformat": 4,
 "nbformat_minor": 5
}
