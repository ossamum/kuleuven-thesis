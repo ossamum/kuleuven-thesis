{
 "cells": [
  {
   "cell_type": "markdown",
   "id": "f52ace3e-9e85-4565-9d19-ac42eeeb842e",
   "metadata": {},
   "source": [
    "## Importing libs"
   ]
  },
  {
   "cell_type": "code",
   "execution_count": 1,
   "id": "7d901454-6553-491d-827c-d0fffd7ee2dc",
   "metadata": {},
   "outputs": [
    {
     "name": "stderr",
     "output_type": "stream",
     "text": [
      "<frozen importlib._bootstrap>:228: RuntimeWarning: scipy._lib.messagestream.MessageStream size changed, may indicate binary incompatibility. Expected 56 from C header, got 64 from PyObject\n"
     ]
    }
   ],
   "source": [
    "import pandas as pd\n",
    "import os\n",
    "from tqdm import tqdm \n",
    "import numpy as np\n",
    "import pickle\n",
    "import seaborn as sns\n",
    "import warnings\n",
    "import matplotlib.pyplot as plt\n",
    "from sklearn.linear_model import LogisticRegression\n",
    "from sklearn.model_selection import train_test_split\n",
    "from sklearn.metrics import classification_report, f1_score\n",
    "from unidecode import unidecode\n",
    "warnings.filterwarnings('ignore')\n",
    "\n",
    "pd.options.display.max_columns = None"
   ]
  },
  {
   "cell_type": "markdown",
   "id": "dde7556e-e7c2-421d-97bf-c5ea58750858",
   "metadata": {},
   "source": [
    "## Importing data"
   ]
  },
  {
   "cell_type": "code",
   "execution_count": 2,
   "id": "ddb68812-8be0-480f-9bc5-dad2e0079dee",
   "metadata": {},
   "outputs": [],
   "source": [
    "df_tweets = (\n",
    "    pd.read_csv('tweets/all_tweets.csv')\n",
    "    .iloc[:, 1:]\n",
    ")"
   ]
  },
  {
   "cell_type": "code",
   "execution_count": 3,
   "id": "382e598a-23dc-41fa-a00e-a33a7c334de3",
   "metadata": {},
   "outputs": [
    {
     "data": {
      "text/plain": [
       "(359036, 28)"
      ]
     },
     "execution_count": 3,
     "metadata": {},
     "output_type": "execute_result"
    }
   ],
   "source": [
    "df_tweets.shape"
   ]
  },
  {
   "cell_type": "code",
   "execution_count": 4,
   "id": "71bbfaa3-be7d-4871-91ce-dce1c953389a",
   "metadata": {},
   "outputs": [],
   "source": [
    "df_all_trends = pd.read_csv('trends/df_all_trends.csv')"
   ]
  },
  {
   "cell_type": "markdown",
   "id": "caf32c69-d8f4-4704-b23f-1ed9e73a7f74",
   "metadata": {
    "tags": []
   },
   "source": [
    "## Dataprep"
   ]
  },
  {
   "cell_type": "markdown",
   "id": "2aae9fc0-1374-45f7-a50c-71b2f787c222",
   "metadata": {
    "tags": []
   },
   "source": [
    "### Tweets"
   ]
  },
  {
   "cell_type": "code",
   "execution_count": 7,
   "id": "15150c65-f6a0-4f51-b404-f6e5852febf4",
   "metadata": {},
   "outputs": [
    {
     "data": {
      "text/html": [
       "<div>\n",
       "<style scoped>\n",
       "    .dataframe tbody tr th:only-of-type {\n",
       "        vertical-align: middle;\n",
       "    }\n",
       "\n",
       "    .dataframe tbody tr th {\n",
       "        vertical-align: top;\n",
       "    }\n",
       "\n",
       "    .dataframe thead th {\n",
       "        text-align: right;\n",
       "    }\n",
       "</style>\n",
       "<table border=\"1\" class=\"dataframe\">\n",
       "  <thead>\n",
       "    <tr style=\"text-align: right;\">\n",
       "      <th></th>\n",
       "      <th>author_id</th>\n",
       "      <th>context_annotations</th>\n",
       "      <th>conversation_id</th>\n",
       "      <th>created_at</th>\n",
       "      <th>edit_history_tweet_ids</th>\n",
       "      <th>id</th>\n",
       "      <th>in_reply_to_user_id</th>\n",
       "      <th>lang</th>\n",
       "      <th>possibly_sensitive</th>\n",
       "      <th>referenced_tweets</th>\n",
       "      <th>reply_settings</th>\n",
       "      <th>text</th>\n",
       "      <th>author</th>\n",
       "      <th>withheld</th>\n",
       "      <th>geo</th>\n",
       "      <th>quote_count</th>\n",
       "      <th>retweet_count</th>\n",
       "      <th>like_count</th>\n",
       "      <th>reply_count</th>\n",
       "      <th>impression_count</th>\n",
       "      <th>media_keys</th>\n",
       "      <th>poll_ids</th>\n",
       "      <th>hashtags</th>\n",
       "      <th>urls</th>\n",
       "      <th>mentions</th>\n",
       "      <th>cashtags</th>\n",
       "      <th>annotations</th>\n",
       "      <th>is_retweet</th>\n",
       "    </tr>\n",
       "  </thead>\n",
       "  <tbody>\n",
       "    <tr>\n",
       "      <th>0</th>\n",
       "      <td>1449804331142811655</td>\n",
       "      <td>NaN</td>\n",
       "      <td>1617597872803041280</td>\n",
       "      <td>2023-01-23 18:59:21+00:00</td>\n",
       "      <td>[1617597872803041280]</td>\n",
       "      <td>1617597872803041280</td>\n",
       "      <td>NaN</td>\n",
       "      <td>tr</td>\n",
       "      <td>False</td>\n",
       "      <td>NaN</td>\n",
       "      <td>everyone</td>\n",
       "      <td>Kararlarındaki temel dayanak, hukukun evrensel...</td>\n",
       "      <td>Goksun_KHK</td>\n",
       "      <td>NaN</td>\n",
       "      <td>NaN</td>\n",
       "      <td>0</td>\n",
       "      <td>2</td>\n",
       "      <td>1</td>\n",
       "      <td>0</td>\n",
       "      <td>82</td>\n",
       "      <td>NaN</td>\n",
       "      <td>NaN</td>\n",
       "      <td>[{'start': 95, 'end': 120, 'tag': 'OhalKomisyo...</td>\n",
       "      <td>NaN</td>\n",
       "      <td>NaN</td>\n",
       "      <td>NaN</td>\n",
       "      <td>NaN</td>\n",
       "      <td>False</td>\n",
       "    </tr>\n",
       "    <tr>\n",
       "      <th>1</th>\n",
       "      <td>1449804331142811655</td>\n",
       "      <td>NaN</td>\n",
       "      <td>1617597646339702823</td>\n",
       "      <td>2023-01-23 18:58:27+00:00</td>\n",
       "      <td>[1617597646339702823]</td>\n",
       "      <td>1617597646339702823</td>\n",
       "      <td>NaN</td>\n",
       "      <td>qme</td>\n",
       "      <td>False</td>\n",
       "      <td>NaN</td>\n",
       "      <td>everyone</td>\n",
       "      <td>#OhalKomisyonuHukuksuzdur https://t.co/3aUr5MZWPU</td>\n",
       "      <td>Goksun_KHK</td>\n",
       "      <td>NaN</td>\n",
       "      <td>NaN</td>\n",
       "      <td>0</td>\n",
       "      <td>1</td>\n",
       "      <td>0</td>\n",
       "      <td>0</td>\n",
       "      <td>52</td>\n",
       "      <td>['3_1617597636604723228']</td>\n",
       "      <td>NaN</td>\n",
       "      <td>[{'start': 0, 'end': 25, 'tag': 'OhalKomisyonu...</td>\n",
       "      <td>[{'start': 26, 'end': 49, 'url': 'https://t.co...</td>\n",
       "      <td>NaN</td>\n",
       "      <td>NaN</td>\n",
       "      <td>NaN</td>\n",
       "      <td>False</td>\n",
       "    </tr>\n",
       "  </tbody>\n",
       "</table>\n",
       "</div>"
      ],
      "text/plain": [
       "             author_id context_annotations      conversation_id  \\\n",
       "0  1449804331142811655                 NaN  1617597872803041280   \n",
       "1  1449804331142811655                 NaN  1617597646339702823   \n",
       "\n",
       "                  created_at edit_history_tweet_ids                   id  \\\n",
       "0  2023-01-23 18:59:21+00:00  [1617597872803041280]  1617597872803041280   \n",
       "1  2023-01-23 18:58:27+00:00  [1617597646339702823]  1617597646339702823   \n",
       "\n",
       "   in_reply_to_user_id lang  possibly_sensitive referenced_tweets  \\\n",
       "0                  NaN   tr               False               NaN   \n",
       "1                  NaN  qme               False               NaN   \n",
       "\n",
       "  reply_settings                                               text  \\\n",
       "0       everyone  Kararlarındaki temel dayanak, hukukun evrensel...   \n",
       "1       everyone  #OhalKomisyonuHukuksuzdur https://t.co/3aUr5MZWPU   \n",
       "\n",
       "       author withheld  geo  quote_count  retweet_count  like_count  \\\n",
       "0  Goksun_KHK      NaN  NaN            0              2           1   \n",
       "1  Goksun_KHK      NaN  NaN            0              1           0   \n",
       "\n",
       "   reply_count  impression_count                 media_keys poll_ids  \\\n",
       "0            0                82                        NaN      NaN   \n",
       "1            0                52  ['3_1617597636604723228']      NaN   \n",
       "\n",
       "                                            hashtags  \\\n",
       "0  [{'start': 95, 'end': 120, 'tag': 'OhalKomisyo...   \n",
       "1  [{'start': 0, 'end': 25, 'tag': 'OhalKomisyonu...   \n",
       "\n",
       "                                                urls mentions cashtags  \\\n",
       "0                                                NaN      NaN      NaN   \n",
       "1  [{'start': 26, 'end': 49, 'url': 'https://t.co...      NaN      NaN   \n",
       "\n",
       "  annotations  is_retweet  \n",
       "0         NaN       False  \n",
       "1         NaN       False  "
      ]
     },
     "execution_count": 7,
     "metadata": {},
     "output_type": "execute_result"
    }
   ],
   "source": [
    "df_tweets.head(2)"
   ]
  },
  {
   "cell_type": "code",
   "execution_count": 8,
   "id": "20395a7f-e4cf-49d2-87c6-b02d0ffdce86",
   "metadata": {},
   "outputs": [
    {
     "data": {
      "text/plain": [
       "(104861, 3)"
      ]
     },
     "execution_count": 8,
     "metadata": {},
     "output_type": "execute_result"
    }
   ],
   "source": [
    "df = (\n",
    "    df_tweets[['created_at', 'text', 'hashtags', 'id']]\n",
    "    .copy()\n",
    "    .set_index('id')\n",
    "    .dropna(subset=['hashtags'])\n",
    ")\n",
    "\n",
    "df['created_at'] = pd.to_datetime(df['created_at'].str[:19])\n",
    "df.shape"
   ]
  },
  {
   "cell_type": "code",
   "execution_count": 9,
   "id": "974a57bf-b9a3-40fe-9981-342697dd2a3e",
   "metadata": {},
   "outputs": [
    {
     "data": {
      "text/html": [
       "<div>\n",
       "<style scoped>\n",
       "    .dataframe tbody tr th:only-of-type {\n",
       "        vertical-align: middle;\n",
       "    }\n",
       "\n",
       "    .dataframe tbody tr th {\n",
       "        vertical-align: top;\n",
       "    }\n",
       "\n",
       "    .dataframe thead th {\n",
       "        text-align: right;\n",
       "    }\n",
       "</style>\n",
       "<table border=\"1\" class=\"dataframe\">\n",
       "  <thead>\n",
       "    <tr style=\"text-align: right;\">\n",
       "      <th></th>\n",
       "      <th>created_at</th>\n",
       "      <th>text</th>\n",
       "      <th>hashtags</th>\n",
       "    </tr>\n",
       "    <tr>\n",
       "      <th>id</th>\n",
       "      <th></th>\n",
       "      <th></th>\n",
       "      <th></th>\n",
       "    </tr>\n",
       "  </thead>\n",
       "  <tbody>\n",
       "    <tr>\n",
       "      <th>1617597872803041280</th>\n",
       "      <td>2023-01-23 18:59:21</td>\n",
       "      <td>Kararlarındaki temel dayanak, hukukun evrensel...</td>\n",
       "      <td>[{'start': 95, 'end': 120, 'tag': 'OhalKomisyo...</td>\n",
       "    </tr>\n",
       "    <tr>\n",
       "      <th>1617597646339702823</th>\n",
       "      <td>2023-01-23 18:58:27</td>\n",
       "      <td>#OhalKomisyonuHukuksuzdur https://t.co/3aUr5MZWPU</td>\n",
       "      <td>[{'start': 0, 'end': 25, 'tag': 'OhalKomisyonu...</td>\n",
       "    </tr>\n",
       "  </tbody>\n",
       "</table>\n",
       "</div>"
      ],
      "text/plain": [
       "                             created_at  \\\n",
       "id                                        \n",
       "1617597872803041280 2023-01-23 18:59:21   \n",
       "1617597646339702823 2023-01-23 18:58:27   \n",
       "\n",
       "                                                                  text  \\\n",
       "id                                                                       \n",
       "1617597872803041280  Kararlarındaki temel dayanak, hukukun evrensel...   \n",
       "1617597646339702823  #OhalKomisyonuHukuksuzdur https://t.co/3aUr5MZWPU   \n",
       "\n",
       "                                                              hashtags  \n",
       "id                                                                      \n",
       "1617597872803041280  [{'start': 95, 'end': 120, 'tag': 'OhalKomisyo...  \n",
       "1617597646339702823  [{'start': 0, 'end': 25, 'tag': 'OhalKomisyonu...  "
      ]
     },
     "execution_count": 9,
     "metadata": {},
     "output_type": "execute_result"
    }
   ],
   "source": [
    "df.head(2)"
   ]
  },
  {
   "cell_type": "code",
   "execution_count": 10,
   "id": "b9331344-be24-44e3-9f22-0f8477f42d08",
   "metadata": {},
   "outputs": [
    {
     "name": "stderr",
     "output_type": "stream",
     "text": [
      "100%|███████████████████████████████████████████████████████████████████████████| 104861/104861 [00:05<00:00, 18387.32it/s]\n"
     ]
    }
   ],
   "source": [
    "# adding a column with all hashtags as strings\n",
    "lst_hashtags = []\n",
    "\n",
    "for i in tqdm(df['hashtags']):\n",
    "    hashtags = ' '.join([j['tag'] for j in eval(i)])\n",
    "    lst_hashtags.append(hashtags)"
   ]
  },
  {
   "cell_type": "code",
   "execution_count": 11,
   "id": "c9fec5c0-f087-4de0-9206-13154453a6c2",
   "metadata": {},
   "outputs": [],
   "source": [
    "df['hashtags'] = lst_hashtags"
   ]
  },
  {
   "cell_type": "code",
   "execution_count": 12,
   "id": "fc0f18df-b2e7-4fed-a929-b3aea25d90bf",
   "metadata": {},
   "outputs": [
    {
     "data": {
      "text/html": [
       "<div>\n",
       "<style scoped>\n",
       "    .dataframe tbody tr th:only-of-type {\n",
       "        vertical-align: middle;\n",
       "    }\n",
       "\n",
       "    .dataframe tbody tr th {\n",
       "        vertical-align: top;\n",
       "    }\n",
       "\n",
       "    .dataframe thead th {\n",
       "        text-align: right;\n",
       "    }\n",
       "</style>\n",
       "<table border=\"1\" class=\"dataframe\">\n",
       "  <thead>\n",
       "    <tr style=\"text-align: right;\">\n",
       "      <th></th>\n",
       "      <th>created_at</th>\n",
       "      <th>text</th>\n",
       "      <th>hashtags</th>\n",
       "    </tr>\n",
       "    <tr>\n",
       "      <th>id</th>\n",
       "      <th></th>\n",
       "      <th></th>\n",
       "      <th></th>\n",
       "    </tr>\n",
       "  </thead>\n",
       "  <tbody>\n",
       "    <tr>\n",
       "      <th>1617597872803041280</th>\n",
       "      <td>2023-01-23 18:59:21</td>\n",
       "      <td>Kararlarındaki temel dayanak, hukukun evrensel...</td>\n",
       "      <td>OhalKomisyonuHukuksuzdur</td>\n",
       "    </tr>\n",
       "    <tr>\n",
       "      <th>1617597646339702823</th>\n",
       "      <td>2023-01-23 18:58:27</td>\n",
       "      <td>#OhalKomisyonuHukuksuzdur https://t.co/3aUr5MZWPU</td>\n",
       "      <td>OhalKomisyonuHukuksuzdur</td>\n",
       "    </tr>\n",
       "    <tr>\n",
       "      <th>1617597571903676417</th>\n",
       "      <td>2023-01-23 18:58:09</td>\n",
       "      <td>RT @Yozgat_KHK: #OhalKomisyonuHukuksuzdur\\nÇün...</td>\n",
       "      <td>OhalKomisyonuHukuksuzdur</td>\n",
       "    </tr>\n",
       "    <tr>\n",
       "      <th>1617597543000440844</th>\n",
       "      <td>2023-01-23 18:58:02</td>\n",
       "      <td>#OhalKomisyonuHukuksuzdur https://t.co/FHdc5DQ0u0</td>\n",
       "      <td>OhalKomisyonuHukuksuzdur</td>\n",
       "    </tr>\n",
       "    <tr>\n",
       "      <th>1617597477963829248</th>\n",
       "      <td>2023-01-23 18:57:46</td>\n",
       "      <td>RT @Malatya_KHK: Öldükten sonra insanlari işe ...</td>\n",
       "      <td>OhalKomisyonuHukuksuzdur</td>\n",
       "    </tr>\n",
       "  </tbody>\n",
       "</table>\n",
       "</div>"
      ],
      "text/plain": [
       "                             created_at  \\\n",
       "id                                        \n",
       "1617597872803041280 2023-01-23 18:59:21   \n",
       "1617597646339702823 2023-01-23 18:58:27   \n",
       "1617597571903676417 2023-01-23 18:58:09   \n",
       "1617597543000440844 2023-01-23 18:58:02   \n",
       "1617597477963829248 2023-01-23 18:57:46   \n",
       "\n",
       "                                                                  text  \\\n",
       "id                                                                       \n",
       "1617597872803041280  Kararlarındaki temel dayanak, hukukun evrensel...   \n",
       "1617597646339702823  #OhalKomisyonuHukuksuzdur https://t.co/3aUr5MZWPU   \n",
       "1617597571903676417  RT @Yozgat_KHK: #OhalKomisyonuHukuksuzdur\\nÇün...   \n",
       "1617597543000440844  #OhalKomisyonuHukuksuzdur https://t.co/FHdc5DQ0u0   \n",
       "1617597477963829248  RT @Malatya_KHK: Öldükten sonra insanlari işe ...   \n",
       "\n",
       "                                     hashtags  \n",
       "id                                             \n",
       "1617597872803041280  OhalKomisyonuHukuksuzdur  \n",
       "1617597646339702823  OhalKomisyonuHukuksuzdur  \n",
       "1617597571903676417  OhalKomisyonuHukuksuzdur  \n",
       "1617597543000440844  OhalKomisyonuHukuksuzdur  \n",
       "1617597477963829248  OhalKomisyonuHukuksuzdur  "
      ]
     },
     "execution_count": 12,
     "metadata": {},
     "output_type": "execute_result"
    }
   ],
   "source": [
    "df.head()"
   ]
  },
  {
   "cell_type": "markdown",
   "id": "b4674207-fb40-4886-b082-f340f026237c",
   "metadata": {
    "tags": []
   },
   "source": [
    "### Trends"
   ]
  },
  {
   "cell_type": "markdown",
   "id": "67c899c7-c6e3-48e1-97e7-853c80eb461d",
   "metadata": {},
   "source": [
    "Data from the notebook `01_Trends_Scrapping.ipynb`"
   ]
  },
  {
   "cell_type": "code",
   "execution_count": 13,
   "id": "961c29bb-9fb4-4682-947b-4fdacaf95dda",
   "metadata": {},
   "outputs": [],
   "source": [
    "# parsing datetime\n",
    "\n",
    "df_all_trends['date'] = pd.to_datetime(df_all_trends['date'], format='%d-%m-%Y')\n",
    "df_all_trends['datetime'] = pd.to_datetime(df_all_trends['date'].astype(str) + ' ' + df_all_trends['time'])"
   ]
  },
  {
   "cell_type": "code",
   "execution_count": 14,
   "id": "4b338cee-e027-42a6-bff0-f172a9788f8b",
   "metadata": {},
   "outputs": [],
   "source": [
    "df_all_trends['trend_topic'] = df_all_trends['trend_topic'].str.replace('#', '')"
   ]
  },
  {
   "cell_type": "markdown",
   "id": "a0f4199d-8984-40cb-be5e-57e465fbacdd",
   "metadata": {
    "tags": []
   },
   "source": [
    "### Combining"
   ]
  },
  {
   "cell_type": "code",
   "execution_count": 15,
   "id": "bcd973e1-e21e-4003-8685-62e4b93f9f89",
   "metadata": {},
   "outputs": [
    {
     "data": {
      "text/html": [
       "<div>\n",
       "<style scoped>\n",
       "    .dataframe tbody tr th:only-of-type {\n",
       "        vertical-align: middle;\n",
       "    }\n",
       "\n",
       "    .dataframe tbody tr th {\n",
       "        vertical-align: top;\n",
       "    }\n",
       "\n",
       "    .dataframe thead th {\n",
       "        text-align: right;\n",
       "    }\n",
       "</style>\n",
       "<table border=\"1\" class=\"dataframe\">\n",
       "  <thead>\n",
       "    <tr style=\"text-align: right;\">\n",
       "      <th></th>\n",
       "      <th>created_at</th>\n",
       "      <th>text</th>\n",
       "      <th>hashtags</th>\n",
       "    </tr>\n",
       "    <tr>\n",
       "      <th>id</th>\n",
       "      <th></th>\n",
       "      <th></th>\n",
       "      <th></th>\n",
       "    </tr>\n",
       "  </thead>\n",
       "  <tbody>\n",
       "    <tr>\n",
       "      <th>1617597872803041280</th>\n",
       "      <td>2023-01-23 18:59:21</td>\n",
       "      <td>Kararlarındaki temel dayanak, hukukun evrensel...</td>\n",
       "      <td>OhalKomisyonuHukuksuzdur</td>\n",
       "    </tr>\n",
       "    <tr>\n",
       "      <th>1617597646339702823</th>\n",
       "      <td>2023-01-23 18:58:27</td>\n",
       "      <td>#OhalKomisyonuHukuksuzdur https://t.co/3aUr5MZWPU</td>\n",
       "      <td>OhalKomisyonuHukuksuzdur</td>\n",
       "    </tr>\n",
       "  </tbody>\n",
       "</table>\n",
       "</div>"
      ],
      "text/plain": [
       "                             created_at  \\\n",
       "id                                        \n",
       "1617597872803041280 2023-01-23 18:59:21   \n",
       "1617597646339702823 2023-01-23 18:58:27   \n",
       "\n",
       "                                                                  text  \\\n",
       "id                                                                       \n",
       "1617597872803041280  Kararlarındaki temel dayanak, hukukun evrensel...   \n",
       "1617597646339702823  #OhalKomisyonuHukuksuzdur https://t.co/3aUr5MZWPU   \n",
       "\n",
       "                                     hashtags  \n",
       "id                                             \n",
       "1617597872803041280  OhalKomisyonuHukuksuzdur  \n",
       "1617597646339702823  OhalKomisyonuHukuksuzdur  "
      ]
     },
     "execution_count": 15,
     "metadata": {},
     "output_type": "execute_result"
    }
   ],
   "source": [
    "df.head(2)"
   ]
  },
  {
   "cell_type": "code",
   "execution_count": 16,
   "id": "5ebe83b7-f6dc-4aeb-a112-af5eb2a81af2",
   "metadata": {},
   "outputs": [
    {
     "data": {
      "text/html": [
       "<div>\n",
       "<style scoped>\n",
       "    .dataframe tbody tr th:only-of-type {\n",
       "        vertical-align: middle;\n",
       "    }\n",
       "\n",
       "    .dataframe tbody tr th {\n",
       "        vertical-align: top;\n",
       "    }\n",
       "\n",
       "    .dataframe thead th {\n",
       "        text-align: right;\n",
       "    }\n",
       "</style>\n",
       "<table border=\"1\" class=\"dataframe\">\n",
       "  <thead>\n",
       "    <tr style=\"text-align: right;\">\n",
       "      <th></th>\n",
       "      <th>time</th>\n",
       "      <th>trend_topic</th>\n",
       "      <th>date</th>\n",
       "      <th>datetime</th>\n",
       "    </tr>\n",
       "  </thead>\n",
       "  <tbody>\n",
       "    <tr>\n",
       "      <th>0</th>\n",
       "      <td>00:10</td>\n",
       "      <td>Zamlar</td>\n",
       "      <td>2022-01-01</td>\n",
       "      <td>2022-01-01 00:10:00</td>\n",
       "    </tr>\n",
       "    <tr>\n",
       "      <th>1</th>\n",
       "      <td>00:10</td>\n",
       "      <td>2022NewYear</td>\n",
       "      <td>2022-01-01</td>\n",
       "      <td>2022-01-01 00:10:00</td>\n",
       "    </tr>\n",
       "  </tbody>\n",
       "</table>\n",
       "</div>"
      ],
      "text/plain": [
       "    time  trend_topic       date            datetime\n",
       "0  00:10       Zamlar 2022-01-01 2022-01-01 00:10:00\n",
       "1  00:10  2022NewYear 2022-01-01 2022-01-01 00:10:00"
      ]
     },
     "execution_count": 16,
     "metadata": {},
     "output_type": "execute_result"
    }
   ],
   "source": [
    "df_all_trends.head(2)"
   ]
  },
  {
   "cell_type": "code",
   "execution_count": 37,
   "id": "92243913-85c5-4c1f-8252-f27dad2aacd4",
   "metadata": {},
   "outputs": [
    {
     "data": {
      "text/plain": [
       "(188970, 4)"
      ]
     },
     "execution_count": 37,
     "metadata": {},
     "output_type": "execute_result"
    }
   ],
   "source": [
    "df_all_trends.shape"
   ]
  },
  {
   "cell_type": "code",
   "execution_count": 40,
   "id": "1d99440e-aadf-4a0e-956b-689d53d18bed",
   "metadata": {},
   "outputs": [],
   "source": [
    "# simplifying trend topics by day instead of time\n",
    "df_all_trends = df_all_trends[['date', 'trend_topic']].drop_duplicates()"
   ]
  },
  {
   "cell_type": "code",
   "execution_count": 41,
   "id": "e40072de-a02a-4bfe-b491-b8e11b908a91",
   "metadata": {},
   "outputs": [
    {
     "data": {
      "text/plain": [
       "(32991, 2)"
      ]
     },
     "execution_count": 41,
     "metadata": {},
     "output_type": "execute_result"
    }
   ],
   "source": [
    "df_all_trends.shape"
   ]
  },
  {
   "cell_type": "markdown",
   "id": "70e1bba9-1fb6-47d9-9b5a-593d9bca5b59",
   "metadata": {},
   "source": [
    "- Identifying trend topics that were present in hashtags of a tweet\n",
    "- If the absolute date difference between the trend topic and created tweet is less then 1 week (7 days), we assume the tweet was created when a trend topic was happening"
   ]
  },
  {
   "cell_type": "code",
   "execution_count": 66,
   "id": "efbb3ba0-109a-4e03-83f4-ad12b42f0cbf",
   "metadata": {},
   "outputs": [
    {
     "name": "stderr",
     "output_type": "stream",
     "text": [
      "100%|██████████████████████████████████████████████████████████████████████████████| 32991/32991 [1:01:47<00:00,  8.90it/s]\n"
     ]
    }
   ],
   "source": [
    "for _, i in tqdm(df_all_trends.iterrows(), total=len(df_all_trends)):\n",
    "    trend_topic = i['trend_topic']\n",
    "    date = i['date']\n",
    "    \n",
    "    data_trend = df[df['hashtags'].str.contains(trend_topic)]\n",
    "    \n",
    "    data_trend['trend_topic'] = trend_topic\n",
    "    data_trend['date'] = date\n",
    "    data_trend['dt_diff'] = (data_trend['date'] - data_trend['created_at']).dt.days\n",
    "    \n",
    "    data_trend = data_trend[data_trend['dt_diff'].abs() <= 7]\n",
    "    \n",
    "    if len(data_trend) > 0:\n",
    "        data_trend.reset_index().to_csv(f'trend_topics/{date.year}-{date.month}-{date.day}_{trend_topic}.csv', index=False)"
   ]
  },
  {
   "cell_type": "code",
   "execution_count": 67,
   "id": "3eb9db8d-191b-44c2-8311-f8829605328c",
   "metadata": {},
   "outputs": [
    {
     "name": "stderr",
     "output_type": "stream",
     "text": [
      "100%|██████████████████████████████████████████████████████████████████████████████████| 4529/4529 [02:10<00:00, 34.80it/s]\n"
     ]
    }
   ],
   "source": [
    "data_trend = pd.DataFrame()\n",
    "for i in tqdm(os.listdir('trend_topics/')):\n",
    "    data_trend = pd.concat([\n",
    "        data_trend,\n",
    "        pd.read_csv(f'trend_topics/{i}')\n",
    "    ])"
   ]
  },
  {
   "cell_type": "code",
   "execution_count": 73,
   "id": "f6bcb9c0-8d06-47d5-9b29-0c72ca15aedf",
   "metadata": {},
   "outputs": [],
   "source": [
    "# data_trend.to_csv('trend_topics/data_trend.csv', index=False)"
   ]
  },
  {
   "cell_type": "code",
   "execution_count": 60,
   "id": "920d1797-e3be-4778-ab9f-87e3102088fb",
   "metadata": {},
   "outputs": [
    {
     "data": {
      "text/html": [
       "<div>\n",
       "<style scoped>\n",
       "    .dataframe tbody tr th:only-of-type {\n",
       "        vertical-align: middle;\n",
       "    }\n",
       "\n",
       "    .dataframe tbody tr th {\n",
       "        vertical-align: top;\n",
       "    }\n",
       "\n",
       "    .dataframe thead th {\n",
       "        text-align: right;\n",
       "    }\n",
       "</style>\n",
       "<table border=\"1\" class=\"dataframe\">\n",
       "  <thead>\n",
       "    <tr style=\"text-align: right;\">\n",
       "      <th></th>\n",
       "      <th>id</th>\n",
       "      <th>created_at</th>\n",
       "      <th>text</th>\n",
       "      <th>hashtags</th>\n",
       "      <th>trend_topic</th>\n",
       "      <th>date</th>\n",
       "      <th>dt_diff</th>\n",
       "    </tr>\n",
       "  </thead>\n",
       "  <tbody>\n",
       "    <tr>\n",
       "      <th>0</th>\n",
       "      <td>1480428043957161984</td>\n",
       "      <td>2022-01-10 06:35:25</td>\n",
       "      <td>Hakikatın peşindeki tüm basın emekçileriyle da...</td>\n",
       "      <td>10OcakÇalışanGazetecilerGünü GazetecilikSuçDeg...</td>\n",
       "      <td>10OcakÇalışanGazetecilerGünü</td>\n",
       "      <td>2022-01-10</td>\n",
       "      <td>-1</td>\n",
       "    </tr>\n",
       "    <tr>\n",
       "      <th>1</th>\n",
       "      <td>1480453435912720385</td>\n",
       "      <td>2022-01-10 08:16:19</td>\n",
       "      <td>Bugün #10OcakÇalışanGazetecilerGünü Basın üzer...</td>\n",
       "      <td>10OcakÇalışanGazetecilerGünü</td>\n",
       "      <td>10OcakÇalışanGazetecilerGünü</td>\n",
       "      <td>2022-01-10</td>\n",
       "      <td>-1</td>\n",
       "    </tr>\n",
       "    <tr>\n",
       "      <th>2</th>\n",
       "      <td>1480522558948745221</td>\n",
       "      <td>2022-01-10 12:50:59</td>\n",
       "      <td>CHP’den basın özgürlüğü raporu: En az 475 kez ...</td>\n",
       "      <td>10OcakÇalışanGazetecilerGünü</td>\n",
       "      <td>10OcakÇalışanGazetecilerGünü</td>\n",
       "      <td>2022-01-10</td>\n",
       "      <td>-1</td>\n",
       "    </tr>\n",
       "    <tr>\n",
       "      <th>3</th>\n",
       "      <td>1480450838820761601</td>\n",
       "      <td>2022-01-10 08:06:00</td>\n",
       "      <td>Türkiye, Sınır Tanımayan Gazeteciler Örgütü’nü...</td>\n",
       "      <td>10OcakÇalışanGazetecilerGünü</td>\n",
       "      <td>10OcakÇalışanGazetecilerGünü</td>\n",
       "      <td>2022-01-10</td>\n",
       "      <td>-1</td>\n",
       "    </tr>\n",
       "    <tr>\n",
       "      <th>4</th>\n",
       "      <td>1480450211264839682</td>\n",
       "      <td>2022-01-10 08:03:30</td>\n",
       "      <td>Bugün ağır insan hakları ihlallerinin yaşandığ...</td>\n",
       "      <td>10OcakÇalışanGazetecilerGünü</td>\n",
       "      <td>10OcakÇalışanGazetecilerGünü</td>\n",
       "      <td>2022-01-10</td>\n",
       "      <td>-1</td>\n",
       "    </tr>\n",
       "  </tbody>\n",
       "</table>\n",
       "</div>"
      ],
      "text/plain": [
       "                    id           created_at  \\\n",
       "0  1480428043957161984  2022-01-10 06:35:25   \n",
       "1  1480453435912720385  2022-01-10 08:16:19   \n",
       "2  1480522558948745221  2022-01-10 12:50:59   \n",
       "3  1480450838820761601  2022-01-10 08:06:00   \n",
       "4  1480450211264839682  2022-01-10 08:03:30   \n",
       "\n",
       "                                                text  \\\n",
       "0  Hakikatın peşindeki tüm basın emekçileriyle da...   \n",
       "1  Bugün #10OcakÇalışanGazetecilerGünü Basın üzer...   \n",
       "2  CHP’den basın özgürlüğü raporu: En az 475 kez ...   \n",
       "3  Türkiye, Sınır Tanımayan Gazeteciler Örgütü’nü...   \n",
       "4  Bugün ağır insan hakları ihlallerinin yaşandığ...   \n",
       "\n",
       "                                            hashtags  \\\n",
       "0  10OcakÇalışanGazetecilerGünü GazetecilikSuçDeg...   \n",
       "1                       10OcakÇalışanGazetecilerGünü   \n",
       "2                       10OcakÇalışanGazetecilerGünü   \n",
       "3                       10OcakÇalışanGazetecilerGünü   \n",
       "4                       10OcakÇalışanGazetecilerGünü   \n",
       "\n",
       "                    trend_topic        date  dt_diff  \n",
       "0  10OcakÇalışanGazetecilerGünü  2022-01-10       -1  \n",
       "1  10OcakÇalışanGazetecilerGünü  2022-01-10       -1  \n",
       "2  10OcakÇalışanGazetecilerGünü  2022-01-10       -1  \n",
       "3  10OcakÇalışanGazetecilerGünü  2022-01-10       -1  \n",
       "4  10OcakÇalışanGazetecilerGünü  2022-01-10       -1  "
      ]
     },
     "execution_count": 60,
     "metadata": {},
     "output_type": "execute_result"
    }
   ],
   "source": [
    "data_trend.head()"
   ]
  },
  {
   "cell_type": "markdown",
   "id": "e03521f5-9708-486f-b80e-cf3bb9090d2f",
   "metadata": {},
   "source": [
    "- the majority of the tweets are indead created in less then 1 day when a trend topic was happening"
   ]
  },
  {
   "cell_type": "code",
   "execution_count": 72,
   "id": "2f89d0ed-7145-4d7d-99bf-ed6e9877dcef",
   "metadata": {},
   "outputs": [
    {
     "data": {
      "text/plain": [
       "-7     1040\n",
       "-6      785\n",
       "-5     1294\n",
       "-4     1512\n",
       "-3     1958\n",
       "-2     5030\n",
       "-1    68490\n",
       " 0    12394\n",
       " 1     2103\n",
       " 2      979\n",
       " 3      882\n",
       " 4      571\n",
       " 5      664\n",
       " 6     1520\n",
       " 7      433\n",
       "Name: dt_diff, dtype: int64"
      ]
     },
     "execution_count": 72,
     "metadata": {},
     "output_type": "execute_result"
    }
   ],
   "source": [
    "data_trend['dt_diff'].value_counts().sort_index()"
   ]
  },
  {
   "cell_type": "markdown",
   "id": "4291bc20-a498-4e84-8140-9ad11951613e",
   "metadata": {},
   "source": [
    "## Modeling"
   ]
  },
  {
   "cell_type": "code",
   "execution_count": 75,
   "id": "1b20d892-4ad2-4b55-a071-4e3569437640",
   "metadata": {},
   "outputs": [
    {
     "data": {
      "text/html": [
       "<div>\n",
       "<style scoped>\n",
       "    .dataframe tbody tr th:only-of-type {\n",
       "        vertical-align: middle;\n",
       "    }\n",
       "\n",
       "    .dataframe tbody tr th {\n",
       "        vertical-align: top;\n",
       "    }\n",
       "\n",
       "    .dataframe thead th {\n",
       "        text-align: right;\n",
       "    }\n",
       "</style>\n",
       "<table border=\"1\" class=\"dataframe\">\n",
       "  <thead>\n",
       "    <tr style=\"text-align: right;\">\n",
       "      <th></th>\n",
       "      <th>author_id</th>\n",
       "      <th>context_annotations</th>\n",
       "      <th>conversation_id</th>\n",
       "      <th>created_at</th>\n",
       "      <th>edit_history_tweet_ids</th>\n",
       "      <th>id</th>\n",
       "      <th>in_reply_to_user_id</th>\n",
       "      <th>lang</th>\n",
       "      <th>possibly_sensitive</th>\n",
       "      <th>referenced_tweets</th>\n",
       "      <th>reply_settings</th>\n",
       "      <th>text</th>\n",
       "      <th>author</th>\n",
       "      <th>withheld</th>\n",
       "      <th>geo</th>\n",
       "      <th>quote_count</th>\n",
       "      <th>retweet_count</th>\n",
       "      <th>like_count</th>\n",
       "      <th>reply_count</th>\n",
       "      <th>impression_count</th>\n",
       "      <th>media_keys</th>\n",
       "      <th>poll_ids</th>\n",
       "      <th>hashtags</th>\n",
       "      <th>urls</th>\n",
       "      <th>mentions</th>\n",
       "      <th>cashtags</th>\n",
       "      <th>annotations</th>\n",
       "      <th>is_retweet</th>\n",
       "    </tr>\n",
       "  </thead>\n",
       "  <tbody>\n",
       "    <tr>\n",
       "      <th>0</th>\n",
       "      <td>1449804331142811655</td>\n",
       "      <td>NaN</td>\n",
       "      <td>1617597872803041280</td>\n",
       "      <td>2023-01-23 18:59:21+00:00</td>\n",
       "      <td>[1617597872803041280]</td>\n",
       "      <td>1617597872803041280</td>\n",
       "      <td>NaN</td>\n",
       "      <td>tr</td>\n",
       "      <td>False</td>\n",
       "      <td>NaN</td>\n",
       "      <td>everyone</td>\n",
       "      <td>Kararlarındaki temel dayanak, hukukun evrensel...</td>\n",
       "      <td>Goksun_KHK</td>\n",
       "      <td>NaN</td>\n",
       "      <td>NaN</td>\n",
       "      <td>0</td>\n",
       "      <td>2</td>\n",
       "      <td>1</td>\n",
       "      <td>0</td>\n",
       "      <td>82</td>\n",
       "      <td>NaN</td>\n",
       "      <td>NaN</td>\n",
       "      <td>[{'start': 95, 'end': 120, 'tag': 'OhalKomisyo...</td>\n",
       "      <td>NaN</td>\n",
       "      <td>NaN</td>\n",
       "      <td>NaN</td>\n",
       "      <td>NaN</td>\n",
       "      <td>False</td>\n",
       "    </tr>\n",
       "    <tr>\n",
       "      <th>1</th>\n",
       "      <td>1449804331142811655</td>\n",
       "      <td>NaN</td>\n",
       "      <td>1617597646339702823</td>\n",
       "      <td>2023-01-23 18:58:27+00:00</td>\n",
       "      <td>[1617597646339702823]</td>\n",
       "      <td>1617597646339702823</td>\n",
       "      <td>NaN</td>\n",
       "      <td>qme</td>\n",
       "      <td>False</td>\n",
       "      <td>NaN</td>\n",
       "      <td>everyone</td>\n",
       "      <td>#OhalKomisyonuHukuksuzdur https://t.co/3aUr5MZWPU</td>\n",
       "      <td>Goksun_KHK</td>\n",
       "      <td>NaN</td>\n",
       "      <td>NaN</td>\n",
       "      <td>0</td>\n",
       "      <td>1</td>\n",
       "      <td>0</td>\n",
       "      <td>0</td>\n",
       "      <td>52</td>\n",
       "      <td>['3_1617597636604723228']</td>\n",
       "      <td>NaN</td>\n",
       "      <td>[{'start': 0, 'end': 25, 'tag': 'OhalKomisyonu...</td>\n",
       "      <td>[{'start': 26, 'end': 49, 'url': 'https://t.co...</td>\n",
       "      <td>NaN</td>\n",
       "      <td>NaN</td>\n",
       "      <td>NaN</td>\n",
       "      <td>False</td>\n",
       "    </tr>\n",
       "  </tbody>\n",
       "</table>\n",
       "</div>"
      ],
      "text/plain": [
       "             author_id context_annotations      conversation_id  \\\n",
       "0  1449804331142811655                 NaN  1617597872803041280   \n",
       "1  1449804331142811655                 NaN  1617597646339702823   \n",
       "\n",
       "                  created_at edit_history_tweet_ids                   id  \\\n",
       "0  2023-01-23 18:59:21+00:00  [1617597872803041280]  1617597872803041280   \n",
       "1  2023-01-23 18:58:27+00:00  [1617597646339702823]  1617597646339702823   \n",
       "\n",
       "   in_reply_to_user_id lang  possibly_sensitive referenced_tweets  \\\n",
       "0                  NaN   tr               False               NaN   \n",
       "1                  NaN  qme               False               NaN   \n",
       "\n",
       "  reply_settings                                               text  \\\n",
       "0       everyone  Kararlarındaki temel dayanak, hukukun evrensel...   \n",
       "1       everyone  #OhalKomisyonuHukuksuzdur https://t.co/3aUr5MZWPU   \n",
       "\n",
       "       author withheld  geo  quote_count  retweet_count  like_count  \\\n",
       "0  Goksun_KHK      NaN  NaN            0              2           1   \n",
       "1  Goksun_KHK      NaN  NaN            0              1           0   \n",
       "\n",
       "   reply_count  impression_count                 media_keys poll_ids  \\\n",
       "0            0                82                        NaN      NaN   \n",
       "1            0                52  ['3_1617597636604723228']      NaN   \n",
       "\n",
       "                                            hashtags  \\\n",
       "0  [{'start': 95, 'end': 120, 'tag': 'OhalKomisyo...   \n",
       "1  [{'start': 0, 'end': 25, 'tag': 'OhalKomisyonu...   \n",
       "\n",
       "                                                urls mentions cashtags  \\\n",
       "0                                                NaN      NaN      NaN   \n",
       "1  [{'start': 26, 'end': 49, 'url': 'https://t.co...      NaN      NaN   \n",
       "\n",
       "  annotations  is_retweet  \n",
       "0         NaN       False  \n",
       "1         NaN       False  "
      ]
     },
     "execution_count": 75,
     "metadata": {},
     "output_type": "execute_result"
    }
   ],
   "source": [
    "df_tweets.head(2)"
   ]
  },
  {
   "cell_type": "code",
   "execution_count": 78,
   "id": "6cf7f61a-f204-4b94-9a9b-788e00ae4ab8",
   "metadata": {},
   "outputs": [
    {
     "data": {
      "text/plain": [
       "((359036, 28), (99655, 7))"
      ]
     },
     "execution_count": 78,
     "metadata": {},
     "output_type": "execute_result"
    }
   ],
   "source": [
    "df_tweets.shape, data_trend.shape"
   ]
  },
  {
   "cell_type": "code",
   "execution_count": 97,
   "id": "1276d78b-8f37-4b40-938c-2ee84a627c7c",
   "metadata": {},
   "outputs": [
    {
     "data": {
      "text/plain": [
       "((359036, 28), (72241, 3))"
      ]
     },
     "execution_count": 97,
     "metadata": {},
     "output_type": "execute_result"
    }
   ],
   "source": [
    "df_tweets.shape, a.shape"
   ]
  },
  {
   "cell_type": "markdown",
   "id": "7ae77c96-59e5-402e-85c5-2f2c5ef670d4",
   "metadata": {},
   "source": [
    "### Feature engineering"
   ]
  },
  {
   "cell_type": "markdown",
   "id": "8a7e3683-4a8a-4e6d-8124-9892d87186f4",
   "metadata": {},
   "source": [
    "- creating the following features for each tweet id:\n",
    "    - unique hashtags in tweet associated with a trend topic\n",
    "    - total number of hashtags in tweet associated with a trend topic"
   ]
  },
  {
   "cell_type": "code",
   "execution_count": 95,
   "id": "941a7dde-7a4d-4381-9425-84ee74a52aae",
   "metadata": {},
   "outputs": [],
   "source": [
    "data_trend = data_trend.groupby('id', as_index=False).agg(\n",
    "    unique_hashtags_in_trend=('trend_topic', 'nunique'),\n",
    "    num_hashtags_in_trend=('trend_topic', 'count'),\n",
    ")"
   ]
  },
  {
   "cell_type": "code",
   "execution_count": 157,
   "id": "2e8054bc-a2d9-42b3-97fa-895cacab5d46",
   "metadata": {},
   "outputs": [],
   "source": [
    "df = (\n",
    "    pd.merge(\n",
    "        df_tweets[['id', 'in_reply_to_user_id', 'quote_count', 'retweet_count', 'like_count', 'text', 'hashtags', 'reply_count', 'is_retweet', 'media_keys', 'mentions']],\n",
    "        data_trend, on='id', how='left'\n",
    "    )\n",
    "    .set_index('id')\n",
    ")"
   ]
  },
  {
   "cell_type": "code",
   "execution_count": 158,
   "id": "b94afd0e-a8ea-4700-9ba5-5e9096ff58b9",
   "metadata": {},
   "outputs": [],
   "source": [
    "df['text_length'] = df['text'].apply(lambda x: len(x))\n",
    "df['has_media'] = np.where(df['media_keys'].isna(), 0, 1)\n",
    "df['has_hashtags'] = np.where(df['hashtags'].isna(), 0, 1)\n",
    "df['has_mentions'] = np.where(df['mentions'].isna(), 0, 1)\n",
    "df['is_retweet'] = df['is_retweet'].astype(int)\n",
    "df['is_reply'] = np.where(df['in_reply_to_user_id'].isna(), 0, 1)"
   ]
  },
  {
   "cell_type": "markdown",
   "id": "9ab80ae8-3dd3-449d-953e-b70221632950",
   "metadata": {},
   "source": [
    "- tweets that are retweets and that are reply present distinct popularity behavour when it comes to number of likes and retweets\n",
    "- therefore we created different models for each of the following tweeet types:\n",
    "    - is only reply tweet\n",
    "    - is only retweet tweet\n",
    "    - isn' reply nor retweet tweet\n",
    "    - there were not tweets that are reply and retweet"
   ]
  },
  {
   "cell_type": "code",
   "execution_count": 159,
   "id": "e17926eb-0908-4259-bc32-30e0d2129cc5",
   "metadata": {},
   "outputs": [
    {
     "data": {
      "text/html": [
       "<div>\n",
       "<style scoped>\n",
       "    .dataframe tbody tr th:only-of-type {\n",
       "        vertical-align: middle;\n",
       "    }\n",
       "\n",
       "    .dataframe tbody tr th {\n",
       "        vertical-align: top;\n",
       "    }\n",
       "\n",
       "    .dataframe thead th {\n",
       "        text-align: right;\n",
       "    }\n",
       "</style>\n",
       "<table border=\"1\" class=\"dataframe\">\n",
       "  <thead>\n",
       "    <tr style=\"text-align: right;\">\n",
       "      <th>is_reply</th>\n",
       "      <th>0</th>\n",
       "      <th>1</th>\n",
       "    </tr>\n",
       "    <tr>\n",
       "      <th>is_retweet</th>\n",
       "      <th></th>\n",
       "      <th></th>\n",
       "    </tr>\n",
       "  </thead>\n",
       "  <tbody>\n",
       "    <tr>\n",
       "      <th>0</th>\n",
       "      <td>126167</td>\n",
       "      <td>50220</td>\n",
       "    </tr>\n",
       "    <tr>\n",
       "      <th>1</th>\n",
       "      <td>182649</td>\n",
       "      <td>0</td>\n",
       "    </tr>\n",
       "  </tbody>\n",
       "</table>\n",
       "</div>"
      ],
      "text/plain": [
       "is_reply         0      1\n",
       "is_retweet               \n",
       "0           126167  50220\n",
       "1           182649      0"
      ]
     },
     "execution_count": 159,
     "metadata": {},
     "output_type": "execute_result"
    }
   ],
   "source": [
    "pd.crosstab(df['is_retweet'], df['is_reply'])"
   ]
  },
  {
   "cell_type": "code",
   "execution_count": 160,
   "id": "4f6de3cb-2891-4f1b-b620-4285d664edc0",
   "metadata": {},
   "outputs": [],
   "source": [
    "df['trend_topic_uniques'] = df['trend_topic_uniques'].fillna(0).astype('int')\n",
    "df['num_hashtags_in_trend'] = df['num_hashtags_in_trend'].fillna(0).astype('int')"
   ]
  },
  {
   "cell_type": "code",
   "execution_count": 161,
   "id": "4214398f-900f-48b6-b82b-90e3704e8e5f",
   "metadata": {},
   "outputs": [],
   "source": [
    "df['tweet_type'] = np.where(df['is_reply']==1, 'only_reply',\n",
    "                      np.where(df['is_retweet']==1, 'only_retweet', 'no_reply_and_retweet'))"
   ]
  },
  {
   "cell_type": "code",
   "execution_count": 162,
   "id": "a26dc30e-c973-4e7a-bcc8-510b96d16639",
   "metadata": {},
   "outputs": [
    {
     "data": {
      "text/plain": [
       "only_retweet            182649\n",
       "no_reply_and_retweet    126167\n",
       "only_reply               50220\n",
       "Name: tweet_type, dtype: int64"
      ]
     },
     "execution_count": 162,
     "metadata": {},
     "output_type": "execute_result"
    }
   ],
   "source": [
    "df['tweet_type'].value_counts()"
   ]
  },
  {
   "cell_type": "code",
   "execution_count": 163,
   "id": "a32d15c9-b3e1-4c06-a94e-e6691be45b53",
   "metadata": {},
   "outputs": [],
   "source": [
    "df = df.drop(columns=['text','media_keys', 'hashtags' ,'mentions', 'in_reply_to_user_id', 'is_reply', 'is_retweet'])"
   ]
  },
  {
   "cell_type": "markdown",
   "id": "80f9a097-d2bf-42fc-a4ed-7448ea874564",
   "metadata": {},
   "source": [
    "- below we can see that each tweet type present different count of retweets, likes and replies (this later we didn't use to measure popularity)"
   ]
  },
  {
   "cell_type": "code",
   "execution_count": 166,
   "id": "6de16ab5-f564-4bfc-ad9a-bb37aaf2964d",
   "metadata": {},
   "outputs": [
    {
     "data": {
      "text/html": [
       "<div>\n",
       "<style scoped>\n",
       "    .dataframe tbody tr th:only-of-type {\n",
       "        vertical-align: middle;\n",
       "    }\n",
       "\n",
       "    .dataframe tbody tr th {\n",
       "        vertical-align: top;\n",
       "    }\n",
       "\n",
       "    .dataframe thead tr th {\n",
       "        text-align: left;\n",
       "    }\n",
       "\n",
       "    .dataframe thead tr:last-of-type th {\n",
       "        text-align: right;\n",
       "    }\n",
       "</style>\n",
       "<table border=\"1\" class=\"dataframe\">\n",
       "  <thead>\n",
       "    <tr>\n",
       "      <th></th>\n",
       "      <th colspan=\"4\" halign=\"left\">retweet_count</th>\n",
       "      <th colspan=\"4\" halign=\"left\">like_count</th>\n",
       "      <th colspan=\"4\" halign=\"left\">reply_count</th>\n",
       "    </tr>\n",
       "    <tr>\n",
       "      <th></th>\n",
       "      <th>mean</th>\n",
       "      <th>median</th>\n",
       "      <th>std</th>\n",
       "      <th>count</th>\n",
       "      <th>mean</th>\n",
       "      <th>median</th>\n",
       "      <th>std</th>\n",
       "      <th>count</th>\n",
       "      <th>mean</th>\n",
       "      <th>median</th>\n",
       "      <th>std</th>\n",
       "      <th>count</th>\n",
       "    </tr>\n",
       "    <tr>\n",
       "      <th>tweet_type</th>\n",
       "      <th></th>\n",
       "      <th></th>\n",
       "      <th></th>\n",
       "      <th></th>\n",
       "      <th></th>\n",
       "      <th></th>\n",
       "      <th></th>\n",
       "      <th></th>\n",
       "      <th></th>\n",
       "      <th></th>\n",
       "      <th></th>\n",
       "      <th></th>\n",
       "    </tr>\n",
       "  </thead>\n",
       "  <tbody>\n",
       "    <tr>\n",
       "      <th>no_reply_and_retweet</th>\n",
       "      <td>39.124058</td>\n",
       "      <td>4.0</td>\n",
       "      <td>175.975492</td>\n",
       "      <td>126167</td>\n",
       "      <td>172.967464</td>\n",
       "      <td>11.0</td>\n",
       "      <td>1144.099175</td>\n",
       "      <td>126167</td>\n",
       "      <td>6.996053</td>\n",
       "      <td>0.0</td>\n",
       "      <td>82.753656</td>\n",
       "      <td>126167</td>\n",
       "    </tr>\n",
       "    <tr>\n",
       "      <th>only_reply</th>\n",
       "      <td>4.306790</td>\n",
       "      <td>0.0</td>\n",
       "      <td>32.765494</td>\n",
       "      <td>50220</td>\n",
       "      <td>22.721983</td>\n",
       "      <td>2.0</td>\n",
       "      <td>268.186087</td>\n",
       "      <td>50220</td>\n",
       "      <td>0.939805</td>\n",
       "      <td>0.0</td>\n",
       "      <td>8.677785</td>\n",
       "      <td>50220</td>\n",
       "    </tr>\n",
       "    <tr>\n",
       "      <th>only_retweet</th>\n",
       "      <td>248.565122</td>\n",
       "      <td>23.0</td>\n",
       "      <td>2434.060377</td>\n",
       "      <td>182649</td>\n",
       "      <td>0.000077</td>\n",
       "      <td>0.0</td>\n",
       "      <td>0.032758</td>\n",
       "      <td>182649</td>\n",
       "      <td>0.000005</td>\n",
       "      <td>0.0</td>\n",
       "      <td>0.002340</td>\n",
       "      <td>182649</td>\n",
       "    </tr>\n",
       "  </tbody>\n",
       "</table>\n",
       "</div>"
      ],
      "text/plain": [
       "                     retweet_count                              like_count  \\\n",
       "                              mean median          std   count        mean   \n",
       "tweet_type                                                                   \n",
       "no_reply_and_retweet     39.124058    4.0   175.975492  126167  172.967464   \n",
       "only_reply                4.306790    0.0    32.765494   50220   22.721983   \n",
       "only_retweet            248.565122   23.0  2434.060377  182649    0.000077   \n",
       "\n",
       "                                                 reply_count         \\\n",
       "                     median          std   count        mean median   \n",
       "tweet_type                                                            \n",
       "no_reply_and_retweet   11.0  1144.099175  126167    6.996053    0.0   \n",
       "only_reply              2.0   268.186087   50220    0.939805    0.0   \n",
       "only_retweet            0.0     0.032758  182649    0.000005    0.0   \n",
       "\n",
       "                                         \n",
       "                            std   count  \n",
       "tweet_type                               \n",
       "no_reply_and_retweet  82.753656  126167  \n",
       "only_reply             8.677785   50220  \n",
       "only_retweet           0.002340  182649  "
      ]
     },
     "execution_count": 166,
     "metadata": {},
     "output_type": "execute_result"
    }
   ],
   "source": [
    "df.groupby('tweet_type')[['retweet_count', 'like_count', 'reply_count']].agg(['mean', 'median', 'std', 'count'])"
   ]
  },
  {
   "cell_type": "markdown",
   "id": "f887e1c7-dc44-4d99-a17e-8900416216a2",
   "metadata": {},
   "source": [
    "### Applying logistic regression"
   ]
  },
  {
   "cell_type": "code",
   "execution_count": 197,
   "id": "2ba19d83-1dd7-487a-ac30-f988ea1c7fd3",
   "metadata": {},
   "outputs": [],
   "source": [
    "def prepare_dataset(data, target, tweet_type, features=['trend_topic_uniques', 'num_hashtags_in_trend', 'text_length','has_media', 'has_hashtags', 'has_mentions']):\n",
    "    data = data.query('tweet_type == @tweet_type')\n",
    "    \n",
    "    x = data[features]\n",
    "    y = np.where(data[target] > data[target].median(), 1, 0)\n",
    "    \n",
    "    return x, y"
   ]
  },
  {
   "cell_type": "code",
   "execution_count": 198,
   "id": "fbd5b49c-5560-4bc1-862b-644ec025e336",
   "metadata": {},
   "outputs": [],
   "source": [
    "x, y = prepare_dataset(df, 'like_count', 'no_reply_and_retweet')"
   ]
  },
  {
   "cell_type": "code",
   "execution_count": 233,
   "id": "915e78b0-26c5-46db-8542-a663b56ef5cc",
   "metadata": {},
   "outputs": [],
   "source": [
    "def train_test_lr(x, y, clf=LogisticRegression()):\n",
    "    x_train, x_test, y_train, y_test = train_test_split(x, y, random_state=42)\n",
    "    lr.fit(x_train, y_train)\n",
    "    y_pred = lr.predict(x_test)\n",
    "    \n",
    "    print(classification_report(y_test, y_pred))\n",
    "    \n",
    "    plt.axvline(x=1, color='red')\n",
    "    pd.Series(np.exp(lr.coef_[0]), index=lr.feature_names_in_).sort_values().plot.barh()\n",
    "    plt.show()"
   ]
  },
  {
   "cell_type": "code",
   "execution_count": 239,
   "id": "20a45523-5325-416c-8ea1-d0465f6ad84c",
   "metadata": {},
   "outputs": [
    {
     "name": "stdout",
     "output_type": "stream",
     "text": [
      "=========> Modeling for tweet types:  no_reply_and_retweet\n",
      "Selected target:  like_count\n",
      "              precision    recall  f1-score   support\n",
      "\n",
      "           0       0.62      0.65      0.63     15714\n",
      "           1       0.63      0.60      0.61     15828\n",
      "\n",
      "    accuracy                           0.62     31542\n",
      "   macro avg       0.62      0.62      0.62     31542\n",
      "weighted avg       0.62      0.62      0.62     31542\n",
      "\n"
     ]
    },
    {
     "data": {
      "image/png": "[encoded data removed]",
      "text/plain": [
       "<Figure size 432x288 with 1 Axes>"
      ]
     },
     "metadata": {
      "needs_background": "light"
     },
     "output_type": "display_data"
    },
    {
     "name": "stdout",
     "output_type": "stream",
     "text": [
      "============================================================\n",
      "============================================================ \n",
      "\n",
      "Selected target:  retweet_count\n",
      "              precision    recall  f1-score   support\n",
      "\n",
      "           0       0.61      0.70      0.65     16670\n",
      "           1       0.60      0.51      0.55     14872\n",
      "\n",
      "    accuracy                           0.61     31542\n",
      "   macro avg       0.60      0.60      0.60     31542\n",
      "weighted avg       0.61      0.61      0.60     31542\n",
      "\n"
     ]
    },
    {
     "data": {
      "image/png": "[encoded data removed]",
      "text/plain": [
       "<Figure size 432x288 with 1 Axes>"
      ]
     },
     "metadata": {
      "needs_background": "light"
     },
     "output_type": "display_data"
    },
    {
     "name": "stdout",
     "output_type": "stream",
     "text": [
      "============================================================\n",
      "============================================================ \n",
      "\n",
      "=========> Modeling for tweet types:  only_retweet\n",
      "Selected target:  like_count\n",
      "              precision    recall  f1-score   support\n",
      "\n",
      "           0       1.00      1.00      1.00     45663\n",
      "\n",
      "    accuracy                           1.00     45663\n",
      "   macro avg       1.00      1.00      1.00     45663\n",
      "weighted avg       1.00      1.00      1.00     45663\n",
      "\n"
     ]
    },
    {
     "data": {
      "image/png": "[encoded data removed]",
      "text/plain": [
       "<Figure size 432x288 with 1 Axes>"
      ]
     },
     "metadata": {
      "needs_background": "light"
     },
     "output_type": "display_data"
    },
    {
     "name": "stdout",
     "output_type": "stream",
     "text": [
      "============================================================\n",
      "============================================================ \n",
      "\n",
      "Selected target:  retweet_count\n",
      "              precision    recall  f1-score   support\n",
      "\n",
      "           0       0.62      0.45      0.52     22883\n",
      "           1       0.57      0.72      0.63     22780\n",
      "\n",
      "    accuracy                           0.58     45663\n",
      "   macro avg       0.59      0.58      0.58     45663\n",
      "weighted avg       0.59      0.58      0.58     45663\n",
      "\n"
     ]
    },
    {
     "data": {
      "image/png": "[encoded data removed]",
      "text/plain": [
       "<Figure size 432x288 with 1 Axes>"
      ]
     },
     "metadata": {
      "needs_background": "light"
     },
     "output_type": "display_data"
    },
    {
     "name": "stdout",
     "output_type": "stream",
     "text": [
      "============================================================\n",
      "============================================================ \n",
      "\n",
      "=========> Modeling for tweet types:  only_reply\n",
      "Selected target:  like_count\n",
      "              precision    recall  f1-score   support\n",
      "\n",
      "           0       0.68      0.88      0.77      7640\n",
      "           1       0.66      0.37      0.48      4915\n",
      "\n",
      "    accuracy                           0.68     12555\n",
      "   macro avg       0.67      0.62      0.62     12555\n",
      "weighted avg       0.68      0.68      0.65     12555\n",
      "\n"
     ]
    },
    {
     "data": {
      "image/png": "[encoded data removed]",
      "text/plain": [
       "<Figure size 432x288 with 1 Axes>"
      ]
     },
     "metadata": {
      "needs_background": "light"
     },
     "output_type": "display_data"
    },
    {
     "name": "stdout",
     "output_type": "stream",
     "text": [
      "============================================================\n",
      "============================================================ \n",
      "\n",
      "Selected target:  retweet_count\n",
      "              precision    recall  f1-score   support\n",
      "\n",
      "           0       0.70      0.84      0.77      7645\n",
      "           1       0.64      0.44      0.53      4910\n",
      "\n",
      "    accuracy                           0.69     12555\n",
      "   macro avg       0.67      0.64      0.65     12555\n",
      "weighted avg       0.68      0.69      0.67     12555\n",
      "\n"
     ]
    },
    {
     "data": {
      "image/png": "[encoded data removed]",
      "text/plain": [
       "<Figure size 432x288 with 1 Axes>"
      ]
     },
     "metadata": {
      "needs_background": "light"
     },
     "output_type": "display_data"
    },
    {
     "name": "stdout",
     "output_type": "stream",
     "text": [
      "============================================================\n",
      "============================================================ \n",
      "\n"
     ]
    }
   ],
   "source": [
    "for i in df['tweet_type'].unique():\n",
    "    print('=========> Modeling for tweet types: ', i)\n",
    "    for j in ['like_count', 'retweet_count']:        \n",
    "        print('Selected target: ', j)\n",
    "        \n",
    "        x, y = prepare_dataset(df, j, i)\n",
    "        train_test_lr(x, y)\n",
    "        print('='*60)\n",
    "        print('='*60, '\\n')"
   ]
  },
  {
   "cell_type": "markdown",
   "id": "7964c96f-e7d2-4230-b887-536499c612b9",
   "metadata": {},
   "source": [
    "Some main conclusions are:\n",
    "- no_reply_and_retweet\n",
    "    - has_media and number of hashtags in topic trend are direct assotiated with the number of likes and retweets"
   ]
  }
 ],
 "metadata": {
  "kernelspec": {
   "display_name": "Python 3 (ipykernel)",
   "language": "python",
   "name": "python3"
  },
  "language_info": {
   "codemirror_mode": {
    "name": "ipython",
    "version": 3
   },
   "file_extension": ".py",
   "mimetype": "text/x-python",
   "name": "python",
   "nbconvert_exporter": "python",
   "pygments_lexer": "ipython3",
   "version": "3.9.7"
  }
 },
 "nbformat": 4,
 "nbformat_minor": 5
}
