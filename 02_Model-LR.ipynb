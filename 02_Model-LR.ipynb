{
 "cells": [
  {
   "cell_type": "markdown",
   "id": "f52ace3e-9e85-4565-9d19-ac42eeeb842e",
   "metadata": {},
   "source": [
    "## Importing libs"
   ]
  },
  {
   "cell_type": "code",
   "execution_count": 27,
   "id": "7d901454-6553-491d-827c-d0fffd7ee2dc",
   "metadata": {},
   "outputs": [],
   "source": [
    "import pandas as pd\n",
    "import os\n",
    "from tqdm import tqdm \n",
    "import numpy as np\n",
    "import pickle\n",
    "import seaborn as sns\n",
    "import datetime\n",
    "import warnings\n",
    "warnings.filterwarnings('ignore')\n",
    "\n",
    "pd.options.display.max_columns = None"
   ]
  },
  {
   "cell_type": "markdown",
   "id": "dde7556e-e7c2-421d-97bf-c5ea58750858",
   "metadata": {},
   "source": [
    "## Importing data"
   ]
  },
  {
   "cell_type": "code",
   "execution_count": 52,
   "id": "ddb68812-8be0-480f-9bc5-dad2e0079dee",
   "metadata": {},
   "outputs": [],
   "source": [
    "df = (\n",
    "    pd.read_csv('tweets/all_tweets.csv')\n",
    "    .iloc[:, 1:]\n",
    ")"
   ]
  },
  {
   "cell_type": "code",
   "execution_count": 53,
   "id": "21d6cecb-ff5d-484b-bcc1-2a616b0c9d8e",
   "metadata": {},
   "outputs": [
    {
     "data": {
      "text/plain": [
       "Timestamp('2023-01-29 00:00:00')"
      ]
     },
     "execution_count": 53,
     "metadata": {},
     "output_type": "execute_result"
    }
   ],
   "source": [
    "max_date = pd.to_datetime(df['created_at'].astype(str).str[:10]).max()\n",
    "max_date"
   ]
  },
  {
   "cell_type": "code",
   "execution_count": 54,
   "id": "382e598a-23dc-41fa-a00e-a33a7c334de3",
   "metadata": {},
   "outputs": [
    {
     "data": {
      "text/plain": [
       "(359036, 28)"
      ]
     },
     "execution_count": 54,
     "metadata": {},
     "output_type": "execute_result"
    }
   ],
   "source": [
    "df.shape"
   ]
  },
  {
   "cell_type": "code",
   "execution_count": 55,
   "id": "184e4f0a-249c-4011-ad8f-3189d8e2e7f2",
   "metadata": {},
   "outputs": [],
   "source": [
    "users = (\n",
    "    pd.read_pickle('data_users.pkl')\n",
    "    .rename(columns={'username': 'author'})[['author','followers_count',\n",
    "                                             'following_count', 'tweet_count', 'created_at']]\n",
    ")"
   ]
  },
  {
   "cell_type": "code",
   "execution_count": 56,
   "id": "c6d75fa8-1751-4220-b630-eafac68af009",
   "metadata": {},
   "outputs": [],
   "source": [
    "users['days_of_creation'] = (max_date - pd.to_datetime(users['created_at'].astype(str).str[:10])).dt.days"
   ]
  },
  {
   "cell_type": "code",
   "execution_count": 57,
   "id": "b1e6ec59-6ecc-47fe-b510-96ccbacbd1dd",
   "metadata": {},
   "outputs": [],
   "source": [
    "users = users.drop(columns=['created_at'])"
   ]
  },
  {
   "cell_type": "code",
   "execution_count": 58,
   "id": "bffe7aa3-3435-4a8d-bf11-7b35ccd14df6",
   "metadata": {},
   "outputs": [
    {
     "data": {
      "text/plain": [
       "(204, 5)"
      ]
     },
     "execution_count": 58,
     "metadata": {},
     "output_type": "execute_result"
    }
   ],
   "source": [
    "users.shape"
   ]
  },
  {
   "cell_type": "markdown",
   "id": "caf32c69-d8f4-4704-b23f-1ed9e73a7f74",
   "metadata": {},
   "source": [
    "## Dataprep"
   ]
  },
  {
   "cell_type": "code",
   "execution_count": 59,
   "id": "ca42925c-b9b2-41ae-b74e-39a17c17b21d",
   "metadata": {},
   "outputs": [
    {
     "data": {
      "text/plain": [
       "(359036, 32)"
      ]
     },
     "execution_count": 59,
     "metadata": {},
     "output_type": "execute_result"
    }
   ],
   "source": [
    "df = users.merge(df, on=['author'])\n",
    "df.shape"
   ]
  },
  {
   "cell_type": "code",
   "execution_count": 61,
   "id": "9e705795-50bc-40d6-b6c1-d19df386733f",
   "metadata": {},
   "outputs": [],
   "source": [
    "df = df.drop(columns=['author_id', 'withheld'])"
   ]
  },
  {
   "cell_type": "code",
   "execution_count": 62,
   "id": "08d42e45-0392-41ad-9d3f-07dcb22b6196",
   "metadata": {},
   "outputs": [],
   "source": [
    "df['ratio_like'] = df['like_count'] / df['impression_count']\n",
    "df['ratio_retweet'] = df['retweet_count'] / df['impression_count']"
   ]
  },
  {
   "cell_type": "markdown",
   "id": "ccb15826-48e6-4e40-a8fa-68bfc006ca60",
   "metadata": {},
   "source": [
    "#### Botometer"
   ]
  },
  {
   "cell_type": "code",
   "execution_count": 63,
   "id": "964fecbe-237a-40e9-8ffc-d4f6ce92ce6a",
   "metadata": {},
   "outputs": [
    {
     "name": "stderr",
     "output_type": "stream",
     "text": [
      "100%|██████████████████████████████████████████████████████████████████| 204/204 [00:01<00:00, 123.69it/s]\n"
     ]
    }
   ],
   "source": [
    "bot_df = pd.DataFrame(columns=[\n",
    "    'author',\n",
    "    'majority_lang',\n",
    "    'english',\n",
    "    'universal',\n",
    "    'eng_astroturf',\n",
    "    'eng_fake_follower',\n",
    "    'eng_financial',\n",
    "    'eng_other',\n",
    "    'eng_overall',\n",
    "    'eng_self_declared',\n",
    "    'eng_spammer',\n",
    "    'uni_astroturf',\n",
    "    'uni_fake_follower',\n",
    "    'uni_financial',\n",
    "    'uni_other',\n",
    "    'uni_overall',\n",
    "    'uni_self_declared',\n",
    "    'uni_spammer'\n",
    "])\n",
    "\n",
    "for i in tqdm(os.listdir('users_botometer/')):\n",
    "    with open(f'users_botometer/{i}', 'rb') as f:\n",
    "        bot_col = pickle.load(f)\n",
    "        \n",
    "    bot_feat = [\n",
    "        bot_col['user']['user_data']['screen_name'],\n",
    "        bot_col['user']['majority_lang'],\n",
    "        bot_col['cap']['english'],\n",
    "        bot_col['cap']['universal'],\n",
    "        bot_col['raw_scores']['english']['astroturf'],\n",
    "        bot_col['raw_scores']['english']['fake_follower'],\n",
    "        bot_col['raw_scores']['english']['financial'],\n",
    "        bot_col['raw_scores']['english']['other'],\n",
    "        bot_col['raw_scores']['english']['overall'],\n",
    "        bot_col['raw_scores']['english']['self_declared'],\n",
    "        bot_col['raw_scores']['english']['spammer'],\n",
    "        bot_col['raw_scores']['universal']['astroturf'],\n",
    "        bot_col['raw_scores']['universal']['fake_follower'],\n",
    "        bot_col['raw_scores']['universal']['financial'],\n",
    "        bot_col['raw_scores']['universal']['other'],\n",
    "        bot_col['raw_scores']['universal']['overall'],\n",
    "        bot_col['raw_scores']['universal']['self_declared'],\n",
    "        bot_col['raw_scores']['universal']['spammer']\n",
    "    ]\n",
    "    \n",
    "    bot_df.loc[len(bot_df)] = bot_feat"
   ]
  },
  {
   "cell_type": "code",
   "execution_count": 64,
   "id": "ec3d7dec-4a43-4ac5-92ff-afd0343e175f",
   "metadata": {},
   "outputs": [
    {
     "data": {
      "text/html": [
       "<div>\n",
       "<style scoped>\n",
       "    .dataframe tbody tr th:only-of-type {\n",
       "        vertical-align: middle;\n",
       "    }\n",
       "\n",
       "    .dataframe tbody tr th {\n",
       "        vertical-align: top;\n",
       "    }\n",
       "\n",
       "    .dataframe thead th {\n",
       "        text-align: right;\n",
       "    }\n",
       "</style>\n",
       "<table border=\"1\" class=\"dataframe\">\n",
       "  <thead>\n",
       "    <tr style=\"text-align: right;\">\n",
       "      <th></th>\n",
       "      <th>author</th>\n",
       "      <th>majority_lang</th>\n",
       "      <th>english</th>\n",
       "      <th>universal</th>\n",
       "      <th>eng_astroturf</th>\n",
       "      <th>eng_fake_follower</th>\n",
       "      <th>eng_financial</th>\n",
       "      <th>eng_other</th>\n",
       "      <th>eng_overall</th>\n",
       "      <th>eng_self_declared</th>\n",
       "      <th>eng_spammer</th>\n",
       "      <th>uni_astroturf</th>\n",
       "      <th>uni_fake_follower</th>\n",
       "      <th>uni_financial</th>\n",
       "      <th>uni_other</th>\n",
       "      <th>uni_overall</th>\n",
       "      <th>uni_self_declared</th>\n",
       "      <th>uni_spammer</th>\n",
       "    </tr>\n",
       "  </thead>\n",
       "  <tbody>\n",
       "    <tr>\n",
       "      <th>0</th>\n",
       "      <td>19KHK701</td>\n",
       "      <td>tr</td>\n",
       "      <td>0.819915</td>\n",
       "      <td>0.767421</td>\n",
       "      <td>0.31</td>\n",
       "      <td>0.56</td>\n",
       "      <td>0.29</td>\n",
       "      <td>0.82</td>\n",
       "      <td>0.82</td>\n",
       "      <td>0.01</td>\n",
       "      <td>0.05</td>\n",
       "      <td>0.27</td>\n",
       "      <td>0.40</td>\n",
       "      <td>0.21</td>\n",
       "      <td>0.49</td>\n",
       "      <td>0.26</td>\n",
       "      <td>0.09</td>\n",
       "      <td>0.03</td>\n",
       "    </tr>\n",
       "    <tr>\n",
       "      <th>1</th>\n",
       "      <td>21meralsimsek</td>\n",
       "      <td>tr</td>\n",
       "      <td>0.779582</td>\n",
       "      <td>0.743721</td>\n",
       "      <td>0.18</td>\n",
       "      <td>0.18</td>\n",
       "      <td>0.03</td>\n",
       "      <td>0.57</td>\n",
       "      <td>0.31</td>\n",
       "      <td>0.00</td>\n",
       "      <td>0.04</td>\n",
       "      <td>0.22</td>\n",
       "      <td>0.19</td>\n",
       "      <td>0.00</td>\n",
       "      <td>0.13</td>\n",
       "      <td>0.23</td>\n",
       "      <td>0.00</td>\n",
       "      <td>0.02</td>\n",
       "    </tr>\n",
       "    <tr>\n",
       "      <th>2</th>\n",
       "      <td>692khk</td>\n",
       "      <td>tr</td>\n",
       "      <td>0.796862</td>\n",
       "      <td>0.800688</td>\n",
       "      <td>0.37</td>\n",
       "      <td>0.47</td>\n",
       "      <td>0.15</td>\n",
       "      <td>0.67</td>\n",
       "      <td>0.67</td>\n",
       "      <td>0.00</td>\n",
       "      <td>0.07</td>\n",
       "      <td>0.22</td>\n",
       "      <td>0.48</td>\n",
       "      <td>0.11</td>\n",
       "      <td>0.46</td>\n",
       "      <td>0.37</td>\n",
       "      <td>0.00</td>\n",
       "      <td>0.04</td>\n",
       "    </tr>\n",
       "    <tr>\n",
       "      <th>3</th>\n",
       "      <td>Adana_KHK</td>\n",
       "      <td>tr</td>\n",
       "      <td>0.803671</td>\n",
       "      <td>0.789743</td>\n",
       "      <td>0.06</td>\n",
       "      <td>0.23</td>\n",
       "      <td>0.01</td>\n",
       "      <td>0.76</td>\n",
       "      <td>0.76</td>\n",
       "      <td>0.00</td>\n",
       "      <td>0.03</td>\n",
       "      <td>0.07</td>\n",
       "      <td>0.11</td>\n",
       "      <td>0.00</td>\n",
       "      <td>0.36</td>\n",
       "      <td>0.31</td>\n",
       "      <td>0.00</td>\n",
       "      <td>0.00</td>\n",
       "    </tr>\n",
       "    <tr>\n",
       "      <th>4</th>\n",
       "      <td>AfsinSuleyman</td>\n",
       "      <td>tr</td>\n",
       "      <td>0.796667</td>\n",
       "      <td>0.767421</td>\n",
       "      <td>0.23</td>\n",
       "      <td>0.19</td>\n",
       "      <td>0.01</td>\n",
       "      <td>0.61</td>\n",
       "      <td>0.61</td>\n",
       "      <td>0.00</td>\n",
       "      <td>0.02</td>\n",
       "      <td>0.26</td>\n",
       "      <td>0.08</td>\n",
       "      <td>0.00</td>\n",
       "      <td>0.31</td>\n",
       "      <td>0.26</td>\n",
       "      <td>0.00</td>\n",
       "      <td>0.00</td>\n",
       "    </tr>\n",
       "  </tbody>\n",
       "</table>\n",
       "</div>"
      ],
      "text/plain": [
       "          author majority_lang   english  universal  eng_astroturf  \\\n",
       "0       19KHK701            tr  0.819915   0.767421           0.31   \n",
       "1  21meralsimsek            tr  0.779582   0.743721           0.18   \n",
       "2         692khk            tr  0.796862   0.800688           0.37   \n",
       "3      Adana_KHK            tr  0.803671   0.789743           0.06   \n",
       "4  AfsinSuleyman            tr  0.796667   0.767421           0.23   \n",
       "\n",
       "   eng_fake_follower  eng_financial  eng_other  eng_overall  \\\n",
       "0               0.56           0.29       0.82         0.82   \n",
       "1               0.18           0.03       0.57         0.31   \n",
       "2               0.47           0.15       0.67         0.67   \n",
       "3               0.23           0.01       0.76         0.76   \n",
       "4               0.19           0.01       0.61         0.61   \n",
       "\n",
       "   eng_self_declared  eng_spammer  uni_astroturf  uni_fake_follower  \\\n",
       "0               0.01         0.05           0.27               0.40   \n",
       "1               0.00         0.04           0.22               0.19   \n",
       "2               0.00         0.07           0.22               0.48   \n",
       "3               0.00         0.03           0.07               0.11   \n",
       "4               0.00         0.02           0.26               0.08   \n",
       "\n",
       "   uni_financial  uni_other  uni_overall  uni_self_declared  uni_spammer  \n",
       "0           0.21       0.49         0.26               0.09         0.03  \n",
       "1           0.00       0.13         0.23               0.00         0.02  \n",
       "2           0.11       0.46         0.37               0.00         0.04  \n",
       "3           0.00       0.36         0.31               0.00         0.00  \n",
       "4           0.00       0.31         0.26               0.00         0.00  "
      ]
     },
     "execution_count": 64,
     "metadata": {},
     "output_type": "execute_result"
    }
   ],
   "source": [
    "bot_df.head()"
   ]
  },
  {
   "cell_type": "code",
   "execution_count": 67,
   "id": "1774879c-e296-49fb-aac9-597caa6d50f9",
   "metadata": {},
   "outputs": [],
   "source": [
    "df = df.merge(bot_df.drop(columns=['majority_lang']))"
   ]
  },
  {
   "cell_type": "markdown",
   "id": "d6b53b90-51cf-45b2-9c25-55357ab3d6f8",
   "metadata": {},
   "source": [
    "## Model"
   ]
  },
  {
   "cell_type": "markdown",
   "id": "c60f1e8d-c0cc-4235-89dc-711faea8e1b4",
   "metadata": {},
   "source": [
    "### Target"
   ]
  },
  {
   "cell_type": "code",
   "execution_count": 69,
   "id": "e658c320-cb46-4ae5-a59c-243cdae3d27a",
   "metadata": {},
   "outputs": [],
   "source": [
    "df_like = df[\n",
    "    (df['impression_count'] > 0) &\n",
    "    (df['ratio_like'] <= 1)\n",
    "]"
   ]
  },
  {
   "cell_type": "code",
   "execution_count": 71,
   "id": "6b153373-7a36-4397-a93d-32eb84c26717",
   "metadata": {},
   "outputs": [],
   "source": [
    "df_retweet = df[\n",
    "    (df['impression_count'] > 0) &\n",
    "    (df['ratio_retweet'] <= 1)\n",
    "]"
   ]
  },
  {
   "cell_type": "code",
   "execution_count": 90,
   "id": "620c9aa0-a035-4bdf-8006-03a35f6f8d9c",
   "metadata": {},
   "outputs": [
    {
     "data": {
      "text/html": [
       "<div>\n",
       "<style scoped>\n",
       "    .dataframe tbody tr th:only-of-type {\n",
       "        vertical-align: middle;\n",
       "    }\n",
       "\n",
       "    .dataframe tbody tr th {\n",
       "        vertical-align: top;\n",
       "    }\n",
       "\n",
       "    .dataframe thead th {\n",
       "        text-align: right;\n",
       "    }\n",
       "</style>\n",
       "<table border=\"1\" class=\"dataframe\">\n",
       "  <thead>\n",
       "    <tr style=\"text-align: right;\">\n",
       "      <th></th>\n",
       "      <th>ratio_like</th>\n",
       "      <th>ratio_retweet</th>\n",
       "    </tr>\n",
       "  </thead>\n",
       "  <tbody>\n",
       "    <tr>\n",
       "      <th>count</th>\n",
       "      <td>21234.000000</td>\n",
       "      <td>21016.000000</td>\n",
       "    </tr>\n",
       "    <tr>\n",
       "      <th>mean</th>\n",
       "      <td>0.023062</td>\n",
       "      <td>0.012231</td>\n",
       "    </tr>\n",
       "    <tr>\n",
       "      <th>std</th>\n",
       "      <td>0.030491</td>\n",
       "      <td>0.026889</td>\n",
       "    </tr>\n",
       "    <tr>\n",
       "      <th>min</th>\n",
       "      <td>0.000000</td>\n",
       "      <td>0.000000</td>\n",
       "    </tr>\n",
       "    <tr>\n",
       "      <th>25%</th>\n",
       "      <td>0.004197</td>\n",
       "      <td>0.000000</td>\n",
       "    </tr>\n",
       "    <tr>\n",
       "      <th>50%</th>\n",
       "      <td>0.013761</td>\n",
       "      <td>0.002116</td>\n",
       "    </tr>\n",
       "    <tr>\n",
       "      <th>75%</th>\n",
       "      <td>0.032182</td>\n",
       "      <td>0.014615</td>\n",
       "    </tr>\n",
       "    <tr>\n",
       "      <th>max</th>\n",
       "      <td>1.000000</td>\n",
       "      <td>1.000000</td>\n",
       "    </tr>\n",
       "  </tbody>\n",
       "</table>\n",
       "</div>"
      ],
      "text/plain": [
       "         ratio_like  ratio_retweet\n",
       "count  21234.000000   21016.000000\n",
       "mean       0.023062       0.012231\n",
       "std        0.030491       0.026889\n",
       "min        0.000000       0.000000\n",
       "25%        0.004197       0.000000\n",
       "50%        0.013761       0.002116\n",
       "75%        0.032182       0.014615\n",
       "max        1.000000       1.000000"
      ]
     },
     "execution_count": 90,
     "metadata": {},
     "output_type": "execute_result"
    }
   ],
   "source": [
    "pd.concat([\n",
    "    df_like['ratio_like'].describe(),\n",
    "    df_retweet['ratio_retweet'].describe(),\n",
    "], axis=1)"
   ]
  },
  {
   "cell_type": "code",
   "execution_count": 91,
   "id": "b05aa61e-637d-4695-8b82-c3f033c54cd6",
   "metadata": {},
   "outputs": [],
   "source": [
    "df_like['ratio_like'] = pd.qcut(df_like['ratio_like'], 3, ['low', 'medium', 'high'])\n",
    "df_retweet['ratio_retweet'] = pd.qcut(df_like['ratio_retweet'], 3, ['low', 'medium', 'high'])"
   ]
  },
  {
   "cell_type": "markdown",
   "id": "24983f02-736a-4912-a9ea-6b786361077a",
   "metadata": {},
   "source": [
    "### Features"
   ]
  },
  {
   "cell_type": "code",
   "execution_count": 104,
   "id": "43031a5e-4322-4fba-a845-85b72398fd60",
   "metadata": {},
   "outputs": [],
   "source": [
    "features = [\n",
    "    'created_at'\n",
    "    ,'days_of_creation'\n",
    "    ,'followers_count'\n",
    "    ,'following_count'\n",
    "    ,'days_of_creation'\n",
    "    ,'in_reply_to_user_id'\n",
    "    ,'text'\n",
    "    ,'media_keys'\n",
    "    ,'hashtags'\n",
    "    ,'mentions'\n",
    "    ,'is_retweet'\n",
    "    ,'possibly_sensitive'\n",
    "    ,'english'\n",
    "    ,'universal'\n",
    "    ,'eng_astroturf'\n",
    "    ,'eng_fake_follower'\n",
    "    ,'eng_financial'\n",
    "    ,'eng_other'\n",
    "    ,'eng_overall'\n",
    "    ,'eng_self_declared'\n",
    "    ,'eng_spammer'\n",
    "    ,'uni_astroturf'\n",
    "    ,'uni_fake_follower'\n",
    "    ,'uni_financial'\n",
    "    ,'uni_other'\n",
    "    ,'uni_overall'\n",
    "    ,'uni_self_declared'\n",
    "    ,'uni_spammer'\n",
    "]"
   ]
  },
  {
   "cell_type": "code",
   "execution_count": 105,
   "id": "8b18a4af-c968-4839-89c1-110a6104db67",
   "metadata": {},
   "outputs": [],
   "source": [
    "def create_features(data, target, features, max_date=max_date):\n",
    "    y = data[target]\n",
    "    \n",
    "    x = data[features]\n",
    "    x['created_at'] = (max_date - pd.to_datetime(x['created_at'].str[:10])).dt.days\n",
    "    x['in_reply_to_user'] = np.where(x['in_reply_to_user_id'].isna(), 0, 1)\n",
    "    x['text_length'] = x['text'].apply(lambda x: len(x))\n",
    "    x['has_media'] = np.where(x['media_keys'].isna(), 0, 1)\n",
    "    x['has_hashtags'] = np.where(x['hashtags'].isna(), 0, 1)\n",
    "    x['has_mentions'] = np.where(x['mentions'].isna(), 0, 1)\n",
    "    x['is_retweet'] = x['is_retweet'].astype(int)\n",
    "    x['possibly_sensitive'] = x['possibly_sensitive'].astype(int)\n",
    "    \n",
    "    x = x.drop(columns=[\n",
    "        'in_reply_to_user_id',\n",
    "        'text',\n",
    "        'is_retweet',\n",
    "        'possibly_sensitive',\n",
    "        'media_keys',\n",
    "        'hashtags',\n",
    "        'mentions'\n",
    "    ])\n",
    "    \n",
    "    return x, y"
   ]
  },
  {
   "cell_type": "markdown",
   "id": "8615fa0f-0148-4dad-8587-e3777190a59b",
   "metadata": {
    "tags": []
   },
   "source": [
    "#### Logistic Regression"
   ]
  },
  {
   "cell_type": "code",
   "execution_count": 124,
   "id": "7270117a-7861-4a20-af52-f53457977708",
   "metadata": {},
   "outputs": [],
   "source": [
    "from sklearn.linear_model import LogisticRegression\n",
    "from sklearn.model_selection import train_test_split\n",
    "from sklearn.metrics import classification_report, f1_score"
   ]
  },
  {
   "cell_type": "markdown",
   "id": "ed395919-b0ac-41a4-9465-f90ad8f3e24d",
   "metadata": {
    "tags": []
   },
   "source": [
    "##### Ratio likes"
   ]
  },
  {
   "cell_type": "code",
   "execution_count": 151,
   "id": "0353f170-77e2-41aa-a6fa-faed9ed4648a",
   "metadata": {},
   "outputs": [],
   "source": [
    "x, y = create_features(df_like, 'ratio_like', features)"
   ]
  },
  {
   "cell_type": "code",
   "execution_count": 152,
   "id": "e1ab55cb-dfd4-4855-b405-34f006e9f4cf",
   "metadata": {},
   "outputs": [],
   "source": [
    "lr = LogisticRegression()"
   ]
  },
  {
   "cell_type": "code",
   "execution_count": 153,
   "id": "a7363717-a5d6-413a-b408-8e9107195041",
   "metadata": {},
   "outputs": [],
   "source": [
    "x_train, x_test, y_train, y_test = train_test_split(x, y, random_state=42)"
   ]
  },
  {
   "cell_type": "code",
   "execution_count": 154,
   "id": "71abcf02-6254-4865-be47-b7fa454ff891",
   "metadata": {},
   "outputs": [
    {
     "data": {
      "text/html": [
       "<style>#sk-container-id-4 {color: black;background-color: white;}#sk-container-id-4 pre{padding: 0;}#sk-container-id-4 div.sk-toggleable {background-color: white;}#sk-container-id-4 label.sk-toggleable__label {cursor: pointer;display: block;width: 100%;margin-bottom: 0;padding: 0.3em;box-sizing: border-box;text-align: center;}#sk-container-id-4 label.sk-toggleable__label-arrow:before {content: \"▸\";float: left;margin-right: 0.25em;color: #696969;}#sk-container-id-4 label.sk-toggleable__label-arrow:hover:before {color: black;}#sk-container-id-4 div.sk-estimator:hover label.sk-toggleable__label-arrow:before {color: black;}#sk-container-id-4 div.sk-toggleable__content {max-height: 0;max-width: 0;overflow: hidden;text-align: left;background-color: #f0f8ff;}#sk-container-id-4 div.sk-toggleable__content pre {margin: 0.2em;color: black;border-radius: 0.25em;background-color: #f0f8ff;}#sk-container-id-4 input.sk-toggleable__control:checked~div.sk-toggleable__content {max-height: 200px;max-width: 100%;overflow: auto;}#sk-container-id-4 input.sk-toggleable__control:checked~label.sk-toggleable__label-arrow:before {content: \"▾\";}#sk-container-id-4 div.sk-estimator input.sk-toggleable__control:checked~label.sk-toggleable__label {background-color: #d4ebff;}#sk-container-id-4 div.sk-label input.sk-toggleable__control:checked~label.sk-toggleable__label {background-color: #d4ebff;}#sk-container-id-4 input.sk-hidden--visually {border: 0;clip: rect(1px 1px 1px 1px);clip: rect(1px, 1px, 1px, 1px);height: 1px;margin: -1px;overflow: hidden;padding: 0;position: absolute;width: 1px;}#sk-container-id-4 div.sk-estimator {font-family: monospace;background-color: #f0f8ff;border: 1px dotted black;border-radius: 0.25em;box-sizing: border-box;margin-bottom: 0.5em;}#sk-container-id-4 div.sk-estimator:hover {background-color: #d4ebff;}#sk-container-id-4 div.sk-parallel-item::after {content: \"\";width: 100%;border-bottom: 1px solid gray;flex-grow: 1;}#sk-container-id-4 div.sk-label:hover label.sk-toggleable__label {background-color: #d4ebff;}#sk-container-id-4 div.sk-serial::before {content: \"\";position: absolute;border-left: 1px solid gray;box-sizing: border-box;top: 0;bottom: 0;left: 50%;z-index: 0;}#sk-container-id-4 div.sk-serial {display: flex;flex-direction: column;align-items: center;background-color: white;padding-right: 0.2em;padding-left: 0.2em;position: relative;}#sk-container-id-4 div.sk-item {position: relative;z-index: 1;}#sk-container-id-4 div.sk-parallel {display: flex;align-items: stretch;justify-content: center;background-color: white;position: relative;}#sk-container-id-4 div.sk-item::before, #sk-container-id-4 div.sk-parallel-item::before {content: \"\";position: absolute;border-left: 1px solid gray;box-sizing: border-box;top: 0;bottom: 0;left: 50%;z-index: -1;}#sk-container-id-4 div.sk-parallel-item {display: flex;flex-direction: column;z-index: 1;position: relative;background-color: white;}#sk-container-id-4 div.sk-parallel-item:first-child::after {align-self: flex-end;width: 50%;}#sk-container-id-4 div.sk-parallel-item:last-child::after {align-self: flex-start;width: 50%;}#sk-container-id-4 div.sk-parallel-item:only-child::after {width: 0;}#sk-container-id-4 div.sk-dashed-wrapped {border: 1px dashed gray;margin: 0 0.4em 0.5em 0.4em;box-sizing: border-box;padding-bottom: 0.4em;background-color: white;}#sk-container-id-4 div.sk-label label {font-family: monospace;font-weight: bold;display: inline-block;line-height: 1.2em;}#sk-container-id-4 div.sk-label-container {text-align: center;}#sk-container-id-4 div.sk-container {/* jupyter's `normalize.less` sets `[hidden] { display: none; }` but bootstrap.min.css set `[hidden] { display: none !important; }` so we also need the `!important` here to be able to override the default hidden behavior on the sphinx rendered scikit-learn.org. See: https://github.com/scikit-learn/scikit-learn/issues/21755 */display: inline-block !important;position: relative;}#sk-container-id-4 div.sk-text-repr-fallback {display: none;}</style><div id=\"sk-container-id-4\" class=\"sk-top-container\"><div class=\"sk-text-repr-fallback\"><pre>LogisticRegression()</pre><b>In a Jupyter environment, please rerun this cell to show the HTML representation or trust the notebook. <br />On GitHub, the HTML representation is unable to render, please try loading this page with nbviewer.org.</b></div><div class=\"sk-container\" hidden><div class=\"sk-item\"><div class=\"sk-estimator sk-toggleable\"><input class=\"sk-toggleable__control sk-hidden--visually\" id=\"sk-estimator-id-4\" type=\"checkbox\" checked><label for=\"sk-estimator-id-4\" class=\"sk-toggleable__label sk-toggleable__label-arrow\">LogisticRegression</label><div class=\"sk-toggleable__content\"><pre>LogisticRegression()</pre></div></div></div></div></div>"
      ],
      "text/plain": [
       "LogisticRegression()"
      ]
     },
     "execution_count": 154,
     "metadata": {},
     "output_type": "execute_result"
    }
   ],
   "source": [
    "lr.fit(x_train, y_train)"
   ]
  },
  {
   "cell_type": "code",
   "execution_count": 155,
   "id": "eb2cd5c8-4f9b-451c-9754-3efad870b4f1",
   "metadata": {},
   "outputs": [],
   "source": [
    "y_pred = lr.predict(x_test)"
   ]
  },
  {
   "cell_type": "code",
   "execution_count": 156,
   "id": "8f5b4adb-c43d-413d-b379-1ed64c5445ca",
   "metadata": {},
   "outputs": [
    {
     "name": "stdout",
     "output_type": "stream",
     "text": [
      "              precision    recall  f1-score   support\n",
      "\n",
      "        high       0.52      0.55      0.53      1768\n",
      "         low       0.45      0.38      0.41      1733\n",
      "      medium       0.40      0.43      0.41      1808\n",
      "\n",
      "    accuracy                           0.45      5309\n",
      "   macro avg       0.45      0.45      0.45      5309\n",
      "weighted avg       0.45      0.45      0.45      5309\n",
      "\n"
     ]
    }
   ],
   "source": [
    "print(classification_report(y_test, y_pred))"
   ]
  },
  {
   "cell_type": "code",
   "execution_count": 157,
   "id": "642bbf72-89d4-4203-b3c9-0308539aa640",
   "metadata": {},
   "outputs": [
    {
     "data": {
      "text/plain": [
       "0.451892825067253"
      ]
     },
     "execution_count": 157,
     "metadata": {},
     "output_type": "execute_result"
    }
   ],
   "source": [
    "f1_score(y_test, y_pred, average='macro')"
   ]
  },
  {
   "cell_type": "code",
   "execution_count": 158,
   "id": "b17eeff6-5bf6-4a40-b7b8-720d188e9f7b",
   "metadata": {},
   "outputs": [
    {
     "data": {
      "text/html": [
       "<div>\n",
       "<style scoped>\n",
       "    .dataframe tbody tr th:only-of-type {\n",
       "        vertical-align: middle;\n",
       "    }\n",
       "\n",
       "    .dataframe tbody tr th {\n",
       "        vertical-align: top;\n",
       "    }\n",
       "\n",
       "    .dataframe thead th {\n",
       "        text-align: right;\n",
       "    }\n",
       "</style>\n",
       "<table border=\"1\" class=\"dataframe\">\n",
       "  <thead>\n",
       "    <tr style=\"text-align: right;\">\n",
       "      <th></th>\n",
       "      <th>high</th>\n",
       "      <th>low</th>\n",
       "      <th>medium</th>\n",
       "    </tr>\n",
       "  </thead>\n",
       "  <tbody>\n",
       "    <tr>\n",
       "      <th>created_at</th>\n",
       "      <td>0.001</td>\n",
       "      <td>-0.000</td>\n",
       "      <td>-0.0</td>\n",
       "    </tr>\n",
       "    <tr>\n",
       "      <th>days_of_creation</th>\n",
       "      <td>-0.000</td>\n",
       "      <td>0.000</td>\n",
       "      <td>0.0</td>\n",
       "    </tr>\n",
       "    <tr>\n",
       "      <th>followers_count</th>\n",
       "      <td>-0.000</td>\n",
       "      <td>0.000</td>\n",
       "      <td>0.0</td>\n",
       "    </tr>\n",
       "    <tr>\n",
       "      <th>following_count</th>\n",
       "      <td>0.000</td>\n",
       "      <td>-0.000</td>\n",
       "      <td>0.0</td>\n",
       "    </tr>\n",
       "    <tr>\n",
       "      <th>days_of_creation</th>\n",
       "      <td>-0.000</td>\n",
       "      <td>0.000</td>\n",
       "      <td>0.0</td>\n",
       "    </tr>\n",
       "    <tr>\n",
       "      <th>english</th>\n",
       "      <td>0.000</td>\n",
       "      <td>-0.000</td>\n",
       "      <td>-0.0</td>\n",
       "    </tr>\n",
       "    <tr>\n",
       "      <th>universal</th>\n",
       "      <td>0.000</td>\n",
       "      <td>-0.000</td>\n",
       "      <td>-0.0</td>\n",
       "    </tr>\n",
       "    <tr>\n",
       "      <th>eng_astroturf</th>\n",
       "      <td>0.000</td>\n",
       "      <td>-0.000</td>\n",
       "      <td>-0.0</td>\n",
       "    </tr>\n",
       "    <tr>\n",
       "      <th>eng_fake_follower</th>\n",
       "      <td>0.000</td>\n",
       "      <td>-0.000</td>\n",
       "      <td>-0.0</td>\n",
       "    </tr>\n",
       "    <tr>\n",
       "      <th>eng_financial</th>\n",
       "      <td>0.000</td>\n",
       "      <td>-0.000</td>\n",
       "      <td>-0.0</td>\n",
       "    </tr>\n",
       "    <tr>\n",
       "      <th>eng_other</th>\n",
       "      <td>0.000</td>\n",
       "      <td>-0.000</td>\n",
       "      <td>-0.0</td>\n",
       "    </tr>\n",
       "    <tr>\n",
       "      <th>eng_overall</th>\n",
       "      <td>0.000</td>\n",
       "      <td>-0.000</td>\n",
       "      <td>-0.0</td>\n",
       "    </tr>\n",
       "    <tr>\n",
       "      <th>eng_self_declared</th>\n",
       "      <td>0.000</td>\n",
       "      <td>-0.000</td>\n",
       "      <td>-0.0</td>\n",
       "    </tr>\n",
       "    <tr>\n",
       "      <th>eng_spammer</th>\n",
       "      <td>0.000</td>\n",
       "      <td>-0.000</td>\n",
       "      <td>-0.0</td>\n",
       "    </tr>\n",
       "    <tr>\n",
       "      <th>uni_astroturf</th>\n",
       "      <td>0.000</td>\n",
       "      <td>-0.000</td>\n",
       "      <td>-0.0</td>\n",
       "    </tr>\n",
       "    <tr>\n",
       "      <th>uni_fake_follower</th>\n",
       "      <td>0.000</td>\n",
       "      <td>-0.000</td>\n",
       "      <td>-0.0</td>\n",
       "    </tr>\n",
       "    <tr>\n",
       "      <th>uni_financial</th>\n",
       "      <td>0.000</td>\n",
       "      <td>-0.000</td>\n",
       "      <td>-0.0</td>\n",
       "    </tr>\n",
       "    <tr>\n",
       "      <th>uni_other</th>\n",
       "      <td>0.000</td>\n",
       "      <td>-0.000</td>\n",
       "      <td>-0.0</td>\n",
       "    </tr>\n",
       "    <tr>\n",
       "      <th>uni_overall</th>\n",
       "      <td>0.000</td>\n",
       "      <td>-0.000</td>\n",
       "      <td>-0.0</td>\n",
       "    </tr>\n",
       "    <tr>\n",
       "      <th>uni_self_declared</th>\n",
       "      <td>0.000</td>\n",
       "      <td>-0.000</td>\n",
       "      <td>-0.0</td>\n",
       "    </tr>\n",
       "    <tr>\n",
       "      <th>uni_spammer</th>\n",
       "      <td>0.000</td>\n",
       "      <td>-0.000</td>\n",
       "      <td>-0.0</td>\n",
       "    </tr>\n",
       "    <tr>\n",
       "      <th>in_reply_to_user</th>\n",
       "      <td>0.000</td>\n",
       "      <td>0.000</td>\n",
       "      <td>-0.0</td>\n",
       "    </tr>\n",
       "    <tr>\n",
       "      <th>text_length</th>\n",
       "      <td>0.003</td>\n",
       "      <td>-0.002</td>\n",
       "      <td>-0.0</td>\n",
       "    </tr>\n",
       "    <tr>\n",
       "      <th>has_media</th>\n",
       "      <td>0.000</td>\n",
       "      <td>-0.000</td>\n",
       "      <td>0.0</td>\n",
       "    </tr>\n",
       "    <tr>\n",
       "      <th>has_hashtags</th>\n",
       "      <td>0.000</td>\n",
       "      <td>-0.000</td>\n",
       "      <td>-0.0</td>\n",
       "    </tr>\n",
       "    <tr>\n",
       "      <th>has_mentions</th>\n",
       "      <td>0.000</td>\n",
       "      <td>0.000</td>\n",
       "      <td>-0.0</td>\n",
       "    </tr>\n",
       "  </tbody>\n",
       "</table>\n",
       "</div>"
      ],
      "text/plain": [
       "                    high    low  medium\n",
       "created_at         0.001 -0.000    -0.0\n",
       "days_of_creation  -0.000  0.000     0.0\n",
       "followers_count   -0.000  0.000     0.0\n",
       "following_count    0.000 -0.000     0.0\n",
       "days_of_creation  -0.000  0.000     0.0\n",
       "english            0.000 -0.000    -0.0\n",
       "universal          0.000 -0.000    -0.0\n",
       "eng_astroturf      0.000 -0.000    -0.0\n",
       "eng_fake_follower  0.000 -0.000    -0.0\n",
       "eng_financial      0.000 -0.000    -0.0\n",
       "eng_other          0.000 -0.000    -0.0\n",
       "eng_overall        0.000 -0.000    -0.0\n",
       "eng_self_declared  0.000 -0.000    -0.0\n",
       "eng_spammer        0.000 -0.000    -0.0\n",
       "uni_astroturf      0.000 -0.000    -0.0\n",
       "uni_fake_follower  0.000 -0.000    -0.0\n",
       "uni_financial      0.000 -0.000    -0.0\n",
       "uni_other          0.000 -0.000    -0.0\n",
       "uni_overall        0.000 -0.000    -0.0\n",
       "uni_self_declared  0.000 -0.000    -0.0\n",
       "uni_spammer        0.000 -0.000    -0.0\n",
       "in_reply_to_user   0.000  0.000    -0.0\n",
       "text_length        0.003 -0.002    -0.0\n",
       "has_media          0.000 -0.000     0.0\n",
       "has_hashtags       0.000 -0.000    -0.0\n",
       "has_mentions       0.000  0.000    -0.0"
      ]
     },
     "execution_count": 158,
     "metadata": {},
     "output_type": "execute_result"
    }
   ],
   "source": [
    "pd.DataFrame(lr.coef_, index=lr.classes_, columns=x.columns).T.round(3)"
   ]
  },
  {
   "cell_type": "markdown",
   "id": "07cb45da-c4c0-4ce4-8050-48f9728624a8",
   "metadata": {},
   "source": [
    "##### Ratio retweets"
   ]
  },
  {
   "cell_type": "code",
   "execution_count": 159,
   "id": "e496a97f-4907-4729-a20d-c1c4af933da3",
   "metadata": {},
   "outputs": [],
   "source": [
    "x, y = create_features(df_retweet, 'ratio_retweet', features)"
   ]
  },
  {
   "cell_type": "code",
   "execution_count": 160,
   "id": "1eaadc67-a582-4bfd-a9e5-eaf15e580542",
   "metadata": {},
   "outputs": [],
   "source": [
    "lr = LogisticRegression()"
   ]
  },
  {
   "cell_type": "code",
   "execution_count": 161,
   "id": "78d126c8-29a6-4d52-bc73-58c3838037b0",
   "metadata": {},
   "outputs": [],
   "source": [
    "x_train, x_test, y_train, y_test = train_test_split(x, y, random_state=42)"
   ]
  },
  {
   "cell_type": "code",
   "execution_count": 162,
   "id": "1c1c07f4-01d3-4938-9f42-a93cd3d750b8",
   "metadata": {},
   "outputs": [
    {
     "data": {
      "text/html": [
       "<style>#sk-container-id-5 {color: black;background-color: white;}#sk-container-id-5 pre{padding: 0;}#sk-container-id-5 div.sk-toggleable {background-color: white;}#sk-container-id-5 label.sk-toggleable__label {cursor: pointer;display: block;width: 100%;margin-bottom: 0;padding: 0.3em;box-sizing: border-box;text-align: center;}#sk-container-id-5 label.sk-toggleable__label-arrow:before {content: \"▸\";float: left;margin-right: 0.25em;color: #696969;}#sk-container-id-5 label.sk-toggleable__label-arrow:hover:before {color: black;}#sk-container-id-5 div.sk-estimator:hover label.sk-toggleable__label-arrow:before {color: black;}#sk-container-id-5 div.sk-toggleable__content {max-height: 0;max-width: 0;overflow: hidden;text-align: left;background-color: #f0f8ff;}#sk-container-id-5 div.sk-toggleable__content pre {margin: 0.2em;color: black;border-radius: 0.25em;background-color: #f0f8ff;}#sk-container-id-5 input.sk-toggleable__control:checked~div.sk-toggleable__content {max-height: 200px;max-width: 100%;overflow: auto;}#sk-container-id-5 input.sk-toggleable__control:checked~label.sk-toggleable__label-arrow:before {content: \"▾\";}#sk-container-id-5 div.sk-estimator input.sk-toggleable__control:checked~label.sk-toggleable__label {background-color: #d4ebff;}#sk-container-id-5 div.sk-label input.sk-toggleable__control:checked~label.sk-toggleable__label {background-color: #d4ebff;}#sk-container-id-5 input.sk-hidden--visually {border: 0;clip: rect(1px 1px 1px 1px);clip: rect(1px, 1px, 1px, 1px);height: 1px;margin: -1px;overflow: hidden;padding: 0;position: absolute;width: 1px;}#sk-container-id-5 div.sk-estimator {font-family: monospace;background-color: #f0f8ff;border: 1px dotted black;border-radius: 0.25em;box-sizing: border-box;margin-bottom: 0.5em;}#sk-container-id-5 div.sk-estimator:hover {background-color: #d4ebff;}#sk-container-id-5 div.sk-parallel-item::after {content: \"\";width: 100%;border-bottom: 1px solid gray;flex-grow: 1;}#sk-container-id-5 div.sk-label:hover label.sk-toggleable__label {background-color: #d4ebff;}#sk-container-id-5 div.sk-serial::before {content: \"\";position: absolute;border-left: 1px solid gray;box-sizing: border-box;top: 0;bottom: 0;left: 50%;z-index: 0;}#sk-container-id-5 div.sk-serial {display: flex;flex-direction: column;align-items: center;background-color: white;padding-right: 0.2em;padding-left: 0.2em;position: relative;}#sk-container-id-5 div.sk-item {position: relative;z-index: 1;}#sk-container-id-5 div.sk-parallel {display: flex;align-items: stretch;justify-content: center;background-color: white;position: relative;}#sk-container-id-5 div.sk-item::before, #sk-container-id-5 div.sk-parallel-item::before {content: \"\";position: absolute;border-left: 1px solid gray;box-sizing: border-box;top: 0;bottom: 0;left: 50%;z-index: -1;}#sk-container-id-5 div.sk-parallel-item {display: flex;flex-direction: column;z-index: 1;position: relative;background-color: white;}#sk-container-id-5 div.sk-parallel-item:first-child::after {align-self: flex-end;width: 50%;}#sk-container-id-5 div.sk-parallel-item:last-child::after {align-self: flex-start;width: 50%;}#sk-container-id-5 div.sk-parallel-item:only-child::after {width: 0;}#sk-container-id-5 div.sk-dashed-wrapped {border: 1px dashed gray;margin: 0 0.4em 0.5em 0.4em;box-sizing: border-box;padding-bottom: 0.4em;background-color: white;}#sk-container-id-5 div.sk-label label {font-family: monospace;font-weight: bold;display: inline-block;line-height: 1.2em;}#sk-container-id-5 div.sk-label-container {text-align: center;}#sk-container-id-5 div.sk-container {/* jupyter's `normalize.less` sets `[hidden] { display: none; }` but bootstrap.min.css set `[hidden] { display: none !important; }` so we also need the `!important` here to be able to override the default hidden behavior on the sphinx rendered scikit-learn.org. See: https://github.com/scikit-learn/scikit-learn/issues/21755 */display: inline-block !important;position: relative;}#sk-container-id-5 div.sk-text-repr-fallback {display: none;}</style><div id=\"sk-container-id-5\" class=\"sk-top-container\"><div class=\"sk-text-repr-fallback\"><pre>LogisticRegression()</pre><b>In a Jupyter environment, please rerun this cell to show the HTML representation or trust the notebook. <br />On GitHub, the HTML representation is unable to render, please try loading this page with nbviewer.org.</b></div><div class=\"sk-container\" hidden><div class=\"sk-item\"><div class=\"sk-estimator sk-toggleable\"><input class=\"sk-toggleable__control sk-hidden--visually\" id=\"sk-estimator-id-5\" type=\"checkbox\" checked><label for=\"sk-estimator-id-5\" class=\"sk-toggleable__label sk-toggleable__label-arrow\">LogisticRegression</label><div class=\"sk-toggleable__content\"><pre>LogisticRegression()</pre></div></div></div></div></div>"
      ],
      "text/plain": [
       "LogisticRegression()"
      ]
     },
     "execution_count": 162,
     "metadata": {},
     "output_type": "execute_result"
    }
   ],
   "source": [
    "lr.fit(x_train, y_train)"
   ]
  },
  {
   "cell_type": "code",
   "execution_count": 163,
   "id": "6e715232-77b8-44c3-b111-fc227eaa8ba2",
   "metadata": {},
   "outputs": [],
   "source": [
    "y_pred = lr.predict(x_test)"
   ]
  },
  {
   "cell_type": "code",
   "execution_count": 164,
   "id": "9f55eea1-5cc2-4b93-99da-59bbd9a4221e",
   "metadata": {},
   "outputs": [
    {
     "name": "stdout",
     "output_type": "stream",
     "text": [
      "              precision    recall  f1-score   support\n",
      "\n",
      "        high       0.51      0.65      0.58      1698\n",
      "         low       0.62      0.27      0.38      1804\n",
      "      medium       0.53      0.70      0.60      1752\n",
      "\n",
      "    accuracy                           0.54      5254\n",
      "   macro avg       0.56      0.54      0.52      5254\n",
      "weighted avg       0.56      0.54      0.52      5254\n",
      "\n"
     ]
    }
   ],
   "source": [
    "print(classification_report(y_test, y_pred))"
   ]
  },
  {
   "cell_type": "code",
   "execution_count": 165,
   "id": "fc3b0cf9-4ff7-421e-bd37-fdffebab1e9a",
   "metadata": {},
   "outputs": [
    {
     "data": {
      "text/plain": [
       "0.5193830179689486"
      ]
     },
     "execution_count": 165,
     "metadata": {},
     "output_type": "execute_result"
    }
   ],
   "source": [
    "f1_score(y_test, y_pred, average='macro')"
   ]
  },
  {
   "cell_type": "code",
   "execution_count": 166,
   "id": "1c49b71f-60f0-4488-970c-81622a459aef",
   "metadata": {},
   "outputs": [
    {
     "data": {
      "text/html": [
       "<div>\n",
       "<style scoped>\n",
       "    .dataframe tbody tr th:only-of-type {\n",
       "        vertical-align: middle;\n",
       "    }\n",
       "\n",
       "    .dataframe tbody tr th {\n",
       "        vertical-align: top;\n",
       "    }\n",
       "\n",
       "    .dataframe thead th {\n",
       "        text-align: right;\n",
       "    }\n",
       "</style>\n",
       "<table border=\"1\" class=\"dataframe\">\n",
       "  <thead>\n",
       "    <tr style=\"text-align: right;\">\n",
       "      <th></th>\n",
       "      <th>high</th>\n",
       "      <th>low</th>\n",
       "      <th>medium</th>\n",
       "    </tr>\n",
       "  </thead>\n",
       "  <tbody>\n",
       "    <tr>\n",
       "      <th>created_at</th>\n",
       "      <td>0.001</td>\n",
       "      <td>0.000</td>\n",
       "      <td>-0.001</td>\n",
       "    </tr>\n",
       "    <tr>\n",
       "      <th>days_of_creation</th>\n",
       "      <td>-0.000</td>\n",
       "      <td>0.000</td>\n",
       "      <td>0.000</td>\n",
       "    </tr>\n",
       "    <tr>\n",
       "      <th>followers_count</th>\n",
       "      <td>-0.000</td>\n",
       "      <td>-0.000</td>\n",
       "      <td>0.000</td>\n",
       "    </tr>\n",
       "    <tr>\n",
       "      <th>following_count</th>\n",
       "      <td>0.000</td>\n",
       "      <td>-0.000</td>\n",
       "      <td>-0.000</td>\n",
       "    </tr>\n",
       "    <tr>\n",
       "      <th>days_of_creation</th>\n",
       "      <td>-0.000</td>\n",
       "      <td>0.000</td>\n",
       "      <td>0.000</td>\n",
       "    </tr>\n",
       "    <tr>\n",
       "      <th>english</th>\n",
       "      <td>0.000</td>\n",
       "      <td>0.000</td>\n",
       "      <td>-0.000</td>\n",
       "    </tr>\n",
       "    <tr>\n",
       "      <th>universal</th>\n",
       "      <td>0.000</td>\n",
       "      <td>-0.000</td>\n",
       "      <td>-0.000</td>\n",
       "    </tr>\n",
       "    <tr>\n",
       "      <th>eng_astroturf</th>\n",
       "      <td>0.000</td>\n",
       "      <td>0.000</td>\n",
       "      <td>-0.000</td>\n",
       "    </tr>\n",
       "    <tr>\n",
       "      <th>eng_fake_follower</th>\n",
       "      <td>0.000</td>\n",
       "      <td>-0.000</td>\n",
       "      <td>-0.000</td>\n",
       "    </tr>\n",
       "    <tr>\n",
       "      <th>eng_financial</th>\n",
       "      <td>0.000</td>\n",
       "      <td>0.000</td>\n",
       "      <td>-0.000</td>\n",
       "    </tr>\n",
       "    <tr>\n",
       "      <th>eng_other</th>\n",
       "      <td>0.000</td>\n",
       "      <td>0.000</td>\n",
       "      <td>-0.000</td>\n",
       "    </tr>\n",
       "    <tr>\n",
       "      <th>eng_overall</th>\n",
       "      <td>0.000</td>\n",
       "      <td>-0.000</td>\n",
       "      <td>-0.000</td>\n",
       "    </tr>\n",
       "    <tr>\n",
       "      <th>eng_self_declared</th>\n",
       "      <td>0.000</td>\n",
       "      <td>0.000</td>\n",
       "      <td>-0.000</td>\n",
       "    </tr>\n",
       "    <tr>\n",
       "      <th>eng_spammer</th>\n",
       "      <td>0.000</td>\n",
       "      <td>-0.000</td>\n",
       "      <td>-0.000</td>\n",
       "    </tr>\n",
       "    <tr>\n",
       "      <th>uni_astroturf</th>\n",
       "      <td>0.000</td>\n",
       "      <td>0.000</td>\n",
       "      <td>-0.000</td>\n",
       "    </tr>\n",
       "    <tr>\n",
       "      <th>uni_fake_follower</th>\n",
       "      <td>0.000</td>\n",
       "      <td>-0.000</td>\n",
       "      <td>-0.000</td>\n",
       "    </tr>\n",
       "    <tr>\n",
       "      <th>uni_financial</th>\n",
       "      <td>0.000</td>\n",
       "      <td>-0.000</td>\n",
       "      <td>-0.000</td>\n",
       "    </tr>\n",
       "    <tr>\n",
       "      <th>uni_other</th>\n",
       "      <td>0.000</td>\n",
       "      <td>-0.000</td>\n",
       "      <td>-0.000</td>\n",
       "    </tr>\n",
       "    <tr>\n",
       "      <th>uni_overall</th>\n",
       "      <td>0.000</td>\n",
       "      <td>-0.000</td>\n",
       "      <td>-0.000</td>\n",
       "    </tr>\n",
       "    <tr>\n",
       "      <th>uni_self_declared</th>\n",
       "      <td>0.000</td>\n",
       "      <td>-0.000</td>\n",
       "      <td>-0.000</td>\n",
       "    </tr>\n",
       "    <tr>\n",
       "      <th>uni_spammer</th>\n",
       "      <td>0.000</td>\n",
       "      <td>0.000</td>\n",
       "      <td>-0.000</td>\n",
       "    </tr>\n",
       "    <tr>\n",
       "      <th>in_reply_to_user</th>\n",
       "      <td>-0.000</td>\n",
       "      <td>0.000</td>\n",
       "      <td>-0.000</td>\n",
       "    </tr>\n",
       "    <tr>\n",
       "      <th>text_length</th>\n",
       "      <td>0.004</td>\n",
       "      <td>-0.003</td>\n",
       "      <td>-0.001</td>\n",
       "    </tr>\n",
       "    <tr>\n",
       "      <th>has_media</th>\n",
       "      <td>0.000</td>\n",
       "      <td>-0.000</td>\n",
       "      <td>-0.000</td>\n",
       "    </tr>\n",
       "    <tr>\n",
       "      <th>has_hashtags</th>\n",
       "      <td>0.000</td>\n",
       "      <td>-0.000</td>\n",
       "      <td>-0.000</td>\n",
       "    </tr>\n",
       "    <tr>\n",
       "      <th>has_mentions</th>\n",
       "      <td>0.000</td>\n",
       "      <td>0.000</td>\n",
       "      <td>-0.000</td>\n",
       "    </tr>\n",
       "  </tbody>\n",
       "</table>\n",
       "</div>"
      ],
      "text/plain": [
       "                    high    low  medium\n",
       "created_at         0.001  0.000  -0.001\n",
       "days_of_creation  -0.000  0.000   0.000\n",
       "followers_count   -0.000 -0.000   0.000\n",
       "following_count    0.000 -0.000  -0.000\n",
       "days_of_creation  -0.000  0.000   0.000\n",
       "english            0.000  0.000  -0.000\n",
       "universal          0.000 -0.000  -0.000\n",
       "eng_astroturf      0.000  0.000  -0.000\n",
       "eng_fake_follower  0.000 -0.000  -0.000\n",
       "eng_financial      0.000  0.000  -0.000\n",
       "eng_other          0.000  0.000  -0.000\n",
       "eng_overall        0.000 -0.000  -0.000\n",
       "eng_self_declared  0.000  0.000  -0.000\n",
       "eng_spammer        0.000 -0.000  -0.000\n",
       "uni_astroturf      0.000  0.000  -0.000\n",
       "uni_fake_follower  0.000 -0.000  -0.000\n",
       "uni_financial      0.000 -0.000  -0.000\n",
       "uni_other          0.000 -0.000  -0.000\n",
       "uni_overall        0.000 -0.000  -0.000\n",
       "uni_self_declared  0.000 -0.000  -0.000\n",
       "uni_spammer        0.000  0.000  -0.000\n",
       "in_reply_to_user  -0.000  0.000  -0.000\n",
       "text_length        0.004 -0.003  -0.001\n",
       "has_media          0.000 -0.000  -0.000\n",
       "has_hashtags       0.000 -0.000  -0.000\n",
       "has_mentions       0.000  0.000  -0.000"
      ]
     },
     "execution_count": 166,
     "metadata": {},
     "output_type": "execute_result"
    }
   ],
   "source": [
    "pd.DataFrame(lr.coef_, index=lr.classes_, columns=x.columns).T.round(3)"
   ]
  },
  {
   "cell_type": "code",
   "execution_count": null,
   "id": "1a43ee8f-4a97-42c0-bfcf-3c98de71c83b",
   "metadata": {},
   "outputs": [],
   "source": []
  },
  {
   "cell_type": "code",
   "execution_count": null,
   "id": "0bf5f251-1440-4c0a-9eac-806a93ee7bb0",
   "metadata": {},
   "outputs": [],
   "source": []
  },
  {
   "cell_type": "markdown",
   "id": "f6cfaf7c-17c3-4233-ac5c-2ab723169ec2",
   "metadata": {},
   "source": [
    "#### Hashtags"
   ]
  },
  {
   "cell_type": "code",
   "execution_count": 192,
   "id": "a1e83973-4fde-4f6a-b7f4-e4de37de2294",
   "metadata": {},
   "outputs": [],
   "source": [
    "from unidecode import unidecode"
   ]
  },
  {
   "cell_type": "code",
   "execution_count": 195,
   "id": "18d5fe98-2eb4-4d1c-88eb-f53733a22782",
   "metadata": {
    "tags": []
   },
   "outputs": [
    {
     "name": "stderr",
     "output_type": "stream",
     "text": [
      " ... (more hidden) ...\n"
     ]
    }
   ],
   "source": [
    "lst_hashtags = []\n",
    "\n",
    "for i in tqdm(df['hashtags']):\n",
    "    \n",
    "    try:\n",
    "        hashtags = [j['tag'] for j in eval(i)]\n",
    "        hashtags = unidecode(' '.join(hashtags))\n",
    "    except:\n",
    "        hashtags = ''\n",
    "    \n",
    "    lst_hashtags.append(hashtags)"
   ]
  },
  {
   "cell_type": "code",
   "execution_count": 282,
   "id": "eab37cfb-8600-4430-97d1-441f0fa47f0b",
   "metadata": {},
   "outputs": [],
   "source": [
    "data = df.copy()"
   ]
  },
  {
   "cell_type": "code",
   "execution_count": 283,
   "id": "b4a0a471-da50-4a8e-b653-f7eadd2d41ca",
   "metadata": {},
   "outputs": [],
   "source": [
    "data['hashtags'] = lst_hashtags"
   ]
  },
  {
   "cell_type": "code",
   "execution_count": 279,
   "id": "70995c81-21ea-42ff-a7b5-492167705a63",
   "metadata": {},
   "outputs": [],
   "source": [
    "from sklearn.feature_extraction.text import CountVectorizer\n",
    "from sklearn.linear_model import LogisticRegression\n",
    "from sklearn.pipeline import Pipeline\n",
    "from sklearn.model_selection import train_test_split\n",
    "\n",
    "from sklearn.ensemble import RandomForestClassifier"
   ]
  },
  {
   "cell_type": "code",
   "execution_count": 306,
   "id": "8d838d3d-54e3-40ac-b8a3-67ee6ebd4a74",
   "metadata": {},
   "outputs": [
    {
     "name": "stdout",
     "output_type": "stream",
     "text": [
      "              precision    recall  f1-score   support\n",
      "\n",
      "        high       0.65      0.42      0.51      7003\n",
      "         low       0.37      0.78      0.51      7006\n",
      "      medium       0.87      0.23      0.36      7007\n",
      "\n",
      "    accuracy                           0.48     21016\n",
      "   macro avg       0.63      0.48      0.46     21016\n",
      "weighted avg       0.63      0.48      0.46     21016\n",
      "\n",
      "0.4608801175257676\n",
      "================================================================================\n",
      "              precision    recall  f1-score   support\n",
      "\n",
      "        high       0.63      0.40      0.49      7078\n",
      "         low       0.39      0.83      0.53      7078\n",
      "      medium       0.81      0.20      0.32      7078\n",
      "\n",
      "    accuracy                           0.47     21234\n",
      "   macro avg       0.61      0.47      0.44     21234\n",
      "weighted avg       0.61      0.47      0.44     21234\n",
      "\n",
      "0.4448270717425849\n",
      "================================================================================\n"
     ]
    }
   ],
   "source": [
    "for i in TARGETS:\n",
    "    data_ = data[\n",
    "        (data['impression_count'] > 0) &\n",
    "        (data[i] <= 1)\n",
    "    ]\n",
    "\n",
    "    pipe = Pipeline([\n",
    "        ('bow', CountVectorizer()),\n",
    "        ('rf', RandomForestClassifier())\n",
    "    ])\n",
    "    \n",
    "    y = pd.qcut(data_[i], 3, labels=['low', 'medium', 'high'])\n",
    "\n",
    "    pipe.fit(data_['hashtags'], y)\n",
    "\n",
    "    y_pred = pipe.predict(data_['hashtags'])\n",
    "\n",
    "    print(classification_report(y, y_pred))\n",
    "    print(f1_score(y, y_pred, average='macro'))\n",
    "    print('='*80)\n",
    "    \n",
    "    "
   ]
  },
  {
   "cell_type": "code",
   "execution_count": null,
   "id": "3ba8b570-ae07-4add-b1ba-42e87c00902f",
   "metadata": {},
   "outputs": [],
   "source": []
  },
  {
   "cell_type": "code",
   "execution_count": 304,
   "id": "2b83d6b4-ffbc-41f7-93e2-73018d2e81ae",
   "metadata": {},
   "outputs": [
    {
     "name": "stdout",
     "output_type": "stream",
     "text": [
      "              precision    recall  f1-score   support\n",
      "\n",
      "        high       0.65      0.41      0.50      7003\n",
      "         low       0.80      0.03      0.06      7006\n",
      "      medium       0.42      0.98      0.59      7007\n",
      "\n",
      "    accuracy                           0.47     21016\n",
      "   macro avg       0.62      0.47      0.38     21016\n",
      "weighted avg       0.62      0.47      0.38     21016\n",
      "\n",
      "0.38335249279781136\n",
      "================================================================================\n",
      "              precision    recall  f1-score   support\n",
      "\n",
      "        high       0.63      0.39      0.48      7078\n",
      "         low       0.39      0.82      0.53      7078\n",
      "      medium       0.77      0.19      0.31      7078\n",
      "\n",
      "    accuracy                           0.47     21234\n",
      "   macro avg       0.60      0.47      0.44     21234\n",
      "weighted avg       0.60      0.47      0.44     21234\n",
      "\n",
      "0.4392598931574363\n",
      "================================================================================\n"
     ]
    }
   ],
   "source": [
    "for i in TARGETS:\n",
    "    data_ = data[\n",
    "        (data['impression_count'] > 0) &\n",
    "        (data[i] <= 1)\n",
    "    ]\n",
    "\n",
    "    pipe = Pipeline([\n",
    "        ('bow', CountVectorizer()),\n",
    "        ('lr', LogisticRegression())\n",
    "    ])\n",
    "    \n",
    "    y = pd.qcut(data_[i], 3, labels=['low', 'medium', 'high'])\n",
    "\n",
    "    pipe.fit(data_['hashtags'], y)\n",
    "\n",
    "    y_pred = pipe.predict(data_['hashtags'])\n",
    "\n",
    "    print(classification_report(y, y_pred))\n",
    "    print(f1_score(y, y_pred, average='macro'))\n",
    "    print('='*80)\n",
    "    \n",
    "    "
   ]
  },
  {
   "cell_type": "code",
   "execution_count": null,
   "id": "cc2720b3-2f1a-4b09-9b2f-fa4908536e66",
   "metadata": {},
   "outputs": [],
   "source": []
  },
  {
   "cell_type": "code",
   "execution_count": null,
   "id": "fc4ca3b3-035a-42b8-9350-8c69b29082e0",
   "metadata": {},
   "outputs": [],
   "source": []
  }
 ],
 "metadata": {
  "kernelspec": {
   "display_name": "Python 3 (ipykernel)",
   "language": "python",
   "name": "python3"
  },
  "language_info": {
   "codemirror_mode": {
    "name": "ipython",
    "version": 3
   },
   "file_extension": ".py",
   "mimetype": "text/x-python",
   "name": "python",
   "nbconvert_exporter": "python",
   "pygments_lexer": "ipython3",
   "version": "3.9.7"
  }
 },
 "nbformat": 4,
 "nbformat_minor": 5
}
