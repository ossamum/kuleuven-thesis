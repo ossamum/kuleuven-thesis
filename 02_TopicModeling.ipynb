{
 "cells": [
  {
   "cell_type": "markdown",
   "id": "2a44fcf9-b72b-40ec-aa0d-6ccefef778ab",
   "metadata": {},
   "source": [
    "https://www.kaggle.com/code/daisypond/example-of-topic-modeling-for-tweets\n",
    "\n",
    "https://www.kaggle.com/code/errearanhas/topic-modelling-lda-on-elon-tweets"
   ]
  },
  {
   "cell_type": "markdown",
   "id": "f52ace3e-9e85-4565-9d19-ac42eeeb842e",
   "metadata": {},
   "source": [
    "## Importing libs"
   ]
  },
  {
   "cell_type": "code",
   "execution_count": 1,
   "id": "7d901454-6553-491d-827c-d0fffd7ee2dc",
   "metadata": {},
   "outputs": [
    {
     "name": "stderr",
     "output_type": "stream",
     "text": [
      "<frozen importlib._bootstrap>:228: RuntimeWarning: scipy._lib.messagestream.MessageStream size changed, may indicate binary incompatibility. Expected 56 from C header, got 64 from PyObject\n"
     ]
    }
   ],
   "source": [
    "import pandas as pd\n",
    "import os\n",
    "from tqdm import tqdm \n",
    "import numpy as np\n",
    "import pickle\n",
    "import seaborn as sns\n",
    "import warnings\n",
    "warnings.filterwarnings('ignore')\n",
    "\n",
    "pd.options.display.max_columns = None"
   ]
  },
  {
   "cell_type": "markdown",
   "id": "dde7556e-e7c2-421d-97bf-c5ea58750858",
   "metadata": {},
   "source": [
    "## Importing data"
   ]
  },
  {
   "cell_type": "code",
   "execution_count": 2,
   "id": "ddb68812-8be0-480f-9bc5-dad2e0079dee",
   "metadata": {},
   "outputs": [],
   "source": [
    "df = (\n",
    "    pd.read_csv('tweets/all_tweets.csv')\n",
    "    .iloc[:, 1:]\n",
    ")"
   ]
  },
  {
   "cell_type": "code",
   "execution_count": 3,
   "id": "382e598a-23dc-41fa-a00e-a33a7c334de3",
   "metadata": {},
   "outputs": [
    {
     "data": {
      "text/plain": [
       "(359036, 28)"
      ]
     },
     "execution_count": 3,
     "metadata": {},
     "output_type": "execute_result"
    }
   ],
   "source": [
    "df.shape"
   ]
  },
  {
   "cell_type": "code",
   "execution_count": 4,
   "id": "d675ebf1-2df2-4f5e-92da-8f78dd0aea5e",
   "metadata": {},
   "outputs": [],
   "source": [
    "tweets = df['text'].drop_duplicates()"
   ]
  },
  {
   "cell_type": "code",
   "execution_count": 5,
   "id": "b8692bdc-b8f0-48fe-b102-6b42adb25d01",
   "metadata": {},
   "outputs": [
    {
     "data": {
      "text/plain": [
       "(304154,)"
      ]
     },
     "execution_count": 5,
     "metadata": {},
     "output_type": "execute_result"
    }
   ],
   "source": [
    "tweets.shape"
   ]
  },
  {
   "cell_type": "code",
   "execution_count": 6,
   "id": "89bf3553-c97f-454e-b858-2793ad8c36f0",
   "metadata": {},
   "outputs": [],
   "source": [
    "import re\n",
    "from unidecode import unidecode\n",
    "from sklearn.feature_extraction.text import CountVectorizer\n",
    "from sklearn.decomposition import LatentDirichletAllocation\n",
    "import nltk"
   ]
  },
  {
   "cell_type": "code",
   "execution_count": 7,
   "id": "a695b9de-5f16-4841-ba0d-931b5955662a",
   "metadata": {},
   "outputs": [
    {
     "data": {
      "text/plain": [
       "0    Kararlarındaki temel dayanak, hukukun evrensel...\n",
       "1    #OhalKomisyonuHukuksuzdur https://t.co/3aUr5MZWPU\n",
       "2    RT @Yozgat_KHK: #OhalKomisyonuHukuksuzdur\\nÇün...\n",
       "3    #OhalKomisyonuHukuksuzdur https://t.co/FHdc5DQ0u0\n",
       "4    RT @Malatya_KHK: Öldükten sonra insanlari işe ...\n",
       "Name: text, dtype: object"
      ]
     },
     "execution_count": 7,
     "metadata": {},
     "output_type": "execute_result"
    }
   ],
   "source": [
    "tweets.head()"
   ]
  },
  {
   "cell_type": "code",
   "execution_count": 15,
   "id": "1dafc05d-39ea-46df-96f6-56b19f81d6ea",
   "metadata": {},
   "outputs": [],
   "source": [
    "tweets = tweets.map(lambda x: re.sub('#[A-Za-z0-9]+', '', x))  # remove hashtag\n",
    "tweets = tweets.map(lambda x: re.sub('https://t.co/[A-Za-z0-9]+', '', x)) # remove link\n",
    "tweets = tweets.map(lambda x: re.sub('[,\\.!?]', '', x)) # remove ,.!?\n",
    "tweets = tweets.map(lambda x: re.sub('\\n', '', x)) # remove \\n\n",
    "tweets = tweets.map(lambda x: unidecode(x)) # remove accents\n",
    "\n",
    "stopwords = nltk.corpus.stopwords.words('turkish') \n",
    "stopwords = [unidecode(i) for i in stopwords] \n",
    "tweets = tweets.apply(lambda x: ' '.join([word for word in x.split() if word not in (stopwords)])) # remove stopwords"
   ]
  },
  {
   "cell_type": "code",
   "execution_count": 16,
   "id": "85490e75-9d89-4584-9f5c-fb1227366a97",
   "metadata": {},
   "outputs": [],
   "source": [
    "tweets = tweets.str.lower() # lower all the words"
   ]
  },
  {
   "cell_type": "code",
   "execution_count": 19,
   "id": "6b8fd8e9-b733-4672-bb59-29329ba801a2",
   "metadata": {},
   "outputs": [],
   "source": [
    "tweets = tweets.drop_duplicates()"
   ]
  },
  {
   "cell_type": "code",
   "execution_count": null,
   "id": "cc9deac3-00e3-4372-8f82-ad8fbe35054d",
   "metadata": {},
   "outputs": [],
   "source": [
    "text_len = tweets.apply(lambda x: len(x))"
   ]
  },
  {
   "cell_type": "code",
   "execution_count": 30,
   "id": "2cbd538b-95df-46c1-8b47-54c4dcba065c",
   "metadata": {},
   "outputs": [],
   "source": [
    "tweets = tweets[text_len[text_len>5].index] # selecting only tweets that are greater than 5 chars"
   ]
  },
  {
   "cell_type": "code",
   "execution_count": 31,
   "id": "7b2a8e88-a038-44e1-a568-0111cc0c4be9",
   "metadata": {},
   "outputs": [],
   "source": [
    "# bow\n",
    "vect = CountVectorizer(max_features=10000)\n",
    "x = vect.fit_transform(tweets)"
   ]
  },
  {
   "cell_type": "code",
   "execution_count": 32,
   "id": "3d24e8ba-71a0-43e5-91a6-14d03778803d",
   "metadata": {},
   "outputs": [],
   "source": [
    "topics = 5"
   ]
  },
  {
   "cell_type": "code",
   "execution_count": 33,
   "id": "e6e1fc7d-6421-4246-a932-04ae629c04b9",
   "metadata": {},
   "outputs": [],
   "source": [
    "# lda\n",
    "lda = LatentDirichletAllocation(n_components = topics, learning_method=\"batch\", max_iter=20, random_state=42)\n",
    "document_topics = lda.fit_transform(x)"
   ]
  },
  {
   "cell_type": "code",
   "execution_count": 55,
   "id": "aa2f599d-4a79-472d-8b56-130c32984954",
   "metadata": {},
   "outputs": [],
   "source": [
    "def display_topics(model, feature_names, no_top_words):\n",
    "    for topic_idx, topic in enumerate(model.components_):\n",
    "        print(\"Topic %d:\" % (topic_idx))\n",
    "        print(\" \".join([feature_names[i] for i in topic.argsort()[:-no_top_words - 1:-1]]))\n",
    "        print('\\n')"
   ]
  },
  {
   "cell_type": "code",
   "execution_count": 52,
   "id": "aae3f557-f010-45f0-9e93-23ee191a392a",
   "metadata": {},
   "outputs": [],
   "source": [
    "feat_names = vect.get_feature_names()"
   ]
  },
  {
   "cell_type": "code",
   "execution_count": 56,
   "id": "771592bf-1c4c-473f-ad67-7511913f1555",
   "metadata": {},
   "outputs": [
    {
     "name": "stdout",
     "output_type": "stream",
     "text": [
      "Topic 0:\n",
      "rt khk turkiye_khk hukuk li adalet bir ohal hak ankara_khk lilar olarak samsun_khk lar ihrac insan mkorkmaz62 herkesicinchp ceza istiyoruz\n",
      "\n",
      "\n",
      "Topic 1:\n",
      "bir rt degil yok var kadar olan bile olarak tek insan sadece artik ben zaman adalet boyle buyuk gun hukuk\n",
      "\n",
      "\n",
      "Topic 2:\n",
      "rt bir in cezaevinde olsun tutuklu hasta olan adalet_bakanlik tahliye yil once yusuf cezaevi adalet cocuk yasindaki gergerliogluof yildir gun\n",
      "\n",
      "\n",
      "Topic 3:\n",
      "rt nin da de in turkiye bir kadin karsi istanbul haklari olarak bugun ye tarafindan baskani insan genel kadinlar li\n",
      "\n",
      "\n",
      "Topic 4:\n",
      "the rt of in to is and for on be that are we with has this it turkey by not\n",
      "\n",
      "\n"
     ]
    }
   ],
   "source": [
    "display_topics(lda, feat_names, 20)"
   ]
  },
  {
   "cell_type": "code",
   "execution_count": null,
   "id": "e39caded-973a-41c7-b175-fbb7cd429076",
   "metadata": {},
   "outputs": [],
   "source": []
  },
  {
   "cell_type": "code",
   "execution_count": null,
   "id": "6b12e8a4-5543-4fe4-a850-c536b734a965",
   "metadata": {},
   "outputs": [],
   "source": []
  },
  {
   "cell_type": "code",
   "execution_count": null,
   "id": "c43e4e7e-1ec5-414e-8c00-af12df0878c5",
   "metadata": {},
   "outputs": [],
   "source": []
  },
  {
   "cell_type": "code",
   "execution_count": null,
   "id": "d5c045ad-3bdf-4947-8461-a85672cfeae5",
   "metadata": {},
   "outputs": [],
   "source": []
  },
  {
   "cell_type": "code",
   "execution_count": null,
   "id": "7c5fa9ba-5341-40ae-b8b4-5014d9e7f29b",
   "metadata": {},
   "outputs": [],
   "source": []
  },
  {
   "cell_type": "code",
   "execution_count": null,
   "id": "a7db312d-e953-4033-9f26-de3546f2bc97",
   "metadata": {},
   "outputs": [],
   "source": []
  }
 ],
 "metadata": {
  "kernelspec": {
   "display_name": "Python 3 (ipykernel)",
   "language": "python",
   "name": "python3"
  },
  "language_info": {
   "codemirror_mode": {
    "name": "ipython",
    "version": 3
   },
   "file_extension": ".py",
   "mimetype": "text/x-python",
   "name": "python",
   "nbconvert_exporter": "python",
   "pygments_lexer": "ipython3",
   "version": "3.9.7"
  }
 },
 "nbformat": 4,
 "nbformat_minor": 5
}
