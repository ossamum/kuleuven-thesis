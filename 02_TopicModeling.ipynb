{
 "cells": [
  {
   "cell_type": "markdown",
   "id": "2a44fcf9-b72b-40ec-aa0d-6ccefef778ab",
   "metadata": {},
   "source": [
    "https://www.kaggle.com/code/daisypond/example-of-topic-modeling-for-tweets\n",
    "\n",
    "https://www.kaggle.com/code/errearanhas/topic-modelling-lda-on-elon-tweets"
   ]
  },
  {
   "cell_type": "markdown",
   "id": "f52ace3e-9e85-4565-9d19-ac42eeeb842e",
   "metadata": {},
   "source": [
    "## Importing libs"
   ]
  },
  {
   "cell_type": "code",
   "execution_count": 57,
   "id": "7d901454-6553-491d-827c-d0fffd7ee2dc",
   "metadata": {},
   "outputs": [],
   "source": [
    "import pandas as pd\n",
    "import os\n",
    "from tqdm import tqdm \n",
    "import numpy as np\n",
    "import pickle\n",
    "import seaborn as sns\n",
    "import warnings\n",
    "warnings.filterwarnings('ignore')\n",
    "\n",
    "pd.options.display.max_columns = None"
   ]
  },
  {
   "cell_type": "markdown",
   "id": "dde7556e-e7c2-421d-97bf-c5ea58750858",
   "metadata": {},
   "source": [
    "## Importing data"
   ]
  },
  {
   "cell_type": "code",
   "execution_count": 119,
   "id": "ddb68812-8be0-480f-9bc5-dad2e0079dee",
   "metadata": {},
   "outputs": [],
   "source": [
    "df = (\n",
    "    pd.read_csv('tweets/all_tweets.csv')\n",
    "    .iloc[:, 1:]\n",
    ")"
   ]
  },
  {
   "cell_type": "code",
   "execution_count": 120,
   "id": "382e598a-23dc-41fa-a00e-a33a7c334de3",
   "metadata": {},
   "outputs": [
    {
     "data": {
      "text/plain": [
       "(359036, 28)"
      ]
     },
     "execution_count": 120,
     "metadata": {},
     "output_type": "execute_result"
    }
   ],
   "source": [
    "df.shape"
   ]
  },
  {
   "cell_type": "code",
   "execution_count": 123,
   "id": "de9101a6-48ec-4c44-b5a6-4c5ac2f3686f",
   "metadata": {},
   "outputs": [
    {
     "data": {
      "text/html": [
       "<div>\n",
       "<style scoped>\n",
       "    .dataframe tbody tr th:only-of-type {\n",
       "        vertical-align: middle;\n",
       "    }\n",
       "\n",
       "    .dataframe tbody tr th {\n",
       "        vertical-align: top;\n",
       "    }\n",
       "\n",
       "    .dataframe thead th {\n",
       "        text-align: right;\n",
       "    }\n",
       "</style>\n",
       "<table border=\"1\" class=\"dataframe\">\n",
       "  <thead>\n",
       "    <tr style=\"text-align: right;\">\n",
       "      <th></th>\n",
       "      <th>author_id</th>\n",
       "      <th>context_annotations</th>\n",
       "      <th>conversation_id</th>\n",
       "      <th>created_at</th>\n",
       "      <th>edit_history_tweet_ids</th>\n",
       "      <th>id</th>\n",
       "      <th>in_reply_to_user_id</th>\n",
       "      <th>lang</th>\n",
       "      <th>possibly_sensitive</th>\n",
       "      <th>referenced_tweets</th>\n",
       "      <th>reply_settings</th>\n",
       "      <th>text</th>\n",
       "      <th>author</th>\n",
       "      <th>withheld</th>\n",
       "      <th>geo</th>\n",
       "      <th>quote_count</th>\n",
       "      <th>retweet_count</th>\n",
       "      <th>like_count</th>\n",
       "      <th>reply_count</th>\n",
       "      <th>impression_count</th>\n",
       "      <th>media_keys</th>\n",
       "      <th>poll_ids</th>\n",
       "      <th>hashtags</th>\n",
       "      <th>urls</th>\n",
       "      <th>mentions</th>\n",
       "      <th>cashtags</th>\n",
       "      <th>annotations</th>\n",
       "      <th>is_retweet</th>\n",
       "    </tr>\n",
       "  </thead>\n",
       "  <tbody>\n",
       "    <tr>\n",
       "      <th>0</th>\n",
       "      <td>1449804331142811655</td>\n",
       "      <td>NaN</td>\n",
       "      <td>1617597872803041280</td>\n",
       "      <td>2023-01-23 18:59:21+00:00</td>\n",
       "      <td>[1617597872803041280]</td>\n",
       "      <td>1617597872803041280</td>\n",
       "      <td>NaN</td>\n",
       "      <td>tr</td>\n",
       "      <td>False</td>\n",
       "      <td>NaN</td>\n",
       "      <td>everyone</td>\n",
       "      <td>Kararlarındaki temel dayanak, hukukun evrensel...</td>\n",
       "      <td>Goksun_KHK</td>\n",
       "      <td>NaN</td>\n",
       "      <td>NaN</td>\n",
       "      <td>0</td>\n",
       "      <td>2</td>\n",
       "      <td>1</td>\n",
       "      <td>0</td>\n",
       "      <td>82</td>\n",
       "      <td>NaN</td>\n",
       "      <td>NaN</td>\n",
       "      <td>[{'start': 95, 'end': 120, 'tag': 'OhalKomisyo...</td>\n",
       "      <td>NaN</td>\n",
       "      <td>NaN</td>\n",
       "      <td>NaN</td>\n",
       "      <td>NaN</td>\n",
       "      <td>False</td>\n",
       "    </tr>\n",
       "    <tr>\n",
       "      <th>1</th>\n",
       "      <td>1449804331142811655</td>\n",
       "      <td>NaN</td>\n",
       "      <td>1617597646339702823</td>\n",
       "      <td>2023-01-23 18:58:27+00:00</td>\n",
       "      <td>[1617597646339702823]</td>\n",
       "      <td>1617597646339702823</td>\n",
       "      <td>NaN</td>\n",
       "      <td>qme</td>\n",
       "      <td>False</td>\n",
       "      <td>NaN</td>\n",
       "      <td>everyone</td>\n",
       "      <td>#OhalKomisyonuHukuksuzdur https://t.co/3aUr5MZWPU</td>\n",
       "      <td>Goksun_KHK</td>\n",
       "      <td>NaN</td>\n",
       "      <td>NaN</td>\n",
       "      <td>0</td>\n",
       "      <td>1</td>\n",
       "      <td>0</td>\n",
       "      <td>0</td>\n",
       "      <td>52</td>\n",
       "      <td>['3_1617597636604723228']</td>\n",
       "      <td>NaN</td>\n",
       "      <td>[{'start': 0, 'end': 25, 'tag': 'OhalKomisyonu...</td>\n",
       "      <td>[{'start': 26, 'end': 49, 'url': 'https://t.co...</td>\n",
       "      <td>NaN</td>\n",
       "      <td>NaN</td>\n",
       "      <td>NaN</td>\n",
       "      <td>False</td>\n",
       "    </tr>\n",
       "  </tbody>\n",
       "</table>\n",
       "</div>"
      ],
      "text/plain": [
       "             author_id context_annotations      conversation_id  \\\n",
       "0  1449804331142811655                 NaN  1617597872803041280   \n",
       "1  1449804331142811655                 NaN  1617597646339702823   \n",
       "\n",
       "                  created_at edit_history_tweet_ids                   id  \\\n",
       "0  2023-01-23 18:59:21+00:00  [1617597872803041280]  1617597872803041280   \n",
       "1  2023-01-23 18:58:27+00:00  [1617597646339702823]  1617597646339702823   \n",
       "\n",
       "   in_reply_to_user_id lang  possibly_sensitive referenced_tweets  \\\n",
       "0                  NaN   tr               False               NaN   \n",
       "1                  NaN  qme               False               NaN   \n",
       "\n",
       "  reply_settings                                               text  \\\n",
       "0       everyone  Kararlarındaki temel dayanak, hukukun evrensel...   \n",
       "1       everyone  #OhalKomisyonuHukuksuzdur https://t.co/3aUr5MZWPU   \n",
       "\n",
       "       author withheld  geo  quote_count  retweet_count  like_count  \\\n",
       "0  Goksun_KHK      NaN  NaN            0              2           1   \n",
       "1  Goksun_KHK      NaN  NaN            0              1           0   \n",
       "\n",
       "   reply_count  impression_count                 media_keys poll_ids  \\\n",
       "0            0                82                        NaN      NaN   \n",
       "1            0                52  ['3_1617597636604723228']      NaN   \n",
       "\n",
       "                                            hashtags  \\\n",
       "0  [{'start': 95, 'end': 120, 'tag': 'OhalKomisyo...   \n",
       "1  [{'start': 0, 'end': 25, 'tag': 'OhalKomisyonu...   \n",
       "\n",
       "                                                urls mentions cashtags  \\\n",
       "0                                                NaN      NaN      NaN   \n",
       "1  [{'start': 26, 'end': 49, 'url': 'https://t.co...      NaN      NaN   \n",
       "\n",
       "  annotations  is_retweet  \n",
       "0         NaN       False  \n",
       "1         NaN       False  "
      ]
     },
     "execution_count": 123,
     "metadata": {},
     "output_type": "execute_result"
    }
   ],
   "source": [
    "df.head(2)"
   ]
  },
  {
   "cell_type": "markdown",
   "id": "81bcaa61-b182-40d7-86fc-e2a7d8e06ffc",
   "metadata": {},
   "source": [
    "## Preparing tweets"
   ]
  },
  {
   "cell_type": "code",
   "execution_count": 126,
   "id": "d675ebf1-2df2-4f5e-92da-8f78dd0aea5e",
   "metadata": {},
   "outputs": [],
   "source": [
    "tweets = df.set_index('id')['text'].drop_duplicates()"
   ]
  },
  {
   "cell_type": "code",
   "execution_count": 127,
   "id": "b8692bdc-b8f0-48fe-b102-6b42adb25d01",
   "metadata": {},
   "outputs": [
    {
     "data": {
      "text/plain": [
       "(304154,)"
      ]
     },
     "execution_count": 127,
     "metadata": {},
     "output_type": "execute_result"
    }
   ],
   "source": [
    "tweets.shape"
   ]
  },
  {
   "cell_type": "code",
   "execution_count": 128,
   "id": "89bf3553-c97f-454e-b858-2793ad8c36f0",
   "metadata": {},
   "outputs": [],
   "source": [
    "import re\n",
    "from unidecode import unidecode\n",
    "from sklearn.feature_extraction.text import CountVectorizer\n",
    "from sklearn.decomposition import LatentDirichletAllocation\n",
    "import nltk"
   ]
  },
  {
   "cell_type": "code",
   "execution_count": 129,
   "id": "a695b9de-5f16-4841-ba0d-931b5955662a",
   "metadata": {},
   "outputs": [
    {
     "data": {
      "text/plain": [
       "id\n",
       "1617597872803041280    Kararlarındaki temel dayanak, hukukun evrensel...\n",
       "1617597646339702823    #OhalKomisyonuHukuksuzdur https://t.co/3aUr5MZWPU\n",
       "1617597571903676417    RT @Yozgat_KHK: #OhalKomisyonuHukuksuzdur\\nÇün...\n",
       "1617597543000440844    #OhalKomisyonuHukuksuzdur https://t.co/FHdc5DQ0u0\n",
       "1617597477963829248    RT @Malatya_KHK: Öldükten sonra insanlari işe ...\n",
       "Name: text, dtype: object"
      ]
     },
     "execution_count": 129,
     "metadata": {},
     "output_type": "execute_result"
    }
   ],
   "source": [
    "tweets.head()"
   ]
  },
  {
   "cell_type": "code",
   "execution_count": 130,
   "id": "1dafc05d-39ea-46df-96f6-56b19f81d6ea",
   "metadata": {},
   "outputs": [],
   "source": [
    "tweets = tweets.map(lambda x: re.sub('#[A-Za-z0-9]+', '', x))  # remove hashtag\n",
    "tweets = tweets.map(lambda x: re.sub('https://t.co/[A-Za-z0-9]+', '', x)) # remove link\n",
    "tweets = tweets.map(lambda x: re.sub('[,\\.!?]', '', x)) # remove ,.!?\n",
    "tweets = tweets.map(lambda x: re.sub('\\n', '', x)) # remove \\n\n",
    "tweets = tweets.map(lambda x: unidecode(x)) # remove accents\n",
    "\n",
    "stopwords = nltk.corpus.stopwords.words('turkish') \n",
    "stopwords = [unidecode(i) for i in stopwords] \n",
    "tweets = tweets.apply(lambda x: ' '.join([word for word in x.split() if word not in (stopwords)])) # remove stopwords"
   ]
  },
  {
   "cell_type": "code",
   "execution_count": 131,
   "id": "85490e75-9d89-4584-9f5c-fb1227366a97",
   "metadata": {},
   "outputs": [],
   "source": [
    "tweets = tweets.str.lower() # lower all the words"
   ]
  },
  {
   "cell_type": "code",
   "execution_count": 132,
   "id": "6b8fd8e9-b733-4672-bb59-29329ba801a2",
   "metadata": {},
   "outputs": [],
   "source": [
    "tweets = tweets.drop_duplicates()"
   ]
  },
  {
   "cell_type": "code",
   "execution_count": 133,
   "id": "cc9deac3-00e3-4372-8f82-ad8fbe35054d",
   "metadata": {},
   "outputs": [],
   "source": [
    "text_len = tweets.apply(lambda x: len(x))"
   ]
  },
  {
   "cell_type": "code",
   "execution_count": 134,
   "id": "2cbd538b-95df-46c1-8b47-54c4dcba065c",
   "metadata": {},
   "outputs": [],
   "source": [
    "tweets = tweets[text_len[text_len>5].index] # selecting only tweets that are greater than 5 chars"
   ]
  },
  {
   "cell_type": "markdown",
   "id": "9f789655-1a7d-4691-b1f6-bc621c684582",
   "metadata": {},
   "source": [
    "## Modeling"
   ]
  },
  {
   "cell_type": "markdown",
   "id": "8227e3d3-873c-4c1e-9497-c4b8abf88d42",
   "metadata": {},
   "source": [
    "### Bag of words"
   ]
  },
  {
   "cell_type": "code",
   "execution_count": 74,
   "id": "7b2a8e88-a038-44e1-a568-0111cc0c4be9",
   "metadata": {},
   "outputs": [],
   "source": [
    "# bow\n",
    "vect = CountVectorizer(max_features=500000)\n",
    "x = vect.fit_transform(tweets)"
   ]
  },
  {
   "cell_type": "code",
   "execution_count": 109,
   "id": "e0ba4410-857a-4905-b4df-b50c49ca6cd0",
   "metadata": {},
   "outputs": [
    {
     "data": {
      "text/plain": [
       "(283912,)"
      ]
     },
     "execution_count": 109,
     "metadata": {},
     "output_type": "execute_result"
    }
   ],
   "source": [
    "tweets.shape"
   ]
  },
  {
   "cell_type": "code",
   "execution_count": 108,
   "id": "1a8de436-5236-47af-8706-d3df0dc3b7b9",
   "metadata": {},
   "outputs": [
    {
     "data": {
      "text/plain": [
       "(283912, 345309)"
      ]
     },
     "execution_count": 108,
     "metadata": {},
     "output_type": "execute_result"
    }
   ],
   "source": [
    "x.shape"
   ]
  },
  {
   "cell_type": "markdown",
   "id": "82d19531-1efd-433a-a302-5ebbfa36361e",
   "metadata": {},
   "source": [
    "### Topic modeling - LDA"
   ]
  },
  {
   "cell_type": "code",
   "execution_count": 75,
   "id": "3d24e8ba-71a0-43e5-91a6-14d03778803d",
   "metadata": {},
   "outputs": [],
   "source": [
    "topics = 30"
   ]
  },
  {
   "cell_type": "code",
   "execution_count": 76,
   "id": "e6e1fc7d-6421-4246-a932-04ae629c04b9",
   "metadata": {},
   "outputs": [],
   "source": [
    "# lda\n",
    "lda = LatentDirichletAllocation(n_components = topics, learning_method=\"batch\", max_iter=20, random_state=42)\n",
    "document_topics = lda.fit_transform(x)"
   ]
  },
  {
   "cell_type": "markdown",
   "id": "ad17ab87-c59b-4aca-824e-934b9ea22aa0",
   "metadata": {},
   "source": [
    "## Results"
   ]
  },
  {
   "cell_type": "code",
   "execution_count": 296,
   "id": "aa2f599d-4a79-472d-8b56-130c32984954",
   "metadata": {},
   "outputs": [],
   "source": [
    "def display_topics(model, feature_names, no_top_words):\n",
    "    for topic_idx, topic in enumerate(model.components_):\n",
    "        print(\"Topic %d:\" % (topic_idx + 1))\n",
    "        print(\" \".join([feature_names[i] for i in topic.argsort()[:-no_top_words - 1:-1]]))\n",
    "        print('\\n')"
   ]
  },
  {
   "cell_type": "code",
   "execution_count": 298,
   "id": "771592bf-1c4c-473f-ad67-7511913f1555",
   "metadata": {},
   "outputs": [
    {
     "name": "stdout",
     "output_type": "stream",
     "text": [
      "Topic 1:\n",
      "turkiye nin rt de da in erdogan ye abd turk rusya iran ukrayna ya den kurt kurdistan dan yi suriye youtube bir savas avrupa son rojava araciligiyla artitv_ almanya karsi\n",
      "\n",
      "\n",
      "Topic 2:\n",
      "cocuk rt cocuklar anne cocuklarin cocuklari baba bile cocuklara bir cocuklarannesizkalmasin bebek cocugun cocugu kiz babasi annesi cezaevinde masum aile zorunda yasinda bu bebekler kalan birakmayin cezaevlerinde hasret ac birakin\n",
      "\n",
      "\n",
      "Topic 3:\n",
      "the rt to of in and is on for with this it turkey that are you as not by we from amp at was have be an my he will\n",
      "\n",
      "\n",
      "Topic 4:\n",
      "rt yoksulluk hacerfoggo once zam mtanal osman derin yavas gundur olarak tanal hacer kar yana tarim kavala foggo birbirimizi geiin aclik sanliurfa ozer bir odak kabul ezoozer odtu daysozgurluk savash_porgham\n",
      "\n",
      "\n",
      "Topic 5:\n",
      "rt khk bir ihrac binlerce insan edilen sivil ohal kamu mahkum olume hukuksuz ilan edildi masum yuzbinlerce insanlar magdur lar terorist insanin isinden bu terk insanlari haksiz olan gecede sosyal\n",
      "\n",
      "\n",
      "Topic 6:\n",
      "in rt gazeteci hapis yil bir mahkeme nin cezasi dava davasi ceza hakkinda yargilandigi muebbet karar hakaret verilen gazeteciler davanin beraat etti var demirtas yeni savci medya gezi orgut suclamasiyla\n",
      "\n",
      "\n",
      "Topic 7:\n",
      "rt tek yok gt monitoring basina kurtulus injustice faced cmiyoruz bogazici failler kayiplar faces 2022_ beraber 2022 yargilansin unibogazici bulunsun derdi birimiz migros meraldanis ya agir direnisin ilarvar mucadele saglamak\n",
      "\n",
      "\n",
      "Topic 8:\n",
      "herkesicinchp bir devapartisi kilicdarogluk khk iyiparti iptal gelecekpartitr saadetpartisi hdpgenelmerkezi rt alibabacan turkiye_khk meral_aksener ediyoruz cozum lar saglik ozgur iade birlesin komisyonunuzured adil tum edilsin sirakhkda ohal t_karamollaoglu khklar dpgultekinuysal\n",
      "\n",
      "\n",
      "Topic 9:\n",
      "rt bir da istanbul nin in de sozlesmesi tarafindan danistay nden karari oldugu polis suc yasindaki cinsel istanbulsozlesmesi bu son hayatini 10 hakkinda eden bugun istismar yil kadar sonucu devlet\n",
      "\n",
      "\n",
      "Topic 10:\n",
      "rt bir istiyor bu khkliadalet hakan ulkede khklihukuk iyi olan guzel ben kanat herkes tam kadar gunun devletin dunyada oldugu zaman gunden ulkenin konusmasanati boyle adalet olur demektir var keske\n",
      "\n",
      "\n",
      "Topic 11:\n",
      "bir rt komisyonu gun her buyuk ohal secim yok yil yeni ekonomik ulke adil olur karanlik bile yerde olan korku iyi sonra oldugu kadar guzel iktidar butun dolu hukukun icinde\n",
      "\n",
      "\n",
      "Topic 12:\n",
      "rt sonra 15 temmuz askeri in bir once yil degil darbe un ogrenciler iade dan de nun erdogan mehmet den ali mustafa 17 gun ogrencilerin oldukten 20 sonrasi akp 25\n",
      "\n",
      "\n",
      "Topic 13:\n",
      "olsun allah cok gecmis rahmet diliyorum durusmasi takip acil tan sabir selam hocam cennet dilerim ailesine sag rt insallah ediyoruz goruluyor ceza sagolsun basiniz mahkemesinde davayi in bassagligi guzel sifalar\n",
      "\n",
      "\n",
      "Topic 14:\n",
      "rt turkiye_khk ankara_khk samsun_khk adalet gantep_khk ozgur_platform sakarya_khk_54 bursa_khk mkorkmaz62 kutahya_khk bekliyorsunuz bingol_khk izmir_khk_35 hukuk rize_khk cozumistiyor malatya_khk istanbul_khk ordu_khk52 artik balikesir_khk khkli khktelevizyonu aydin_khk isparta_khk birlikte bu manisa_khk geccekdiyor\n",
      "\n",
      "\n",
      "Topic 15:\n",
      "cin dogu uygur rt turkistan in kutlu da ataturk olsun yil saygi saygiyla soykirim ugur daki un buyuk turk yolu baris nin yilinda bugun sevgi mustafa isik soykirimi islam bayrami\n",
      "\n",
      "\n",
      "Topic 16:\n",
      "khk rt li lilar olarak lar khktelevizyonu ohal platformlari ulkenin bir lilarin yasiz sorunu kadar mkorkmaz62 buyuk birligi biz bizkhkliyiz magdurlari lilara turkiye_khk iade demokrasi khklininiadesi birlikte maruz tum tv\n",
      "\n",
      "\n",
      "Topic 17:\n",
      "bir rt karar gore bu aihm suc karari olarak nin degil olan aym yargi ceza hukuk ilgili yok anayasa aykiri sekilde ancak hukuka tek olmasi oldugu dair siyasi kabul hakkinda\n",
      "\n",
      "\n",
      "Topic 18:\n",
      "rt cezaevinde tutuklu adalet_bakanlik bin yildir olan hastasi fazla kisi in yasindaki engelli kanser hastatutuklular milyon esi kalp cezaevi den var aydir oldu yasinda 80 ogretmen yuzde yil nde bybekirbozdag\n",
      "\n",
      "\n",
      "Topic 19:\n",
      "bi rt ji li la le di me em et kurdi bo ye be alt ku kurd xwe te ser ust kurtce les ez min zimane du tu we piroz\n",
      "\n",
      "\n",
      "Topic 20:\n",
      "the of in for court to and has hearing be is trial been on that journalist rt are days held journalists being until criminal police we which who case his\n",
      "\n",
      "\n",
      "Topic 21:\n",
      "bir tesekkur rt sayin tesekkurler iskence zaman insanlik ederim gergerliogluof ederiz bu ev gulizarbicer cok gun ediyorum dolayi ertugrulgunay mstanrikulu herkese destek iyi adalet guzel yukseltaskinn cihangirislam nefret kimseye tebrik\n",
      "\n",
      "\n",
      "Topic 22:\n",
      "rt genel da de nin saat baskani akp gunu hdp 2022 youtube aksam chp es 21 bugun kilicdaroglu yarin istanbul tv 00 in li turkiye canli baskanimiz baskan parti araciligiyla\n",
      "\n",
      "\n",
      "Topic 23:\n",
      "yusuf sesver rt tunc diril in bilge haydikhkli bir kayip gulistan gun kerim doku hurmuz nerede zorla haber gundur bal sayin sorusturma kacirilan etkin cigdem mehmet ozgursosyalmedya oran ucimorgtr merhaba\n",
      "\n",
      "\n",
      "Topic 24:\n",
      "rt hasta tahliye cezaevinde cezaevi tutuklu serbest hamile in adalet_bakanlik bir agir de aylik olan infaz nin nde aysel ragmen yasli saglik tugluk yusuf kadin sebnem gergerliogluof cezaevlerinde raporu tedavi\n",
      "\n",
      "\n",
      "Topic 25:\n",
      "rt gozaltina da basin polis adalet istanbul in il onunde karsi nde bugun ziyaret alinan de platformu nin aciklamasi universitesi milletvekili hdp alindi olarak bogazici chp diyarbakir tarafindan yapilan aciklama\n",
      "\n",
      "\n",
      "Topic 26:\n",
      "kadin bir rt kadinlar karsi kadinlarin yonelik siddet da de erkek olarak turkiye toplumsal kadina mucadele esitiz feminist kadinlara nin esitlik dunya lgbti iran kadinlari cinsiyet istanbul esik_platform siddete olan\n",
      "\n",
      "\n",
      "Topic 27:\n",
      "bir rt var bu yok ben degil kadar boyle bile iyi benim bunu oyle ne ama sen ayni artik diyor baska sadece simdi guzel zaten bana oldugunu beni zaman tek\n",
      "\n",
      "\n",
      "Topic 28:\n",
      "insan haklari hak hukuk rt suc evrensel hakki olarak bir olmayan temel olur hukukta hukukun ciftestandart ceza adalet anayasal haklarini gore ozgurlugu ihlalleri bm uluslararasi yasal ihlal ihlali olmaz adil\n",
      "\n",
      "\n",
      "Topic 29:\n",
      "rt hayir diyecek imza ozgurakademi karsi anayasa banamisordunuz ici bilim sansur khksiz umudu bos alma yasasi olan yalnizdegildir kimi birliktebuyutelim haber yardim ses degisikligi sesi ver freelancer080 nuriye ahmeterkan gulmen\n",
      "\n",
      "\n",
      "Topic 30:\n",
      "rt devam biz adalet istiyoruz kadar geri hukuk mucadele bu son bir edecegiz bizler degil yok gidecek zulum haklarimizi sadece olan adaletin ediyor birlikte bizim hakli ediyoruz yildir ey karsi\n",
      "\n",
      "\n"
     ]
    }
   ],
   "source": [
    "display_topics(lda, feat_names, 30)"
   ]
  },
  {
   "cell_type": "markdown",
   "id": "c3f5fa3c-281a-412b-be7e-32d0f2cc62fb",
   "metadata": {},
   "source": [
    "### Combine tweets with their main topics"
   ]
  },
  {
   "cell_type": "code",
   "execution_count": 143,
   "id": "5b7e70aa-7aed-42ab-92ee-cc96dae14c1a",
   "metadata": {},
   "outputs": [],
   "source": [
    "df_topic = pd.DataFrame(\n",
    "    document_topics, \n",
    "    columns=[f'topic_{str(i)}' for i in range(document_topics.shape[1])],\n",
    "    index=tweets.index\n",
    ")"
   ]
  },
  {
   "cell_type": "code",
   "execution_count": 168,
   "id": "dceb20ab-d872-43d2-83a6-b4446d22af95",
   "metadata": {},
   "outputs": [
    {
     "data": {
      "text/html": [
       "<style type=\"text/css\">\n",
       "#T_15a9f_row0_col27, #T_15a9f_row1_col13, #T_15a9f_row2_col11, #T_15a9f_row3_col4 {\n",
       "  background-color: yellow;\n",
       "}\n",
       "</style>\n",
       "<table id=\"T_15a9f\">\n",
       "  <thead>\n",
       "    <tr>\n",
       "      <th class=\"blank level0\" >&nbsp;</th>\n",
       "      <th id=\"T_15a9f_level0_col0\" class=\"col_heading level0 col0\" >topic_0</th>\n",
       "      <th id=\"T_15a9f_level0_col1\" class=\"col_heading level0 col1\" >topic_1</th>\n",
       "      <th id=\"T_15a9f_level0_col2\" class=\"col_heading level0 col2\" >topic_2</th>\n",
       "      <th id=\"T_15a9f_level0_col3\" class=\"col_heading level0 col3\" >topic_3</th>\n",
       "      <th id=\"T_15a9f_level0_col4\" class=\"col_heading level0 col4\" >topic_4</th>\n",
       "      <th id=\"T_15a9f_level0_col5\" class=\"col_heading level0 col5\" >topic_5</th>\n",
       "      <th id=\"T_15a9f_level0_col6\" class=\"col_heading level0 col6\" >topic_6</th>\n",
       "      <th id=\"T_15a9f_level0_col7\" class=\"col_heading level0 col7\" >topic_7</th>\n",
       "      <th id=\"T_15a9f_level0_col8\" class=\"col_heading level0 col8\" >topic_8</th>\n",
       "      <th id=\"T_15a9f_level0_col9\" class=\"col_heading level0 col9\" >topic_9</th>\n",
       "      <th id=\"T_15a9f_level0_col10\" class=\"col_heading level0 col10\" >topic_10</th>\n",
       "      <th id=\"T_15a9f_level0_col11\" class=\"col_heading level0 col11\" >topic_11</th>\n",
       "      <th id=\"T_15a9f_level0_col12\" class=\"col_heading level0 col12\" >topic_12</th>\n",
       "      <th id=\"T_15a9f_level0_col13\" class=\"col_heading level0 col13\" >topic_13</th>\n",
       "      <th id=\"T_15a9f_level0_col14\" class=\"col_heading level0 col14\" >topic_14</th>\n",
       "      <th id=\"T_15a9f_level0_col15\" class=\"col_heading level0 col15\" >topic_15</th>\n",
       "      <th id=\"T_15a9f_level0_col16\" class=\"col_heading level0 col16\" >topic_16</th>\n",
       "      <th id=\"T_15a9f_level0_col17\" class=\"col_heading level0 col17\" >topic_17</th>\n",
       "      <th id=\"T_15a9f_level0_col18\" class=\"col_heading level0 col18\" >topic_18</th>\n",
       "      <th id=\"T_15a9f_level0_col19\" class=\"col_heading level0 col19\" >topic_19</th>\n",
       "      <th id=\"T_15a9f_level0_col20\" class=\"col_heading level0 col20\" >topic_20</th>\n",
       "      <th id=\"T_15a9f_level0_col21\" class=\"col_heading level0 col21\" >topic_21</th>\n",
       "      <th id=\"T_15a9f_level0_col22\" class=\"col_heading level0 col22\" >topic_22</th>\n",
       "      <th id=\"T_15a9f_level0_col23\" class=\"col_heading level0 col23\" >topic_23</th>\n",
       "      <th id=\"T_15a9f_level0_col24\" class=\"col_heading level0 col24\" >topic_24</th>\n",
       "      <th id=\"T_15a9f_level0_col25\" class=\"col_heading level0 col25\" >topic_25</th>\n",
       "      <th id=\"T_15a9f_level0_col26\" class=\"col_heading level0 col26\" >topic_26</th>\n",
       "      <th id=\"T_15a9f_level0_col27\" class=\"col_heading level0 col27\" >topic_27</th>\n",
       "      <th id=\"T_15a9f_level0_col28\" class=\"col_heading level0 col28\" >topic_28</th>\n",
       "      <th id=\"T_15a9f_level0_col29\" class=\"col_heading level0 col29\" >topic_29</th>\n",
       "    </tr>\n",
       "    <tr>\n",
       "      <th class=\"index_name level0\" >id</th>\n",
       "      <th class=\"blank col0\" >&nbsp;</th>\n",
       "      <th class=\"blank col1\" >&nbsp;</th>\n",
       "      <th class=\"blank col2\" >&nbsp;</th>\n",
       "      <th class=\"blank col3\" >&nbsp;</th>\n",
       "      <th class=\"blank col4\" >&nbsp;</th>\n",
       "      <th class=\"blank col5\" >&nbsp;</th>\n",
       "      <th class=\"blank col6\" >&nbsp;</th>\n",
       "      <th class=\"blank col7\" >&nbsp;</th>\n",
       "      <th class=\"blank col8\" >&nbsp;</th>\n",
       "      <th class=\"blank col9\" >&nbsp;</th>\n",
       "      <th class=\"blank col10\" >&nbsp;</th>\n",
       "      <th class=\"blank col11\" >&nbsp;</th>\n",
       "      <th class=\"blank col12\" >&nbsp;</th>\n",
       "      <th class=\"blank col13\" >&nbsp;</th>\n",
       "      <th class=\"blank col14\" >&nbsp;</th>\n",
       "      <th class=\"blank col15\" >&nbsp;</th>\n",
       "      <th class=\"blank col16\" >&nbsp;</th>\n",
       "      <th class=\"blank col17\" >&nbsp;</th>\n",
       "      <th class=\"blank col18\" >&nbsp;</th>\n",
       "      <th class=\"blank col19\" >&nbsp;</th>\n",
       "      <th class=\"blank col20\" >&nbsp;</th>\n",
       "      <th class=\"blank col21\" >&nbsp;</th>\n",
       "      <th class=\"blank col22\" >&nbsp;</th>\n",
       "      <th class=\"blank col23\" >&nbsp;</th>\n",
       "      <th class=\"blank col24\" >&nbsp;</th>\n",
       "      <th class=\"blank col25\" >&nbsp;</th>\n",
       "      <th class=\"blank col26\" >&nbsp;</th>\n",
       "      <th class=\"blank col27\" >&nbsp;</th>\n",
       "      <th class=\"blank col28\" >&nbsp;</th>\n",
       "      <th class=\"blank col29\" >&nbsp;</th>\n",
       "    </tr>\n",
       "  </thead>\n",
       "  <tbody>\n",
       "    <tr>\n",
       "      <th id=\"T_15a9f_level0_row0\" class=\"row_heading level0 row0\" >1617597872803041280</th>\n",
       "      <td id=\"T_15a9f_row0_col0\" class=\"data row0 col0\" >0.002778</td>\n",
       "      <td id=\"T_15a9f_row0_col1\" class=\"data row0 col1\" >0.002778</td>\n",
       "      <td id=\"T_15a9f_row0_col2\" class=\"data row0 col2\" >0.086111</td>\n",
       "      <td id=\"T_15a9f_row0_col3\" class=\"data row0 col3\" >0.002778</td>\n",
       "      <td id=\"T_15a9f_row0_col4\" class=\"data row0 col4\" >0.002778</td>\n",
       "      <td id=\"T_15a9f_row0_col5\" class=\"data row0 col5\" >0.002778</td>\n",
       "      <td id=\"T_15a9f_row0_col6\" class=\"data row0 col6\" >0.002778</td>\n",
       "      <td id=\"T_15a9f_row0_col7\" class=\"data row0 col7\" >0.002778</td>\n",
       "      <td id=\"T_15a9f_row0_col8\" class=\"data row0 col8\" >0.002778</td>\n",
       "      <td id=\"T_15a9f_row0_col9\" class=\"data row0 col9\" >0.002778</td>\n",
       "      <td id=\"T_15a9f_row0_col10\" class=\"data row0 col10\" >0.002778</td>\n",
       "      <td id=\"T_15a9f_row0_col11\" class=\"data row0 col11\" >0.002778</td>\n",
       "      <td id=\"T_15a9f_row0_col12\" class=\"data row0 col12\" >0.002778</td>\n",
       "      <td id=\"T_15a9f_row0_col13\" class=\"data row0 col13\" >0.002778</td>\n",
       "      <td id=\"T_15a9f_row0_col14\" class=\"data row0 col14\" >0.002778</td>\n",
       "      <td id=\"T_15a9f_row0_col15\" class=\"data row0 col15\" >0.002778</td>\n",
       "      <td id=\"T_15a9f_row0_col16\" class=\"data row0 col16\" >0.002778</td>\n",
       "      <td id=\"T_15a9f_row0_col17\" class=\"data row0 col17\" >0.002778</td>\n",
       "      <td id=\"T_15a9f_row0_col18\" class=\"data row0 col18\" >0.002778</td>\n",
       "      <td id=\"T_15a9f_row0_col19\" class=\"data row0 col19\" >0.002778</td>\n",
       "      <td id=\"T_15a9f_row0_col20\" class=\"data row0 col20\" >0.002778</td>\n",
       "      <td id=\"T_15a9f_row0_col21\" class=\"data row0 col21\" >0.002778</td>\n",
       "      <td id=\"T_15a9f_row0_col22\" class=\"data row0 col22\" >0.002778</td>\n",
       "      <td id=\"T_15a9f_row0_col23\" class=\"data row0 col23\" >0.002778</td>\n",
       "      <td id=\"T_15a9f_row0_col24\" class=\"data row0 col24\" >0.002778</td>\n",
       "      <td id=\"T_15a9f_row0_col25\" class=\"data row0 col25\" >0.002778</td>\n",
       "      <td id=\"T_15a9f_row0_col26\" class=\"data row0 col26\" >0.002778</td>\n",
       "      <td id=\"T_15a9f_row0_col27\" class=\"data row0 col27\" >0.836111</td>\n",
       "      <td id=\"T_15a9f_row0_col28\" class=\"data row0 col28\" >0.002778</td>\n",
       "      <td id=\"T_15a9f_row0_col29\" class=\"data row0 col29\" >0.002778</td>\n",
       "    </tr>\n",
       "    <tr>\n",
       "      <th id=\"T_15a9f_level0_row1\" class=\"row_heading level0 row1\" >1617597571903676416</th>\n",
       "      <td id=\"T_15a9f_row1_col0\" class=\"data row1 col0\" >0.003030</td>\n",
       "      <td id=\"T_15a9f_row1_col1\" class=\"data row1 col1\" >0.003030</td>\n",
       "      <td id=\"T_15a9f_row1_col2\" class=\"data row1 col2\" >0.003030</td>\n",
       "      <td id=\"T_15a9f_row1_col3\" class=\"data row1 col3\" >0.003030</td>\n",
       "      <td id=\"T_15a9f_row1_col4\" class=\"data row1 col4\" >0.003030</td>\n",
       "      <td id=\"T_15a9f_row1_col5\" class=\"data row1 col5\" >0.003030</td>\n",
       "      <td id=\"T_15a9f_row1_col6\" class=\"data row1 col6\" >0.003030</td>\n",
       "      <td id=\"T_15a9f_row1_col7\" class=\"data row1 col7\" >0.297032</td>\n",
       "      <td id=\"T_15a9f_row1_col8\" class=\"data row1 col8\" >0.003030</td>\n",
       "      <td id=\"T_15a9f_row1_col9\" class=\"data row1 col9\" >0.003030</td>\n",
       "      <td id=\"T_15a9f_row1_col10\" class=\"data row1 col10\" >0.003030</td>\n",
       "      <td id=\"T_15a9f_row1_col11\" class=\"data row1 col11\" >0.003030</td>\n",
       "      <td id=\"T_15a9f_row1_col12\" class=\"data row1 col12\" >0.003030</td>\n",
       "      <td id=\"T_15a9f_row1_col13\" class=\"data row1 col13\" >0.419121</td>\n",
       "      <td id=\"T_15a9f_row1_col14\" class=\"data row1 col14\" >0.003030</td>\n",
       "      <td id=\"T_15a9f_row1_col15\" class=\"data row1 col15\" >0.003030</td>\n",
       "      <td id=\"T_15a9f_row1_col16\" class=\"data row1 col16\" >0.003030</td>\n",
       "      <td id=\"T_15a9f_row1_col17\" class=\"data row1 col17\" >0.003030</td>\n",
       "      <td id=\"T_15a9f_row1_col18\" class=\"data row1 col18\" >0.003030</td>\n",
       "      <td id=\"T_15a9f_row1_col19\" class=\"data row1 col19\" >0.003030</td>\n",
       "      <td id=\"T_15a9f_row1_col20\" class=\"data row1 col20\" >0.003030</td>\n",
       "      <td id=\"T_15a9f_row1_col21\" class=\"data row1 col21\" >0.003030</td>\n",
       "      <td id=\"T_15a9f_row1_col22\" class=\"data row1 col22\" >0.003030</td>\n",
       "      <td id=\"T_15a9f_row1_col23\" class=\"data row1 col23\" >0.003030</td>\n",
       "      <td id=\"T_15a9f_row1_col24\" class=\"data row1 col24\" >0.003030</td>\n",
       "      <td id=\"T_15a9f_row1_col25\" class=\"data row1 col25\" >0.003030</td>\n",
       "      <td id=\"T_15a9f_row1_col26\" class=\"data row1 col26\" >0.003030</td>\n",
       "      <td id=\"T_15a9f_row1_col27\" class=\"data row1 col27\" >0.003030</td>\n",
       "      <td id=\"T_15a9f_row1_col28\" class=\"data row1 col28\" >0.202029</td>\n",
       "      <td id=\"T_15a9f_row1_col29\" class=\"data row1 col29\" >0.003030</td>\n",
       "    </tr>\n",
       "    <tr>\n",
       "      <th id=\"T_15a9f_level0_row2\" class=\"row_heading level0 row2\" >1617597477963829248</th>\n",
       "      <td id=\"T_15a9f_row2_col0\" class=\"data row2 col0\" >0.004167</td>\n",
       "      <td id=\"T_15a9f_row2_col1\" class=\"data row2 col1\" >0.004167</td>\n",
       "      <td id=\"T_15a9f_row2_col2\" class=\"data row2 col2\" >0.004167</td>\n",
       "      <td id=\"T_15a9f_row2_col3\" class=\"data row2 col3\" >0.004167</td>\n",
       "      <td id=\"T_15a9f_row2_col4\" class=\"data row2 col4\" >0.173268</td>\n",
       "      <td id=\"T_15a9f_row2_col5\" class=\"data row2 col5\" >0.004167</td>\n",
       "      <td id=\"T_15a9f_row2_col6\" class=\"data row2 col6\" >0.004167</td>\n",
       "      <td id=\"T_15a9f_row2_col7\" class=\"data row2 col7\" >0.004167</td>\n",
       "      <td id=\"T_15a9f_row2_col8\" class=\"data row2 col8\" >0.004167</td>\n",
       "      <td id=\"T_15a9f_row2_col9\" class=\"data row2 col9\" >0.004167</td>\n",
       "      <td id=\"T_15a9f_row2_col10\" class=\"data row2 col10\" >0.004167</td>\n",
       "      <td id=\"T_15a9f_row2_col11\" class=\"data row2 col11\" >0.518300</td>\n",
       "      <td id=\"T_15a9f_row2_col12\" class=\"data row2 col12\" >0.004167</td>\n",
       "      <td id=\"T_15a9f_row2_col13\" class=\"data row2 col13\" >0.195932</td>\n",
       "      <td id=\"T_15a9f_row2_col14\" class=\"data row2 col14\" >0.004167</td>\n",
       "      <td id=\"T_15a9f_row2_col15\" class=\"data row2 col15\" >0.004167</td>\n",
       "      <td id=\"T_15a9f_row2_col16\" class=\"data row2 col16\" >0.004167</td>\n",
       "      <td id=\"T_15a9f_row2_col17\" class=\"data row2 col17\" >0.004167</td>\n",
       "      <td id=\"T_15a9f_row2_col18\" class=\"data row2 col18\" >0.004167</td>\n",
       "      <td id=\"T_15a9f_row2_col19\" class=\"data row2 col19\" >0.004167</td>\n",
       "      <td id=\"T_15a9f_row2_col20\" class=\"data row2 col20\" >0.004167</td>\n",
       "      <td id=\"T_15a9f_row2_col21\" class=\"data row2 col21\" >0.004167</td>\n",
       "      <td id=\"T_15a9f_row2_col22\" class=\"data row2 col22\" >0.004167</td>\n",
       "      <td id=\"T_15a9f_row2_col23\" class=\"data row2 col23\" >0.004167</td>\n",
       "      <td id=\"T_15a9f_row2_col24\" class=\"data row2 col24\" >0.004167</td>\n",
       "      <td id=\"T_15a9f_row2_col25\" class=\"data row2 col25\" >0.004167</td>\n",
       "      <td id=\"T_15a9f_row2_col26\" class=\"data row2 col26\" >0.004167</td>\n",
       "      <td id=\"T_15a9f_row2_col27\" class=\"data row2 col27\" >0.004167</td>\n",
       "      <td id=\"T_15a9f_row2_col28\" class=\"data row2 col28\" >0.004167</td>\n",
       "      <td id=\"T_15a9f_row2_col29\" class=\"data row2 col29\" >0.004167</td>\n",
       "    </tr>\n",
       "    <tr>\n",
       "      <th id=\"T_15a9f_level0_row3\" class=\"row_heading level0 row3\" >1617597218038349824</th>\n",
       "      <td id=\"T_15a9f_row3_col0\" class=\"data row3 col0\" >0.004167</td>\n",
       "      <td id=\"T_15a9f_row3_col1\" class=\"data row3 col1\" >0.004167</td>\n",
       "      <td id=\"T_15a9f_row3_col2\" class=\"data row3 col2\" >0.004167</td>\n",
       "      <td id=\"T_15a9f_row3_col3\" class=\"data row3 col3\" >0.004167</td>\n",
       "      <td id=\"T_15a9f_row3_col4\" class=\"data row3 col4\" >0.457712</td>\n",
       "      <td id=\"T_15a9f_row3_col5\" class=\"data row3 col5\" >0.004167</td>\n",
       "      <td id=\"T_15a9f_row3_col6\" class=\"data row3 col6\" >0.004167</td>\n",
       "      <td id=\"T_15a9f_row3_col7\" class=\"data row3 col7\" >0.004167</td>\n",
       "      <td id=\"T_15a9f_row3_col8\" class=\"data row3 col8\" >0.004167</td>\n",
       "      <td id=\"T_15a9f_row3_col9\" class=\"data row3 col9\" >0.004167</td>\n",
       "      <td id=\"T_15a9f_row3_col10\" class=\"data row3 col10\" >0.004167</td>\n",
       "      <td id=\"T_15a9f_row3_col11\" class=\"data row3 col11\" >0.004167</td>\n",
       "      <td id=\"T_15a9f_row3_col12\" class=\"data row3 col12\" >0.004167</td>\n",
       "      <td id=\"T_15a9f_row3_col13\" class=\"data row3 col13\" >0.162181</td>\n",
       "      <td id=\"T_15a9f_row3_col14\" class=\"data row3 col14\" >0.004167</td>\n",
       "      <td id=\"T_15a9f_row3_col15\" class=\"data row3 col15\" >0.004167</td>\n",
       "      <td id=\"T_15a9f_row3_col16\" class=\"data row3 col16\" >0.267607</td>\n",
       "      <td id=\"T_15a9f_row3_col17\" class=\"data row3 col17\" >0.004167</td>\n",
       "      <td id=\"T_15a9f_row3_col18\" class=\"data row3 col18\" >0.004167</td>\n",
       "      <td id=\"T_15a9f_row3_col19\" class=\"data row3 col19\" >0.004167</td>\n",
       "      <td id=\"T_15a9f_row3_col20\" class=\"data row3 col20\" >0.004167</td>\n",
       "      <td id=\"T_15a9f_row3_col21\" class=\"data row3 col21\" >0.004167</td>\n",
       "      <td id=\"T_15a9f_row3_col22\" class=\"data row3 col22\" >0.004167</td>\n",
       "      <td id=\"T_15a9f_row3_col23\" class=\"data row3 col23\" >0.004167</td>\n",
       "      <td id=\"T_15a9f_row3_col24\" class=\"data row3 col24\" >0.004167</td>\n",
       "      <td id=\"T_15a9f_row3_col25\" class=\"data row3 col25\" >0.004167</td>\n",
       "      <td id=\"T_15a9f_row3_col26\" class=\"data row3 col26\" >0.004167</td>\n",
       "      <td id=\"T_15a9f_row3_col27\" class=\"data row3 col27\" >0.004167</td>\n",
       "      <td id=\"T_15a9f_row3_col28\" class=\"data row3 col28\" >0.004167</td>\n",
       "      <td id=\"T_15a9f_row3_col29\" class=\"data row3 col29\" >0.004167</td>\n",
       "    </tr>\n",
       "  </tbody>\n",
       "</table>\n"
      ],
      "text/plain": [
       "<pandas.io.formats.style.Styler at 0x248d82b8820>"
      ]
     },
     "execution_count": 168,
     "metadata": {},
     "output_type": "execute_result"
    }
   ],
   "source": [
    "df_topic.head(4).style.highlight_max(axis=1)"
   ]
  },
  {
   "cell_type": "code",
   "execution_count": 164,
   "id": "6221a973-d0ee-4791-b76f-a86932725877",
   "metadata": {},
   "outputs": [
    {
     "name": "stderr",
     "output_type": "stream",
     "text": [
      "283912it [01:18, 3609.94it/s]\n"
     ]
    }
   ],
   "source": [
    "top_topic = []\n",
    "\n",
    "for _, i in tqdm(df_topic.T.items()):\n",
    "    top_topic.append(i.idxmax())"
   ]
  },
  {
   "cell_type": "code",
   "execution_count": 170,
   "id": "a5645c9a-a42f-4204-855d-c773e9c8ddbb",
   "metadata": {},
   "outputs": [],
   "source": [
    "df_topic['main_topic'] = top_topic"
   ]
  },
  {
   "cell_type": "markdown",
   "id": "abf6a390-b9a1-46f5-9d9a-1f4d142caed7",
   "metadata": {},
   "source": [
    "Topics seems to be relatively homogeneous"
   ]
  },
  {
   "cell_type": "code",
   "execution_count": 178,
   "id": "b6fc1ea7-dc37-460a-9aeb-f58b7f470bc0",
   "metadata": {},
   "outputs": [
    {
     "data": {
      "image/png": "[encoded data removed]",
      "text/plain": [
       "<Figure size 432x288 with 1 Axes>"
      ]
     },
     "metadata": {
      "needs_background": "light"
     },
     "output_type": "display_data"
    }
   ],
   "source": [
    "sns.countplot(data=df_topic, y='main_topic');"
   ]
  },
  {
   "cell_type": "code",
   "execution_count": 182,
   "id": "939a9066-532b-4ae1-a9bb-2bbba56cfa98",
   "metadata": {},
   "outputs": [
    {
     "data": {
      "text/plain": [
       "(283912, 31)"
      ]
     },
     "execution_count": 182,
     "metadata": {},
     "output_type": "execute_result"
    }
   ],
   "source": [
    "df_topic.shape"
   ]
  },
  {
   "cell_type": "markdown",
   "id": "823c2100-75ea-4fca-8a43-be37e59aae86",
   "metadata": {},
   "source": [
    "### Combine tweets metrics with their main topics"
   ]
  },
  {
   "cell_type": "code",
   "execution_count": 183,
   "id": "c90faf64-8f72-4eaf-a494-31f2e0d42de8",
   "metadata": {},
   "outputs": [],
   "source": [
    "a = df.merge(df_topic.reset_index()[['id', 'main_topic']], on='id')"
   ]
  },
  {
   "cell_type": "code",
   "execution_count": 185,
   "id": "f6478978-cd52-42c0-8e90-5b22bb197dc4",
   "metadata": {},
   "outputs": [
    {
     "data": {
      "text/html": [
       "<div>\n",
       "<style scoped>\n",
       "    .dataframe tbody tr th:only-of-type {\n",
       "        vertical-align: middle;\n",
       "    }\n",
       "\n",
       "    .dataframe tbody tr th {\n",
       "        vertical-align: top;\n",
       "    }\n",
       "\n",
       "    .dataframe thead th {\n",
       "        text-align: right;\n",
       "    }\n",
       "</style>\n",
       "<table border=\"1\" class=\"dataframe\">\n",
       "  <thead>\n",
       "    <tr style=\"text-align: right;\">\n",
       "      <th></th>\n",
       "      <th>author_id</th>\n",
       "      <th>context_annotations</th>\n",
       "      <th>conversation_id</th>\n",
       "      <th>created_at</th>\n",
       "      <th>edit_history_tweet_ids</th>\n",
       "      <th>id</th>\n",
       "      <th>in_reply_to_user_id</th>\n",
       "      <th>lang</th>\n",
       "      <th>possibly_sensitive</th>\n",
       "      <th>referenced_tweets</th>\n",
       "      <th>reply_settings</th>\n",
       "      <th>text</th>\n",
       "      <th>author</th>\n",
       "      <th>withheld</th>\n",
       "      <th>geo</th>\n",
       "      <th>quote_count</th>\n",
       "      <th>retweet_count</th>\n",
       "      <th>like_count</th>\n",
       "      <th>reply_count</th>\n",
       "      <th>impression_count</th>\n",
       "      <th>media_keys</th>\n",
       "      <th>poll_ids</th>\n",
       "      <th>hashtags</th>\n",
       "      <th>urls</th>\n",
       "      <th>mentions</th>\n",
       "      <th>cashtags</th>\n",
       "      <th>annotations</th>\n",
       "      <th>is_retweet</th>\n",
       "      <th>main_topic</th>\n",
       "    </tr>\n",
       "  </thead>\n",
       "  <tbody>\n",
       "    <tr>\n",
       "      <th>0</th>\n",
       "      <td>1449804331142811655</td>\n",
       "      <td>NaN</td>\n",
       "      <td>1617597872803041280</td>\n",
       "      <td>2023-01-23 18:59:21+00:00</td>\n",
       "      <td>[1617597872803041280]</td>\n",
       "      <td>1617597872803041280</td>\n",
       "      <td>NaN</td>\n",
       "      <td>tr</td>\n",
       "      <td>False</td>\n",
       "      <td>NaN</td>\n",
       "      <td>everyone</td>\n",
       "      <td>Kararlarındaki temel dayanak, hukukun evrensel...</td>\n",
       "      <td>Goksun_KHK</td>\n",
       "      <td>NaN</td>\n",
       "      <td>NaN</td>\n",
       "      <td>0</td>\n",
       "      <td>2</td>\n",
       "      <td>1</td>\n",
       "      <td>0</td>\n",
       "      <td>82</td>\n",
       "      <td>NaN</td>\n",
       "      <td>NaN</td>\n",
       "      <td>[{'start': 95, 'end': 120, 'tag': 'OhalKomisyo...</td>\n",
       "      <td>NaN</td>\n",
       "      <td>NaN</td>\n",
       "      <td>NaN</td>\n",
       "      <td>NaN</td>\n",
       "      <td>False</td>\n",
       "      <td>topic_27</td>\n",
       "    </tr>\n",
       "    <tr>\n",
       "      <th>1</th>\n",
       "      <td>1449804331142811655</td>\n",
       "      <td>NaN</td>\n",
       "      <td>1617597571903676417</td>\n",
       "      <td>2023-01-23 18:58:09+00:00</td>\n",
       "      <td>[1617597571903676417]</td>\n",
       "      <td>1617597571903676417</td>\n",
       "      <td>NaN</td>\n",
       "      <td>tr</td>\n",
       "      <td>False</td>\n",
       "      <td>[&lt;ReferencedTweet id=1617584897383714816 type=...</td>\n",
       "      <td>everyone</td>\n",
       "      <td>RT @Yozgat_KHK: #OhalKomisyonuHukuksuzdur\\nÇün...</td>\n",
       "      <td>Goksun_KHK</td>\n",
       "      <td>NaN</td>\n",
       "      <td>NaN</td>\n",
       "      <td>0</td>\n",
       "      <td>48</td>\n",
       "      <td>0</td>\n",
       "      <td>0</td>\n",
       "      <td>0</td>\n",
       "      <td>NaN</td>\n",
       "      <td>NaN</td>\n",
       "      <td>[{'start': 16, 'end': 41, 'tag': 'OhalKomisyon...</td>\n",
       "      <td>NaN</td>\n",
       "      <td>[{'start': 3, 'end': 14, 'username': 'Yozgat_K...</td>\n",
       "      <td>NaN</td>\n",
       "      <td>NaN</td>\n",
       "      <td>True</td>\n",
       "      <td>topic_13</td>\n",
       "    </tr>\n",
       "    <tr>\n",
       "      <th>2</th>\n",
       "      <td>1449804331142811655</td>\n",
       "      <td>NaN</td>\n",
       "      <td>1617597477963829248</td>\n",
       "      <td>2023-01-23 18:57:46+00:00</td>\n",
       "      <td>[1617597477963829248]</td>\n",
       "      <td>1617597477963829248</td>\n",
       "      <td>NaN</td>\n",
       "      <td>tr</td>\n",
       "      <td>False</td>\n",
       "      <td>[&lt;ReferencedTweet id=1617597368417013761 type=...</td>\n",
       "      <td>everyone</td>\n",
       "      <td>RT @Malatya_KHK: Öldükten sonra insanlari işe ...</td>\n",
       "      <td>Goksun_KHK</td>\n",
       "      <td>NaN</td>\n",
       "      <td>NaN</td>\n",
       "      <td>0</td>\n",
       "      <td>4</td>\n",
       "      <td>0</td>\n",
       "      <td>0</td>\n",
       "      <td>0</td>\n",
       "      <td>NaN</td>\n",
       "      <td>NaN</td>\n",
       "      <td>[{'start': 57, 'end': 82, 'tag': 'OhalKomisyon...</td>\n",
       "      <td>NaN</td>\n",
       "      <td>[{'start': 3, 'end': 15, 'username': 'Malatya_...</td>\n",
       "      <td>NaN</td>\n",
       "      <td>NaN</td>\n",
       "      <td>True</td>\n",
       "      <td>topic_11</td>\n",
       "    </tr>\n",
       "  </tbody>\n",
       "</table>\n",
       "</div>"
      ],
      "text/plain": [
       "             author_id context_annotations      conversation_id  \\\n",
       "0  1449804331142811655                 NaN  1617597872803041280   \n",
       "1  1449804331142811655                 NaN  1617597571903676417   \n",
       "2  1449804331142811655                 NaN  1617597477963829248   \n",
       "\n",
       "                  created_at edit_history_tweet_ids                   id  \\\n",
       "0  2023-01-23 18:59:21+00:00  [1617597872803041280]  1617597872803041280   \n",
       "1  2023-01-23 18:58:09+00:00  [1617597571903676417]  1617597571903676417   \n",
       "2  2023-01-23 18:57:46+00:00  [1617597477963829248]  1617597477963829248   \n",
       "\n",
       "   in_reply_to_user_id lang  possibly_sensitive  \\\n",
       "0                  NaN   tr               False   \n",
       "1                  NaN   tr               False   \n",
       "2                  NaN   tr               False   \n",
       "\n",
       "                                   referenced_tweets reply_settings  \\\n",
       "0                                                NaN       everyone   \n",
       "1  [<ReferencedTweet id=1617584897383714816 type=...       everyone   \n",
       "2  [<ReferencedTweet id=1617597368417013761 type=...       everyone   \n",
       "\n",
       "                                                text      author withheld  \\\n",
       "0  Kararlarındaki temel dayanak, hukukun evrensel...  Goksun_KHK      NaN   \n",
       "1  RT @Yozgat_KHK: #OhalKomisyonuHukuksuzdur\\nÇün...  Goksun_KHK      NaN   \n",
       "2  RT @Malatya_KHK: Öldükten sonra insanlari işe ...  Goksun_KHK      NaN   \n",
       "\n",
       "   geo  quote_count  retweet_count  like_count  reply_count  impression_count  \\\n",
       "0  NaN            0              2           1            0                82   \n",
       "1  NaN            0             48           0            0                 0   \n",
       "2  NaN            0              4           0            0                 0   \n",
       "\n",
       "  media_keys poll_ids                                           hashtags urls  \\\n",
       "0        NaN      NaN  [{'start': 95, 'end': 120, 'tag': 'OhalKomisyo...  NaN   \n",
       "1        NaN      NaN  [{'start': 16, 'end': 41, 'tag': 'OhalKomisyon...  NaN   \n",
       "2        NaN      NaN  [{'start': 57, 'end': 82, 'tag': 'OhalKomisyon...  NaN   \n",
       "\n",
       "                                            mentions cashtags annotations  \\\n",
       "0                                                NaN      NaN         NaN   \n",
       "1  [{'start': 3, 'end': 14, 'username': 'Yozgat_K...      NaN         NaN   \n",
       "2  [{'start': 3, 'end': 15, 'username': 'Malatya_...      NaN         NaN   \n",
       "\n",
       "   is_retweet main_topic  \n",
       "0       False   topic_27  \n",
       "1        True   topic_13  \n",
       "2        True   topic_11  "
      ]
     },
     "execution_count": 185,
     "metadata": {},
     "output_type": "execute_result"
    }
   ],
   "source": [
    "a.head(3)"
   ]
  },
  {
   "cell_type": "code",
   "execution_count": 193,
   "id": "b6ba360d-d7b5-48ed-aa77-8d7a4f1a31fe",
   "metadata": {},
   "outputs": [
    {
     "data": {
      "text/html": [
       "<div>\n",
       "<style scoped>\n",
       "    .dataframe tbody tr th:only-of-type {\n",
       "        vertical-align: middle;\n",
       "    }\n",
       "\n",
       "    .dataframe tbody tr th {\n",
       "        vertical-align: top;\n",
       "    }\n",
       "\n",
       "    .dataframe thead th {\n",
       "        text-align: right;\n",
       "    }\n",
       "</style>\n",
       "<table border=\"1\" class=\"dataframe\">\n",
       "  <thead>\n",
       "    <tr style=\"text-align: right;\">\n",
       "      <th>main_topic</th>\n",
       "      <th>topic_0</th>\n",
       "      <th>topic_1</th>\n",
       "      <th>topic_10</th>\n",
       "      <th>topic_11</th>\n",
       "      <th>topic_12</th>\n",
       "      <th>topic_13</th>\n",
       "      <th>topic_14</th>\n",
       "      <th>topic_15</th>\n",
       "      <th>topic_16</th>\n",
       "      <th>topic_17</th>\n",
       "      <th>topic_18</th>\n",
       "      <th>topic_19</th>\n",
       "      <th>topic_2</th>\n",
       "      <th>topic_20</th>\n",
       "      <th>topic_21</th>\n",
       "      <th>topic_22</th>\n",
       "      <th>topic_23</th>\n",
       "      <th>topic_24</th>\n",
       "      <th>topic_25</th>\n",
       "      <th>topic_26</th>\n",
       "      <th>topic_27</th>\n",
       "      <th>topic_28</th>\n",
       "      <th>topic_29</th>\n",
       "      <th>topic_3</th>\n",
       "      <th>topic_4</th>\n",
       "      <th>topic_5</th>\n",
       "      <th>topic_6</th>\n",
       "      <th>topic_7</th>\n",
       "      <th>topic_8</th>\n",
       "      <th>topic_9</th>\n",
       "    </tr>\n",
       "    <tr>\n",
       "      <th>is_retweet</th>\n",
       "      <th></th>\n",
       "      <th></th>\n",
       "      <th></th>\n",
       "      <th></th>\n",
       "      <th></th>\n",
       "      <th></th>\n",
       "      <th></th>\n",
       "      <th></th>\n",
       "      <th></th>\n",
       "      <th></th>\n",
       "      <th></th>\n",
       "      <th></th>\n",
       "      <th></th>\n",
       "      <th></th>\n",
       "      <th></th>\n",
       "      <th></th>\n",
       "      <th></th>\n",
       "      <th></th>\n",
       "      <th></th>\n",
       "      <th></th>\n",
       "      <th></th>\n",
       "      <th></th>\n",
       "      <th></th>\n",
       "      <th></th>\n",
       "      <th></th>\n",
       "      <th></th>\n",
       "      <th></th>\n",
       "      <th></th>\n",
       "      <th></th>\n",
       "      <th></th>\n",
       "    </tr>\n",
       "  </thead>\n",
       "  <tbody>\n",
       "    <tr>\n",
       "      <th>False</th>\n",
       "      <td>6307</td>\n",
       "      <td>3247</td>\n",
       "      <td>5079</td>\n",
       "      <td>3430</td>\n",
       "      <td>4016</td>\n",
       "      <td>7470</td>\n",
       "      <td>3465</td>\n",
       "      <td>4252</td>\n",
       "      <td>8854</td>\n",
       "      <td>3582</td>\n",
       "      <td>2723</td>\n",
       "      <td>2102</td>\n",
       "      <td>4885</td>\n",
       "      <td>5662</td>\n",
       "      <td>5504</td>\n",
       "      <td>2324</td>\n",
       "      <td>4696</td>\n",
       "      <td>4319</td>\n",
       "      <td>8603</td>\n",
       "      <td>19359</td>\n",
       "      <td>5914</td>\n",
       "      <td>2853</td>\n",
       "      <td>9791</td>\n",
       "      <td>1490</td>\n",
       "      <td>5809</td>\n",
       "      <td>4478</td>\n",
       "      <td>1008</td>\n",
       "      <td>6293</td>\n",
       "      <td>4919</td>\n",
       "      <td>2725</td>\n",
       "    </tr>\n",
       "    <tr>\n",
       "      <th>True</th>\n",
       "      <td>4229</td>\n",
       "      <td>2263</td>\n",
       "      <td>3274</td>\n",
       "      <td>3950</td>\n",
       "      <td>851</td>\n",
       "      <td>12972</td>\n",
       "      <td>1499</td>\n",
       "      <td>4687</td>\n",
       "      <td>5754</td>\n",
       "      <td>3984</td>\n",
       "      <td>1450</td>\n",
       "      <td>872</td>\n",
       "      <td>7097</td>\n",
       "      <td>2691</td>\n",
       "      <td>6668</td>\n",
       "      <td>1219</td>\n",
       "      <td>4877</td>\n",
       "      <td>7415</td>\n",
       "      <td>5125</td>\n",
       "      <td>10456</td>\n",
       "      <td>4500</td>\n",
       "      <td>2089</td>\n",
       "      <td>6953</td>\n",
       "      <td>2490</td>\n",
       "      <td>6165</td>\n",
       "      <td>3148</td>\n",
       "      <td>662</td>\n",
       "      <td>2762</td>\n",
       "      <td>5286</td>\n",
       "      <td>3365</td>\n",
       "    </tr>\n",
       "  </tbody>\n",
       "</table>\n",
       "</div>"
      ],
      "text/plain": [
       "main_topic  topic_0  topic_1  topic_10  topic_11  topic_12  topic_13  \\\n",
       "is_retweet                                                             \n",
       "False          6307     3247      5079      3430      4016      7470   \n",
       "True           4229     2263      3274      3950       851     12972   \n",
       "\n",
       "main_topic  topic_14  topic_15  topic_16  topic_17  topic_18  topic_19  \\\n",
       "is_retweet                                                               \n",
       "False           3465      4252      8854      3582      2723      2102   \n",
       "True            1499      4687      5754      3984      1450       872   \n",
       "\n",
       "main_topic  topic_2  topic_20  topic_21  topic_22  topic_23  topic_24  \\\n",
       "is_retweet                                                              \n",
       "False          4885      5662      5504      2324      4696      4319   \n",
       "True           7097      2691      6668      1219      4877      7415   \n",
       "\n",
       "main_topic  topic_25  topic_26  topic_27  topic_28  topic_29  topic_3  \\\n",
       "is_retweet                                                              \n",
       "False           8603     19359      5914      2853      9791     1490   \n",
       "True            5125     10456      4500      2089      6953     2490   \n",
       "\n",
       "main_topic  topic_4  topic_5  topic_6  topic_7  topic_8  topic_9  \n",
       "is_retweet                                                        \n",
       "False          5809     4478     1008     6293     4919     2725  \n",
       "True           6165     3148      662     2762     5286     3365  "
      ]
     },
     "execution_count": 193,
     "metadata": {},
     "output_type": "execute_result"
    }
   ],
   "source": [
    "pd.crosstab(a['is_retweet'], a['main_topic'])"
   ]
  },
  {
   "cell_type": "code",
   "execution_count": 198,
   "id": "a63f45a3-48f9-4d46-a4af-0937bdf37f2d",
   "metadata": {},
   "outputs": [
    {
     "data": {
      "text/html": [
       "<div>\n",
       "<style scoped>\n",
       "    .dataframe tbody tr th:only-of-type {\n",
       "        vertical-align: middle;\n",
       "    }\n",
       "\n",
       "    .dataframe tbody tr th {\n",
       "        vertical-align: top;\n",
       "    }\n",
       "\n",
       "    .dataframe thead th {\n",
       "        text-align: right;\n",
       "    }\n",
       "</style>\n",
       "<table border=\"1\" class=\"dataframe\">\n",
       "  <thead>\n",
       "    <tr style=\"text-align: right;\">\n",
       "      <th></th>\n",
       "      <th>count</th>\n",
       "      <th>mean</th>\n",
       "      <th>median</th>\n",
       "      <th>sum</th>\n",
       "    </tr>\n",
       "    <tr>\n",
       "      <th>is_retweet</th>\n",
       "      <th></th>\n",
       "      <th></th>\n",
       "      <th></th>\n",
       "      <th></th>\n",
       "    </tr>\n",
       "  </thead>\n",
       "  <tbody>\n",
       "    <tr>\n",
       "      <th>False</th>\n",
       "      <td>176387</td>\n",
       "      <td>130.190343</td>\n",
       "      <td>6.0</td>\n",
       "      <td>22963884</td>\n",
       "    </tr>\n",
       "    <tr>\n",
       "      <th>True</th>\n",
       "      <td>182649</td>\n",
       "      <td>0.000077</td>\n",
       "      <td>0.0</td>\n",
       "      <td>14</td>\n",
       "    </tr>\n",
       "  </tbody>\n",
       "</table>\n",
       "</div>"
      ],
      "text/plain": [
       "             count        mean  median       sum\n",
       "is_retweet                                      \n",
       "False       176387  130.190343     6.0  22963884\n",
       "True        182649    0.000077     0.0        14"
      ]
     },
     "execution_count": 198,
     "metadata": {},
     "output_type": "execute_result"
    }
   ],
   "source": [
    "df.groupby('is_retweet')['like_count'].agg(['count', 'mean', 'median', 'sum'])"
   ]
  },
  {
   "cell_type": "code",
   "execution_count": 199,
   "id": "ab4fe0c7-9da7-451c-a28a-0ffa67fa3ebf",
   "metadata": {},
   "outputs": [
    {
     "data": {
      "text/html": [
       "<div>\n",
       "<style scoped>\n",
       "    .dataframe tbody tr th:only-of-type {\n",
       "        vertical-align: middle;\n",
       "    }\n",
       "\n",
       "    .dataframe tbody tr th {\n",
       "        vertical-align: top;\n",
       "    }\n",
       "\n",
       "    .dataframe thead th {\n",
       "        text-align: right;\n",
       "    }\n",
       "</style>\n",
       "<table border=\"1\" class=\"dataframe\">\n",
       "  <thead>\n",
       "    <tr style=\"text-align: right;\">\n",
       "      <th></th>\n",
       "      <th>count</th>\n",
       "      <th>mean</th>\n",
       "      <th>median</th>\n",
       "      <th>sum</th>\n",
       "    </tr>\n",
       "    <tr>\n",
       "      <th>is_retweet</th>\n",
       "      <th></th>\n",
       "      <th></th>\n",
       "      <th></th>\n",
       "      <th></th>\n",
       "    </tr>\n",
       "  </thead>\n",
       "  <tbody>\n",
       "    <tr>\n",
       "      <th>False</th>\n",
       "      <td>176387</td>\n",
       "      <td>29.211064</td>\n",
       "      <td>2.0</td>\n",
       "      <td>5152452</td>\n",
       "    </tr>\n",
       "    <tr>\n",
       "      <th>True</th>\n",
       "      <td>182649</td>\n",
       "      <td>248.565122</td>\n",
       "      <td>23.0</td>\n",
       "      <td>45400171</td>\n",
       "    </tr>\n",
       "  </tbody>\n",
       "</table>\n",
       "</div>"
      ],
      "text/plain": [
       "             count        mean  median       sum\n",
       "is_retweet                                      \n",
       "False       176387   29.211064     2.0   5152452\n",
       "True        182649  248.565122    23.0  45400171"
      ]
     },
     "execution_count": 199,
     "metadata": {},
     "output_type": "execute_result"
    }
   ],
   "source": [
    "df.groupby('is_retweet')['retweet_count'].agg(['count', 'mean', 'median', 'sum'])"
   ]
  },
  {
   "cell_type": "code",
   "execution_count": 200,
   "id": "830efa27-bb6f-4709-a214-d7fe755062a7",
   "metadata": {},
   "outputs": [
    {
     "data": {
      "text/html": [
       "<div>\n",
       "<style scoped>\n",
       "    .dataframe tbody tr th:only-of-type {\n",
       "        vertical-align: middle;\n",
       "    }\n",
       "\n",
       "    .dataframe tbody tr th {\n",
       "        vertical-align: top;\n",
       "    }\n",
       "\n",
       "    .dataframe thead th {\n",
       "        text-align: right;\n",
       "    }\n",
       "</style>\n",
       "<table border=\"1\" class=\"dataframe\">\n",
       "  <thead>\n",
       "    <tr style=\"text-align: right;\">\n",
       "      <th></th>\n",
       "      <th>count</th>\n",
       "      <th>mean</th>\n",
       "      <th>median</th>\n",
       "      <th>sum</th>\n",
       "    </tr>\n",
       "    <tr>\n",
       "      <th>is_retweet</th>\n",
       "      <th></th>\n",
       "      <th></th>\n",
       "      <th></th>\n",
       "      <th></th>\n",
       "    </tr>\n",
       "  </thead>\n",
       "  <tbody>\n",
       "    <tr>\n",
       "      <th>False</th>\n",
       "      <td>176387</td>\n",
       "      <td>5.271749</td>\n",
       "      <td>0.0</td>\n",
       "      <td>929868</td>\n",
       "    </tr>\n",
       "    <tr>\n",
       "      <th>True</th>\n",
       "      <td>182649</td>\n",
       "      <td>0.000005</td>\n",
       "      <td>0.0</td>\n",
       "      <td>1</td>\n",
       "    </tr>\n",
       "  </tbody>\n",
       "</table>\n",
       "</div>"
      ],
      "text/plain": [
       "             count      mean  median     sum\n",
       "is_retweet                                  \n",
       "False       176387  5.271749     0.0  929868\n",
       "True        182649  0.000005     0.0       1"
      ]
     },
     "execution_count": 200,
     "metadata": {},
     "output_type": "execute_result"
    }
   ],
   "source": [
    "df.groupby('is_retweet')['reply_count'].agg(['count', 'mean', 'median', 'sum'])"
   ]
  },
  {
   "cell_type": "markdown",
   "id": "dfeae436-7b50-492b-b240-44369d5ee439",
   "metadata": {},
   "source": [
    "Topics 17, 23 and 24 seem to present higher likes"
   ]
  },
  {
   "cell_type": "code",
   "execution_count": 299,
   "id": "f4edcb94-8076-49a8-8d9d-7d1c630adc4c",
   "metadata": {},
   "outputs": [
    {
     "data": {
      "image/png": "[encoded data removed]",
      "text/plain": [
       "<Figure size 1152x288 with 1 Axes>"
      ]
     },
     "metadata": {
      "needs_background": "light"
     },
     "output_type": "display_data"
    }
   ],
   "source": [
    "plt.figure(figsize=(16, 4))\n",
    "plt.ylim(0, 500)\n",
    "plt.xticks(rotation=45)\n",
    "sns.boxplot(data=a[a['is_retweet']==False], x='main_topic', y='like_count');"
   ]
  },
  {
   "cell_type": "markdown",
   "id": "e9ef33f6-fc7f-4df9-8c6b-859ca6199931",
   "metadata": {},
   "source": [
    "Topics 17 and 23 seem to present higher retweets"
   ]
  },
  {
   "cell_type": "code",
   "execution_count": 300,
   "id": "1321c0b6-dd85-49ea-846c-55d0d6fbba6f",
   "metadata": {},
   "outputs": [
    {
     "data": {
      "image/png": "[encoded data removed]",
      "text/plain": [
       "<Figure size 1152x288 with 1 Axes>"
      ]
     },
     "metadata": {
      "needs_background": "light"
     },
     "output_type": "display_data"
    }
   ],
   "source": [
    "plt.figure(figsize=(16, 4))\n",
    "plt.ylim(0, 500)\n",
    "plt.xticks(rotation=45)\n",
    "sns.boxplot(data=a, x='main_topic', y='retweet_count');"
   ]
  },
  {
   "cell_type": "markdown",
   "id": "02461849-c2fd-4230-84e9-acb5e27a0d4d",
   "metadata": {},
   "source": [
    "## Running classifier"
   ]
  },
  {
   "cell_type": "code",
   "execution_count": 210,
   "id": "a5d34120-62ed-4c6c-8c9b-b987b9906679",
   "metadata": {},
   "outputs": [],
   "source": [
    "from sklearn.linear_model import LogisticRegressionCV"
   ]
  },
  {
   "cell_type": "code",
   "execution_count": 301,
   "id": "bea425ec-a96d-4426-a089-91c159593a75",
   "metadata": {},
   "outputs": [],
   "source": [
    "lr = LogisticRegression()"
   ]
  },
  {
   "cell_type": "markdown",
   "id": "47e028e5-bac4-49fa-ad48-527cbd66242b",
   "metadata": {},
   "source": [
    "### Predicting higher likes"
   ]
  },
  {
   "cell_type": "code",
   "execution_count": 302,
   "id": "a6a25821-63d8-45ef-a5e0-e106f210cf1b",
   "metadata": {},
   "outputs": [],
   "source": [
    "x = pd.get_dummies(a[a['is_retweet']==False]['main_topic'], drop_first=True)"
   ]
  },
  {
   "cell_type": "code",
   "execution_count": 303,
   "id": "146b6406-39ca-4632-ad05-d03685adfc44",
   "metadata": {},
   "outputs": [],
   "source": [
    "y = a[a['is_retweet']==False]['like_count']"
   ]
  },
  {
   "cell_type": "code",
   "execution_count": 304,
   "id": "25d7598d-6a64-4c8d-b330-9a27a80c434e",
   "metadata": {},
   "outputs": [
    {
     "data": {
      "text/plain": [
       "count    155159.000000\n",
       "mean        144.798864\n",
       "std        1034.535446\n",
       "min           0.000000\n",
       "25%           2.000000\n",
       "50%           8.000000\n",
       "75%          35.000000\n",
       "max       73017.000000\n",
       "Name: like_count, dtype: float64"
      ]
     },
     "execution_count": 304,
     "metadata": {},
     "output_type": "execute_result"
    }
   ],
   "source": [
    "y.describe()"
   ]
  },
  {
   "cell_type": "code",
   "execution_count": 305,
   "id": "46364c45-5d18-4242-86e6-093216edfd8f",
   "metadata": {},
   "outputs": [],
   "source": [
    "y = np.where(y>y.median(), 1, 0)"
   ]
  },
  {
   "cell_type": "code",
   "execution_count": 306,
   "id": "60aabac3-cd9f-4dad-86a0-cbc86c902fb2",
   "metadata": {},
   "outputs": [
    {
     "data": {
      "text/html": [
       "<style>#sk-container-id-6 {color: black;background-color: white;}#sk-container-id-6 pre{padding: 0;}#sk-container-id-6 div.sk-toggleable {background-color: white;}#sk-container-id-6 label.sk-toggleable__label {cursor: pointer;display: block;width: 100%;margin-bottom: 0;padding: 0.3em;box-sizing: border-box;text-align: center;}#sk-container-id-6 label.sk-toggleable__label-arrow:before {content: \"▸\";float: left;margin-right: 0.25em;color: #696969;}#sk-container-id-6 label.sk-toggleable__label-arrow:hover:before {color: black;}#sk-container-id-6 div.sk-estimator:hover label.sk-toggleable__label-arrow:before {color: black;}#sk-container-id-6 div.sk-toggleable__content {max-height: 0;max-width: 0;overflow: hidden;text-align: left;background-color: #f0f8ff;}#sk-container-id-6 div.sk-toggleable__content pre {margin: 0.2em;color: black;border-radius: 0.25em;background-color: #f0f8ff;}#sk-container-id-6 input.sk-toggleable__control:checked~div.sk-toggleable__content {max-height: 200px;max-width: 100%;overflow: auto;}#sk-container-id-6 input.sk-toggleable__control:checked~label.sk-toggleable__label-arrow:before {content: \"▾\";}#sk-container-id-6 div.sk-estimator input.sk-toggleable__control:checked~label.sk-toggleable__label {background-color: #d4ebff;}#sk-container-id-6 div.sk-label input.sk-toggleable__control:checked~label.sk-toggleable__label {background-color: #d4ebff;}#sk-container-id-6 input.sk-hidden--visually {border: 0;clip: rect(1px 1px 1px 1px);clip: rect(1px, 1px, 1px, 1px);height: 1px;margin: -1px;overflow: hidden;padding: 0;position: absolute;width: 1px;}#sk-container-id-6 div.sk-estimator {font-family: monospace;background-color: #f0f8ff;border: 1px dotted black;border-radius: 0.25em;box-sizing: border-box;margin-bottom: 0.5em;}#sk-container-id-6 div.sk-estimator:hover {background-color: #d4ebff;}#sk-container-id-6 div.sk-parallel-item::after {content: \"\";width: 100%;border-bottom: 1px solid gray;flex-grow: 1;}#sk-container-id-6 div.sk-label:hover label.sk-toggleable__label {background-color: #d4ebff;}#sk-container-id-6 div.sk-serial::before {content: \"\";position: absolute;border-left: 1px solid gray;box-sizing: border-box;top: 0;bottom: 0;left: 50%;z-index: 0;}#sk-container-id-6 div.sk-serial {display: flex;flex-direction: column;align-items: center;background-color: white;padding-right: 0.2em;padding-left: 0.2em;position: relative;}#sk-container-id-6 div.sk-item {position: relative;z-index: 1;}#sk-container-id-6 div.sk-parallel {display: flex;align-items: stretch;justify-content: center;background-color: white;position: relative;}#sk-container-id-6 div.sk-item::before, #sk-container-id-6 div.sk-parallel-item::before {content: \"\";position: absolute;border-left: 1px solid gray;box-sizing: border-box;top: 0;bottom: 0;left: 50%;z-index: -1;}#sk-container-id-6 div.sk-parallel-item {display: flex;flex-direction: column;z-index: 1;position: relative;background-color: white;}#sk-container-id-6 div.sk-parallel-item:first-child::after {align-self: flex-end;width: 50%;}#sk-container-id-6 div.sk-parallel-item:last-child::after {align-self: flex-start;width: 50%;}#sk-container-id-6 div.sk-parallel-item:only-child::after {width: 0;}#sk-container-id-6 div.sk-dashed-wrapped {border: 1px dashed gray;margin: 0 0.4em 0.5em 0.4em;box-sizing: border-box;padding-bottom: 0.4em;background-color: white;}#sk-container-id-6 div.sk-label label {font-family: monospace;font-weight: bold;display: inline-block;line-height: 1.2em;}#sk-container-id-6 div.sk-label-container {text-align: center;}#sk-container-id-6 div.sk-container {/* jupyter's `normalize.less` sets `[hidden] { display: none; }` but bootstrap.min.css set `[hidden] { display: none !important; }` so we also need the `!important` here to be able to override the default hidden behavior on the sphinx rendered scikit-learn.org. See: https://github.com/scikit-learn/scikit-learn/issues/21755 */display: inline-block !important;position: relative;}#sk-container-id-6 div.sk-text-repr-fallback {display: none;}</style><div id=\"sk-container-id-6\" class=\"sk-top-container\"><div class=\"sk-text-repr-fallback\"><pre>LogisticRegression()</pre><b>In a Jupyter environment, please rerun this cell to show the HTML representation or trust the notebook. <br />On GitHub, the HTML representation is unable to render, please try loading this page with nbviewer.org.</b></div><div class=\"sk-container\" hidden><div class=\"sk-item\"><div class=\"sk-estimator sk-toggleable\"><input class=\"sk-toggleable__control sk-hidden--visually\" id=\"sk-estimator-id-6\" type=\"checkbox\" checked><label for=\"sk-estimator-id-6\" class=\"sk-toggleable__label sk-toggleable__label-arrow\">LogisticRegression</label><div class=\"sk-toggleable__content\"><pre>LogisticRegression()</pre></div></div></div></div></div>"
      ],
      "text/plain": [
       "LogisticRegression()"
      ]
     },
     "execution_count": 306,
     "metadata": {},
     "output_type": "execute_result"
    }
   ],
   "source": [
    "lr.fit(x, y)"
   ]
  },
  {
   "cell_type": "code",
   "execution_count": 307,
   "id": "f921d079-b860-4016-b978-ef550e4c0dbe",
   "metadata": {},
   "outputs": [],
   "source": [
    "from sklearn.metrics import classification_report, f1_score"
   ]
  },
  {
   "cell_type": "code",
   "execution_count": 308,
   "id": "799cc800-db00-4efa-980b-ce849eae7177",
   "metadata": {},
   "outputs": [],
   "source": [
    "y_pred = lr.predict(x)"
   ]
  },
  {
   "cell_type": "code",
   "execution_count": 309,
   "id": "eb388f61-87ea-4aae-b1d0-a73dad87eec4",
   "metadata": {},
   "outputs": [
    {
     "name": "stdout",
     "output_type": "stream",
     "text": [
      "              precision    recall  f1-score   support\n",
      "\n",
      "           0       0.61      0.57      0.59     79553\n",
      "           1       0.58      0.61      0.59     75606\n",
      "\n",
      "    accuracy                           0.59    155159\n",
      "   macro avg       0.59      0.59      0.59    155159\n",
      "weighted avg       0.59      0.59      0.59    155159\n",
      "\n"
     ]
    }
   ],
   "source": [
    "print(classification_report(y, y_pred))"
   ]
  },
  {
   "cell_type": "code",
   "execution_count": 310,
   "id": "27627767-4f54-4e44-ac04-014ced1731c0",
   "metadata": {},
   "outputs": [],
   "source": [
    "res = pd.DataFrame(lr.coef_, columns=lr.feature_names_in_, index=['coef'])"
   ]
  },
  {
   "cell_type": "markdown",
   "id": "4aacb69e-ce40-443d-a136-e81bd8362a6d",
   "metadata": {},
   "source": [
    "As already seen, topics 17, 23 and 24 contribute to higher likes"
   ]
  },
  {
   "cell_type": "code",
   "execution_count": 285,
   "id": "e9e2deac-9ab6-49cf-9693-4958f7102b58",
   "metadata": {},
   "outputs": [
    {
     "data": {
      "text/plain": [
       "<AxesSubplot:>"
      ]
     },
     "execution_count": 285,
     "metadata": {},
     "output_type": "execute_result"
    },
    {
     "data": {
      "image/png": "[encoded data removed]",
      "text/plain": [
       "<Figure size 1008x576 with 1 Axes>"
      ]
     },
     "metadata": {
      "needs_background": "light"
     },
     "output_type": "display_data"
    }
   ],
   "source": [
    "res.T.plot.barh(figsize=(14, 8))"
   ]
  },
  {
   "cell_type": "markdown",
   "id": "2e89834f-0c9f-4a92-825d-1b3f4c72a118",
   "metadata": {},
   "source": [
    "### Predicting higher retweets"
   ]
  },
  {
   "cell_type": "code",
   "execution_count": 286,
   "id": "6a359170-8770-4d1b-b976-4d48169e6a41",
   "metadata": {},
   "outputs": [],
   "source": [
    "x = pd.get_dummies(a['main_topic'], drop_first=True)"
   ]
  },
  {
   "cell_type": "code",
   "execution_count": 287,
   "id": "a3c24a07-5513-4971-b24d-802fbe9349ad",
   "metadata": {},
   "outputs": [],
   "source": [
    "y = a['retweet_count']"
   ]
  },
  {
   "cell_type": "code",
   "execution_count": 288,
   "id": "be0e31de-4ce9-442a-ac06-0dc908d39218",
   "metadata": {},
   "outputs": [
    {
     "data": {
      "text/plain": [
       "count    283912.000000\n",
       "mean        127.722840\n",
       "std        1824.605264\n",
       "min           0.000000\n",
       "25%           1.000000\n",
       "50%           6.000000\n",
       "75%          29.000000\n",
       "max      570083.000000\n",
       "Name: retweet_count, dtype: float64"
      ]
     },
     "execution_count": 288,
     "metadata": {},
     "output_type": "execute_result"
    }
   ],
   "source": [
    "y.describe()"
   ]
  },
  {
   "cell_type": "code",
   "execution_count": 289,
   "id": "40fccc3b-6eb6-482c-988d-0dbaefc69577",
   "metadata": {},
   "outputs": [],
   "source": [
    "y = np.where(y>y.median(), 1, 0)"
   ]
  },
  {
   "cell_type": "code",
   "execution_count": 290,
   "id": "dbcebc52-242c-4e9a-ae81-e17205d1364c",
   "metadata": {},
   "outputs": [
    {
     "data": {
      "text/html": [
       "<style>#sk-container-id-5 {color: black;background-color: white;}#sk-container-id-5 pre{padding: 0;}#sk-container-id-5 div.sk-toggleable {background-color: white;}#sk-container-id-5 label.sk-toggleable__label {cursor: pointer;display: block;width: 100%;margin-bottom: 0;padding: 0.3em;box-sizing: border-box;text-align: center;}#sk-container-id-5 label.sk-toggleable__label-arrow:before {content: \"▸\";float: left;margin-right: 0.25em;color: #696969;}#sk-container-id-5 label.sk-toggleable__label-arrow:hover:before {color: black;}#sk-container-id-5 div.sk-estimator:hover label.sk-toggleable__label-arrow:before {color: black;}#sk-container-id-5 div.sk-toggleable__content {max-height: 0;max-width: 0;overflow: hidden;text-align: left;background-color: #f0f8ff;}#sk-container-id-5 div.sk-toggleable__content pre {margin: 0.2em;color: black;border-radius: 0.25em;background-color: #f0f8ff;}#sk-container-id-5 input.sk-toggleable__control:checked~div.sk-toggleable__content {max-height: 200px;max-width: 100%;overflow: auto;}#sk-container-id-5 input.sk-toggleable__control:checked~label.sk-toggleable__label-arrow:before {content: \"▾\";}#sk-container-id-5 div.sk-estimator input.sk-toggleable__control:checked~label.sk-toggleable__label {background-color: #d4ebff;}#sk-container-id-5 div.sk-label input.sk-toggleable__control:checked~label.sk-toggleable__label {background-color: #d4ebff;}#sk-container-id-5 input.sk-hidden--visually {border: 0;clip: rect(1px 1px 1px 1px);clip: rect(1px, 1px, 1px, 1px);height: 1px;margin: -1px;overflow: hidden;padding: 0;position: absolute;width: 1px;}#sk-container-id-5 div.sk-estimator {font-family: monospace;background-color: #f0f8ff;border: 1px dotted black;border-radius: 0.25em;box-sizing: border-box;margin-bottom: 0.5em;}#sk-container-id-5 div.sk-estimator:hover {background-color: #d4ebff;}#sk-container-id-5 div.sk-parallel-item::after {content: \"\";width: 100%;border-bottom: 1px solid gray;flex-grow: 1;}#sk-container-id-5 div.sk-label:hover label.sk-toggleable__label {background-color: #d4ebff;}#sk-container-id-5 div.sk-serial::before {content: \"\";position: absolute;border-left: 1px solid gray;box-sizing: border-box;top: 0;bottom: 0;left: 50%;z-index: 0;}#sk-container-id-5 div.sk-serial {display: flex;flex-direction: column;align-items: center;background-color: white;padding-right: 0.2em;padding-left: 0.2em;position: relative;}#sk-container-id-5 div.sk-item {position: relative;z-index: 1;}#sk-container-id-5 div.sk-parallel {display: flex;align-items: stretch;justify-content: center;background-color: white;position: relative;}#sk-container-id-5 div.sk-item::before, #sk-container-id-5 div.sk-parallel-item::before {content: \"\";position: absolute;border-left: 1px solid gray;box-sizing: border-box;top: 0;bottom: 0;left: 50%;z-index: -1;}#sk-container-id-5 div.sk-parallel-item {display: flex;flex-direction: column;z-index: 1;position: relative;background-color: white;}#sk-container-id-5 div.sk-parallel-item:first-child::after {align-self: flex-end;width: 50%;}#sk-container-id-5 div.sk-parallel-item:last-child::after {align-self: flex-start;width: 50%;}#sk-container-id-5 div.sk-parallel-item:only-child::after {width: 0;}#sk-container-id-5 div.sk-dashed-wrapped {border: 1px dashed gray;margin: 0 0.4em 0.5em 0.4em;box-sizing: border-box;padding-bottom: 0.4em;background-color: white;}#sk-container-id-5 div.sk-label label {font-family: monospace;font-weight: bold;display: inline-block;line-height: 1.2em;}#sk-container-id-5 div.sk-label-container {text-align: center;}#sk-container-id-5 div.sk-container {/* jupyter's `normalize.less` sets `[hidden] { display: none; }` but bootstrap.min.css set `[hidden] { display: none !important; }` so we also need the `!important` here to be able to override the default hidden behavior on the sphinx rendered scikit-learn.org. See: https://github.com/scikit-learn/scikit-learn/issues/21755 */display: inline-block !important;position: relative;}#sk-container-id-5 div.sk-text-repr-fallback {display: none;}</style><div id=\"sk-container-id-5\" class=\"sk-top-container\"><div class=\"sk-text-repr-fallback\"><pre>LogisticRegression()</pre><b>In a Jupyter environment, please rerun this cell to show the HTML representation or trust the notebook. <br />On GitHub, the HTML representation is unable to render, please try loading this page with nbviewer.org.</b></div><div class=\"sk-container\" hidden><div class=\"sk-item\"><div class=\"sk-estimator sk-toggleable\"><input class=\"sk-toggleable__control sk-hidden--visually\" id=\"sk-estimator-id-5\" type=\"checkbox\" checked><label for=\"sk-estimator-id-5\" class=\"sk-toggleable__label sk-toggleable__label-arrow\">LogisticRegression</label><div class=\"sk-toggleable__content\"><pre>LogisticRegression()</pre></div></div></div></div></div>"
      ],
      "text/plain": [
       "LogisticRegression()"
      ]
     },
     "execution_count": 290,
     "metadata": {},
     "output_type": "execute_result"
    }
   ],
   "source": [
    "lr.fit(x, y)"
   ]
  },
  {
   "cell_type": "code",
   "execution_count": 291,
   "id": "fcdac27c-2a12-4af2-9ff2-1da8454d3ab0",
   "metadata": {},
   "outputs": [],
   "source": [
    "from sklearn.metrics import classification_report, f1_score"
   ]
  },
  {
   "cell_type": "code",
   "execution_count": 292,
   "id": "e9bdf3df-bd9a-468d-8076-4e9089c6003b",
   "metadata": {},
   "outputs": [],
   "source": [
    "y_pred = lr.predict(x)"
   ]
  },
  {
   "cell_type": "code",
   "execution_count": 293,
   "id": "f65993f5-ce72-410f-aec3-dc83e12fcfe7",
   "metadata": {},
   "outputs": [
    {
     "name": "stdout",
     "output_type": "stream",
     "text": [
      "              precision    recall  f1-score   support\n",
      "\n",
      "           0       0.56      0.66      0.61    142072\n",
      "           1       0.59      0.49      0.53    141840\n",
      "\n",
      "    accuracy                           0.57    283912\n",
      "   macro avg       0.58      0.57      0.57    283912\n",
      "weighted avg       0.58      0.57      0.57    283912\n",
      "\n"
     ]
    }
   ],
   "source": [
    "print(classification_report(y, y_pred))"
   ]
  },
  {
   "cell_type": "code",
   "execution_count": 294,
   "id": "7426a4f4-2e64-4e6b-94cd-2bbf58822a2f",
   "metadata": {},
   "outputs": [],
   "source": [
    "res = pd.DataFrame(lr.coef_, columns=lr.feature_names_in_, index=['coef'])"
   ]
  },
  {
   "cell_type": "code",
   "execution_count": 295,
   "id": "8936e5a3-f6c7-4261-8ea2-89df2f6cb815",
   "metadata": {},
   "outputs": [
    {
     "data": {
      "text/plain": [
       "<AxesSubplot:>"
      ]
     },
     "execution_count": 295,
     "metadata": {},
     "output_type": "execute_result"
    },
    {
     "data": {
      "image/png": "[encoded data removed]",
      "text/plain": [
       "<Figure size 1008x576 with 1 Axes>"
      ]
     },
     "metadata": {
      "needs_background": "light"
     },
     "output_type": "display_data"
    }
   ],
   "source": [
    "res.T.plot.barh(figsize=(14, 8))"
   ]
  }
 ],
 "metadata": {
  "kernelspec": {
   "display_name": "Python 3 (ipykernel)",
   "language": "python",
   "name": "python3"
  },
  "language_info": {
   "codemirror_mode": {
    "name": "ipython",
    "version": 3
   },
   "file_extension": ".py",
   "mimetype": "text/x-python",
   "name": "python",
   "nbconvert_exporter": "python",
   "pygments_lexer": "ipython3",
   "version": "3.9.7"
  }
 },
 "nbformat": 4,
 "nbformat_minor": 5
}
