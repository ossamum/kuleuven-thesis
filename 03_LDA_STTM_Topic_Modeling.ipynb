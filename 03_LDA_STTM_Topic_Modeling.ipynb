{
 "cells": [
  {
   "cell_type": "code",
   "execution_count": 1,
   "id": "8b7a29fa-0cae-484e-89ff-43c1c4299d06",
   "metadata": {
    "tags": []
   },
   "outputs": [],
   "source": [
    "import logging\n",
    "import pickle\n",
    "import re\n",
    "import string\n",
    "from pathlib import Path\n",
    "\n",
    "import gensim\n",
    "import nltk\n",
    "import numpy as np\n",
    "import pandas as pd\n",
    "from gensim import corpora, models\n",
    "from gensim.models import CoherenceModel\n",
    "from gsdmm import MovieGroupProcess\n",
    "from nltk.tokenize import word_tokenize\n",
    "from sklearn.feature_extraction.text import CountVectorizer\n",
    "from tqdm import tqdm\n",
    "from unidecode import unidecode\n",
    "\n",
    "pd.set_option(\"display.max_columns\", None)\n",
    "pd.set_option(\"display.max_rows\", None)"
   ]
  },
  {
   "cell_type": "code",
   "execution_count": 2,
   "id": "ff3c544b-d112-46f9-a722-ca092c4feceb",
   "metadata": {
    "tags": []
   },
   "outputs": [
    {
     "data": {
      "text/html": [
       "<div>\n",
       "<style scoped>\n",
       "    .dataframe tbody tr th:only-of-type {\n",
       "        vertical-align: middle;\n",
       "    }\n",
       "\n",
       "    .dataframe tbody tr th {\n",
       "        vertical-align: top;\n",
       "    }\n",
       "\n",
       "    .dataframe thead th {\n",
       "        text-align: right;\n",
       "    }\n",
       "</style>\n",
       "<table border=\"1\" class=\"dataframe\">\n",
       "  <thead>\n",
       "    <tr style=\"text-align: right;\">\n",
       "      <th></th>\n",
       "      <th>author_id</th>\n",
       "      <th>context_annotations</th>\n",
       "      <th>conversation_id</th>\n",
       "      <th>created_at</th>\n",
       "      <th>edit_history_tweet_ids</th>\n",
       "      <th>id</th>\n",
       "      <th>in_reply_to_user_id</th>\n",
       "      <th>lang</th>\n",
       "      <th>possibly_sensitive</th>\n",
       "      <th>referenced_tweets</th>\n",
       "      <th>reply_settings</th>\n",
       "      <th>text</th>\n",
       "      <th>author</th>\n",
       "      <th>withheld</th>\n",
       "      <th>geo</th>\n",
       "      <th>quote_count</th>\n",
       "      <th>retweet_count</th>\n",
       "      <th>like_count</th>\n",
       "      <th>reply_count</th>\n",
       "      <th>impression_count</th>\n",
       "      <th>media_keys</th>\n",
       "      <th>poll_ids</th>\n",
       "      <th>hashtags</th>\n",
       "      <th>urls</th>\n",
       "      <th>mentions</th>\n",
       "      <th>cashtags</th>\n",
       "      <th>annotations</th>\n",
       "      <th>is_retweet</th>\n",
       "      <th>gender_of_author</th>\n",
       "      <th>profession_of_author</th>\n",
       "      <th>hashtags_flattened</th>\n",
       "      <th>trend_topics</th>\n",
       "      <th>n_trend_topics</th>\n",
       "      <th>text_length</th>\n",
       "      <th>has_media</th>\n",
       "      <th>has_hashtags</th>\n",
       "      <th>has_mentions</th>\n",
       "      <th>is_reply</th>\n",
       "      <th>tweet_type</th>\n",
       "      <th>ratio_like</th>\n",
       "      <th>ratio_retweet</th>\n",
       "      <th>majority_lang</th>\n",
       "      <th>english</th>\n",
       "      <th>universal</th>\n",
       "      <th>eng_astroturf</th>\n",
       "      <th>eng_fake_follower</th>\n",
       "      <th>eng_financial</th>\n",
       "      <th>eng_other</th>\n",
       "      <th>eng_overall</th>\n",
       "      <th>eng_self_declared</th>\n",
       "      <th>eng_spammer</th>\n",
       "      <th>uni_astroturf</th>\n",
       "      <th>uni_fake_follower</th>\n",
       "      <th>uni_financial</th>\n",
       "      <th>uni_other</th>\n",
       "      <th>uni_overall</th>\n",
       "      <th>uni_self_declared</th>\n",
       "      <th>uni_spammer</th>\n",
       "      <th>verified_author</th>\n",
       "      <th>followers_count_author</th>\n",
       "      <th>following_count_author</th>\n",
       "      <th>tweet_count_author</th>\n",
       "      <th>age_of_account_in_days_author</th>\n",
       "      <th>sentiment</th>\n",
       "      <th>created_at_day_of_week</th>\n",
       "      <th>created_at_month_of_year</th>\n",
       "      <th>created_at_time_of_day_in_seconds</th>\n",
       "      <th>reply_to_tweet_ratio</th>\n",
       "      <th>retweet_to_tweet_ratio</th>\n",
       "      <th>average_tweets_of_author_per_day</th>\n",
       "      <th>media_media_key_1</th>\n",
       "      <th>media_type_1</th>\n",
       "      <th>media_height_1</th>\n",
       "      <th>media_url_1</th>\n",
       "      <th>media_width_1</th>\n",
       "      <th>media_public_metrics_1</th>\n",
       "      <th>media_preview_image_url_1</th>\n",
       "      <th>media_duration_ms_1</th>\n",
       "      <th>media_alt_text_1</th>\n",
       "      <th>media_media_key_2</th>\n",
       "      <th>media_type_2</th>\n",
       "      <th>media_height_2</th>\n",
       "      <th>media_url_2</th>\n",
       "      <th>media_width_2</th>\n",
       "      <th>media_public_metrics_2</th>\n",
       "      <th>media_preview_image_url_2</th>\n",
       "      <th>media_duration_ms_2</th>\n",
       "      <th>media_alt_text_2</th>\n",
       "      <th>media_media_key_3</th>\n",
       "      <th>media_type_3</th>\n",
       "      <th>media_height_3</th>\n",
       "      <th>media_url_3</th>\n",
       "      <th>media_width_3</th>\n",
       "      <th>media_public_metrics_3</th>\n",
       "      <th>media_preview_image_url_3</th>\n",
       "      <th>media_duration_ms_3</th>\n",
       "      <th>media_alt_text_3</th>\n",
       "      <th>media_media_key_4</th>\n",
       "      <th>media_type_4</th>\n",
       "      <th>media_height_4</th>\n",
       "      <th>media_url_4</th>\n",
       "      <th>media_width_4</th>\n",
       "      <th>media_public_metrics_4</th>\n",
       "      <th>media_preview_image_url_4</th>\n",
       "      <th>media_duration_ms_4</th>\n",
       "      <th>media_alt_text_4</th>\n",
       "    </tr>\n",
       "  </thead>\n",
       "  <tbody>\n",
       "    <tr>\n",
       "      <th>0</th>\n",
       "      <td>1449804331142811655</td>\n",
       "      <td>NaN</td>\n",
       "      <td>1617597872803041280</td>\n",
       "      <td>2023-01-23 18:59:21</td>\n",
       "      <td>[1617597872803041280]</td>\n",
       "      <td>1617597872803041280</td>\n",
       "      <td>NaN</td>\n",
       "      <td>tr</td>\n",
       "      <td>False</td>\n",
       "      <td>NaN</td>\n",
       "      <td>everyone</td>\n",
       "      <td>Kararlarındaki temel dayanak, hukukun evrensel...</td>\n",
       "      <td>Goksun_KHK</td>\n",
       "      <td>NaN</td>\n",
       "      <td>NaN</td>\n",
       "      <td>0</td>\n",
       "      <td>2</td>\n",
       "      <td>1</td>\n",
       "      <td>0</td>\n",
       "      <td>82</td>\n",
       "      <td>NaN</td>\n",
       "      <td>NaN</td>\n",
       "      <td>[{'start': 95, 'end': 120, 'tag': 'OhalKomisyo...</td>\n",
       "      <td>NaN</td>\n",
       "      <td>NaN</td>\n",
       "      <td>NaN</td>\n",
       "      <td>NaN</td>\n",
       "      <td>0</td>\n",
       "      <td>ORG</td>\n",
       "      <td>NOT AVAILABLE</td>\n",
       "      <td>OhalKomisyonuHukuksuzdur</td>\n",
       "      <td>OhalKomisyonuHukuksuzdur</td>\n",
       "      <td>1</td>\n",
       "      <td>120</td>\n",
       "      <td>0</td>\n",
       "      <td>1</td>\n",
       "      <td>0</td>\n",
       "      <td>0</td>\n",
       "      <td>no_reply_and_no_retweet</td>\n",
       "      <td>0.012195</td>\n",
       "      <td>0.024390</td>\n",
       "      <td>tr</td>\n",
       "      <td>0.874858</td>\n",
       "      <td>0.847463</td>\n",
       "      <td>0.13</td>\n",
       "      <td>0.51</td>\n",
       "      <td>0.22</td>\n",
       "      <td>0.91</td>\n",
       "      <td>0.91</td>\n",
       "      <td>0.08</td>\n",
       "      <td>0.25</td>\n",
       "      <td>0.12</td>\n",
       "      <td>0.44</td>\n",
       "      <td>0.1</td>\n",
       "      <td>0.87</td>\n",
       "      <td>0.87</td>\n",
       "      <td>0.19</td>\n",
       "      <td>0.16</td>\n",
       "      <td>False</td>\n",
       "      <td>1107.0</td>\n",
       "      <td>174.0</td>\n",
       "      <td>2962.0</td>\n",
       "      <td>470.0</td>\n",
       "      <td>0.994189</td>\n",
       "      <td>0</td>\n",
       "      <td>1</td>\n",
       "      <td>68361</td>\n",
       "      <td>0.013817</td>\n",
       "      <td>0.435233</td>\n",
       "      <td>1.231915</td>\n",
       "      <td>NaN</td>\n",
       "      <td>NaN</td>\n",
       "      <td>NaN</td>\n",
       "      <td>NaN</td>\n",
       "      <td>NaN</td>\n",
       "      <td>NaN</td>\n",
       "      <td>NaN</td>\n",
       "      <td>NaN</td>\n",
       "      <td>NaN</td>\n",
       "      <td>NaN</td>\n",
       "      <td>NaN</td>\n",
       "      <td>NaN</td>\n",
       "      <td>NaN</td>\n",
       "      <td>NaN</td>\n",
       "      <td>NaN</td>\n",
       "      <td>NaN</td>\n",
       "      <td>NaN</td>\n",
       "      <td>NaN</td>\n",
       "      <td>NaN</td>\n",
       "      <td>NaN</td>\n",
       "      <td>NaN</td>\n",
       "      <td>NaN</td>\n",
       "      <td>NaN</td>\n",
       "      <td>NaN</td>\n",
       "      <td>NaN</td>\n",
       "      <td>NaN</td>\n",
       "      <td>NaN</td>\n",
       "      <td>NaN</td>\n",
       "      <td>NaN</td>\n",
       "      <td>NaN</td>\n",
       "      <td>NaN</td>\n",
       "      <td>NaN</td>\n",
       "      <td>NaN</td>\n",
       "      <td>NaN</td>\n",
       "      <td>NaN</td>\n",
       "      <td>NaN</td>\n",
       "    </tr>\n",
       "    <tr>\n",
       "      <th>1</th>\n",
       "      <td>1449804331142811655</td>\n",
       "      <td>NaN</td>\n",
       "      <td>1617597646339702823</td>\n",
       "      <td>2023-01-23 18:58:27</td>\n",
       "      <td>[1617597646339702823]</td>\n",
       "      <td>1617597646339702823</td>\n",
       "      <td>NaN</td>\n",
       "      <td>fr</td>\n",
       "      <td>False</td>\n",
       "      <td>NaN</td>\n",
       "      <td>everyone</td>\n",
       "      <td>#OhalKomisyonuHukuksuzdur https://t.co/3aUr5MZWPU</td>\n",
       "      <td>Goksun_KHK</td>\n",
       "      <td>NaN</td>\n",
       "      <td>NaN</td>\n",
       "      <td>0</td>\n",
       "      <td>1</td>\n",
       "      <td>0</td>\n",
       "      <td>0</td>\n",
       "      <td>52</td>\n",
       "      <td>[3_1617597636604723228]</td>\n",
       "      <td>NaN</td>\n",
       "      <td>[{'start': 0, 'end': 25, 'tag': 'OhalKomisyonu...</td>\n",
       "      <td>[{'start': 26, 'end': 49, 'url': 'https://t.co...</td>\n",
       "      <td>NaN</td>\n",
       "      <td>NaN</td>\n",
       "      <td>NaN</td>\n",
       "      <td>0</td>\n",
       "      <td>ORG</td>\n",
       "      <td>NOT AVAILABLE</td>\n",
       "      <td>OhalKomisyonuHukuksuzdur</td>\n",
       "      <td>OhalKomisyonuHukuksuzdur</td>\n",
       "      <td>1</td>\n",
       "      <td>49</td>\n",
       "      <td>1</td>\n",
       "      <td>1</td>\n",
       "      <td>0</td>\n",
       "      <td>0</td>\n",
       "      <td>no_reply_and_no_retweet</td>\n",
       "      <td>0.000000</td>\n",
       "      <td>0.019231</td>\n",
       "      <td>tr</td>\n",
       "      <td>0.874858</td>\n",
       "      <td>0.847463</td>\n",
       "      <td>0.13</td>\n",
       "      <td>0.51</td>\n",
       "      <td>0.22</td>\n",
       "      <td>0.91</td>\n",
       "      <td>0.91</td>\n",
       "      <td>0.08</td>\n",
       "      <td>0.25</td>\n",
       "      <td>0.12</td>\n",
       "      <td>0.44</td>\n",
       "      <td>0.1</td>\n",
       "      <td>0.87</td>\n",
       "      <td>0.87</td>\n",
       "      <td>0.19</td>\n",
       "      <td>0.16</td>\n",
       "      <td>False</td>\n",
       "      <td>1107.0</td>\n",
       "      <td>174.0</td>\n",
       "      <td>2962.0</td>\n",
       "      <td>470.0</td>\n",
       "      <td>0.733746</td>\n",
       "      <td>0</td>\n",
       "      <td>1</td>\n",
       "      <td>68307</td>\n",
       "      <td>0.013817</td>\n",
       "      <td>0.435233</td>\n",
       "      <td>1.231915</td>\n",
       "      <td>3_1617597636604723228</td>\n",
       "      <td>photo</td>\n",
       "      <td>1600.0</td>\n",
       "      <td>https://pbs.twimg.com/media/FnLceudWABwBC4b.jpg</td>\n",
       "      <td>1600.0</td>\n",
       "      <td>NaN</td>\n",
       "      <td>NaN</td>\n",
       "      <td>NaN</td>\n",
       "      <td>NaN</td>\n",
       "      <td>NaN</td>\n",
       "      <td>NaN</td>\n",
       "      <td>NaN</td>\n",
       "      <td>NaN</td>\n",
       "      <td>NaN</td>\n",
       "      <td>NaN</td>\n",
       "      <td>NaN</td>\n",
       "      <td>NaN</td>\n",
       "      <td>NaN</td>\n",
       "      <td>NaN</td>\n",
       "      <td>NaN</td>\n",
       "      <td>NaN</td>\n",
       "      <td>NaN</td>\n",
       "      <td>NaN</td>\n",
       "      <td>NaN</td>\n",
       "      <td>NaN</td>\n",
       "      <td>NaN</td>\n",
       "      <td>NaN</td>\n",
       "      <td>NaN</td>\n",
       "      <td>NaN</td>\n",
       "      <td>NaN</td>\n",
       "      <td>NaN</td>\n",
       "      <td>NaN</td>\n",
       "      <td>NaN</td>\n",
       "      <td>NaN</td>\n",
       "      <td>NaN</td>\n",
       "      <td>NaN</td>\n",
       "    </tr>\n",
       "  </tbody>\n",
       "</table>\n",
       "</div>"
      ],
      "text/plain": [
       "             author_id context_annotations      conversation_id  \\\n",
       "0  1449804331142811655                 NaN  1617597872803041280   \n",
       "1  1449804331142811655                 NaN  1617597646339702823   \n",
       "\n",
       "            created_at edit_history_tweet_ids                   id  \\\n",
       "0  2023-01-23 18:59:21  [1617597872803041280]  1617597872803041280   \n",
       "1  2023-01-23 18:58:27  [1617597646339702823]  1617597646339702823   \n",
       "\n",
       "   in_reply_to_user_id lang  possibly_sensitive referenced_tweets  \\\n",
       "0                  NaN   tr               False               NaN   \n",
       "1                  NaN   fr               False               NaN   \n",
       "\n",
       "  reply_settings                                               text  \\\n",
       "0       everyone  Kararlarındaki temel dayanak, hukukun evrensel...   \n",
       "1       everyone  #OhalKomisyonuHukuksuzdur https://t.co/3aUr5MZWPU   \n",
       "\n",
       "       author withheld  geo  quote_count  retweet_count  like_count  \\\n",
       "0  Goksun_KHK      NaN  NaN            0              2           1   \n",
       "1  Goksun_KHK      NaN  NaN            0              1           0   \n",
       "\n",
       "   reply_count  impression_count               media_keys poll_ids  \\\n",
       "0            0                82                      NaN      NaN   \n",
       "1            0                52  [3_1617597636604723228]      NaN   \n",
       "\n",
       "                                            hashtags  \\\n",
       "0  [{'start': 95, 'end': 120, 'tag': 'OhalKomisyo...   \n",
       "1  [{'start': 0, 'end': 25, 'tag': 'OhalKomisyonu...   \n",
       "\n",
       "                                                urls mentions cashtags  \\\n",
       "0                                                NaN      NaN      NaN   \n",
       "1  [{'start': 26, 'end': 49, 'url': 'https://t.co...      NaN      NaN   \n",
       "\n",
       "  annotations  is_retweet gender_of_author profession_of_author  \\\n",
       "0         NaN           0              ORG        NOT AVAILABLE   \n",
       "1         NaN           0              ORG        NOT AVAILABLE   \n",
       "\n",
       "         hashtags_flattened              trend_topics  n_trend_topics  \\\n",
       "0  OhalKomisyonuHukuksuzdur  OhalKomisyonuHukuksuzdur               1   \n",
       "1  OhalKomisyonuHukuksuzdur  OhalKomisyonuHukuksuzdur               1   \n",
       "\n",
       "   text_length  has_media  has_hashtags  has_mentions  is_reply  \\\n",
       "0          120          0             1             0         0   \n",
       "1           49          1             1             0         0   \n",
       "\n",
       "                tweet_type  ratio_like  ratio_retweet majority_lang   english  \\\n",
       "0  no_reply_and_no_retweet    0.012195       0.024390            tr  0.874858   \n",
       "1  no_reply_and_no_retweet    0.000000       0.019231            tr  0.874858   \n",
       "\n",
       "   universal  eng_astroturf  eng_fake_follower  eng_financial  eng_other  \\\n",
       "0   0.847463           0.13               0.51           0.22       0.91   \n",
       "1   0.847463           0.13               0.51           0.22       0.91   \n",
       "\n",
       "   eng_overall  eng_self_declared  eng_spammer  uni_astroturf  \\\n",
       "0         0.91               0.08         0.25           0.12   \n",
       "1         0.91               0.08         0.25           0.12   \n",
       "\n",
       "   uni_fake_follower  uni_financial  uni_other  uni_overall  \\\n",
       "0               0.44            0.1       0.87         0.87   \n",
       "1               0.44            0.1       0.87         0.87   \n",
       "\n",
       "   uni_self_declared  uni_spammer  verified_author  followers_count_author  \\\n",
       "0               0.19         0.16            False                  1107.0   \n",
       "1               0.19         0.16            False                  1107.0   \n",
       "\n",
       "   following_count_author  tweet_count_author  age_of_account_in_days_author  \\\n",
       "0                   174.0              2962.0                          470.0   \n",
       "1                   174.0              2962.0                          470.0   \n",
       "\n",
       "   sentiment  created_at_day_of_week  created_at_month_of_year  \\\n",
       "0   0.994189                       0                         1   \n",
       "1   0.733746                       0                         1   \n",
       "\n",
       "   created_at_time_of_day_in_seconds  reply_to_tweet_ratio  \\\n",
       "0                              68361              0.013817   \n",
       "1                              68307              0.013817   \n",
       "\n",
       "   retweet_to_tweet_ratio  average_tweets_of_author_per_day  \\\n",
       "0                0.435233                          1.231915   \n",
       "1                0.435233                          1.231915   \n",
       "\n",
       "       media_media_key_1 media_type_1  media_height_1  \\\n",
       "0                    NaN          NaN             NaN   \n",
       "1  3_1617597636604723228        photo          1600.0   \n",
       "\n",
       "                                       media_url_1  media_width_1  \\\n",
       "0                                              NaN            NaN   \n",
       "1  https://pbs.twimg.com/media/FnLceudWABwBC4b.jpg         1600.0   \n",
       "\n",
       "   media_public_metrics_1 media_preview_image_url_1  media_duration_ms_1  \\\n",
       "0                     NaN                       NaN                  NaN   \n",
       "1                     NaN                       NaN                  NaN   \n",
       "\n",
       "  media_alt_text_1 media_media_key_2 media_type_2  media_height_2 media_url_2  \\\n",
       "0              NaN               NaN          NaN             NaN         NaN   \n",
       "1              NaN               NaN          NaN             NaN         NaN   \n",
       "\n",
       "   media_width_2  media_public_metrics_2 media_preview_image_url_2  \\\n",
       "0            NaN                     NaN                       NaN   \n",
       "1            NaN                     NaN                       NaN   \n",
       "\n",
       "   media_duration_ms_2 media_alt_text_2 media_media_key_3 media_type_3  \\\n",
       "0                  NaN              NaN               NaN          NaN   \n",
       "1                  NaN              NaN               NaN          NaN   \n",
       "\n",
       "   media_height_3 media_url_3  media_width_3  media_public_metrics_3  \\\n",
       "0             NaN         NaN            NaN                     NaN   \n",
       "1             NaN         NaN            NaN                     NaN   \n",
       "\n",
       "  media_preview_image_url_3  media_duration_ms_3  media_alt_text_3  \\\n",
       "0                       NaN                  NaN               NaN   \n",
       "1                       NaN                  NaN               NaN   \n",
       "\n",
       "  media_media_key_4 media_type_4  media_height_4 media_url_4  media_width_4  \\\n",
       "0               NaN          NaN             NaN         NaN            NaN   \n",
       "1               NaN          NaN             NaN         NaN            NaN   \n",
       "\n",
       "   media_public_metrics_4 media_preview_image_url_4  media_duration_ms_4  \\\n",
       "0                     NaN                       NaN                  NaN   \n",
       "1                     NaN                       NaN                  NaN   \n",
       "\n",
       "   media_alt_text_4  \n",
       "0               NaN  \n",
       "1               NaN  "
      ]
     },
     "execution_count": 2,
     "metadata": {},
     "output_type": "execute_result"
    }
   ],
   "source": [
    "tweets_df = pd.read_pickle(\"all_tweets_v8.pkl\")\n",
    "tweets_df.head(2)"
   ]
  },
  {
   "cell_type": "markdown",
   "id": "8522d5b6-d2bc-4c7e-b293-800eb4548bb4",
   "metadata": {},
   "source": [
    "# Preprocessing tweets"
   ]
  },
  {
   "cell_type": "code",
   "execution_count": 3,
   "id": "571f85a3-e0a5-428b-bf14-941bf5191ec5",
   "metadata": {
    "tags": []
   },
   "outputs": [
    {
     "name": "stderr",
     "output_type": "stream",
     "text": [
      "[nltk_data] Downloading package stopwords to\n",
      "[nltk_data]     /Users/hasansalimkanmaz/nltk_data...\n",
      "[nltk_data]   Package stopwords is already up-to-date!\n",
      "[nltk_data] Downloading package punkt to\n",
      "[nltk_data]     /Users/hasansalimkanmaz/nltk_data...\n",
      "[nltk_data]   Package punkt is already up-to-date!\n"
     ]
    },
    {
     "data": {
      "text/plain": [
       "True"
      ]
     },
     "execution_count": 3,
     "metadata": {},
     "output_type": "execute_result"
    }
   ],
   "source": [
    "nltk.download(\"stopwords\")\n",
    "nltk.download(\"punkt\")"
   ]
  },
  {
   "cell_type": "code",
   "execution_count": 4,
   "id": "34a2b40c-f5d1-4435-a7d0-b6287650def8",
   "metadata": {
    "tags": []
   },
   "outputs": [
    {
     "name": "stderr",
     "output_type": "stream",
     "text": [
      "/var/folders/z5/hjyvlbm54v1cpt9s019vbv9w0000gn/T/ipykernel_14040/4139328391.py:12: FutureWarning: The default value of regex will change from True to False in a future version.\n",
      "  tweets = tweets.str.replace(\"[^\\w\\s]\", \"\")\n"
     ]
    },
    {
     "name": "stdout",
     "output_type": "stream",
     "text": [
      "(231966,)\n"
     ]
    },
    {
     "data": {
      "text/plain": [
       "id\n",
       "1617597872803041280    [kararlarindaki, temel, dayanak, hukukun, evre...\n",
       "1617597477963829248    [oldukten, sonra, insanlari, iade, yapan, ohal...\n",
       "1617597218038349833    [talimat, kuruldu, talimat, karar, verdiler, t...\n",
       "1617597107396804608    [kendini, anayasanin, ustunde, gorerek, zaten,...\n",
       "1617596957253603329    [magdur, ettigi, vatandasinin, hizli, bir, sek...\n",
       "Name: text, dtype: object"
      ]
     },
     "execution_count": 4,
     "metadata": {},
     "output_type": "execute_result"
    }
   ],
   "source": [
    "tweets = tweets_df[tweets_df.lang == \"tr\"].set_index(\"id\")[\"text\"].drop_duplicates()\n",
    "\n",
    "tweets = tweets.str.lower()  # lower all the words\n",
    "tweets = tweets.map(lambda x: re.sub(\"\\n\", \" \", x))  # remove \\n\n",
    "tweets = tweets.drop_duplicates()\n",
    "\n",
    "tweets = tweets.map(lambda x: re.sub(\"#(\\w+)[^\\w]\", \"\", x))  # remove hashtag\n",
    "tweets = tweets.map(lambda x: re.sub(\"@([A-Za-z0-9_]+)\", \"\", x))  # remove mentions\n",
    "tweets = tweets.map(lambda x: re.sub(\"https://t.co/[A-Za-z0-9]+\", \"\", x))  # remove link\n",
    "tweets = tweets.map(lambda x: re.sub(\"\\b\\w*khk\\w*\\b\", \"khk\", x))  # normalise khk words\n",
    "\n",
    "tweets = tweets.str.replace(\"[^\\w\\s]\", \"\")\n",
    "tweets = tweets.map(lambda x: unidecode(x))  # remove accents\n",
    "\n",
    "# remove stopwords\n",
    "stopwords = nltk.corpus.stopwords.words(\"turkish\")\n",
    "stopwords = [unidecode(i) for i in stopwords]\n",
    "tweets = tweets.apply(\n",
    "    lambda x: \" \".join([word for word in x.split() if word not in (stopwords)])\n",
    ")\n",
    "\n",
    "tweets = tweets.drop_duplicates()\n",
    "tweets = tweets[\n",
    "    tweets.str.len() > 5\n",
    "]  # selecting only tweets that are greater than 5 chars\n",
    "tweets = tweets.map(word_tokenize)\n",
    "\n",
    "print(tweets.shape)\n",
    "tweets.head()"
   ]
  },
  {
   "cell_type": "code",
   "execution_count": 5,
   "id": "49f9c13a-9c6d-4484-b1f2-d0c279517539",
   "metadata": {
    "tags": []
   },
   "outputs": [],
   "source": [
    "docs = tweets.to_numpy()\n",
    "dictionary = gensim.corpora.Dictionary(docs)\n",
    "dictionary.filter_extremes(no_below=15, no_above=0.5, keep_n=100000)\n",
    "bow_corpus = [dictionary.doc2bow(doc) for doc in docs]\n",
    "vocab_length = len(dictionary)"
   ]
  },
  {
   "cell_type": "code",
   "execution_count": 6,
   "id": "d3dc3c74-c214-4309-8da9-fa14791a94be",
   "metadata": {
    "tags": []
   },
   "outputs": [],
   "source": [
    "def get_fitted_lda_model_and_coherence(K):\n",
    "    lda_model = gensim.models.LdaMulticore(\n",
    "        bow_corpus,\n",
    "        num_topics=K,\n",
    "        id2word=dictionary,\n",
    "        passes=15,\n",
    "        workers=7,\n",
    "        random_state=0,\n",
    "        chunksize=300000,\n",
    "        eval_every=None,\n",
    "    )\n",
    "\n",
    "    # Save LDA model to disk\n",
    "    lda_model.save(f\"models/lda_model_with_K_{K}.pkl\")\n",
    "\n",
    "    cm = CoherenceModel(model=lda_model, corpus=bow_corpus, texts=docs, coherence=\"c_v\")\n",
    "    coherence_score = cm.get_coherence()\n",
    "\n",
    "    return lda_model, coherence_score\n",
    "\n",
    "\n",
    "def print_top_words_from_lda_model(lda_model):\n",
    "    for idx, topic in lda_model.print_topics(-1, num_words=20):\n",
    "        print(f\"Topic: {idx} \\nWords: {topic}\")"
   ]
  },
  {
   "cell_type": "code",
   "execution_count": 13,
   "id": "5139bf92-bfdc-49db-94f0-9d4d55c676b1",
   "metadata": {
    "tags": []
   },
   "outputs": [
    {
     "name": "stderr",
     "output_type": "stream",
     "text": [
      "  0%|                                                     | 0/6 [00:00<?, ?it/s]"
     ]
    },
    {
     "name": "stdout",
     "output_type": "stream",
     "text": [
      "\n",
      "\n",
      "Training LDA model with K equals 20...\n",
      "\n"
     ]
    },
    {
     "name": "stderr",
     "output_type": "stream",
     "text": [
      " 17%|███████▎                                    | 1/6 [05:31<27:38, 331.68s/it]"
     ]
    },
    {
     "name": "stdout",
     "output_type": "stream",
     "text": [
      "Training concluded for LDA model with K equals 20.\n",
      "Results: {'model': <gensim.models.ldamulticore.LdaMulticore object at 0x2b36e3910>, 'coherence_score': 0.4140287423608586, 'K': 20}\n",
      "\n",
      "\n",
      "Training LDA model with K equals 21...\n",
      "\n"
     ]
    },
    {
     "name": "stderr",
     "output_type": "stream",
     "text": [
      " 33%|██████████████▋                             | 2/6 [11:01<22:02, 330.59s/it]"
     ]
    },
    {
     "name": "stdout",
     "output_type": "stream",
     "text": [
      "Training concluded for LDA model with K equals 21.\n",
      "Results: {'model': <gensim.models.ldamulticore.LdaMulticore object at 0x17a14b550>, 'coherence_score': 0.418719033485717, 'K': 21}\n",
      "\n",
      "\n",
      "Training LDA model with K equals 22...\n",
      "\n"
     ]
    },
    {
     "name": "stderr",
     "output_type": "stream",
     "text": [
      " 50%|██████████████████████                      | 3/6 [16:28<16:27, 329.02s/it]"
     ]
    },
    {
     "name": "stdout",
     "output_type": "stream",
     "text": [
      "Training concluded for LDA model with K equals 22.\n",
      "Results: {'model': <gensim.models.ldamulticore.LdaMulticore object at 0x17a114970>, 'coherence_score': 0.4305853299221616, 'K': 22}\n",
      "\n",
      "\n",
      "Training LDA model with K equals 23...\n",
      "\n"
     ]
    },
    {
     "name": "stderr",
     "output_type": "stream",
     "text": [
      " 67%|█████████████████████████████▎              | 4/6 [22:02<11:02, 331.09s/it]"
     ]
    },
    {
     "name": "stdout",
     "output_type": "stream",
     "text": [
      "Training concluded for LDA model with K equals 23.\n",
      "Results: {'model': <gensim.models.ldamulticore.LdaMulticore object at 0x3035a7910>, 'coherence_score': 0.4326857170164763, 'K': 23}\n",
      "\n",
      "\n",
      "Training LDA model with K equals 24...\n",
      "\n"
     ]
    },
    {
     "name": "stderr",
     "output_type": "stream",
     "text": [
      " 83%|████████████████████████████████████▋       | 5/6 [27:34<05:31, 331.20s/it]"
     ]
    },
    {
     "name": "stdout",
     "output_type": "stream",
     "text": [
      "Training concluded for LDA model with K equals 24.\n",
      "Results: {'model': <gensim.models.ldamulticore.LdaMulticore object at 0x17a1161a0>, 'coherence_score': 0.4393614521035249, 'K': 24}\n",
      "\n",
      "\n",
      "Training LDA model with K equals 25...\n",
      "\n"
     ]
    },
    {
     "name": "stderr",
     "output_type": "stream",
     "text": [
      "100%|████████████████████████████████████████████| 6/6 [33:07<00:00, 331.18s/it]"
     ]
    },
    {
     "name": "stdout",
     "output_type": "stream",
     "text": [
      "Training concluded for LDA model with K equals 25.\n",
      "Results: {'model': <gensim.models.ldamulticore.LdaMulticore object at 0x17a14b490>, 'coherence_score': 0.42934199159830017, 'K': 25}\n",
      "{'model': <gensim.models.ldamulticore.LdaMulticore object at 0x17a1161a0>, 'coherence_score': 0.4393614521035249, 'K': 24}\n",
      "{'model': <gensim.models.ldamulticore.LdaMulticore object at 0x3035a7910>, 'coherence_score': 0.4326857170164763, 'K': 23}\n",
      "{'model': <gensim.models.ldamulticore.LdaMulticore object at 0x17a114970>, 'coherence_score': 0.4305853299221616, 'K': 22}\n",
      "{'model': <gensim.models.ldamulticore.LdaMulticore object at 0x17a14b490>, 'coherence_score': 0.42934199159830017, 'K': 25}\n",
      "{'model': <gensim.models.ldamulticore.LdaMulticore object at 0x17a14b550>, 'coherence_score': 0.418719033485717, 'K': 21}\n",
      "{'model': <gensim.models.ldamulticore.LdaMulticore object at 0x2b36e3910>, 'coherence_score': 0.4140287423608586, 'K': 20}\n"
     ]
    },
    {
     "name": "stderr",
     "output_type": "stream",
     "text": [
      "\n"
     ]
    }
   ],
   "source": [
    "log_file_path = \"gensim.log\"\n",
    "\n",
    "logging.basicConfig(\n",
    "    filename=\"gensim.log\",\n",
    "    format=\"%(asctime)s:%(levelname)s:%(message)s\",\n",
    "    level=logging.DEBUG,\n",
    "    filemode=\"w\",\n",
    ")\n",
    "\n",
    "lda_models = []\n",
    "for K in tqdm(range(3, 26)):\n",
    "    print(f\"\\n\\nTraining LDA model with K equals {K}...\\n\")\n",
    "    model, coherence_score = get_fitted_lda_model_and_coherence(K)\n",
    "    model_data = {\"model\": model, \"coherence_score\": coherence_score, \"K\": K}\n",
    "    lda_models.append(model_data)\n",
    "    print(f\"Training concluded for LDA model with K equals {K}.\\nResults: {model_data}\")\n",
    "\n",
    "sorted_lda_models = sorted(lda_models, key=lambda x: x[\"coherence_score\"], reverse=True)\n",
    "for i in sorted_lda_models:\n",
    "    print(i)"
   ]
  },
  {
   "cell_type": "code",
   "execution_count": 14,
   "id": "c57f7664-9324-4759-81af-3e415bcf8994",
   "metadata": {
    "tags": []
   },
   "outputs": [
    {
     "name": "stdout",
     "output_type": "stream",
     "text": [
      "Topic: 0 \n",
      "Words: 0.014*\"yil\" + 0.012*\"gozaltina\" + 0.011*\"bir\" + 0.011*\"15\" + 0.009*\"askeri\" + 0.006*\"bugun\" + 0.006*\"temmuz\" + 0.006*\"tarafindan\" + 0.006*\"once\" + 0.005*\"polis\" + 0.005*\"alindi\" + 0.005*\"gezi\" + 0.005*\"davasi\" + 0.005*\"sonra\" + 0.004*\"ogrenci\" + 0.004*\"yilinda\" + 0.004*\"onunde\" + 0.004*\"alinan\" + 0.004*\"7\" + 0.003*\"12\"\n",
      "Topic: 1 \n",
      "Words: 0.010*\"bir\" + 0.009*\"var\" + 0.009*\"edilsin\" + 0.007*\"khklariptal\" + 0.005*\"elektrik\" + 0.005*\"olarak\" + 0.005*\"zam\" + 0.005*\"olan\" + 0.005*\"ekonomik\" + 0.004*\"onemli\" + 0.004*\"son\" + 0.004*\"1\" + 0.004*\"konusunda\" + 0.003*\"tarihi\" + 0.003*\"iscileri\" + 0.003*\"ilk\" + 0.003*\"muhalefet\" + 0.003*\"kanun\" + 0.003*\"acik\" + 0.003*\"enerji\"\n",
      "Topic: 2 \n",
      "Words: 0.047*\"olsun\" + 0.023*\"guzel\" + 0.018*\"bir\" + 0.012*\"saglik\" + 0.010*\"gecmis\" + 0.010*\"gun\" + 0.007*\"allah\" + 0.007*\"iyi\" + 0.006*\"tesekkurler\" + 0.006*\"sevgili\" + 0.006*\"hocam\" + 0.005*\"degerli\" + 0.005*\"olacak\" + 0.005*\"kutlu\" + 0.005*\"diliyorum\" + 0.004*\"var\" + 0.004*\"mutlu\" + 0.004*\"dostlar\" + 0.004*\"herkese\" + 0.004*\"dilerim\"\n",
      "Topic: 3 \n",
      "Words: 0.045*\"kadin\" + 0.015*\"kadinlar\" + 0.010*\"kadinlarin\" + 0.009*\"erkek\" + 0.007*\"karsi\" + 0.007*\"bir\" + 0.007*\"toplumsal\" + 0.007*\"cocuk\" + 0.006*\"tarafindan\" + 0.005*\"maruz\" + 0.005*\"cinsiyet\" + 0.005*\"sivil\" + 0.005*\"yonelik\" + 0.005*\"kadinlara\" + 0.004*\"cinsel\" + 0.004*\"kadinlari\" + 0.004*\"esitlik\" + 0.004*\"toplum\" + 0.004*\"2022\" + 0.004*\"olarak\"\n",
      "Topic: 4 \n",
      "Words: 0.024*\"ben\" + 0.014*\"bir\" + 0.009*\"akp\" + 0.008*\"1\" + 0.007*\"diyecek\" + 0.006*\"banamisordunuz\" + 0.005*\"hdp\" + 0.004*\"degil\" + 0.004*\"2\" + 0.004*\"yok\" + 0.004*\"yeni\" + 0.004*\"once\" + 0.004*\"sonra\" + 0.004*\"oy\" + 0.004*\"evet\" + 0.004*\"var\" + 0.003*\"diyor\" + 0.003*\"3\" + 0.003*\"kilicdaroglu\" + 0.003*\"parti\"\n",
      "Topic: 5 \n",
      "Words: 0.018*\"bekliyorsunuz\" + 0.016*\"dahane\" + 0.013*\"bir\" + 0.009*\"var\" + 0.008*\"kaldi\" + 0.007*\"ahmet\" + 0.007*\"olan\" + 0.007*\"khkli\" + 0.007*\"bugun\" + 0.007*\"4\" + 0.006*\"misiniz\" + 0.006*\"oldu\" + 0.006*\"intihar\" + 0.005*\"cocuk\" + 0.005*\"benim\" + 0.005*\"sansur\" + 0.005*\"etiketimiz\" + 0.005*\"nuriye\" + 0.005*\"sonra\" + 0.004*\"etti\"\n",
      "Topic: 6 \n",
      "Words: 0.026*\"cezaevinde\" + 0.015*\"u\" + 0.013*\"bi\" + 0.012*\"tutuklu\" + 0.011*\"engelli\" + 0.009*\"li\" + 0.009*\"yildir\" + 0.008*\"olan\" + 0.008*\"aysel\" + 0.008*\"bir\" + 0.008*\"ji\" + 0.007*\"hastasi\" + 0.007*\"kalp\" + 0.007*\"e\" + 0.006*\"cezaevi\" + 0.005*\"tahliye\" + 0.005*\"tip\" + 0.005*\"yasindaki\" + 0.005*\"tipi\" + 0.005*\"ragmen\"\n",
      "Topic: 7 \n",
      "Words: 0.016*\"kanser\" + 0.013*\"cezaevinde\" + 0.011*\"bir\" + 0.011*\"yusuf\" + 0.011*\"hamile\" + 0.011*\"hastasi\" + 0.010*\"anne\" + 0.009*\"esi\" + 0.008*\"aylik\" + 0.007*\"tutuklu\" + 0.007*\"ederim\" + 0.007*\"tesekkur\" + 0.006*\"araciligiyla\" + 0.006*\"annesi\" + 0.005*\"olan\" + 0.005*\"esim\" + 0.005*\"es\" + 0.005*\"hakan\" + 0.004*\"son\" + 0.004*\"ahmet\"\n",
      "Topic: 8 \n",
      "Words: 0.022*\"suc\" + 0.013*\"adilyargi\" + 0.012*\"yardim\" + 0.012*\"siddet\" + 0.010*\"khkli\" + 0.009*\"polis\" + 0.009*\"evrenselhukuk\" + 0.007*\"degildir\" + 0.007*\"bir\" + 0.007*\"adalet\" + 0.006*\"yasal\" + 0.006*\"uye\" + 0.006*\"altina\" + 0.005*\"izin\" + 0.005*\"para\" + 0.005*\"olmak\" + 0.005*\"adilkarar\" + 0.004*\"ici\" + 0.004*\"onunde\" + 0.004*\"etmek\"\n",
      "Topic: 9 \n",
      "Words: 0.016*\"khk\" + 0.013*\"olarak\" + 0.012*\"birlikte\" + 0.012*\"saat\" + 0.010*\"istanbul\" + 0.009*\"karsi\" + 0.008*\"il\" + 0.008*\"tesekkur\" + 0.008*\"kadin\" + 0.008*\"bugun\" + 0.008*\"sayin\" + 0.007*\"genel\" + 0.007*\"bekliyoruz\" + 0.006*\"platformu\" + 0.006*\"gunu\" + 0.006*\"platformlari\" + 0.006*\"chp\" + 0.006*\"baskani\" + 0.005*\"aksam\" + 0.005*\"ederiz\"\n",
      "Topic: 10 \n",
      "Words: 0.018*\"suc\" + 0.015*\"karari\" + 0.013*\"ihrac\" + 0.011*\"ohal\" + 0.011*\"karar\" + 0.011*\"ceza\" + 0.008*\"bir\" + 0.008*\"hakkinda\" + 0.007*\"edildi\" + 0.007*\"iade\" + 0.007*\"mahkeme\" + 0.007*\"aihm\" + 0.007*\"edilen\" + 0.006*\"kamu\" + 0.006*\"anayasa\" + 0.006*\"sonra\" + 0.006*\"ihlal\" + 0.006*\"olmayan\" + 0.005*\"komisyonu\" + 0.005*\"beraat\"\n",
      "Topic: 11 \n",
      "Words: 0.031*\"bir\" + 0.012*\"degil\" + 0.010*\"ayni\" + 0.009*\"sadece\" + 0.007*\"var\" + 0.006*\"yok\" + 0.005*\"kurt\" + 0.004*\"boyle\" + 0.004*\"olarak\" + 0.004*\"bile\" + 0.004*\"tek\" + 0.004*\"fazla\" + 0.004*\"zaten\" + 0.003*\"olan\" + 0.003*\"zamanda\" + 0.003*\"kendi\" + 0.003*\"baska\" + 0.003*\"artik\" + 0.003*\"bize\" + 0.003*\"basina\"\n",
      "Topic: 12 \n",
      "Words: 0.099*\"bir\" + 0.009*\"var\" + 0.009*\"degil\" + 0.007*\"boyle\" + 0.006*\"yok\" + 0.006*\"kadar\" + 0.005*\"olarak\" + 0.005*\"oyle\" + 0.005*\"baska\" + 0.005*\"sekilde\" + 0.004*\"bunu\" + 0.004*\"bile\" + 0.004*\"oldugunu\" + 0.003*\"onemli\" + 0.003*\"ancak\" + 0.003*\"tek\" + 0.003*\"olur\" + 0.003*\"iyi\" + 0.003*\"insan\" + 0.003*\"bunun\"\n",
      "Topic: 13 \n",
      "Words: 0.054*\"bir\" + 0.017*\"buyuk\" + 0.007*\"degil\" + 0.006*\"olarak\" + 0.006*\"gore\" + 0.006*\"cozumistiyor\" + 0.005*\"olan\" + 0.005*\"dunya\" + 0.005*\"siyasi\" + 0.005*\"birlesin\" + 0.005*\"yok\" + 0.004*\"turkiye\" + 0.004*\"tummuhalifler\" + 0.004*\"kadar\" + 0.004*\"khklisiyasi\" + 0.004*\"muhalefetsusma\" + 0.004*\"sirakhklarda\" + 0.003*\"icinde\" + 0.003*\"dusman\" + 0.003*\"aci\"\n",
      "Topic: 14 \n",
      "Words: 0.050*\"kadar\" + 0.046*\"devam\" + 0.013*\"edecegiz\" + 0.012*\"bir\" + 0.012*\"ediyor\" + 0.010*\"kabul\" + 0.009*\"gidecek\" + 0.006*\"asla\" + 0.006*\"edecek\" + 0.006*\"mucadeleye\" + 0.006*\"geri\" + 0.006*\"sen\" + 0.005*\"bile\" + 0.005*\"kalacagiz\" + 0.005*\"son\" + 0.005*\"khklar\" + 0.005*\"iyi\" + 0.005*\"bizler\" + 0.004*\"sonuna\" + 0.004*\"khkli\"\n",
      "Topic: 15 \n",
      "Words: 0.045*\"hukuk\" + 0.027*\"adalet\" + 0.021*\"bir\" + 0.018*\"yok\" + 0.014*\"istiyoruz\" + 0.012*\"khk\" + 0.011*\"evrensel\" + 0.010*\"herkes\" + 0.009*\"degil\" + 0.009*\"demokrasi\" + 0.009*\"hukukun\" + 0.007*\"hak\" + 0.006*\"zaman\" + 0.005*\"khklida\" + 0.005*\"geccekdiyor\" + 0.005*\"hukuka\" + 0.005*\"adaletin\" + 0.005*\"ulkede\" + 0.005*\"hesap\" + 0.005*\"ulke\"\n",
      "Topic: 16 \n",
      "Words: 0.035*\"mucadele\" + 0.023*\"ediyoruz\" + 0.014*\"geri\" + 0.013*\"bir\" + 0.013*\"komisyonunuzured\" + 0.010*\"bogazici\" + 0.007*\"karsi\" + 0.007*\"hayir\" + 0.006*\"son\" + 0.006*\"khk\" + 0.006*\"haklarimizi\" + 0.005*\"adim\" + 0.005*\"istiyoruz\" + 0.005*\"universitesi\" + 0.005*\"eden\" + 0.004*\"hicbir\" + 0.004*\"degil\" + 0.004*\"fazla\" + 0.004*\"nedir\" + 0.004*\"kadina\"\n",
      "Topic: 17 \n",
      "Words: 0.021*\"bin\" + 0.009*\"hukukta\" + 0.009*\"sosyal\" + 0.009*\"medya\" + 0.008*\"milyon\" + 0.008*\"olan\" + 0.007*\"bir\" + 0.007*\"ciftestandart\" + 0.007*\"haber\" + 0.006*\"devam\" + 0.006*\"kisi\" + 0.005*\"iceri\" + 0.005*\"degil\" + 0.005*\"ediyor\" + 0.004*\"foxtv\" + 0.004*\"basin\" + 0.004*\"vakti\" + 0.004*\"khkliyasesver\" + 0.004*\"alma\" + 0.004*\"karsi\"\n",
      "Topic: 18 \n",
      "Words: 0.012*\"baskani\" + 0.009*\"gazeteci\" + 0.009*\"genel\" + 0.008*\"istanbul\" + 0.006*\"bir\" + 0.006*\"hedef\" + 0.006*\"yargilandigi\" + 0.006*\"davanin\" + 0.005*\"olarak\" + 0.005*\"eski\" + 0.005*\"uyesi\" + 0.005*\"belediye\" + 0.005*\"turk\" + 0.005*\"takip\" + 0.005*\"erdogan\" + 0.005*\"sosyal\" + 0.004*\"durusmasi\" + 0.004*\"ceza\" + 0.004*\"in\" + 0.004*\"oldugu\"\n",
      "Topic: 19 \n",
      "Words: 0.016*\"var\" + 0.012*\"bir\" + 0.010*\"artik\" + 0.010*\"zulme\" + 0.009*\"karsi\" + 0.008*\"ey\" + 0.007*\"khkzulmu\" + 0.007*\"arsadayandi\" + 0.007*\"ses\" + 0.007*\"sesver\" + 0.007*\"haydikhkli\" + 0.007*\"busuca\" + 0.007*\"ortakolma\" + 0.007*\"umudu\" + 0.007*\"sessiz\" + 0.006*\"khksiz\" + 0.006*\"sebnem\" + 0.006*\"demek\" + 0.006*\"dur\" + 0.006*\"ozgurakademi\"\n",
      "Topic: 20 \n",
      "Words: 0.034*\"insan\" + 0.030*\"haklari\" + 0.011*\"dogu\" + 0.010*\"bir\" + 0.009*\"uygur\" + 0.008*\"karsi\" + 0.008*\"iskence\" + 0.008*\"turkiye\" + 0.007*\"avrupa\" + 0.007*\"abd\" + 0.006*\"cin\" + 0.006*\"bm\" + 0.005*\"rusya\" + 0.005*\"hak\" + 0.004*\"son\" + 0.004*\"turkistan\" + 0.004*\"uluslararasi\" + 0.004*\"soykirim\" + 0.003*\"bakani\" + 0.003*\"araciligiyla\"\n",
      "Topic: 21 \n",
      "Words: 0.033*\"bir\" + 0.012*\"gun\" + 0.012*\"6\" + 0.011*\"ay\" + 0.011*\"yil\" + 0.010*\"ev\" + 0.010*\"2\" + 0.009*\"yusuf\" + 0.008*\"hapis\" + 0.008*\"gundur\" + 0.008*\"iskence\" + 0.007*\"sonra\" + 0.007*\"mehmet\" + 0.007*\"kayip\" + 0.007*\"bilge\" + 0.007*\"cezasi\" + 0.006*\"boyunca\" + 0.006*\"tunc\" + 0.006*\"gulistan\" + 0.006*\"diril\"\n",
      "Topic: 22 \n",
      "Words: 0.024*\"hasta\" + 0.018*\"serbest\" + 0.015*\"tahliye\" + 0.010*\"olmak\" + 0.009*\"agir\" + 0.009*\"uzere\" + 0.008*\"cezaevlerinde\" + 0.008*\"yasli\" + 0.008*\"cezaevinde\" + 0.008*\"tutuklu\" + 0.007*\"var\" + 0.007*\"olum\" + 0.006*\"insan\" + 0.006*\"sibel\" + 0.006*\"basta\" + 0.006*\"olan\" + 0.006*\"gokhan\" + 0.006*\"hakki\" + 0.006*\"birakin\" + 0.005*\"yoksulluk\"\n",
      "Topic: 23 \n",
      "Words: 0.034*\"bir\" + 0.032*\"khk\" + 0.017*\"khklar\" + 0.015*\"adalet\" + 0.012*\"istiyor\" + 0.012*\"khklilar\" + 0.010*\"ulkenin\" + 0.010*\"hak\" + 0.010*\"insan\" + 0.008*\"yildir\" + 0.007*\"artik\" + 0.007*\"ohal\" + 0.007*\"6\" + 0.006*\"binlerce\" + 0.006*\"khkli\" + 0.006*\"iptal\" + 0.006*\"hukuk\" + 0.006*\"hukuksuz\" + 0.005*\"bizkhkliyiz\" + 0.005*\"yasiz\"\n"
     ]
    }
   ],
   "source": [
    "print_top_words_from_lda_model(sorted_lda_models[0][\"model\"])"
   ]
  },
  {
   "cell_type": "code",
   "execution_count": 15,
   "id": "3ca5f03a-e8e1-49cf-b1fe-6886432dedfe",
   "metadata": {
    "tags": []
   },
   "outputs": [
    {
     "name": "stdout",
     "output_type": "stream",
     "text": [
      "\\begin{tabular}{lrr}\n",
      "\\toprule\n",
      "{} &  coherence\\_score &   K \\\\\n",
      "\\midrule\n",
      "0 &         0.439361 &  24 \\\\\n",
      "1 &         0.432686 &  23 \\\\\n",
      "2 &         0.430585 &  22 \\\\\n",
      "3 &         0.429342 &  25 \\\\\n",
      "4 &         0.418719 &  21 \\\\\n",
      "5 &         0.414029 &  20 \\\\\n",
      "\\bottomrule\n",
      "\\end{tabular}\n",
      "\n"
     ]
    },
    {
     "name": "stderr",
     "output_type": "stream",
     "text": [
      "/var/folders/z5/hjyvlbm54v1cpt9s019vbv9w0000gn/T/ipykernel_14040/3275629755.py:5: FutureWarning: In future versions `DataFrame.to_latex` is expected to utilise the base implementation of `Styler.to_latex` for formatting and rendering. The arguments signature may therefore change. It is recommended instead to use `DataFrame.style.to_latex` which also contains additional functionality.\n",
      "  print(lda_scores.to_latex())\n"
     ]
    }
   ],
   "source": [
    "lda_scores = pd.DataFrame(\n",
    "    [{\"coherence_score\": m[\"coherence_score\"], \"K\": m[\"K\"]} for m in sorted_lda_models]\n",
    ")\n",
    "# lda_scores.to_csv(\"lda_scores.csv\", index=False)\n",
    "print(lda_scores.to_latex())"
   ]
  },
  {
   "cell_type": "code",
   "execution_count": 9,
   "id": "30bfc5e8-b184-4c77-9cdb-2674f3cefd73",
   "metadata": {
    "tags": []
   },
   "outputs": [],
   "source": [
    "def get_topics_lists(model, top_clusters, n_words):\n",
    "    \"\"\"\n",
    "    Gets lists of words in topics as a list of lists.\n",
    "\n",
    "    model: gsdmm instance\n",
    "    top_clusters:  numpy array containing indices of top_clusters\n",
    "    n_words: top n number of words to include\n",
    "\n",
    "    \"\"\"\n",
    "    # create empty list to contain topics\n",
    "    topics = []\n",
    "\n",
    "    # iterate over top n clusters\n",
    "    for cluster in top_clusters:\n",
    "        # create sorted dictionary of word distributions\n",
    "        sorted_dict = sorted(\n",
    "            model.cluster_word_distribution[cluster].items(),\n",
    "            key=lambda k: k[1],\n",
    "            reverse=True,\n",
    "        )[:n_words]\n",
    "\n",
    "        # create empty list to contain words\n",
    "        topic = []\n",
    "\n",
    "        # iterate over top n words in topic\n",
    "        for k, v in sorted_dict:\n",
    "            # append words to topic list\n",
    "            topic.append(k)\n",
    "\n",
    "        # append topics to topics list\n",
    "        topics.append(topic)\n",
    "\n",
    "    return topics"
   ]
  },
  {
   "cell_type": "code",
   "execution_count": 29,
   "id": "182cd13d-7959-4929-b364-fa46bf4e12db",
   "metadata": {
    "tags": []
   },
   "outputs": [],
   "source": [
    "def get_fitted_gsdmm_model_and_coherence(K, n_iters):\n",
    "    gsdmm = MovieGroupProcess(K=K, alpha=0.1, beta=0.3, n_iters=n_iters)\n",
    "    _ = gsdmm.fit(docs, vocab_length)\n",
    "\n",
    "    # print number of documents per topic\n",
    "    doc_count = np.array(gsdmm.cluster_doc_count)\n",
    "    print(\"Number of documents per topic :\", doc_count)\n",
    "\n",
    "    # Topics sorted by the number of document they are allocated to\n",
    "    top_index = doc_count.argsort()[-15:][::-1]\n",
    "\n",
    "    # get topics to feed to coherence model\n",
    "    topics = get_topics_lists(gsdmm, top_index, 20)\n",
    "\n",
    "    # evaluate model using Topic Coherence score\n",
    "    cm_gsdmm = CoherenceModel(\n",
    "        topics=topics,\n",
    "        dictionary=dictionary,\n",
    "        corpus=bow_corpus,\n",
    "        texts=docs,\n",
    "        coherence=\"c_v\",\n",
    "    )\n",
    "\n",
    "    with open(f\"models/gsdmm_model_with_K_{K}\", \"wb\") as f:\n",
    "        pickle.dump(gsdmm, f)\n",
    "\n",
    "    return gsdmm, cm_gsdmm.get_coherence()\n",
    "\n",
    "\n",
    "def top_words(cluster_word_distribution, top_cluster, values):\n",
    "    for cluster in top_cluster:\n",
    "        sort_dicts = sorted(\n",
    "            cluster_word_distribution[cluster].items(),\n",
    "            key=lambda k: k[1],\n",
    "            reverse=True,\n",
    "        )[:values]\n",
    "        print(f\"\\nCluster {cluster} : {sort_dicts}\")\n",
    "\n",
    "\n",
    "def print_top_words_gsdmm(model):\n",
    "    # print number of documents per topic\n",
    "    doc_count = np.array(model.cluster_doc_count)\n",
    "    print(\"Number of documents per topic :\", doc_count)\n",
    "\n",
    "    # Topics sorted by the number of document they are allocated to\n",
    "    top_index = doc_count.argsort()[::-1]\n",
    "    print(\"Most important clusters (by number of docs inside):\", top_index)\n",
    "\n",
    "    # get top words in topics\n",
    "    top_words(model.cluster_word_distribution, top_index, 20)"
   ]
  },
  {
   "cell_type": "code",
   "execution_count": 19,
   "id": "f935bd5b-7d70-48bf-973a-835a3380ebac",
   "metadata": {
    "tags": []
   },
   "outputs": [
    {
     "name": "stdout",
     "output_type": "stream",
     "text": [
      "In stage 0: transferred 207006 clusters with 20 clusters populated\n",
      "In stage 1: transferred 155525 clusters with 20 clusters populated\n"
     ]
    },
    {
     "name": "stderr",
     "output_type": "stream",
     "text": [
      "IOStream.flush timed out\n"
     ]
    },
    {
     "name": "stdout",
     "output_type": "stream",
     "text": [
      "In stage 2: transferred 88396 clusters with 20 clusters populated\n",
      "In stage 3: transferred 60168 clusters with 20 clusters populated\n",
      "In stage 4: transferred 49263 clusters with 20 clusters populated\n",
      "In stage 5: transferred 44578 clusters with 20 clusters populated\n",
      "In stage 6: transferred 41955 clusters with 20 clusters populated\n"
     ]
    },
    {
     "name": "stderr",
     "output_type": "stream",
     "text": [
      "IOStream.flush timed out\n"
     ]
    },
    {
     "name": "stdout",
     "output_type": "stream",
     "text": [
      "In stage 7: transferred 40443 clusters with 20 clusters populated\n",
      "In stage 8: transferred 39202 clusters with 20 clusters populated\n",
      "In stage 9: transferred 38460 clusters with 20 clusters populated\n",
      "In stage 10: transferred 38252 clusters with 20 clusters populated\n",
      "In stage 11: transferred 37898 clusters with 20 clusters populated\n",
      "In stage 12: transferred 37743 clusters with 20 clusters populated\n",
      "In stage 13: transferred 37144 clusters with 20 clusters populated\n",
      "In stage 14: transferred 37203 clusters with 20 clusters populated\n",
      "In stage 15: transferred 37166 clusters with 20 clusters populated\n"
     ]
    },
    {
     "name": "stderr",
     "output_type": "stream",
     "text": [
      "IOStream.flush timed out\n"
     ]
    },
    {
     "name": "stdout",
     "output_type": "stream",
     "text": [
      "In stage 16: transferred 37005 clusters with 20 clusters populated\n"
     ]
    },
    {
     "name": "stderr",
     "output_type": "stream",
     "text": [
      "IOStream.flush timed out\n",
      "IOStream.flush timed out\n"
     ]
    },
    {
     "name": "stdout",
     "output_type": "stream",
     "text": [
      "In stage 17: transferred 36807 clusters with 20 clusters populated\n",
      "In stage 18: transferred 36908 clusters with 20 clusters populated\n"
     ]
    },
    {
     "name": "stderr",
     "output_type": "stream",
     "text": [
      "IOStream.flush timed out\n",
      "IOStream.flush timed out\n"
     ]
    },
    {
     "name": "stdout",
     "output_type": "stream",
     "text": [
      "In stage 19: transferred 36723 clusters with 20 clusters populated\n"
     ]
    },
    {
     "name": "stderr",
     "output_type": "stream",
     "text": [
      "IOStream.flush timed out\n"
     ]
    },
    {
     "name": "stdout",
     "output_type": "stream",
     "text": [
      "In stage 20: transferred 36513 clusters with 20 clusters populated\n",
      "In stage 21: transferred 36276 clusters with 20 clusters populated\n",
      "In stage 22: transferred 36345 clusters with 20 clusters populated\n",
      "In stage 23: transferred 36390 clusters with 20 clusters populated\n",
      "In stage 24: transferred 36328 clusters with 20 clusters populated\n",
      "In stage 25: transferred 36229 clusters with 20 clusters populated\n",
      "In stage 26: transferred 36047 clusters with 20 clusters populated\n",
      "In stage 27: transferred 36226 clusters with 20 clusters populated\n",
      "In stage 28: transferred 36374 clusters with 20 clusters populated\n",
      "In stage 29: transferred 36345 clusters with 20 clusters populated\n",
      "Number of documents per topic : [13936  8985 10420 10749 10467 26242 12347 10796  9381  9905  9951  3743\n",
      "  5156 13303 11106 13189 11208 15396 15329 10357]\n",
      "{'model': <gsdmm.mgp.MovieGroupProcess object at 0x2ba91e380>, 'coherence_score': 0.514060067665686, 'K': 20}\n",
      "In stage 0: transferred 207376 clusters with 21 clusters populated\n",
      "In stage 1: transferred 157072 clusters with 21 clusters populated\n",
      "In stage 2: transferred 95893 clusters with 21 clusters populated\n",
      "In stage 3: transferred 65200 clusters with 21 clusters populated\n",
      "In stage 4: transferred 53266 clusters with 21 clusters populated\n",
      "In stage 5: transferred 46871 clusters with 21 clusters populated\n",
      "In stage 6: transferred 44131 clusters with 21 clusters populated\n",
      "In stage 7: transferred 42474 clusters with 21 clusters populated\n",
      "In stage 8: transferred 41473 clusters with 21 clusters populated\n",
      "In stage 9: transferred 40827 clusters with 21 clusters populated\n",
      "In stage 10: transferred 40228 clusters with 21 clusters populated\n",
      "In stage 11: transferred 39943 clusters with 21 clusters populated\n",
      "In stage 12: transferred 39393 clusters with 21 clusters populated\n",
      "In stage 13: transferred 39133 clusters with 21 clusters populated\n",
      "In stage 14: transferred 38921 clusters with 21 clusters populated\n",
      "In stage 15: transferred 38676 clusters with 21 clusters populated\n",
      "In stage 16: transferred 38461 clusters with 21 clusters populated\n",
      "In stage 17: transferred 38558 clusters with 21 clusters populated\n",
      "In stage 18: transferred 38263 clusters with 21 clusters populated\n",
      "In stage 19: transferred 38299 clusters with 21 clusters populated\n",
      "In stage 20: transferred 37843 clusters with 21 clusters populated\n",
      "In stage 21: transferred 37785 clusters with 21 clusters populated\n",
      "In stage 22: transferred 37405 clusters with 21 clusters populated\n",
      "In stage 23: transferred 37100 clusters with 21 clusters populated\n",
      "In stage 24: transferred 37107 clusters with 21 clusters populated\n",
      "In stage 25: transferred 37061 clusters with 21 clusters populated\n",
      "In stage 26: transferred 36977 clusters with 21 clusters populated\n",
      "In stage 27: transferred 36846 clusters with 21 clusters populated\n",
      "In stage 28: transferred 36715 clusters with 21 clusters populated\n",
      "In stage 29: transferred 36719 clusters with 21 clusters populated\n",
      "Number of documents per topic : [10345 14582 10764  7586  8713  6379  9249  8352 10801  8717  7307  8859\n",
      "  8172 12075 27964 17333 11123 14501  9634  9820  9690]\n",
      "{'model': <gsdmm.mgp.MovieGroupProcess object at 0x2ba91c1f0>, 'coherence_score': 0.48723846504647284, 'K': 21}\n",
      "In stage 0: transferred 208624 clusters with 22 clusters populated\n",
      "In stage 1: transferred 154636 clusters with 22 clusters populated\n",
      "In stage 2: transferred 89608 clusters with 22 clusters populated\n",
      "In stage 3: transferred 63141 clusters with 22 clusters populated\n",
      "In stage 4: transferred 53291 clusters with 22 clusters populated\n",
      "In stage 5: transferred 48316 clusters with 22 clusters populated\n",
      "In stage 6: transferred 45610 clusters with 22 clusters populated\n",
      "In stage 7: transferred 44159 clusters with 22 clusters populated\n",
      "In stage 8: transferred 42336 clusters with 22 clusters populated\n",
      "In stage 9: transferred 41606 clusters with 22 clusters populated\n",
      "In stage 10: transferred 40842 clusters with 22 clusters populated\n",
      "In stage 11: transferred 40314 clusters with 22 clusters populated\n",
      "In stage 12: transferred 40024 clusters with 22 clusters populated\n",
      "In stage 13: transferred 39666 clusters with 22 clusters populated\n",
      "In stage 14: transferred 39477 clusters with 22 clusters populated\n",
      "In stage 15: transferred 39164 clusters with 22 clusters populated\n",
      "In stage 16: transferred 38652 clusters with 22 clusters populated\n",
      "In stage 17: transferred 38703 clusters with 22 clusters populated\n",
      "In stage 18: transferred 38527 clusters with 22 clusters populated\n",
      "In stage 19: transferred 38325 clusters with 22 clusters populated\n",
      "In stage 20: transferred 38349 clusters with 22 clusters populated\n",
      "In stage 21: transferred 38484 clusters with 22 clusters populated\n",
      "In stage 22: transferred 38374 clusters with 22 clusters populated\n",
      "In stage 23: transferred 37895 clusters with 22 clusters populated\n",
      "In stage 24: transferred 38121 clusters with 22 clusters populated\n",
      "In stage 25: transferred 37986 clusters with 22 clusters populated\n",
      "In stage 26: transferred 37808 clusters with 22 clusters populated\n",
      "In stage 27: transferred 38051 clusters with 22 clusters populated\n",
      "In stage 28: transferred 38021 clusters with 22 clusters populated\n",
      "In stage 29: transferred 37900 clusters with 22 clusters populated\n",
      "Number of documents per topic : [ 9514  7918 10081 15804 10840  7891 23168  7734  8798 10669 14957  8377\n",
      " 11562 10094  9579  7436 10886  4505 14281 11858  6882  9132]\n",
      "{'model': <gsdmm.mgp.MovieGroupProcess object at 0x2cc98f1c0>, 'coherence_score': 0.4910769848963863, 'K': 22}\n",
      "In stage 0: transferred 208484 clusters with 23 clusters populated\n",
      "In stage 1: transferred 156174 clusters with 23 clusters populated\n",
      "In stage 2: transferred 94657 clusters with 23 clusters populated\n",
      "In stage 3: transferred 66185 clusters with 23 clusters populated\n",
      "In stage 4: transferred 54553 clusters with 23 clusters populated\n",
      "In stage 5: transferred 48381 clusters with 23 clusters populated\n",
      "In stage 6: transferred 44864 clusters with 23 clusters populated\n",
      "In stage 7: transferred 43155 clusters with 23 clusters populated\n",
      "In stage 8: transferred 42013 clusters with 23 clusters populated\n",
      "In stage 9: transferred 41061 clusters with 23 clusters populated\n",
      "In stage 10: transferred 40719 clusters with 23 clusters populated\n",
      "In stage 11: transferred 40092 clusters with 23 clusters populated\n",
      "In stage 12: transferred 39842 clusters with 23 clusters populated\n",
      "In stage 13: transferred 39456 clusters with 23 clusters populated\n",
      "In stage 14: transferred 38752 clusters with 23 clusters populated\n",
      "In stage 15: transferred 38479 clusters with 23 clusters populated\n",
      "In stage 16: transferred 38250 clusters with 23 clusters populated\n",
      "In stage 17: transferred 38090 clusters with 23 clusters populated\n",
      "In stage 18: transferred 37940 clusters with 23 clusters populated\n",
      "In stage 19: transferred 37791 clusters with 23 clusters populated\n",
      "In stage 20: transferred 37767 clusters with 23 clusters populated\n",
      "In stage 21: transferred 37512 clusters with 23 clusters populated\n",
      "In stage 22: transferred 37449 clusters with 23 clusters populated\n",
      "In stage 23: transferred 37401 clusters with 23 clusters populated\n",
      "In stage 24: transferred 37170 clusters with 23 clusters populated\n",
      "In stage 25: transferred 37268 clusters with 23 clusters populated\n",
      "In stage 26: transferred 37270 clusters with 23 clusters populated\n",
      "In stage 27: transferred 37096 clusters with 23 clusters populated\n",
      "In stage 28: transferred 36898 clusters with 23 clusters populated\n",
      "In stage 29: transferred 37033 clusters with 23 clusters populated\n",
      "Number of documents per topic : [ 9514  9567 11782  9500 10493 11674  9066  9404  3555 11728  9776 11538\n",
      "  9313  7519  9289  9239  6343  8066 11047 22996  7409  8081 15067]\n",
      "{'model': <gsdmm.mgp.MovieGroupProcess object at 0x2cc98d8d0>, 'coherence_score': 0.5141320823873504, 'K': 23}\n",
      "In stage 0: transferred 209254 clusters with 24 clusters populated\n",
      "In stage 1: transferred 158054 clusters with 24 clusters populated\n",
      "In stage 2: transferred 96102 clusters with 24 clusters populated\n",
      "In stage 3: transferred 65254 clusters with 24 clusters populated\n",
      "In stage 4: transferred 53338 clusters with 24 clusters populated\n",
      "In stage 5: transferred 47691 clusters with 24 clusters populated\n",
      "In stage 6: transferred 44752 clusters with 24 clusters populated\n",
      "In stage 7: transferred 42712 clusters with 24 clusters populated\n",
      "In stage 8: transferred 41662 clusters with 24 clusters populated\n",
      "In stage 9: transferred 40893 clusters with 24 clusters populated\n",
      "In stage 10: transferred 40285 clusters with 24 clusters populated\n",
      "In stage 11: transferred 40334 clusters with 24 clusters populated\n",
      "In stage 12: transferred 39951 clusters with 24 clusters populated\n",
      "In stage 13: transferred 39765 clusters with 24 clusters populated\n",
      "In stage 14: transferred 39693 clusters with 24 clusters populated\n",
      "In stage 15: transferred 39516 clusters with 24 clusters populated\n",
      "In stage 16: transferred 39363 clusters with 24 clusters populated\n",
      "In stage 17: transferred 39406 clusters with 24 clusters populated\n",
      "In stage 18: transferred 39150 clusters with 24 clusters populated\n",
      "In stage 19: transferred 39176 clusters with 24 clusters populated\n",
      "In stage 20: transferred 38844 clusters with 24 clusters populated\n",
      "In stage 21: transferred 38884 clusters with 24 clusters populated\n",
      "In stage 22: transferred 38420 clusters with 24 clusters populated\n",
      "In stage 23: transferred 38138 clusters with 24 clusters populated\n",
      "In stage 24: transferred 38095 clusters with 24 clusters populated\n",
      "In stage 25: transferred 38115 clusters with 24 clusters populated\n",
      "In stage 26: transferred 38053 clusters with 24 clusters populated\n",
      "In stage 27: transferred 37742 clusters with 24 clusters populated\n",
      "In stage 28: transferred 37830 clusters with 24 clusters populated\n",
      "In stage 29: transferred 37733 clusters with 24 clusters populated\n",
      "Number of documents per topic : [21235  8050  8051  8939 12147 11802  5138  8025  7965  8554 14302  9044\n",
      "  7590  9360  7791  8149 11027  9945  7920 12052  3040  9736 13246  8858]\n",
      "{'model': <gsdmm.mgp.MovieGroupProcess object at 0x2ba91c2e0>, 'coherence_score': 0.5134691557004588, 'K': 24}\n",
      "In stage 0: transferred 209742 clusters with 25 clusters populated\n",
      "In stage 1: transferred 158297 clusters with 25 clusters populated\n",
      "In stage 2: transferred 96664 clusters with 25 clusters populated\n",
      "In stage 3: transferred 67419 clusters with 25 clusters populated\n",
      "In stage 4: transferred 55421 clusters with 25 clusters populated\n",
      "In stage 5: transferred 49684 clusters with 25 clusters populated\n",
      "In stage 6: transferred 46462 clusters with 25 clusters populated\n",
      "In stage 7: transferred 44207 clusters with 25 clusters populated\n",
      "In stage 8: transferred 42834 clusters with 25 clusters populated\n",
      "In stage 9: transferred 42028 clusters with 25 clusters populated\n",
      "In stage 10: transferred 41224 clusters with 25 clusters populated\n",
      "In stage 11: transferred 40692 clusters with 25 clusters populated\n",
      "In stage 12: transferred 40450 clusters with 25 clusters populated\n",
      "In stage 13: transferred 39928 clusters with 25 clusters populated\n",
      "In stage 14: transferred 39982 clusters with 25 clusters populated\n",
      "In stage 15: transferred 39814 clusters with 25 clusters populated\n",
      "In stage 16: transferred 39730 clusters with 25 clusters populated\n",
      "In stage 17: transferred 39855 clusters with 25 clusters populated\n",
      "In stage 18: transferred 39764 clusters with 25 clusters populated\n",
      "In stage 19: transferred 39238 clusters with 25 clusters populated\n",
      "In stage 20: transferred 39091 clusters with 25 clusters populated\n",
      "In stage 21: transferred 39116 clusters with 25 clusters populated\n",
      "In stage 22: transferred 38983 clusters with 25 clusters populated\n",
      "In stage 23: transferred 39107 clusters with 25 clusters populated\n",
      "In stage 24: transferred 38978 clusters with 25 clusters populated\n",
      "In stage 25: transferred 38957 clusters with 25 clusters populated\n",
      "In stage 26: transferred 38727 clusters with 25 clusters populated\n",
      "In stage 27: transferred 38768 clusters with 25 clusters populated\n",
      "In stage 28: transferred 38723 clusters with 25 clusters populated\n",
      "In stage 29: transferred 38506 clusters with 25 clusters populated\n",
      "Number of documents per topic : [ 7777 20127  6341  4163  9159  8946 10122  8265  7072  2887  9270  9257\n",
      " 12088  7758  8898  9138 11903  9964  9033 12488  8774 10036  6970  6027\n",
      " 15503]\n",
      "{'model': <gsdmm.mgp.MovieGroupProcess object at 0x2cc98f400>, 'coherence_score': 0.506311835795351, 'K': 25}\n",
      "In stage 0: transferred 210200 clusters with 26 clusters populated\n",
      "In stage 1: transferred 157838 clusters with 26 clusters populated\n",
      "In stage 2: transferred 95444 clusters with 26 clusters populated\n",
      "In stage 3: transferred 65944 clusters with 26 clusters populated\n",
      "In stage 4: transferred 54104 clusters with 26 clusters populated\n",
      "In stage 5: transferred 48447 clusters with 26 clusters populated\n",
      "In stage 6: transferred 45584 clusters with 26 clusters populated\n",
      "In stage 7: transferred 43934 clusters with 26 clusters populated\n",
      "In stage 8: transferred 42950 clusters with 26 clusters populated\n",
      "In stage 9: transferred 42361 clusters with 26 clusters populated\n",
      "In stage 10: transferred 41729 clusters with 26 clusters populated\n",
      "In stage 11: transferred 41125 clusters with 26 clusters populated\n",
      "In stage 12: transferred 40711 clusters with 26 clusters populated\n",
      "In stage 13: transferred 40922 clusters with 26 clusters populated\n",
      "In stage 14: transferred 40652 clusters with 26 clusters populated\n",
      "In stage 15: transferred 40412 clusters with 26 clusters populated\n",
      "In stage 16: transferred 39939 clusters with 26 clusters populated\n",
      "In stage 17: transferred 39497 clusters with 26 clusters populated\n",
      "In stage 18: transferred 39513 clusters with 26 clusters populated\n",
      "In stage 19: transferred 39380 clusters with 26 clusters populated\n",
      "In stage 20: transferred 39170 clusters with 26 clusters populated\n",
      "In stage 21: transferred 39298 clusters with 26 clusters populated\n",
      "In stage 22: transferred 39299 clusters with 26 clusters populated\n",
      "In stage 23: transferred 39283 clusters with 26 clusters populated\n",
      "In stage 24: transferred 38861 clusters with 26 clusters populated\n",
      "In stage 25: transferred 38662 clusters with 26 clusters populated\n",
      "In stage 26: transferred 38567 clusters with 26 clusters populated\n",
      "In stage 27: transferred 38481 clusters with 26 clusters populated\n",
      "In stage 28: transferred 38325 clusters with 26 clusters populated\n",
      "In stage 29: transferred 38234 clusters with 26 clusters populated\n",
      "Number of documents per topic : [13293 13597  8130  2935  8125  6480  9265  6842  8513 21515  8266  6562\n",
      "  5268 11908  7852  8697  8197  7082  8946  7770  8697  8112  8258  9009\n",
      "  6643 12004]\n",
      "{'model': <gsdmm.mgp.MovieGroupProcess object at 0x2ab8ff1c0>, 'coherence_score': 0.4793186464070867, 'K': 26}\n",
      "In stage 0: transferred 210872 clusters with 27 clusters populated\n",
      "In stage 1: transferred 157143 clusters with 27 clusters populated\n",
      "In stage 2: transferred 91483 clusters with 27 clusters populated\n",
      "In stage 3: transferred 63587 clusters with 27 clusters populated\n",
      "In stage 4: transferred 53533 clusters with 27 clusters populated\n",
      "In stage 5: transferred 48599 clusters with 27 clusters populated\n",
      "In stage 6: transferred 46035 clusters with 27 clusters populated\n",
      "In stage 7: transferred 44401 clusters with 27 clusters populated\n",
      "In stage 8: transferred 43275 clusters with 27 clusters populated\n",
      "In stage 9: transferred 42031 clusters with 27 clusters populated\n",
      "In stage 10: transferred 41497 clusters with 27 clusters populated\n",
      "In stage 11: transferred 40954 clusters with 27 clusters populated\n",
      "In stage 12: transferred 40879 clusters with 27 clusters populated\n",
      "In stage 13: transferred 40082 clusters with 27 clusters populated\n",
      "In stage 14: transferred 40009 clusters with 27 clusters populated\n",
      "In stage 15: transferred 39710 clusters with 27 clusters populated\n",
      "In stage 16: transferred 39564 clusters with 27 clusters populated\n",
      "In stage 17: transferred 39185 clusters with 27 clusters populated\n",
      "In stage 18: transferred 39349 clusters with 27 clusters populated\n",
      "In stage 19: transferred 39162 clusters with 27 clusters populated\n",
      "In stage 20: transferred 38699 clusters with 27 clusters populated\n",
      "In stage 21: transferred 38645 clusters with 27 clusters populated\n",
      "In stage 22: transferred 38691 clusters with 27 clusters populated\n",
      "In stage 23: transferred 38475 clusters with 27 clusters populated\n",
      "In stage 24: transferred 38386 clusters with 27 clusters populated\n",
      "In stage 25: transferred 38288 clusters with 27 clusters populated\n",
      "In stage 26: transferred 38084 clusters with 27 clusters populated\n",
      "In stage 27: transferred 37799 clusters with 27 clusters populated\n",
      "In stage 28: transferred 37859 clusters with 27 clusters populated\n",
      "In stage 29: transferred 38071 clusters with 27 clusters populated\n",
      "Number of documents per topic : [ 7450  8798  3444  7068  9740 19157  7084  9854  5952  8497  6935  8055\n",
      "  9714 10392 10347  7448 11832  6564  7309 17595  2644  7726  6267  9348\n",
      "  7717  7796  7233]\n",
      "{'model': <gsdmm.mgp.MovieGroupProcess object at 0x2cc98ddb0>, 'coherence_score': 0.5033933850262324, 'K': 27}\n",
      "In stage 0: transferred 211278 clusters with 28 clusters populated\n",
      "In stage 1: transferred 156567 clusters with 28 clusters populated\n",
      "In stage 2: transferred 93820 clusters with 28 clusters populated\n",
      "In stage 3: transferred 67335 clusters with 28 clusters populated\n",
      "In stage 4: transferred 56203 clusters with 28 clusters populated\n",
      "In stage 5: transferred 50463 clusters with 28 clusters populated\n",
      "In stage 6: transferred 47489 clusters with 28 clusters populated\n",
      "In stage 7: transferred 45625 clusters with 28 clusters populated\n",
      "In stage 8: transferred 44150 clusters with 28 clusters populated\n",
      "In stage 9: transferred 43588 clusters with 28 clusters populated\n",
      "In stage 10: transferred 42901 clusters with 28 clusters populated\n",
      "In stage 11: transferred 42518 clusters with 28 clusters populated\n",
      "In stage 12: transferred 42050 clusters with 28 clusters populated\n",
      "In stage 13: transferred 41813 clusters with 28 clusters populated\n",
      "In stage 14: transferred 41509 clusters with 28 clusters populated\n",
      "In stage 15: transferred 41152 clusters with 28 clusters populated\n",
      "In stage 16: transferred 41128 clusters with 28 clusters populated\n",
      "In stage 17: transferred 40683 clusters with 28 clusters populated\n",
      "In stage 18: transferred 40668 clusters with 28 clusters populated\n",
      "In stage 19: transferred 40316 clusters with 28 clusters populated\n",
      "In stage 20: transferred 40239 clusters with 28 clusters populated\n",
      "In stage 21: transferred 39968 clusters with 28 clusters populated\n",
      "In stage 22: transferred 39975 clusters with 28 clusters populated\n",
      "In stage 23: transferred 39742 clusters with 28 clusters populated\n",
      "In stage 24: transferred 39506 clusters with 28 clusters populated\n",
      "In stage 25: transferred 39644 clusters with 28 clusters populated\n",
      "In stage 26: transferred 39626 clusters with 28 clusters populated\n",
      "In stage 27: transferred 39588 clusters with 28 clusters populated\n",
      "In stage 28: transferred 39167 clusters with 28 clusters populated\n",
      "In stage 29: transferred 39161 clusters with 28 clusters populated\n",
      "Number of documents per topic : [19088  7525 10508  7013  7225 12750 12926  8234  8319  7058  6559  7457\n",
      "  6142  6493  8644 10129  3358  8439  8380  7124  8465  5722  9592  7600\n",
      "  8301  2639  6412  9864]\n",
      "{'model': <gsdmm.mgp.MovieGroupProcess object at 0x2ba6e2830>, 'coherence_score': 0.488993609324367, 'K': 28}\n",
      "In stage 0: transferred 211808 clusters with 29 clusters populated\n",
      "In stage 1: transferred 156137 clusters with 29 clusters populated\n",
      "In stage 2: transferred 93014 clusters with 29 clusters populated\n",
      "In stage 3: transferred 67098 clusters with 29 clusters populated\n",
      "In stage 4: transferred 55684 clusters with 29 clusters populated\n",
      "In stage 5: transferred 49982 clusters with 29 clusters populated\n",
      "In stage 6: transferred 46623 clusters with 29 clusters populated\n",
      "In stage 7: transferred 44799 clusters with 29 clusters populated\n",
      "In stage 8: transferred 42865 clusters with 29 clusters populated\n",
      "In stage 9: transferred 42035 clusters with 29 clusters populated\n",
      "In stage 10: transferred 41440 clusters with 29 clusters populated\n",
      "In stage 11: transferred 41037 clusters with 29 clusters populated\n",
      "In stage 12: transferred 40624 clusters with 29 clusters populated\n",
      "In stage 13: transferred 40318 clusters with 29 clusters populated\n",
      "In stage 14: transferred 39940 clusters with 29 clusters populated\n",
      "In stage 15: transferred 39575 clusters with 29 clusters populated\n",
      "In stage 16: transferred 39574 clusters with 29 clusters populated\n",
      "In stage 17: transferred 39607 clusters with 29 clusters populated\n",
      "In stage 18: transferred 39492 clusters with 29 clusters populated\n",
      "In stage 19: transferred 39175 clusters with 29 clusters populated\n",
      "In stage 20: transferred 39011 clusters with 29 clusters populated\n"
     ]
    },
    {
     "name": "stderr",
     "output_type": "stream",
     "text": [
      "IOStream.flush timed out\n"
     ]
    },
    {
     "name": "stdout",
     "output_type": "stream",
     "text": [
      "In stage 21: transferred 38764 clusters with 29 clusters populated\n"
     ]
    },
    {
     "name": "stderr",
     "output_type": "stream",
     "text": [
      "IOStream.flush timed out\n"
     ]
    },
    {
     "name": "stdout",
     "output_type": "stream",
     "text": [
      "In stage 22: transferred 38692 clusters with 29 clusters populated\n"
     ]
    },
    {
     "name": "stderr",
     "output_type": "stream",
     "text": [
      "IOStream.flush timed out\n"
     ]
    },
    {
     "name": "stdout",
     "output_type": "stream",
     "text": [
      "In stage 23: transferred 38714 clusters with 29 clusters populated\n"
     ]
    },
    {
     "name": "stderr",
     "output_type": "stream",
     "text": [
      "IOStream.flush timed out\n"
     ]
    },
    {
     "name": "stdout",
     "output_type": "stream",
     "text": [
      "In stage 24: transferred 38855 clusters with 29 clusters populated\n"
     ]
    },
    {
     "name": "stderr",
     "output_type": "stream",
     "text": [
      "IOStream.flush timed out\n",
      "IOStream.flush timed out\n",
      "IOStream.flush timed out\n",
      "IOStream.flush timed out\n"
     ]
    },
    {
     "name": "stdout",
     "output_type": "stream",
     "text": [
      "In stage 25: transferred 38867 clusters with 29 clusters populated\n"
     ]
    },
    {
     "name": "stderr",
     "output_type": "stream",
     "text": [
      "IOStream.flush timed out\n"
     ]
    },
    {
     "name": "stdout",
     "output_type": "stream",
     "text": [
      "In stage 26: transferred 38574 clusters with 29 clusters populated\n"
     ]
    },
    {
     "name": "stderr",
     "output_type": "stream",
     "text": [
      "IOStream.flush timed out\n",
      "IOStream.flush timed out\n"
     ]
    },
    {
     "name": "stdout",
     "output_type": "stream",
     "text": [
      "In stage 27: transferred 38738 clusters with 29 clusters populated\n"
     ]
    },
    {
     "name": "stderr",
     "output_type": "stream",
     "text": [
      "IOStream.flush timed out\n",
      "IOStream.flush timed out\n"
     ]
    },
    {
     "name": "stdout",
     "output_type": "stream",
     "text": [
      "In stage 28: transferred 38665 clusters with 29 clusters populated\n"
     ]
    },
    {
     "name": "stderr",
     "output_type": "stream",
     "text": [
      "IOStream.flush timed out\n"
     ]
    },
    {
     "name": "stdout",
     "output_type": "stream",
     "text": [
      "In stage 29: transferred 38488 clusters with 29 clusters populated\n",
      "Number of documents per topic : [ 6296  6069  7002  7626  7315 16955  7994  8337  8325 18362  8361  5672\n",
      " 10494  9264  3635  9353  8306  9946  6477  6696  5812  8751  7095  7945\n",
      "  6749  7020  5695  8029  2385]\n",
      "{'model': <gsdmm.mgp.MovieGroupProcess object at 0x2cc98ff40>, 'coherence_score': 0.513392695939488, 'K': 29}\n"
     ]
    },
    {
     "name": "stderr",
     "output_type": "stream",
     "text": [
      "IOStream.flush timed out\n"
     ]
    },
    {
     "name": "stdout",
     "output_type": "stream",
     "text": [
      "In stage 0: transferred 211763 clusters with 30 clusters populated\n"
     ]
    },
    {
     "name": "stderr",
     "output_type": "stream",
     "text": [
      "IOStream.flush timed out\n",
      "IOStream.flush timed out\n"
     ]
    },
    {
     "name": "stdout",
     "output_type": "stream",
     "text": [
      "In stage 1: transferred 157370 clusters with 30 clusters populated\n"
     ]
    },
    {
     "name": "stderr",
     "output_type": "stream",
     "text": [
      "IOStream.flush timed out\n",
      "IOStream.flush timed out\n",
      "IOStream.flush timed out\n",
      "IOStream.flush timed out\n",
      "IOStream.flush timed out\n"
     ]
    },
    {
     "name": "stdout",
     "output_type": "stream",
     "text": [
      "In stage 2: transferred 93802 clusters with 30 clusters populated\n"
     ]
    },
    {
     "name": "stderr",
     "output_type": "stream",
     "text": [
      "IOStream.flush timed out\n",
      "IOStream.flush timed out\n",
      "IOStream.flush timed out\n"
     ]
    },
    {
     "name": "stdout",
     "output_type": "stream",
     "text": [
      "In stage 3: transferred 67816 clusters with 30 clusters populated\n"
     ]
    },
    {
     "name": "stderr",
     "output_type": "stream",
     "text": [
      "IOStream.flush timed out\n"
     ]
    },
    {
     "name": "stdout",
     "output_type": "stream",
     "text": [
      "In stage 4: transferred 57562 clusters with 30 clusters populated\n"
     ]
    },
    {
     "name": "stderr",
     "output_type": "stream",
     "text": [
      "IOStream.flush timed out\n",
      "IOStream.flush timed out\n"
     ]
    },
    {
     "name": "stdout",
     "output_type": "stream",
     "text": [
      "In stage 5: transferred 51608 clusters with 30 clusters populated\n"
     ]
    },
    {
     "name": "stderr",
     "output_type": "stream",
     "text": [
      "IOStream.flush timed out\n",
      "IOStream.flush timed out\n",
      "IOStream.flush timed out\n"
     ]
    },
    {
     "name": "stdout",
     "output_type": "stream",
     "text": [
      "In stage 6: transferred 48209 clusters with 30 clusters populated"
     ]
    },
    {
     "name": "stderr",
     "output_type": "stream",
     "text": [
      "IOStream.flush timed out\n"
     ]
    },
    {
     "name": "stdout",
     "output_type": "stream",
     "text": [
      "\n"
     ]
    },
    {
     "name": "stderr",
     "output_type": "stream",
     "text": [
      "IOStream.flush timed out\n",
      "IOStream.flush timed out\n"
     ]
    },
    {
     "name": "stdout",
     "output_type": "stream",
     "text": [
      "In stage 7: transferred 45550 clusters with 30 clusters populated\n"
     ]
    },
    {
     "name": "stderr",
     "output_type": "stream",
     "text": [
      "IOStream.flush timed out\n",
      "IOStream.flush timed out\n"
     ]
    },
    {
     "name": "stdout",
     "output_type": "stream",
     "text": [
      "In stage 8: transferred 43606 clusters with 30 clusters populated\n"
     ]
    },
    {
     "name": "stderr",
     "output_type": "stream",
     "text": [
      "IOStream.flush timed out\n"
     ]
    },
    {
     "name": "stdout",
     "output_type": "stream",
     "text": [
      "In stage 9: transferred 42563 clusters with 30 clusters populated\n"
     ]
    },
    {
     "name": "stderr",
     "output_type": "stream",
     "text": [
      "IOStream.flush timed out\n"
     ]
    },
    {
     "name": "stdout",
     "output_type": "stream",
     "text": [
      "In stage 10: transferred 42093 clusters with 30 clusters populated\n"
     ]
    },
    {
     "name": "stderr",
     "output_type": "stream",
     "text": [
      "IOStream.flush timed out\n",
      "IOStream.flush timed out\n"
     ]
    },
    {
     "name": "stdout",
     "output_type": "stream",
     "text": [
      "In stage 11: transferred 41575 clusters with 30 clusters populated\n",
      "In stage 12: transferred 40773 clusters with 30 clusters populated\n",
      "In stage 13: transferred 40378 clusters with 30 clusters populated\n",
      "In stage 14: transferred 40585 clusters with 30 clusters populated\n",
      "In stage 15: transferred 40640 clusters with 30 clusters populated\n",
      "In stage 16: transferred 39994 clusters with 30 clusters populated\n",
      "In stage 17: transferred 39799 clusters with 30 clusters populated\n",
      "In stage 18: transferred 39995 clusters with 30 clusters populated\n",
      "In stage 19: transferred 39969 clusters with 30 clusters populated\n",
      "In stage 20: transferred 39628 clusters with 30 clusters populated\n",
      "In stage 21: transferred 39528 clusters with 30 clusters populated\n",
      "In stage 22: transferred 39553 clusters with 30 clusters populated\n",
      "In stage 23: transferred 39636 clusters with 30 clusters populated\n",
      "In stage 24: transferred 39566 clusters with 30 clusters populated\n"
     ]
    },
    {
     "name": "stderr",
     "output_type": "stream",
     "text": [
      "IOStream.flush timed out\n",
      "IOStream.flush timed out\n"
     ]
    },
    {
     "name": "stdout",
     "output_type": "stream",
     "text": [
      "In stage 25: transferred 39435 clusters with 30 clusters populated\n",
      "In stage 26: transferred 39606 clusters with 30 clusters populated"
     ]
    },
    {
     "name": "stderr",
     "output_type": "stream",
     "text": [
      "IOStream.flush timed out\n",
      "IOStream.flush timed out\n"
     ]
    },
    {
     "name": "stdout",
     "output_type": "stream",
     "text": [
      "\n"
     ]
    },
    {
     "name": "stderr",
     "output_type": "stream",
     "text": [
      "IOStream.flush timed out\n",
      "IOStream.flush timed out\n"
     ]
    },
    {
     "name": "stdout",
     "output_type": "stream",
     "text": [
      "In stage 27: transferred 39380 clusters with 30 clusters populated\n"
     ]
    },
    {
     "name": "stderr",
     "output_type": "stream",
     "text": [
      "IOStream.flush timed out\n",
      "IOStream.flush timed out\n"
     ]
    },
    {
     "name": "stdout",
     "output_type": "stream",
     "text": [
      "In stage 28: transferred 39190 clusters with 30 clusters populated\n",
      "In stage 29: transferred 39265 clusters with 30 clusters populated\n",
      "Number of documents per topic : [10857  5711  6114  6981  6507  6779  9044  6754  6111  9762  8465  5716\n",
      "  2618  7023  2774  8141 10159 15570  6192  8122  7898  7726 10772  8450\n",
      "  7235  5542  6683  8221  7759 12280]\n",
      "{'model': <gsdmm.mgp.MovieGroupProcess object at 0x2cc79fa60>, 'coherence_score': 0.5329178659725208, 'K': 30}\n",
      "{'model': <gsdmm.mgp.MovieGroupProcess object at 0x2cc79fa60>, 'coherence_score': 0.5329178659725208, 'K': 30}\n",
      "{'model': <gsdmm.mgp.MovieGroupProcess object at 0x2cc98e230>, 'coherence_score': 0.5218882469200269, 'K': 19}\n",
      "{'model': <gsdmm.mgp.MovieGroupProcess object at 0x2cc98d8d0>, 'coherence_score': 0.5141320823873504, 'K': 23}\n",
      "{'model': <gsdmm.mgp.MovieGroupProcess object at 0x2ba91e380>, 'coherence_score': 0.514060067665686, 'K': 20}\n",
      "{'model': <gsdmm.mgp.MovieGroupProcess object at 0x2ba91c2e0>, 'coherence_score': 0.5134691557004588, 'K': 24}\n",
      "{'model': <gsdmm.mgp.MovieGroupProcess object at 0x2cc98ff40>, 'coherence_score': 0.513392695939488, 'K': 29}\n",
      "{'model': <gsdmm.mgp.MovieGroupProcess object at 0x2cc9b60e0>, 'coherence_score': 0.5079835411267862, 'K': 18}\n",
      "{'model': <gsdmm.mgp.MovieGroupProcess object at 0x2cc98f400>, 'coherence_score': 0.506311835795351, 'K': 25}\n",
      "{'model': <gsdmm.mgp.MovieGroupProcess object at 0x2ab8ff640>, 'coherence_score': 0.5044507786280445, 'K': 14}\n",
      "{'model': <gsdmm.mgp.MovieGroupProcess object at 0x2cc98ddb0>, 'coherence_score': 0.5033933850262324, 'K': 27}\n",
      "{'model': <gsdmm.mgp.MovieGroupProcess object at 0x103575990>, 'coherence_score': 0.49986605095970343, 'K': 13}\n",
      "{'model': <gsdmm.mgp.MovieGroupProcess object at 0x2cc9b5330>, 'coherence_score': 0.49980134552054706, 'K': 16}\n",
      "{'model': <gsdmm.mgp.MovieGroupProcess object at 0x2cc98db70>, 'coherence_score': 0.49368684809942615, 'K': 15}\n",
      "{'model': <gsdmm.mgp.MovieGroupProcess object at 0x2cc98f1c0>, 'coherence_score': 0.4910769848963863, 'K': 22}\n",
      "{'model': <gsdmm.mgp.MovieGroupProcess object at 0x2ba6e2830>, 'coherence_score': 0.488993609324367, 'K': 28}\n",
      "{'model': <gsdmm.mgp.MovieGroupProcess object at 0x2ba91c1f0>, 'coherence_score': 0.48723846504647284, 'K': 21}\n",
      "{'model': <gsdmm.mgp.MovieGroupProcess object at 0x2ab8ff730>, 'coherence_score': 0.48658991710319016, 'K': 17}\n",
      "{'model': <gsdmm.mgp.MovieGroupProcess object at 0x2cc9b6470>, 'coherence_score': 0.48395855812423366, 'K': 12}\n",
      "{'model': <gsdmm.mgp.MovieGroupProcess object at 0x2cc98e3e0>, 'coherence_score': 0.48025532355109696, 'K': 9}\n",
      "{'model': <gsdmm.mgp.MovieGroupProcess object at 0x2ab8ff1c0>, 'coherence_score': 0.4793186464070867, 'K': 26}\n",
      "{'model': <gsdmm.mgp.MovieGroupProcess object at 0x2cc98e140>, 'coherence_score': 0.4746719385042932, 'K': 11}\n",
      "{'model': <gsdmm.mgp.MovieGroupProcess object at 0x2cc98d4b0>, 'coherence_score': 0.4639625224912711, 'K': 10}\n",
      "{'model': <gsdmm.mgp.MovieGroupProcess object at 0x2cc98c7c0>, 'coherence_score': 0.46213999803935657, 'K': 4}\n",
      "{'model': <gsdmm.mgp.MovieGroupProcess object at 0x2cc98e3b0>, 'coherence_score': 0.45453441193117117, 'K': 6}\n",
      "{'model': <gsdmm.mgp.MovieGroupProcess object at 0x2cc98d3f0>, 'coherence_score': 0.4474815492472127, 'K': 7}\n",
      "{'model': <gsdmm.mgp.MovieGroupProcess object at 0x2cc98dff0>, 'coherence_score': 0.446636122024358, 'K': 5}\n",
      "{'model': <gsdmm.mgp.MovieGroupProcess object at 0x2cc98e530>, 'coherence_score': 0.4386020926529799, 'K': 8}\n",
      "{'model': <gsdmm.mgp.MovieGroupProcess object at 0x2cc98c610>, 'coherence_score': 0.40125696533340793, 'K': 3}\n"
     ]
    }
   ],
   "source": [
    "gsdmm_models = []\n",
    "for n_topic in range(3, 26):\n",
    "    model, coherence_score = get_fitted_gsdmm_model_and_coherence(n_topic, 30)\n",
    "    model_data = {\"model\": model, \"coherence_score\": coherence_score, \"K\": n_topic}\n",
    "    print(model_data)\n",
    "    gsdmm_models.append(model_data)\n",
    "\n",
    "sorted_gsdmm_models = sorted(\n",
    "    gsdmm_models, key=lambda x: x[\"coherence_score\"], reverse=True\n",
    ")\n",
    "\n",
    "for i in sorted_gsdmm_models:\n",
    "    print(i)"
   ]
  },
  {
   "cell_type": "code",
   "execution_count": 30,
   "id": "88439ada-c7e2-49b1-bdac-f2b70c9b7d4c",
   "metadata": {
    "tags": []
   },
   "outputs": [
    {
     "name": "stdout",
     "output_type": "stream",
     "text": [
      "Number of documents per topic : [15199  9785 11908  8073  8503 10788  6985  9935 14617 15224  7681 17945\n",
      " 10011 11767 10976 15285 10709 10230 26345]\n",
      "Most important clusters (by number of docs inside): [18 11 15  9  0  8  2 13 14  5 16 17 12  7  1  4  3 10  6]\n",
      "\n",
      "Cluster 18 : [('khk', 5065), ('bir', 4275), ('adalet', 2567), ('hukuk', 1783), ('khklilar', 1619), ('devam', 1612), ('kadar', 1587), ('khklar', 1531), ('khkli', 1453), ('mucadele', 1376), ('istiyoruz', 1364), ('artik', 1358), ('hak', 1283), ('birlikte', 1224), ('ulkenin', 1211), ('degil', 1152), ('olarak', 1086), ('istiyor', 1033), ('geri', 934), ('olan', 890)]\n",
      "\n",
      "Cluster 11 : [('bir', 6261), ('hukuk', 3627), ('adalet', 2366), ('insan', 1138), ('degil', 1087), ('evrensel', 1084), ('yok', 943), ('suc', 933), ('olan', 895), ('hukukun', 866), ('istiyoruz', 865), ('hak', 786), ('adil', 746), ('olarak', 708), ('ulke', 698), ('yargi', 686), ('demokrasi', 654), ('ulkede', 624), ('khk', 618), ('adilyargi', 593)]\n",
      "\n",
      "Cluster 15 : [('bir', 3828), ('khk', 2752), ('ohal', 2146), ('ihrac', 1988), ('suc', 1500), ('insan', 1462), ('khklar', 1310), ('edildi', 1188), ('bin', 1010), ('binlerce', 967), ('kamu', 934), ('hak', 900), ('hukuk', 886), ('hukuksuz', 878), ('edilen', 865), ('iade', 835), ('khkli', 824), ('olmayan', 791), ('kisi', 754), ('sivil', 750)]\n",
      "\n",
      "Cluster 9 : [('bir', 7085), ('degil', 1639), ('yok', 1547), ('var', 1284), ('kadar', 1273), ('ben', 1144), ('boyle', 843), ('bile', 761), ('insan', 687), ('iyi', 659), ('bunu', 628), ('oyle', 578), ('sadece', 529), ('olarak', 520), ('herkes', 513), ('kendi', 500), ('olan', 482), ('zaten', 474), ('artik', 429), ('zaman', 427)]\n",
      "\n",
      "Cluster 0 : [('bir', 3923), ('var', 900), ('cocuklar', 745), ('kadar', 731), ('adalet', 687), ('artik', 681), ('yok', 658), ('degil', 625), ('cocuk', 621), ('hasta', 582), ('masum', 572), ('insan', 526), ('cezaevinde', 525), ('anne', 497), ('insanlar', 487), ('olan', 485), ('cocuklarin', 457), ('bile', 446), ('zulum', 439), ('gun', 431)]\n",
      "\n",
      "Cluster 8 : [('bir', 4896), ('olsun', 1799), ('guzel', 1257), ('iyi', 970), ('ben', 860), ('var', 808), ('gecmis', 574), ('yeni', 535), ('kadar', 493), ('tesekkur', 440), ('gun', 438), ('ederim', 426), ('sevgili', 416), ('bugun', 409), ('hocam', 405), ('zaman', 400), ('saglik', 376), ('insan', 369), ('yok', 369), ('degil', 364)]\n",
      "\n",
      "Cluster 2 : [('bir', 3574), ('akp', 776), ('var', 725), ('degil', 635), ('secim', 614), ('kadar', 556), ('yok', 504), ('erdogan', 491), ('olarak', 490), ('oy', 481), ('baskani', 427), ('olan', 422), ('hdp', 408), ('parti', 405), ('muhalefet', 401), ('genel', 384), ('iyi', 369), ('yeni', 365), ('iktidar', 359), ('chp', 349)]\n",
      "\n",
      "Cluster 13 : [('kadin', 2838), ('bir', 2464), ('haklari', 1520), ('istanbul', 1204), ('insan', 1198), ('olarak', 933), ('yonelik', 747), ('kadinlarin', 732), ('siddet', 684), ('karsi', 680), ('2022', 605), ('kadinlar', 602), ('kadina', 594), ('anayasa', 533), ('cinsiyet', 524), ('toplumsal', 514), ('olan', 501), ('ilk', 414), ('baskani', 411), ('hak', 406)]\n",
      "\n",
      "Cluster 14 : [('khk', 2080), ('bir', 1508), ('genel', 1266), ('tesekkur', 1075), ('olarak', 1046), ('il', 908), ('sayin', 808), ('saat', 739), ('baskani', 658), ('platformu', 654), ('khkli', 650), ('ederiz', 645), ('bugun', 624), ('khklilar', 613), ('birlikte', 594), ('baskanimiz', 581), ('ziyaret', 557), ('chp', 546), ('olan', 493), ('aksam', 493)]\n",
      "\n",
      "Cluster 5 : [('bir', 4076), ('khkli', 1034), ('6', 925), ('yil', 878), ('iskence', 826), ('sonra', 792), ('2', 764), ('askeri', 760), ('olan', 732), ('gun', 698), ('ay', 676), ('var', 635), ('once', 621), ('cezaevinde', 621), ('cocuk', 587), ('muebbet', 577), ('ev', 571), ('polis', 564), ('yasinda', 550), ('yildir', 543)]\n",
      "\n",
      "Cluster 16 : [('bir', 1896), ('kadin', 1685), ('karsi', 1600), ('kadinlar', 1279), ('istanbul', 744), ('gunu', 664), ('polis', 656), ('devam', 610), ('bugun', 606), ('birlikte', 594), ('feminist', 584), ('kadinlarin', 502), ('gozaltina', 498), ('mucadele', 497), ('saat', 494), ('8', 487), ('1', 476), ('erkek', 439), ('mart', 438), ('basin', 435)]\n",
      "\n",
      "Cluster 17 : [('bir', 3049), ('var', 894), ('tl', 759), ('1', 645), ('bin', 618), ('yok', 608), ('degil', 584), ('yuzde', 544), ('olarak', 492), ('kadar', 481), ('gore', 471), ('2', 453), ('milyon', 451), ('zam', 448), ('olan', 447), ('elektrik', 404), ('3', 390), ('yoksulluk', 388), ('son', 370), ('bugun', 367)]\n",
      "\n",
      "Cluster 12 : [('bir', 4222), ('karar', 992), ('karari', 954), ('olarak', 941), ('aihm', 751), ('suc', 676), ('yok', 633), ('yargi', 607), ('ilgili', 593), ('var', 574), ('ihlal', 563), ('ceza', 562), ('insan', 553), ('degil', 542), ('olan', 515), ('gore', 512), ('hak', 479), ('haklari', 476), ('kadar', 465), ('aym', 441)]\n",
      "\n",
      "Cluster 7 : [('bir', 1665), ('gazeteci', 1121), ('ceza', 824), ('gozaltina', 821), ('karar', 671), ('yil', 660), ('mahkeme', 660), ('yargilandigi', 639), ('baskani', 612), ('serbest', 595), ('bugun', 548), ('hakkinda', 545), ('davanin', 541), ('durusmasi', 528), ('istanbul', 523), ('hapis', 500), ('karari', 496), ('davasi', 480), ('sebnem', 463), ('tarafindan', 446)]\n",
      "\n",
      "Cluster 1 : [('cezaevinde', 2828), ('bir', 2118), ('tutuklu', 1791), ('hasta', 1600), ('hastasi', 1580), ('olan', 1279), ('kanser', 1278), ('tahliye', 1208), ('yusuf', 947), ('u', 941), ('var', 867), ('engelli', 867), ('yasindaki', 815), ('esi', 721), ('kalp', 668), ('ji', 653), ('yildir', 652), ('agir', 634), ('kanseri', 584), ('hamile', 583)]\n",
      "\n",
      "Cluster 4 : [('bir', 1997), ('kurt', 737), ('turkiye', 719), ('araciligiyla', 672), ('karsi', 633), ('turk', 567), ('kurdistan', 480), ('son', 470), ('rusya', 459), ('erdogan', 421), ('abd', 421), ('var', 416), ('savas', 415), ('suriye', 363), ('gazeteci', 359), ('iran', 334), ('ukrayna', 317), ('rojava', 313), ('yeni', 285), ('saldiri', 283)]\n",
      "\n",
      "Cluster 3 : [('bir', 2157), ('uygur', 1025), ('dogu', 976), ('kadin', 699), ('cin', 610), ('insan', 549), ('tarafindan', 481), ('haklari', 477), ('olarak', 420), ('karsi', 418), ('turkistan', 418), ('iran', 404), ('dunya', 399), ('kadinlar', 389), ('cinin', 360), ('turkiye', 315), ('olan', 313), ('bm', 290), ('iranda', 286), ('soykirim', 261)]\n",
      "\n",
      "Cluster 10 : [('bir', 1935), ('olsun', 778), ('adalet', 701), ('yusuf', 641), ('gun', 623), ('bilge', 614), ('diril', 548), ('kayip', 515), ('gulistan', 508), ('yil', 504), ('hurmuz', 504), ('tunc', 503), ('rahmet', 499), ('sibel', 449), ('gundur', 434), ('bugun', 391), ('doku', 358), ('diliyorum', 355), ('once', 352), ('gokhan', 352)]\n",
      "\n",
      "Cluster 6 : [('bir', 1615), ('yok', 308), ('is', 284), ('olan', 258), ('degil', 254), ('1', 249), ('var', 248), ('the', 237), ('2', 220), ('olarak', 216), ('for', 196), ('sanliurfa', 192), ('sonra', 190), ('istanbul', 188), ('hayatini', 184), ('in', 184), ('3', 181), ('gundur', 179), ('belediye', 176), ('tarafindan', 175)]\n"
     ]
    }
   ],
   "source": [
    "filtered_sorted_gsdmm_models = [m for m in sorted_gsdmm_models if m[\"K\"] < 26]\n",
    "print_top_words_gsdmm(filtered_sorted_gsdmm_models[0][\"model\"])"
   ]
  },
  {
   "cell_type": "code",
   "execution_count": 31,
   "id": "bee5af2b-08e6-42fd-a4c6-327aae230a4c",
   "metadata": {
    "tags": []
   },
   "outputs": [],
   "source": [
    "cluster_to_meaning_mapping = {\n",
    "    18: \"decree-law\",\n",
    "    11: \"search for justice\",\n",
    "    15: \"dismissal of governmental workers\",\n",
    "    9: \"irrelevant tweets\",\n",
    "    0: \"injustice against children\",\n",
    "    8: \"expressing wishes\",\n",
    "    2: \"politics\",\n",
    "    13: \"woman rights\",\n",
    "    14: \"invitation, agenda declaration\",\n",
    "    5: \"death, torture, suicide\",\n",
    "    16: \"democracy\",\n",
    "    17: \"inflation, financial instability\",\n",
    "    12: \"supreme court\",\n",
    "    7: \"freedom of speech\",\n",
    "    1: \"vulnerable, sick people\",\n",
    "    4: \"internatial relations\",\n",
    "    3: \"Uyghurs in China\",\n",
    "    10: \"lost people\",\n",
    "    6: \"activism for nature\",\n",
    "}"
   ]
  },
  {
   "cell_type": "code",
   "execution_count": 27,
   "id": "ea7b8cfa-2615-4b1b-b63f-182f05f1490c",
   "metadata": {
    "tags": []
   },
   "outputs": [
    {
     "data": {
      "text/html": [
       "<div>\n",
       "<style scoped>\n",
       "    .dataframe tbody tr th:only-of-type {\n",
       "        vertical-align: middle;\n",
       "    }\n",
       "\n",
       "    .dataframe tbody tr th {\n",
       "        vertical-align: top;\n",
       "    }\n",
       "\n",
       "    .dataframe thead th {\n",
       "        text-align: right;\n",
       "    }\n",
       "</style>\n",
       "<table border=\"1\" class=\"dataframe\">\n",
       "  <thead>\n",
       "    <tr style=\"text-align: right;\">\n",
       "      <th></th>\n",
       "      <th>coherence_score</th>\n",
       "      <th>K</th>\n",
       "    </tr>\n",
       "  </thead>\n",
       "  <tbody>\n",
       "    <tr>\n",
       "      <th>0</th>\n",
       "      <td>0.521888</td>\n",
       "      <td>19</td>\n",
       "    </tr>\n",
       "    <tr>\n",
       "      <th>1</th>\n",
       "      <td>0.514132</td>\n",
       "      <td>23</td>\n",
       "    </tr>\n",
       "    <tr>\n",
       "      <th>2</th>\n",
       "      <td>0.514060</td>\n",
       "      <td>20</td>\n",
       "    </tr>\n",
       "    <tr>\n",
       "      <th>3</th>\n",
       "      <td>0.513469</td>\n",
       "      <td>24</td>\n",
       "    </tr>\n",
       "    <tr>\n",
       "      <th>4</th>\n",
       "      <td>0.507984</td>\n",
       "      <td>18</td>\n",
       "    </tr>\n",
       "    <tr>\n",
       "      <th>5</th>\n",
       "      <td>0.506312</td>\n",
       "      <td>25</td>\n",
       "    </tr>\n",
       "    <tr>\n",
       "      <th>6</th>\n",
       "      <td>0.504451</td>\n",
       "      <td>14</td>\n",
       "    </tr>\n",
       "    <tr>\n",
       "      <th>7</th>\n",
       "      <td>0.499866</td>\n",
       "      <td>13</td>\n",
       "    </tr>\n",
       "    <tr>\n",
       "      <th>8</th>\n",
       "      <td>0.499801</td>\n",
       "      <td>16</td>\n",
       "    </tr>\n",
       "    <tr>\n",
       "      <th>9</th>\n",
       "      <td>0.493687</td>\n",
       "      <td>15</td>\n",
       "    </tr>\n",
       "    <tr>\n",
       "      <th>10</th>\n",
       "      <td>0.491077</td>\n",
       "      <td>22</td>\n",
       "    </tr>\n",
       "    <tr>\n",
       "      <th>11</th>\n",
       "      <td>0.487238</td>\n",
       "      <td>21</td>\n",
       "    </tr>\n",
       "    <tr>\n",
       "      <th>12</th>\n",
       "      <td>0.486590</td>\n",
       "      <td>17</td>\n",
       "    </tr>\n",
       "    <tr>\n",
       "      <th>13</th>\n",
       "      <td>0.483959</td>\n",
       "      <td>12</td>\n",
       "    </tr>\n",
       "    <tr>\n",
       "      <th>14</th>\n",
       "      <td>0.480255</td>\n",
       "      <td>9</td>\n",
       "    </tr>\n",
       "    <tr>\n",
       "      <th>15</th>\n",
       "      <td>0.474672</td>\n",
       "      <td>11</td>\n",
       "    </tr>\n",
       "    <tr>\n",
       "      <th>16</th>\n",
       "      <td>0.463963</td>\n",
       "      <td>10</td>\n",
       "    </tr>\n",
       "    <tr>\n",
       "      <th>17</th>\n",
       "      <td>0.462140</td>\n",
       "      <td>4</td>\n",
       "    </tr>\n",
       "    <tr>\n",
       "      <th>18</th>\n",
       "      <td>0.454534</td>\n",
       "      <td>6</td>\n",
       "    </tr>\n",
       "    <tr>\n",
       "      <th>19</th>\n",
       "      <td>0.447482</td>\n",
       "      <td>7</td>\n",
       "    </tr>\n",
       "    <tr>\n",
       "      <th>20</th>\n",
       "      <td>0.446636</td>\n",
       "      <td>5</td>\n",
       "    </tr>\n",
       "    <tr>\n",
       "      <th>21</th>\n",
       "      <td>0.438602</td>\n",
       "      <td>8</td>\n",
       "    </tr>\n",
       "    <tr>\n",
       "      <th>22</th>\n",
       "      <td>0.401257</td>\n",
       "      <td>3</td>\n",
       "    </tr>\n",
       "  </tbody>\n",
       "</table>\n",
       "</div>"
      ],
      "text/plain": [
       "    coherence_score   K\n",
       "0          0.521888  19\n",
       "1          0.514132  23\n",
       "2          0.514060  20\n",
       "3          0.513469  24\n",
       "4          0.507984  18\n",
       "5          0.506312  25\n",
       "6          0.504451  14\n",
       "7          0.499866  13\n",
       "8          0.499801  16\n",
       "9          0.493687  15\n",
       "10         0.491077  22\n",
       "11         0.487238  21\n",
       "12         0.486590  17\n",
       "13         0.483959  12\n",
       "14         0.480255   9\n",
       "15         0.474672  11\n",
       "16         0.463963  10\n",
       "17         0.462140   4\n",
       "18         0.454534   6\n",
       "19         0.447482   7\n",
       "20         0.446636   5\n",
       "21         0.438602   8\n",
       "22         0.401257   3"
      ]
     },
     "execution_count": 27,
     "metadata": {},
     "output_type": "execute_result"
    }
   ],
   "source": [
    "sttm_scores = pd.DataFrame(\n",
    "    [\n",
    "        {\"coherence_score\": m[\"coherence_score\"], \"K\": m[\"K\"]}\n",
    "        for m in filtered_sorted_gsdmm_models\n",
    "        if m[\"K\"] < 26\n",
    "    ]\n",
    ")\n",
    "sttm_scores"
   ]
  },
  {
   "cell_type": "code",
   "execution_count": 28,
   "id": "25392f4d-e562-4fa0-890b-162891224d81",
   "metadata": {
    "tags": []
   },
   "outputs": [],
   "source": [
    "sttm_scores.to_csv(\"sttm_scores.csv\", index=False)"
   ]
  }
 ],
 "metadata": {
  "kernelspec": {
   "display_name": "kuleuven-thesis",
   "language": "python",
   "name": "kuleuven-thesis"
  },
  "language_info": {
   "codemirror_mode": {
    "name": "ipython",
    "version": 3
   },
   "file_extension": ".py",
   "mimetype": "text/x-python",
   "name": "python",
   "nbconvert_exporter": "python",
   "pygments_lexer": "ipython3",
   "version": "3.10.9"
  }
 },
 "nbformat": 4,
 "nbformat_minor": 5
}
