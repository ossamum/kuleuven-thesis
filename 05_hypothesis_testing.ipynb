{
 "cells": [
  {
   "cell_type": "code",
   "execution_count": 64,
   "id": "e59a0907-9124-4763-987b-407717f6d79a",
   "metadata": {
    "pycharm": {
     "name": "#%%\n"
    },
    "tags": []
   },
   "outputs": [],
   "source": [
    "import matplotlib.pyplot as plt\n",
    "import pandas as pd\n",
    "import scipy\n",
    "from scipy.stats import anderson, mannwhitneyu, shapiro, spearmanr\n",
    "\n",
    "pd.set_option(\"display.max_columns\", None)\n",
    "pd.set_option(\"display.max_rows\", None)\n",
    "sns.set()"
   ]
  },
  {
   "cell_type": "code",
   "execution_count": 65,
   "id": "b1555250-e922-4f5b-8b7f-d2b3a1f5bf65",
   "metadata": {
    "pycharm": {
     "name": "#%%\n"
    },
    "tags": []
   },
   "outputs": [
    {
     "data": {
      "text/html": [
       "<div>\n",
       "<style scoped>\n",
       "    .dataframe tbody tr th:only-of-type {\n",
       "        vertical-align: middle;\n",
       "    }\n",
       "\n",
       "    .dataframe tbody tr th {\n",
       "        vertical-align: top;\n",
       "    }\n",
       "\n",
       "    .dataframe thead th {\n",
       "        text-align: right;\n",
       "    }\n",
       "</style>\n",
       "<table border=\"1\" class=\"dataframe\">\n",
       "  <thead>\n",
       "    <tr style=\"text-align: right;\">\n",
       "      <th></th>\n",
       "      <th>author_id</th>\n",
       "      <th>context_annotations</th>\n",
       "      <th>conversation_id</th>\n",
       "      <th>created_at</th>\n",
       "      <th>edit_history_tweet_ids</th>\n",
       "      <th>id</th>\n",
       "      <th>in_reply_to_user_id</th>\n",
       "      <th>lang</th>\n",
       "      <th>possibly_sensitive</th>\n",
       "      <th>referenced_tweets</th>\n",
       "      <th>reply_settings</th>\n",
       "      <th>text</th>\n",
       "      <th>author</th>\n",
       "      <th>withheld</th>\n",
       "      <th>geo</th>\n",
       "      <th>quote_count</th>\n",
       "      <th>retweet_count</th>\n",
       "      <th>like_count</th>\n",
       "      <th>reply_count</th>\n",
       "      <th>impression_count</th>\n",
       "      <th>media_keys</th>\n",
       "      <th>poll_ids</th>\n",
       "      <th>hashtags</th>\n",
       "      <th>urls</th>\n",
       "      <th>mentions</th>\n",
       "      <th>cashtags</th>\n",
       "      <th>annotations</th>\n",
       "      <th>is_retweet</th>\n",
       "      <th>gender_of_author</th>\n",
       "      <th>profession_of_author</th>\n",
       "      <th>hashtags_flattened</th>\n",
       "      <th>trend_topics</th>\n",
       "      <th>n_trend_topics</th>\n",
       "      <th>text_length</th>\n",
       "      <th>has_media</th>\n",
       "      <th>has_hashtags</th>\n",
       "      <th>has_mentions</th>\n",
       "      <th>is_reply</th>\n",
       "      <th>tweet_type</th>\n",
       "      <th>ratio_like</th>\n",
       "      <th>ratio_retweet</th>\n",
       "      <th>majority_lang</th>\n",
       "      <th>english</th>\n",
       "      <th>universal</th>\n",
       "      <th>eng_astroturf</th>\n",
       "      <th>eng_fake_follower</th>\n",
       "      <th>eng_financial</th>\n",
       "      <th>eng_other</th>\n",
       "      <th>eng_overall</th>\n",
       "      <th>eng_self_declared</th>\n",
       "      <th>eng_spammer</th>\n",
       "      <th>uni_astroturf</th>\n",
       "      <th>uni_fake_follower</th>\n",
       "      <th>uni_financial</th>\n",
       "      <th>uni_other</th>\n",
       "      <th>uni_overall</th>\n",
       "      <th>uni_self_declared</th>\n",
       "      <th>uni_spammer</th>\n",
       "      <th>verified_author</th>\n",
       "      <th>followers_count_author</th>\n",
       "      <th>following_count_author</th>\n",
       "      <th>tweet_count_author</th>\n",
       "      <th>age_of_account_in_days_author</th>\n",
       "      <th>sentiment</th>\n",
       "      <th>created_at_day_of_week</th>\n",
       "      <th>created_at_month_of_year</th>\n",
       "      <th>created_at_time_of_day_in_seconds</th>\n",
       "      <th>reply_to_tweet_ratio</th>\n",
       "      <th>retweet_to_tweet_ratio</th>\n",
       "      <th>average_tweets_of_author_per_day</th>\n",
       "      <th>media_media_key_1</th>\n",
       "      <th>media_type_1</th>\n",
       "      <th>media_height_1</th>\n",
       "      <th>media_url_1</th>\n",
       "      <th>media_width_1</th>\n",
       "      <th>media_public_metrics_1</th>\n",
       "      <th>media_preview_image_url_1</th>\n",
       "      <th>media_duration_ms_1</th>\n",
       "      <th>media_alt_text_1</th>\n",
       "      <th>media_media_key_2</th>\n",
       "      <th>media_type_2</th>\n",
       "      <th>media_height_2</th>\n",
       "      <th>media_url_2</th>\n",
       "      <th>media_width_2</th>\n",
       "      <th>media_public_metrics_2</th>\n",
       "      <th>media_preview_image_url_2</th>\n",
       "      <th>media_duration_ms_2</th>\n",
       "      <th>media_alt_text_2</th>\n",
       "      <th>media_media_key_3</th>\n",
       "      <th>media_type_3</th>\n",
       "      <th>media_height_3</th>\n",
       "      <th>media_url_3</th>\n",
       "      <th>media_width_3</th>\n",
       "      <th>media_public_metrics_3</th>\n",
       "      <th>media_preview_image_url_3</th>\n",
       "      <th>media_duration_ms_3</th>\n",
       "      <th>media_alt_text_3</th>\n",
       "      <th>media_media_key_4</th>\n",
       "      <th>media_type_4</th>\n",
       "      <th>media_height_4</th>\n",
       "      <th>media_url_4</th>\n",
       "      <th>media_width_4</th>\n",
       "      <th>media_public_metrics_4</th>\n",
       "      <th>media_preview_image_url_4</th>\n",
       "      <th>media_duration_ms_4</th>\n",
       "      <th>media_alt_text_4</th>\n",
       "      <th>sttm_topic</th>\n",
       "      <th>political_context_annotation</th>\n",
       "      <th>created_at_year</th>\n",
       "      <th>created_at_time_of_day_in_seconds_sin</th>\n",
       "      <th>created_at_time_of_day_in_seconds_cos</th>\n",
       "      <th>n_media_keys</th>\n",
       "      <th>n_hashtags</th>\n",
       "      <th>n_urls</th>\n",
       "      <th>n_mentions</th>\n",
       "      <th>media_resolution_1</th>\n",
       "      <th>media_resolution_2</th>\n",
       "      <th>media_resolution_3</th>\n",
       "      <th>media_resolution_4</th>\n",
       "      <th>fear</th>\n",
       "      <th>anger</th>\n",
       "      <th>anticip</th>\n",
       "      <th>trust</th>\n",
       "      <th>surprise</th>\n",
       "      <th>positive</th>\n",
       "      <th>negative</th>\n",
       "      <th>sadness</th>\n",
       "      <th>disgust</th>\n",
       "      <th>joy</th>\n",
       "      <th>anticipation</th>\n",
       "      <th>translated_tweet</th>\n",
       "      <th>age_of_account_in_days_author_when_tweeted</th>\n",
       "      <th>posted_during_an_important_event</th>\n",
       "      <th>n_photos</th>\n",
       "      <th>n_videos</th>\n",
       "      <th>n_animated_gif</th>\n",
       "      <th>clean_text</th>\n",
       "      <th>word_count</th>\n",
       "      <th>new_lang</th>\n",
       "    </tr>\n",
       "  </thead>\n",
       "  <tbody>\n",
       "    <tr>\n",
       "      <th>0</th>\n",
       "      <td>1449804331142811655</td>\n",
       "      <td>[]</td>\n",
       "      <td>1617597872803041280</td>\n",
       "      <td>2023-01-23 18:59:21</td>\n",
       "      <td>[1617597872803041280]</td>\n",
       "      <td>1617597872803041280</td>\n",
       "      <td>NaN</td>\n",
       "      <td>tr</td>\n",
       "      <td>False</td>\n",
       "      <td>NaN</td>\n",
       "      <td>everyone</td>\n",
       "      <td>Kararlarındaki temel dayanak, hukukun evrensel...</td>\n",
       "      <td>Goksun_KHK</td>\n",
       "      <td>NaN</td>\n",
       "      <td>NaN</td>\n",
       "      <td>0</td>\n",
       "      <td>2</td>\n",
       "      <td>1</td>\n",
       "      <td>0</td>\n",
       "      <td>82</td>\n",
       "      <td>NaN</td>\n",
       "      <td>NaN</td>\n",
       "      <td>[{'start': 95, 'end': 120, 'tag': 'OhalKomisyo...</td>\n",
       "      <td>NaN</td>\n",
       "      <td>NaN</td>\n",
       "      <td>NaN</td>\n",
       "      <td>NaN</td>\n",
       "      <td>0</td>\n",
       "      <td>ORG</td>\n",
       "      <td>UNKNOWN</td>\n",
       "      <td>OhalKomisyonuHukuksuzdur</td>\n",
       "      <td>OhalKomisyonuHukuksuzdur</td>\n",
       "      <td>1</td>\n",
       "      <td>120</td>\n",
       "      <td>0</td>\n",
       "      <td>1</td>\n",
       "      <td>0</td>\n",
       "      <td>0</td>\n",
       "      <td>standard</td>\n",
       "      <td>0.012195</td>\n",
       "      <td>0.024390</td>\n",
       "      <td>tr</td>\n",
       "      <td>0.874858</td>\n",
       "      <td>0.847463</td>\n",
       "      <td>0.13</td>\n",
       "      <td>0.51</td>\n",
       "      <td>0.22</td>\n",
       "      <td>0.91</td>\n",
       "      <td>0.91</td>\n",
       "      <td>0.08</td>\n",
       "      <td>0.25</td>\n",
       "      <td>0.12</td>\n",
       "      <td>0.44</td>\n",
       "      <td>0.1</td>\n",
       "      <td>0.87</td>\n",
       "      <td>0.87</td>\n",
       "      <td>0.19</td>\n",
       "      <td>0.16</td>\n",
       "      <td>False</td>\n",
       "      <td>1107.0</td>\n",
       "      <td>174.0</td>\n",
       "      <td>2962.0</td>\n",
       "      <td>470.0</td>\n",
       "      <td>0.994189</td>\n",
       "      <td>0</td>\n",
       "      <td>1</td>\n",
       "      <td>68361</td>\n",
       "      <td>0.013817</td>\n",
       "      <td>0.435233</td>\n",
       "      <td>1.231915</td>\n",
       "      <td>NaN</td>\n",
       "      <td>NaN</td>\n",
       "      <td>NaN</td>\n",
       "      <td>NaN</td>\n",
       "      <td>NaN</td>\n",
       "      <td>NaN</td>\n",
       "      <td>NaN</td>\n",
       "      <td>NaN</td>\n",
       "      <td>NaN</td>\n",
       "      <td>NaN</td>\n",
       "      <td>NaN</td>\n",
       "      <td>NaN</td>\n",
       "      <td>NaN</td>\n",
       "      <td>NaN</td>\n",
       "      <td>NaN</td>\n",
       "      <td>NaN</td>\n",
       "      <td>NaN</td>\n",
       "      <td>NaN</td>\n",
       "      <td>NaN</td>\n",
       "      <td>NaN</td>\n",
       "      <td>NaN</td>\n",
       "      <td>NaN</td>\n",
       "      <td>NaN</td>\n",
       "      <td>NaN</td>\n",
       "      <td>NaN</td>\n",
       "      <td>NaN</td>\n",
       "      <td>NaN</td>\n",
       "      <td>NaN</td>\n",
       "      <td>NaN</td>\n",
       "      <td>NaN</td>\n",
       "      <td>NaN</td>\n",
       "      <td>NaN</td>\n",
       "      <td>NaN</td>\n",
       "      <td>NaN</td>\n",
       "      <td>NaN</td>\n",
       "      <td>NaN</td>\n",
       "      <td>search for justice</td>\n",
       "      <td>False</td>\n",
       "      <td>2023</td>\n",
       "      <td>0.976296</td>\n",
       "      <td>0.216440</td>\n",
       "      <td>0.0</td>\n",
       "      <td>1</td>\n",
       "      <td>0</td>\n",
       "      <td>0</td>\n",
       "      <td>NaN</td>\n",
       "      <td>NaN</td>\n",
       "      <td>NaN</td>\n",
       "      <td>NaN</td>\n",
       "      <td>0.0</td>\n",
       "      <td>0.0</td>\n",
       "      <td>0.0</td>\n",
       "      <td>1.0</td>\n",
       "      <td>0.0</td>\n",
       "      <td>0.0</td>\n",
       "      <td>0.0</td>\n",
       "      <td>0.0</td>\n",
       "      <td>0.0</td>\n",
       "      <td>0.0</td>\n",
       "      <td>0.0</td>\n",
       "      <td>The basic basis in their decisions is the demo...</td>\n",
       "      <td>463.0</td>\n",
       "      <td>0.0</td>\n",
       "      <td>0</td>\n",
       "      <td>0</td>\n",
       "      <td>0</td>\n",
       "      <td>Kararlarındaki temel dayanak, hukukun evrensel...</td>\n",
       "      <td>11</td>\n",
       "      <td>tr</td>\n",
       "    </tr>\n",
       "    <tr>\n",
       "      <th>1</th>\n",
       "      <td>1449804331142811655</td>\n",
       "      <td>[]</td>\n",
       "      <td>1617597646339702823</td>\n",
       "      <td>2023-01-23 18:58:27</td>\n",
       "      <td>[1617597646339702823]</td>\n",
       "      <td>1617597646339702823</td>\n",
       "      <td>NaN</td>\n",
       "      <td>fr</td>\n",
       "      <td>False</td>\n",
       "      <td>NaN</td>\n",
       "      <td>everyone</td>\n",
       "      <td>#OhalKomisyonuHukuksuzdur https://t.co/3aUr5MZWPU</td>\n",
       "      <td>Goksun_KHK</td>\n",
       "      <td>NaN</td>\n",
       "      <td>NaN</td>\n",
       "      <td>0</td>\n",
       "      <td>1</td>\n",
       "      <td>0</td>\n",
       "      <td>0</td>\n",
       "      <td>52</td>\n",
       "      <td>[3_1617597636604723228]</td>\n",
       "      <td>NaN</td>\n",
       "      <td>[{'start': 0, 'end': 25, 'tag': 'OhalKomisyonu...</td>\n",
       "      <td>[{'start': 26, 'end': 49, 'url': 'https://t.co...</td>\n",
       "      <td>NaN</td>\n",
       "      <td>NaN</td>\n",
       "      <td>NaN</td>\n",
       "      <td>0</td>\n",
       "      <td>ORG</td>\n",
       "      <td>UNKNOWN</td>\n",
       "      <td>OhalKomisyonuHukuksuzdur</td>\n",
       "      <td>OhalKomisyonuHukuksuzdur</td>\n",
       "      <td>1</td>\n",
       "      <td>49</td>\n",
       "      <td>1</td>\n",
       "      <td>1</td>\n",
       "      <td>0</td>\n",
       "      <td>0</td>\n",
       "      <td>standard</td>\n",
       "      <td>0.000000</td>\n",
       "      <td>0.019231</td>\n",
       "      <td>tr</td>\n",
       "      <td>0.874858</td>\n",
       "      <td>0.847463</td>\n",
       "      <td>0.13</td>\n",
       "      <td>0.51</td>\n",
       "      <td>0.22</td>\n",
       "      <td>0.91</td>\n",
       "      <td>0.91</td>\n",
       "      <td>0.08</td>\n",
       "      <td>0.25</td>\n",
       "      <td>0.12</td>\n",
       "      <td>0.44</td>\n",
       "      <td>0.1</td>\n",
       "      <td>0.87</td>\n",
       "      <td>0.87</td>\n",
       "      <td>0.19</td>\n",
       "      <td>0.16</td>\n",
       "      <td>False</td>\n",
       "      <td>1107.0</td>\n",
       "      <td>174.0</td>\n",
       "      <td>2962.0</td>\n",
       "      <td>470.0</td>\n",
       "      <td>0.733746</td>\n",
       "      <td>0</td>\n",
       "      <td>1</td>\n",
       "      <td>68307</td>\n",
       "      <td>0.013817</td>\n",
       "      <td>0.435233</td>\n",
       "      <td>1.231915</td>\n",
       "      <td>3_1617597636604723228</td>\n",
       "      <td>photo</td>\n",
       "      <td>1600.0</td>\n",
       "      <td>https://pbs.twimg.com/media/FnLceudWABwBC4b.jpg</td>\n",
       "      <td>1600.0</td>\n",
       "      <td>NaN</td>\n",
       "      <td>NaN</td>\n",
       "      <td>NaN</td>\n",
       "      <td>NaN</td>\n",
       "      <td>NaN</td>\n",
       "      <td>NaN</td>\n",
       "      <td>NaN</td>\n",
       "      <td>NaN</td>\n",
       "      <td>NaN</td>\n",
       "      <td>NaN</td>\n",
       "      <td>NaN</td>\n",
       "      <td>NaN</td>\n",
       "      <td>NaN</td>\n",
       "      <td>NaN</td>\n",
       "      <td>NaN</td>\n",
       "      <td>NaN</td>\n",
       "      <td>NaN</td>\n",
       "      <td>NaN</td>\n",
       "      <td>NaN</td>\n",
       "      <td>NaN</td>\n",
       "      <td>NaN</td>\n",
       "      <td>NaN</td>\n",
       "      <td>NaN</td>\n",
       "      <td>NaN</td>\n",
       "      <td>NaN</td>\n",
       "      <td>NaN</td>\n",
       "      <td>NaN</td>\n",
       "      <td>NaN</td>\n",
       "      <td>NaN</td>\n",
       "      <td>NaN</td>\n",
       "      <td>NaN</td>\n",
       "      <td>other</td>\n",
       "      <td>False</td>\n",
       "      <td>2023</td>\n",
       "      <td>-0.537300</td>\n",
       "      <td>-0.843391</td>\n",
       "      <td>1.0</td>\n",
       "      <td>1</td>\n",
       "      <td>1</td>\n",
       "      <td>0</td>\n",
       "      <td>2560000.0</td>\n",
       "      <td>NaN</td>\n",
       "      <td>NaN</td>\n",
       "      <td>NaN</td>\n",
       "      <td>NaN</td>\n",
       "      <td>NaN</td>\n",
       "      <td>NaN</td>\n",
       "      <td>NaN</td>\n",
       "      <td>NaN</td>\n",
       "      <td>NaN</td>\n",
       "      <td>NaN</td>\n",
       "      <td>NaN</td>\n",
       "      <td>NaN</td>\n",
       "      <td>NaN</td>\n",
       "      <td>NaN</td>\n",
       "      <td>NaN</td>\n",
       "      <td>463.0</td>\n",
       "      <td>0.0</td>\n",
       "      <td>1</td>\n",
       "      <td>0</td>\n",
       "      <td>0</td>\n",
       "      <td></td>\n",
       "      <td>0</td>\n",
       "      <td>very_short</td>\n",
       "    </tr>\n",
       "    <tr>\n",
       "      <th>3</th>\n",
       "      <td>1449804331142811655</td>\n",
       "      <td>[]</td>\n",
       "      <td>1617597543000440844</td>\n",
       "      <td>2023-01-23 18:58:02</td>\n",
       "      <td>[1617597543000440844]</td>\n",
       "      <td>1617597543000440844</td>\n",
       "      <td>NaN</td>\n",
       "      <td>de</td>\n",
       "      <td>False</td>\n",
       "      <td>NaN</td>\n",
       "      <td>everyone</td>\n",
       "      <td>#OhalKomisyonuHukuksuzdur https://t.co/FHdc5DQ0u0</td>\n",
       "      <td>Goksun_KHK</td>\n",
       "      <td>NaN</td>\n",
       "      <td>NaN</td>\n",
       "      <td>1</td>\n",
       "      <td>1</td>\n",
       "      <td>1</td>\n",
       "      <td>0</td>\n",
       "      <td>86</td>\n",
       "      <td>[3_1617597534494392354]</td>\n",
       "      <td>NaN</td>\n",
       "      <td>[{'start': 0, 'end': 25, 'tag': 'OhalKomisyonu...</td>\n",
       "      <td>[{'start': 26, 'end': 49, 'url': 'https://t.co...</td>\n",
       "      <td>NaN</td>\n",
       "      <td>NaN</td>\n",
       "      <td>NaN</td>\n",
       "      <td>0</td>\n",
       "      <td>ORG</td>\n",
       "      <td>UNKNOWN</td>\n",
       "      <td>OhalKomisyonuHukuksuzdur</td>\n",
       "      <td>OhalKomisyonuHukuksuzdur</td>\n",
       "      <td>1</td>\n",
       "      <td>49</td>\n",
       "      <td>1</td>\n",
       "      <td>1</td>\n",
       "      <td>0</td>\n",
       "      <td>0</td>\n",
       "      <td>standard</td>\n",
       "      <td>0.011628</td>\n",
       "      <td>0.011628</td>\n",
       "      <td>tr</td>\n",
       "      <td>0.874858</td>\n",
       "      <td>0.847463</td>\n",
       "      <td>0.13</td>\n",
       "      <td>0.51</td>\n",
       "      <td>0.22</td>\n",
       "      <td>0.91</td>\n",
       "      <td>0.91</td>\n",
       "      <td>0.08</td>\n",
       "      <td>0.25</td>\n",
       "      <td>0.12</td>\n",
       "      <td>0.44</td>\n",
       "      <td>0.1</td>\n",
       "      <td>0.87</td>\n",
       "      <td>0.87</td>\n",
       "      <td>0.19</td>\n",
       "      <td>0.16</td>\n",
       "      <td>False</td>\n",
       "      <td>1107.0</td>\n",
       "      <td>174.0</td>\n",
       "      <td>2962.0</td>\n",
       "      <td>470.0</td>\n",
       "      <td>-0.599463</td>\n",
       "      <td>0</td>\n",
       "      <td>1</td>\n",
       "      <td>68282</td>\n",
       "      <td>0.013817</td>\n",
       "      <td>0.435233</td>\n",
       "      <td>1.231915</td>\n",
       "      <td>3_1617597534494392354</td>\n",
       "      <td>photo</td>\n",
       "      <td>1600.0</td>\n",
       "      <td>https://pbs.twimg.com/media/FnLcYyEWACIc5jQ.jpg</td>\n",
       "      <td>1600.0</td>\n",
       "      <td>NaN</td>\n",
       "      <td>NaN</td>\n",
       "      <td>NaN</td>\n",
       "      <td>NaN</td>\n",
       "      <td>NaN</td>\n",
       "      <td>NaN</td>\n",
       "      <td>NaN</td>\n",
       "      <td>NaN</td>\n",
       "      <td>NaN</td>\n",
       "      <td>NaN</td>\n",
       "      <td>NaN</td>\n",
       "      <td>NaN</td>\n",
       "      <td>NaN</td>\n",
       "      <td>NaN</td>\n",
       "      <td>NaN</td>\n",
       "      <td>NaN</td>\n",
       "      <td>NaN</td>\n",
       "      <td>NaN</td>\n",
       "      <td>NaN</td>\n",
       "      <td>NaN</td>\n",
       "      <td>NaN</td>\n",
       "      <td>NaN</td>\n",
       "      <td>NaN</td>\n",
       "      <td>NaN</td>\n",
       "      <td>NaN</td>\n",
       "      <td>NaN</td>\n",
       "      <td>NaN</td>\n",
       "      <td>NaN</td>\n",
       "      <td>NaN</td>\n",
       "      <td>NaN</td>\n",
       "      <td>NaN</td>\n",
       "      <td>other</td>\n",
       "      <td>False</td>\n",
       "      <td>2023</td>\n",
       "      <td>0.949243</td>\n",
       "      <td>-0.314545</td>\n",
       "      <td>1.0</td>\n",
       "      <td>1</td>\n",
       "      <td>1</td>\n",
       "      <td>0</td>\n",
       "      <td>2560000.0</td>\n",
       "      <td>NaN</td>\n",
       "      <td>NaN</td>\n",
       "      <td>NaN</td>\n",
       "      <td>NaN</td>\n",
       "      <td>NaN</td>\n",
       "      <td>NaN</td>\n",
       "      <td>NaN</td>\n",
       "      <td>NaN</td>\n",
       "      <td>NaN</td>\n",
       "      <td>NaN</td>\n",
       "      <td>NaN</td>\n",
       "      <td>NaN</td>\n",
       "      <td>NaN</td>\n",
       "      <td>NaN</td>\n",
       "      <td>NaN</td>\n",
       "      <td>463.0</td>\n",
       "      <td>0.0</td>\n",
       "      <td>1</td>\n",
       "      <td>0</td>\n",
       "      <td>0</td>\n",
       "      <td></td>\n",
       "      <td>0</td>\n",
       "      <td>very_short</td>\n",
       "    </tr>\n",
       "  </tbody>\n",
       "</table>\n",
       "</div>"
      ],
      "text/plain": [
       "             author_id context_annotations      conversation_id  \\\n",
       "0  1449804331142811655                  []  1617597872803041280   \n",
       "1  1449804331142811655                  []  1617597646339702823   \n",
       "3  1449804331142811655                  []  1617597543000440844   \n",
       "\n",
       "           created_at edit_history_tweet_ids                   id  \\\n",
       "0 2023-01-23 18:59:21  [1617597872803041280]  1617597872803041280   \n",
       "1 2023-01-23 18:58:27  [1617597646339702823]  1617597646339702823   \n",
       "3 2023-01-23 18:58:02  [1617597543000440844]  1617597543000440844   \n",
       "\n",
       "   in_reply_to_user_id lang  possibly_sensitive referenced_tweets  \\\n",
       "0                  NaN   tr               False               NaN   \n",
       "1                  NaN   fr               False               NaN   \n",
       "3                  NaN   de               False               NaN   \n",
       "\n",
       "  reply_settings                                               text  \\\n",
       "0       everyone  Kararlarındaki temel dayanak, hukukun evrensel...   \n",
       "1       everyone  #OhalKomisyonuHukuksuzdur https://t.co/3aUr5MZWPU   \n",
       "3       everyone  #OhalKomisyonuHukuksuzdur https://t.co/FHdc5DQ0u0   \n",
       "\n",
       "       author withheld  geo  quote_count  retweet_count  like_count  \\\n",
       "0  Goksun_KHK      NaN  NaN            0              2           1   \n",
       "1  Goksun_KHK      NaN  NaN            0              1           0   \n",
       "3  Goksun_KHK      NaN  NaN            1              1           1   \n",
       "\n",
       "   reply_count  impression_count               media_keys poll_ids  \\\n",
       "0            0                82                      NaN      NaN   \n",
       "1            0                52  [3_1617597636604723228]      NaN   \n",
       "3            0                86  [3_1617597534494392354]      NaN   \n",
       "\n",
       "                                            hashtags  \\\n",
       "0  [{'start': 95, 'end': 120, 'tag': 'OhalKomisyo...   \n",
       "1  [{'start': 0, 'end': 25, 'tag': 'OhalKomisyonu...   \n",
       "3  [{'start': 0, 'end': 25, 'tag': 'OhalKomisyonu...   \n",
       "\n",
       "                                                urls mentions cashtags  \\\n",
       "0                                                NaN      NaN      NaN   \n",
       "1  [{'start': 26, 'end': 49, 'url': 'https://t.co...      NaN      NaN   \n",
       "3  [{'start': 26, 'end': 49, 'url': 'https://t.co...      NaN      NaN   \n",
       "\n",
       "  annotations  is_retweet gender_of_author profession_of_author  \\\n",
       "0         NaN           0              ORG              UNKNOWN   \n",
       "1         NaN           0              ORG              UNKNOWN   \n",
       "3         NaN           0              ORG              UNKNOWN   \n",
       "\n",
       "         hashtags_flattened              trend_topics  n_trend_topics  \\\n",
       "0  OhalKomisyonuHukuksuzdur  OhalKomisyonuHukuksuzdur               1   \n",
       "1  OhalKomisyonuHukuksuzdur  OhalKomisyonuHukuksuzdur               1   \n",
       "3  OhalKomisyonuHukuksuzdur  OhalKomisyonuHukuksuzdur               1   \n",
       "\n",
       "   text_length  has_media  has_hashtags  has_mentions  is_reply tweet_type  \\\n",
       "0          120          0             1             0         0   standard   \n",
       "1           49          1             1             0         0   standard   \n",
       "3           49          1             1             0         0   standard   \n",
       "\n",
       "   ratio_like  ratio_retweet majority_lang   english  universal  \\\n",
       "0    0.012195       0.024390            tr  0.874858   0.847463   \n",
       "1    0.000000       0.019231            tr  0.874858   0.847463   \n",
       "3    0.011628       0.011628            tr  0.874858   0.847463   \n",
       "\n",
       "   eng_astroturf  eng_fake_follower  eng_financial  eng_other  eng_overall  \\\n",
       "0           0.13               0.51           0.22       0.91         0.91   \n",
       "1           0.13               0.51           0.22       0.91         0.91   \n",
       "3           0.13               0.51           0.22       0.91         0.91   \n",
       "\n",
       "   eng_self_declared  eng_spammer  uni_astroturf  uni_fake_follower  \\\n",
       "0               0.08         0.25           0.12               0.44   \n",
       "1               0.08         0.25           0.12               0.44   \n",
       "3               0.08         0.25           0.12               0.44   \n",
       "\n",
       "   uni_financial  uni_other  uni_overall  uni_self_declared  uni_spammer  \\\n",
       "0            0.1       0.87         0.87               0.19         0.16   \n",
       "1            0.1       0.87         0.87               0.19         0.16   \n",
       "3            0.1       0.87         0.87               0.19         0.16   \n",
       "\n",
       "   verified_author  followers_count_author  following_count_author  \\\n",
       "0            False                  1107.0                   174.0   \n",
       "1            False                  1107.0                   174.0   \n",
       "3            False                  1107.0                   174.0   \n",
       "\n",
       "   tweet_count_author  age_of_account_in_days_author  sentiment  \\\n",
       "0              2962.0                          470.0   0.994189   \n",
       "1              2962.0                          470.0   0.733746   \n",
       "3              2962.0                          470.0  -0.599463   \n",
       "\n",
       "   created_at_day_of_week  created_at_month_of_year  \\\n",
       "0                       0                         1   \n",
       "1                       0                         1   \n",
       "3                       0                         1   \n",
       "\n",
       "   created_at_time_of_day_in_seconds  reply_to_tweet_ratio  \\\n",
       "0                              68361              0.013817   \n",
       "1                              68307              0.013817   \n",
       "3                              68282              0.013817   \n",
       "\n",
       "   retweet_to_tweet_ratio  average_tweets_of_author_per_day  \\\n",
       "0                0.435233                          1.231915   \n",
       "1                0.435233                          1.231915   \n",
       "3                0.435233                          1.231915   \n",
       "\n",
       "       media_media_key_1 media_type_1  media_height_1  \\\n",
       "0                    NaN          NaN             NaN   \n",
       "1  3_1617597636604723228        photo          1600.0   \n",
       "3  3_1617597534494392354        photo          1600.0   \n",
       "\n",
       "                                       media_url_1  media_width_1  \\\n",
       "0                                              NaN            NaN   \n",
       "1  https://pbs.twimg.com/media/FnLceudWABwBC4b.jpg         1600.0   \n",
       "3  https://pbs.twimg.com/media/FnLcYyEWACIc5jQ.jpg         1600.0   \n",
       "\n",
       "   media_public_metrics_1 media_preview_image_url_1  media_duration_ms_1  \\\n",
       "0                     NaN                       NaN                  NaN   \n",
       "1                     NaN                       NaN                  NaN   \n",
       "3                     NaN                       NaN                  NaN   \n",
       "\n",
       "  media_alt_text_1 media_media_key_2 media_type_2  media_height_2 media_url_2  \\\n",
       "0              NaN               NaN          NaN             NaN         NaN   \n",
       "1              NaN               NaN          NaN             NaN         NaN   \n",
       "3              NaN               NaN          NaN             NaN         NaN   \n",
       "\n",
       "   media_width_2  media_public_metrics_2 media_preview_image_url_2  \\\n",
       "0            NaN                     NaN                       NaN   \n",
       "1            NaN                     NaN                       NaN   \n",
       "3            NaN                     NaN                       NaN   \n",
       "\n",
       "   media_duration_ms_2 media_alt_text_2 media_media_key_3 media_type_3  \\\n",
       "0                  NaN              NaN               NaN          NaN   \n",
       "1                  NaN              NaN               NaN          NaN   \n",
       "3                  NaN              NaN               NaN          NaN   \n",
       "\n",
       "   media_height_3 media_url_3  media_width_3  media_public_metrics_3  \\\n",
       "0             NaN         NaN            NaN                     NaN   \n",
       "1             NaN         NaN            NaN                     NaN   \n",
       "3             NaN         NaN            NaN                     NaN   \n",
       "\n",
       "  media_preview_image_url_3  media_duration_ms_3  media_alt_text_3  \\\n",
       "0                       NaN                  NaN               NaN   \n",
       "1                       NaN                  NaN               NaN   \n",
       "3                       NaN                  NaN               NaN   \n",
       "\n",
       "  media_media_key_4 media_type_4  media_height_4 media_url_4  media_width_4  \\\n",
       "0               NaN          NaN             NaN         NaN            NaN   \n",
       "1               NaN          NaN             NaN         NaN            NaN   \n",
       "3               NaN          NaN             NaN         NaN            NaN   \n",
       "\n",
       "   media_public_metrics_4 media_preview_image_url_4  media_duration_ms_4  \\\n",
       "0                     NaN                       NaN                  NaN   \n",
       "1                     NaN                       NaN                  NaN   \n",
       "3                     NaN                       NaN                  NaN   \n",
       "\n",
       "   media_alt_text_4          sttm_topic  political_context_annotation  \\\n",
       "0               NaN  search for justice                         False   \n",
       "1               NaN               other                         False   \n",
       "3               NaN               other                         False   \n",
       "\n",
       "   created_at_year  created_at_time_of_day_in_seconds_sin  \\\n",
       "0             2023                               0.976296   \n",
       "1             2023                              -0.537300   \n",
       "3             2023                               0.949243   \n",
       "\n",
       "   created_at_time_of_day_in_seconds_cos  n_media_keys  n_hashtags  n_urls  \\\n",
       "0                               0.216440           0.0           1       0   \n",
       "1                              -0.843391           1.0           1       1   \n",
       "3                              -0.314545           1.0           1       1   \n",
       "\n",
       "   n_mentions  media_resolution_1  media_resolution_2  media_resolution_3  \\\n",
       "0           0                 NaN                 NaN                 NaN   \n",
       "1           0           2560000.0                 NaN                 NaN   \n",
       "3           0           2560000.0                 NaN                 NaN   \n",
       "\n",
       "   media_resolution_4  fear  anger  anticip  trust  surprise  positive  \\\n",
       "0                 NaN   0.0    0.0      0.0    1.0       0.0       0.0   \n",
       "1                 NaN   NaN    NaN      NaN    NaN       NaN       NaN   \n",
       "3                 NaN   NaN    NaN      NaN    NaN       NaN       NaN   \n",
       "\n",
       "   negative  sadness  disgust  joy  anticipation  \\\n",
       "0       0.0      0.0      0.0  0.0           0.0   \n",
       "1       NaN      NaN      NaN  NaN           NaN   \n",
       "3       NaN      NaN      NaN  NaN           NaN   \n",
       "\n",
       "                                    translated_tweet  \\\n",
       "0  The basic basis in their decisions is the demo...   \n",
       "1                                                NaN   \n",
       "3                                                NaN   \n",
       "\n",
       "   age_of_account_in_days_author_when_tweeted  \\\n",
       "0                                       463.0   \n",
       "1                                       463.0   \n",
       "3                                       463.0   \n",
       "\n",
       "   posted_during_an_important_event  n_photos  n_videos  n_animated_gif  \\\n",
       "0                               0.0         0         0               0   \n",
       "1                               0.0         1         0               0   \n",
       "3                               0.0         1         0               0   \n",
       "\n",
       "                                          clean_text  word_count    new_lang  \n",
       "0  Kararlarındaki temel dayanak, hukukun evrensel...          11          tr  \n",
       "1                                                              0  very_short  \n",
       "3                                                              0  very_short  "
      ]
     },
     "execution_count": 65,
     "metadata": {},
     "output_type": "execute_result"
    }
   ],
   "source": [
    "df = pd.read_pickle(\"all_tweets_v15.pkl\")\n",
    "df = df[df.tweet_type == \"standard\"]\n",
    "df.head(3)"
   ]
  },
  {
   "cell_type": "markdown",
   "id": "8715bae3-5634-4487-839e-2e868f62b3fa",
   "metadata": {},
   "source": [
    "# All Research Questions:\n",
    "\n",
    "- Does multimedia attachment in a tweet affect its user engagement?\n",
    "- Does the sentiment of a tweet affect its user engagement?\n",
    "- Does the emotion of a tweet affect its user engagement?\n",
    "- Does the language of a tweet affect its user engagement?\n",
    "- Does including the trend topic of the day in a tweet affect its user engagement?\n",
    "- Does the creation time of a tweet affect its user engagement?\n",
    "- Does including hashtags in a tweet affect its user engagement?\n",
    "- Is the user engagement of a tweet containing political content different from the tweet without political content?\n",
    "- Does an important societal event affect the user engagement of a tweet up until 7 days?\n",
    "- Is the topic of the tweet affect its popularity?"
   ]
  },
  {
   "cell_type": "markdown",
   "id": "062d022c-9ff4-4fd6-89bc-491e83570b15",
   "metadata": {
    "tags": []
   },
   "source": [
    "## Testing the normality of likes and retweets"
   ]
  },
  {
   "cell_type": "code",
   "execution_count": 66,
   "id": "7ffe9536-f4af-45fc-a0c5-863e785fb09c",
   "metadata": {
    "tags": []
   },
   "outputs": [],
   "source": [
    "like_counts = df.like_count.to_list()\n",
    "retweet_counts = df.retweet_count.to_list()"
   ]
  },
  {
   "cell_type": "markdown",
   "id": "fc4bf3dd-2068-4960-898d-acf963a27bd0",
   "metadata": {},
   "source": [
    "### Shapiroo-Wilk Test"
   ]
  },
  {
   "cell_type": "code",
   "execution_count": 67,
   "id": "ab477c1c-005f-4231-a55a-cc89b386330e",
   "metadata": {
    "tags": []
   },
   "outputs": [
    {
     "name": "stdout",
     "output_type": "stream",
     "text": [
      "Testing like counts\n",
      "Statistic = 0.134, p-value = 0.000\n",
      "Sample does not look Gaussian (reject H0)\n",
      "Testing retweet counts\n",
      "Statistic = 0.235, p-value = 0.000\n",
      "Sample does not look Gaussian (reject H0)\n"
     ]
    },
    {
     "name": "stderr",
     "output_type": "stream",
     "text": [
      "/Users/hasansalimkanmaz/environments/kuleuven-thesis/lib/python3.10/site-packages/scipy/stats/_morestats.py:1800: UserWarning: p-value may not be accurate for N > 5000.\n",
      "  warnings.warn(\"p-value may not be accurate for N > 5000.\")\n"
     ]
    }
   ],
   "source": [
    "def apply_shapiroo_wilk_test(counts: list[int], variable_name: str):\n",
    "    print(f\"Testing {variable_name} counts\")\n",
    "    stat, p = shapiro(counts)\n",
    "    print(f\"Statistic = {stat:.3f}, p-value = {p:.3f}\")\n",
    "    if p > 0.05:\n",
    "        print(\"Sample looks Gaussian (fail to reject H0)\")\n",
    "    else:\n",
    "        print(\"Sample does not look Gaussian (reject H0)\")\n",
    "\n",
    "\n",
    "apply_shapiroo_wilk_test(like_counts, \"like\")\n",
    "apply_shapiroo_wilk_test(retweet_counts, \"retweet\")"
   ]
  },
  {
   "cell_type": "markdown",
   "id": "270ab8c6-ce65-4fe1-a5f4-d73656b3d26b",
   "metadata": {},
   "source": [
    "### Anderson-Darling Test"
   ]
  },
  {
   "cell_type": "code",
   "execution_count": 68,
   "id": "02ef0028-73a3-467b-a11f-e08a60dd3201",
   "metadata": {
    "tags": []
   },
   "outputs": [
    {
     "name": "stdout",
     "output_type": "stream",
     "text": [
      "Testing like counts\n",
      "\n",
      "Anderson-Darling test:\n",
      "Statistic = 25457.045\n",
      "10%: Sample does not look Gaussian (reject H0)\n",
      "20%: Sample does not look Gaussian (reject H0)\n",
      "30%: Sample does not look Gaussian (reject H0)\n",
      "40%: Sample does not look Gaussian (reject H0)\n",
      "50%: Sample does not look Gaussian (reject H0)\n",
      "Testing retweet counts\n",
      "\n",
      "Anderson-Darling test:\n",
      "Statistic = 22320.416\n",
      "10%: Sample does not look Gaussian (reject H0)\n",
      "20%: Sample does not look Gaussian (reject H0)\n",
      "30%: Sample does not look Gaussian (reject H0)\n",
      "40%: Sample does not look Gaussian (reject H0)\n",
      "50%: Sample does not look Gaussian (reject H0)\n"
     ]
    }
   ],
   "source": [
    "def apply_anderson_darling_test(counts: list[int], variable_name: str):\n",
    "    print(f\"Testing {variable_name} counts\")\n",
    "    result = anderson(counts)\n",
    "    print(\"\\nAnderson-Darling test:\")\n",
    "    print(f\"Statistic = {result.statistic:.3f}\")\n",
    "    for i, crit_val in enumerate(result.critical_values):\n",
    "        if result.statistic < crit_val:\n",
    "            print(f\"{(i+1)*10}%: Sample looks Gaussian (fail to reject H0)\")\n",
    "        else:\n",
    "            print(f\"{(i+1)*10}%: Sample does not look Gaussian (reject H0)\")\n",
    "\n",
    "\n",
    "apply_anderson_darling_test(like_counts, \"like\")\n",
    "apply_anderson_darling_test(retweet_counts, \"retweet\")"
   ]
  },
  {
   "cell_type": "markdown",
   "id": "92efaab1-3305-4ae4-a8d2-c77e46d61a7a",
   "metadata": {},
   "source": [
    "### Visual Inspection for normality"
   ]
  },
  {
   "cell_type": "code",
   "execution_count": 69,
   "id": "d6f2cd45-628a-4e14-bd42-5a2aad86eb2b",
   "metadata": {
    "tags": []
   },
   "outputs": [
    {
     "data": {
      "image/png": "[encoded data removed]",
      "text/plain": [
       "<Figure size 640x480 with 2 Axes>"
      ]
     },
     "metadata": {},
     "output_type": "display_data"
    }
   ],
   "source": [
    "# Plot the distribution of list1\n",
    "plt.subplot(1, 2, 1)\n",
    "plt.hist(like_counts, bins=100)\n",
    "plt.title(\"The distribution of like counts\")\n",
    "\n",
    "# Plot the distribution of list2\n",
    "plt.subplot(1, 2, 2)\n",
    "plt.hist(retweet_counts, bins=100)\n",
    "plt.title(\"The distribution of retweet counts\")\n",
    "plt.show()"
   ]
  },
  {
   "cell_type": "markdown",
   "id": "c94ba960-819e-473f-9c40-ea8fa2678f2c",
   "metadata": {
    "jp-MarkdownHeadingCollapsed": true,
    "tags": []
   },
   "source": [
    "## Does multimedia attachment in a tweet affect its user engagement?\n",
    "\n",
    "- Yes, the Mann–Whitney U test is a nonparametric test of the null hypothesis that, for randomly selected values X and Y from two populations, the probability of X being greater than Y is equal to the probability of Y being greater than X. Below, it is shown that the test is significant and rejects null hypothesis for the tweets with/witout multimedia attachment. In visual inspection, the boxplot are so tiny that the difference can't be seen but it can be seen that the statistics like IQR and median values are different. The tweets with multimedia attachment attract more likes and retweets."
   ]
  },
  {
   "cell_type": "code",
   "execution_count": 70,
   "id": "f7f9e6db-190f-4411-9b7c-36d9a275f160",
   "metadata": {
    "tags": []
   },
   "outputs": [
    {
     "name": "stdout",
     "output_type": "stream",
     "text": [
      "\n",
      "The number of tweets with media: 36893,\n",
      "The number of tweets without media: 49640,\n",
      "\n"
     ]
    }
   ],
   "source": [
    "likes_without_media = df[df.has_media != 1].like_count.to_list()\n",
    "likes_with_media = df[df.has_media == 1].like_count.to_list()\n",
    "print(\n",
    "    f\"\"\"\n",
    "The number of tweets with media: {len(likes_with_media)},\n",
    "The number of tweets without media: {len(likes_without_media)},\n",
    "\"\"\"\n",
    ")"
   ]
  },
  {
   "cell_type": "code",
   "execution_count": 71,
   "id": "a51b8d3c-3b44-4dcd-9a9c-e44cb4a9dd55",
   "metadata": {
    "tags": []
   },
   "outputs": [
    {
     "name": "stdout",
     "output_type": "stream",
     "text": [
      "\n",
      "H0 hypothesis is rejected. The mean of like counts for tweets with and without media are significantly different\n",
      "Test statistic: 1094904997.5, p-value: 0.0\n",
      "\n"
     ]
    }
   ],
   "source": [
    "result = mannwhitneyu(likes_with_media, likes_without_media)\n",
    "print(\n",
    "    f\"\"\"\n",
    "H0 hypothesis is rejected. The mean of like counts for tweets with and without media are significantly different\n",
    "Test statistic: {result.statistic}, p-value: {result.pvalue}\n",
    "\"\"\"\n",
    ")"
   ]
  },
  {
   "cell_type": "code",
   "execution_count": 72,
   "id": "f63572cb-7121-483f-8d50-890d4022d6f7",
   "metadata": {
    "tags": []
   },
   "outputs": [
    {
     "data": {
      "image/png": "[encoded data removed]",
      "text/plain": [
       "<Figure size 640x480 with 1 Axes>"
      ]
     },
     "metadata": {},
     "output_type": "display_data"
    }
   ],
   "source": [
    "plt.boxplot(\n",
    "    [\n",
    "        df.loc[df[\"has_media\"] == 0, \"retweet_count\"],\n",
    "        df.loc[df[\"has_media\"] == 1, \"retweet_count\"],\n",
    "        df.loc[df[\"has_media\"] == 0, \"like_count\"],\n",
    "        df.loc[df[\"has_media\"] == 1, \"like_count\"],\n",
    "    ]\n",
    ")\n",
    "plt.xticks(\n",
    "    [1, 2, 3, 4],\n",
    "    [\"No Media Retweets\", \"Media Retweets\", \"No Media Likes\", \"Media Likes\"],\n",
    ")\n",
    "plt.ylabel(\"Count\")\n",
    "plt.show()"
   ]
  },
  {
   "cell_type": "code",
   "execution_count": 73,
   "id": "95368340-0a18-4faf-ad36-4a3117c9364e",
   "metadata": {
    "tags": []
   },
   "outputs": [
    {
     "data": {
      "text/plain": [
       "count    49640.000000\n",
       "mean        39.739545\n",
       "std        191.310164\n",
       "min          0.000000\n",
       "25%          2.000000\n",
       "50%          5.000000\n",
       "75%         15.000000\n",
       "max       7150.000000\n",
       "Name: retweet_count, dtype: float64"
      ]
     },
     "execution_count": 73,
     "metadata": {},
     "output_type": "execute_result"
    }
   ],
   "source": [
    "df.loc[df[\"has_media\"] == 0, \"retweet_count\"].describe()"
   ]
  },
  {
   "cell_type": "code",
   "execution_count": 74,
   "id": "e8295706-a7d0-450a-b97a-53baf988ed07",
   "metadata": {
    "tags": []
   },
   "outputs": [
    {
     "data": {
      "text/plain": [
       "count    36893.000000\n",
       "mean        69.596861\n",
       "std        227.745718\n",
       "min          0.000000\n",
       "25%          2.000000\n",
       "50%          8.000000\n",
       "75%         35.000000\n",
       "max       7413.000000\n",
       "Name: retweet_count, dtype: float64"
      ]
     },
     "execution_count": 74,
     "metadata": {},
     "output_type": "execute_result"
    }
   ],
   "source": [
    "df.loc[df[\"has_media\"] == 1, \"retweet_count\"].describe()"
   ]
  },
  {
   "cell_type": "code",
   "execution_count": 75,
   "id": "df531692-64d9-4f45-93f7-84e61f34d31b",
   "metadata": {
    "tags": []
   },
   "outputs": [
    {
     "data": {
      "text/plain": [
       "count    49640.000000\n",
       "mean       240.935717\n",
       "std       1524.515103\n",
       "min          0.000000\n",
       "25%          4.000000\n",
       "50%         13.000000\n",
       "75%         44.000000\n",
       "max      73017.000000\n",
       "Name: like_count, dtype: float64"
      ]
     },
     "execution_count": 75,
     "metadata": {},
     "output_type": "execute_result"
    }
   ],
   "source": [
    "df.loc[df[\"has_media\"] == 0, \"like_count\"].describe()"
   ]
  },
  {
   "cell_type": "code",
   "execution_count": 76,
   "id": "9aaaa5a4-8e2f-4311-a510-8963382b8d0c",
   "metadata": {
    "tags": []
   },
   "outputs": [
    {
     "data": {
      "text/plain": [
       "count    36893.000000\n",
       "mean       217.303825\n",
       "std       1108.193270\n",
       "min          0.000000\n",
       "25%          7.000000\n",
       "50%         27.000000\n",
       "75%        107.000000\n",
       "max      57974.000000\n",
       "Name: like_count, dtype: float64"
      ]
     },
     "execution_count": 76,
     "metadata": {},
     "output_type": "execute_result"
    }
   ],
   "source": [
    "df.loc[df[\"has_media\"] == 1, \"like_count\"].describe()"
   ]
  },
  {
   "cell_type": "markdown",
   "id": "a195a639-ddbf-445d-93f7-59a9f395ba3a",
   "metadata": {
    "jp-MarkdownHeadingCollapsed": true,
    "tags": []
   },
   "source": [
    "## Does the sentiment of a tweet affect its user engagement?\n",
    "- Yes, according to Spearman's R correlation coefficient, there is a positive correlation between sentiment and like/retweet counts. This is also confirmed via visual inspection based on hexagonally-binned scatterplots."
   ]
  },
  {
   "cell_type": "code",
   "execution_count": 77,
   "id": "a9c0e44b-26db-49ee-ae60-6a8a711e8e66",
   "metadata": {
    "tags": []
   },
   "outputs": [],
   "source": [
    "df_with_sentiment_scores = df[df.lang.isin([\"en\", \"tr\", \"de\", \"fr\"])]\n",
    "assert set(df_with_sentiment_scores.lang.unique()) == set([\"en\", \"tr\", \"de\", \"fr\"])"
   ]
  },
  {
   "cell_type": "code",
   "execution_count": 78,
   "id": "87d87d0c-a53b-4a30-afd3-b419181af551",
   "metadata": {
    "tags": []
   },
   "outputs": [
    {
     "name": "stdout",
     "output_type": "stream",
     "text": [
      "\n",
      "H0 hypothesis is rejected. There is a positive correlation between like counts and the sentiment of the tweets.\n",
      "Correlation: 0.07007628472138114, p-value: 1.0306959135591092e-91\n",
      "\n"
     ]
    }
   ],
   "source": [
    "res = spearmanr(\n",
    "    df_with_sentiment_scores.sentiment.to_list(),\n",
    "    df_with_sentiment_scores.like_count.to_list(),\n",
    "    alternative=\"greater\",\n",
    ")\n",
    "print(\n",
    "    f\"\"\"\n",
    "H0 hypothesis is rejected. There is a positive correlation between like counts and the sentiment of the tweets.\n",
    "Correlation: {res.correlation}, p-value: {res.pvalue}\n",
    "\"\"\"\n",
    ")"
   ]
  },
  {
   "cell_type": "code",
   "execution_count": 79,
   "id": "61b0856f-67c2-4081-aeb6-40c7d155bf99",
   "metadata": {
    "tags": []
   },
   "outputs": [
    {
     "name": "stdout",
     "output_type": "stream",
     "text": [
      "\n",
      "H0 hypothesis is rejected. There is a positive correlation between retweet counts and the sentiment of the tweets.\n",
      "Correlation: 0.05569700879426289, p-value: 1.1064654269600274e-58\n",
      "\n"
     ]
    }
   ],
   "source": [
    "res = spearmanr(\n",
    "    df_with_sentiment_scores.sentiment.to_list(),\n",
    "    df_with_sentiment_scores.retweet_count.to_list(),\n",
    "    alternative=\"greater\",\n",
    ")\n",
    "print(\n",
    "    f\"\"\"\n",
    "H0 hypothesis is rejected. There is a positive correlation between retweet counts and the sentiment of the tweets.\n",
    "Correlation: {res.correlation}, p-value: {res.pvalue}\n",
    "\"\"\"\n",
    ")"
   ]
  },
  {
   "cell_type": "code",
   "execution_count": 81,
   "id": "ea8d4144-1a51-4a23-a6ce-9afff0bd3db3",
   "metadata": {
    "tags": []
   },
   "outputs": [
    {
     "data": {
      "image/png": "[encoded data removed]",
      "text/plain": [
       "<Figure size 600x600 with 3 Axes>"
      ]
     },
     "metadata": {},
     "output_type": "display_data"
    },
    {
     "data": {
      "image/png": "[encoded data removed]",
      "text/plain": [
       "<Figure size 600x600 with 3 Axes>"
      ]
     },
     "metadata": {},
     "output_type": "display_data"
    }
   ],
   "source": [
    "# Plot a hexbin plot for the x and y columns in the first subplot\n",
    "sns.jointplot(x=\"sentiment\", y=\"like_count\", data=df_with_sentiment_scores, kind=\"hex\")\n",
    "axs[0].set_xlabel(\"sentiment\")\n",
    "axs[0].set_ylabel(\"like_count\")\n",
    "\n",
    "# Plot a hexbin plot for the x and z columns in the second subplot\n",
    "sns.jointplot(\n",
    "    x=\"sentiment\",\n",
    "    y=\"retweet_count\",\n",
    "    data=df_with_sentiment_scores,\n",
    "    kind=\"hex\",\n",
    ")\n",
    "axs[1].set_xlabel(\"sentiment\")\n",
    "axs[1].set_ylabel(\"retweet_count\")\n",
    "\n",
    "plt.show()"
   ]
  },
  {
   "cell_type": "markdown",
   "id": "fbc78a04-e026-450d-a243-e7a3695474e7",
   "metadata": {},
   "source": [
    "# Results"
   ]
  },
  {
   "cell_type": "code",
   "execution_count": null,
   "id": "96da7e0f-5475-4585-9753-7f2ba56f247c",
   "metadata": {},
   "outputs": [],
   "source": []
  },
  {
   "cell_type": "code",
   "execution_count": null,
   "id": "63a06f81-b735-4c65-b307-d3c2382d62b9",
   "metadata": {},
   "outputs": [],
   "source": []
  },
  {
   "cell_type": "code",
   "execution_count": null,
   "id": "91b8f205-a633-490a-b0ef-a28fec077a31",
   "metadata": {},
   "outputs": [],
   "source": []
  },
  {
   "cell_type": "code",
   "execution_count": null,
   "id": "c3e19874-8e83-4cd5-83a7-48ff23b0e7f4",
   "metadata": {},
   "outputs": [],
   "source": []
  },
  {
   "cell_type": "code",
   "execution_count": null,
   "id": "92ecf24e-ac2c-48be-9b35-1bdf17654222",
   "metadata": {},
   "outputs": [],
   "source": []
  },
  {
   "cell_type": "code",
   "execution_count": null,
   "id": "a4c931f2-72d4-4e27-88b0-e4dd9125325f",
   "metadata": {
    "pycharm": {
     "name": "#%%\n"
    }
   },
   "outputs": [],
   "source": []
  },
  {
   "cell_type": "code",
   "execution_count": null,
   "id": "6de900ed-6c04-4a93-b631-f2f429b559db",
   "metadata": {
    "pycharm": {
     "name": "#%%\n"
    }
   },
   "outputs": [],
   "source": []
  },
  {
   "cell_type": "code",
   "execution_count": null,
   "id": "7c36190e-90c3-4ea4-914f-a4bb280521c5",
   "metadata": {
    "pycharm": {
     "name": "#%%\n"
    }
   },
   "outputs": [],
   "source": []
  },
  {
   "cell_type": "code",
   "execution_count": null,
   "id": "2fe70077-9c39-4e46-af22-c56497be4db0",
   "metadata": {
    "pycharm": {
     "name": "#%%\n"
    }
   },
   "outputs": [],
   "source": []
  },
  {
   "cell_type": "code",
   "execution_count": null,
   "id": "8d51305d-f8d4-4a3d-a2ce-3d0a6a90873b",
   "metadata": {
    "pycharm": {
     "name": "#%%\n"
    }
   },
   "outputs": [],
   "source": []
  },
  {
   "cell_type": "code",
   "execution_count": null,
   "id": "3fdaa3da-c0db-46c5-8221-46e508473f7c",
   "metadata": {
    "pycharm": {
     "name": "#%%\n"
    }
   },
   "outputs": [],
   "source": []
  },
  {
   "cell_type": "code",
   "execution_count": null,
   "id": "76ca27f5-4b57-49a1-83d2-e08df66a982b",
   "metadata": {
    "pycharm": {
     "name": "#%%\n"
    }
   },
   "outputs": [],
   "source": []
  },
  {
   "cell_type": "code",
   "execution_count": null,
   "id": "7bade9bd-70fd-4690-9c35-554f7a00960c",
   "metadata": {
    "pycharm": {
     "name": "#%%\n"
    }
   },
   "outputs": [],
   "source": []
  },
  {
   "cell_type": "code",
   "execution_count": null,
   "id": "44a2603e-d6c0-4aac-8449-8b9d41e8e214",
   "metadata": {
    "pycharm": {
     "name": "#%%\n"
    }
   },
   "outputs": [],
   "source": []
  },
  {
   "cell_type": "code",
   "execution_count": null,
   "id": "1fc76526-bc2e-4f1b-8358-a751076506de",
   "metadata": {
    "pycharm": {
     "name": "#%%\n"
    }
   },
   "outputs": [],
   "source": []
  },
  {
   "cell_type": "code",
   "execution_count": null,
   "id": "3999895b-24e7-4e8f-9d72-d3a84a9e4269",
   "metadata": {
    "pycharm": {
     "name": "#%%\n"
    }
   },
   "outputs": [],
   "source": []
  },
  {
   "cell_type": "code",
   "execution_count": null,
   "id": "251f6773-f717-417c-ac69-f65dec1dff9b",
   "metadata": {
    "pycharm": {
     "name": "#%%\n"
    }
   },
   "outputs": [],
   "source": []
  },
  {
   "cell_type": "code",
   "execution_count": null,
   "id": "05250101-fee1-4e08-9854-071522e754ee",
   "metadata": {
    "pycharm": {
     "name": "#%%\n"
    }
   },
   "outputs": [],
   "source": []
  },
  {
   "cell_type": "code",
   "execution_count": null,
   "id": "b551fb33-e6e8-4deb-8782-47523139a258",
   "metadata": {
    "pycharm": {
     "name": "#%%\n"
    }
   },
   "outputs": [],
   "source": []
  },
  {
   "cell_type": "code",
   "execution_count": null,
   "id": "5d5deeb3-0b2f-4ff4-bfab-90a436b9f43c",
   "metadata": {
    "pycharm": {
     "name": "#%%\n"
    }
   },
   "outputs": [],
   "source": []
  },
  {
   "cell_type": "code",
   "execution_count": null,
   "id": "71c0cd91-6e9e-4490-b2a1-0ba88c303858",
   "metadata": {
    "pycharm": {
     "name": "#%%\n"
    }
   },
   "outputs": [],
   "source": []
  },
  {
   "cell_type": "code",
   "execution_count": null,
   "id": "be33195c-41ef-4544-acf3-0870783f265c",
   "metadata": {
    "pycharm": {
     "name": "#%%\n"
    }
   },
   "outputs": [],
   "source": []
  },
  {
   "cell_type": "code",
   "execution_count": null,
   "id": "154c6bdb-fe81-43dc-97d5-f772728dd80e",
   "metadata": {
    "pycharm": {
     "name": "#%%\n"
    }
   },
   "outputs": [],
   "source": []
  },
  {
   "cell_type": "code",
   "execution_count": null,
   "id": "82ac21e9-6947-460f-9eb3-5125edbd0507",
   "metadata": {
    "pycharm": {
     "name": "#%%\n"
    }
   },
   "outputs": [],
   "source": []
  },
  {
   "cell_type": "code",
   "execution_count": null,
   "id": "f73eaa22-7c1f-49c2-8ac0-7710d65b2afa",
   "metadata": {
    "pycharm": {
     "name": "#%%\n"
    }
   },
   "outputs": [],
   "source": []
  },
  {
   "cell_type": "code",
   "execution_count": null,
   "id": "acebb765-fdda-4e66-af04-d5009464ad33",
   "metadata": {
    "pycharm": {
     "name": "#%%\n"
    }
   },
   "outputs": [],
   "source": []
  }
 ],
 "metadata": {
  "kernelspec": {
   "display_name": "kuleuven-thesis",
   "language": "python",
   "name": "kuleuven-thesis"
  },
  "language_info": {
   "codemirror_mode": {
    "name": "ipython",
    "version": 3
   },
   "file_extension": ".py",
   "mimetype": "text/x-python",
   "name": "python",
   "nbconvert_exporter": "python",
   "pygments_lexer": "ipython3",
   "version": "3.10.9"
  }
 },
 "nbformat": 4,
 "nbformat_minor": 5
}
