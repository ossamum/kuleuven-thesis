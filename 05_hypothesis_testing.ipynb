{
 "cells": [
  {
   "cell_type": "code",
   "execution_count": 1,
   "id": "e59a0907-9124-4763-987b-407717f6d79a",
   "metadata": {
    "pycharm": {
     "name": "#%%\n"
    },
    "tags": []
   },
   "outputs": [
    {
     "name": "stderr",
     "output_type": "stream",
     "text": [
      "<frozen importlib._bootstrap>:228: RuntimeWarning: scipy._lib.messagestream.MessageStream size changed, may indicate binary incompatibility. Expected 56 from C header, got 64 from PyObject\n"
     ]
    }
   ],
   "source": [
    "from itertools import combinations\n",
    "\n",
    "import matplotlib.pyplot as plt\n",
    "import pandas as pd\n",
    "import scipy\n",
    "import seaborn as sns\n",
    "from scikit_posthocs import posthoc_dunn, posthoc_conover\n",
    "import numpy as np\n",
    "from scipy.stats import anderson, kruskal, mannwhitneyu, shapiro, spearmanr\n",
    "\n",
    "pd.set_option(\"display.max_columns\", None)\n",
    "pd.set_option(\"display.max_rows\", None)\n",
    "sns.set()"
   ]
  },
  {
   "cell_type": "code",
   "execution_count": 2,
   "id": "b1555250-e922-4f5b-8b7f-d2b3a1f5bf65",
   "metadata": {
    "pycharm": {
     "name": "#%%\n"
    },
    "tags": []
   },
   "outputs": [
    {
     "data": {
      "text/html": [
       "<div>\n",
       "<style scoped>\n",
       "    .dataframe tbody tr th:only-of-type {\n",
       "        vertical-align: middle;\n",
       "    }\n",
       "\n",
       "    .dataframe tbody tr th {\n",
       "        vertical-align: top;\n",
       "    }\n",
       "\n",
       "    .dataframe thead th {\n",
       "        text-align: right;\n",
       "    }\n",
       "</style>\n",
       "<table border=\"1\" class=\"dataframe\">\n",
       "  <thead>\n",
       "    <tr style=\"text-align: right;\">\n",
       "      <th></th>\n",
       "      <th>author_id</th>\n",
       "      <th>context_annotations</th>\n",
       "      <th>conversation_id</th>\n",
       "      <th>created_at</th>\n",
       "      <th>edit_history_tweet_ids</th>\n",
       "      <th>id</th>\n",
       "      <th>in_reply_to_user_id</th>\n",
       "      <th>lang</th>\n",
       "      <th>possibly_sensitive</th>\n",
       "      <th>referenced_tweets</th>\n",
       "      <th>reply_settings</th>\n",
       "      <th>text</th>\n",
       "      <th>author</th>\n",
       "      <th>withheld</th>\n",
       "      <th>geo</th>\n",
       "      <th>quote_count</th>\n",
       "      <th>retweet_count</th>\n",
       "      <th>like_count</th>\n",
       "      <th>reply_count</th>\n",
       "      <th>impression_count</th>\n",
       "      <th>media_keys</th>\n",
       "      <th>poll_ids</th>\n",
       "      <th>hashtags</th>\n",
       "      <th>urls</th>\n",
       "      <th>mentions</th>\n",
       "      <th>cashtags</th>\n",
       "      <th>annotations</th>\n",
       "      <th>is_retweet</th>\n",
       "      <th>gender_of_author</th>\n",
       "      <th>profession_of_author</th>\n",
       "      <th>hashtags_flattened</th>\n",
       "      <th>trend_topics</th>\n",
       "      <th>n_trend_topics</th>\n",
       "      <th>text_length</th>\n",
       "      <th>has_media</th>\n",
       "      <th>has_hashtags</th>\n",
       "      <th>has_mentions</th>\n",
       "      <th>is_reply</th>\n",
       "      <th>tweet_type</th>\n",
       "      <th>ratio_like</th>\n",
       "      <th>ratio_retweet</th>\n",
       "      <th>majority_lang</th>\n",
       "      <th>english</th>\n",
       "      <th>universal</th>\n",
       "      <th>eng_astroturf</th>\n",
       "      <th>eng_fake_follower</th>\n",
       "      <th>eng_financial</th>\n",
       "      <th>eng_other</th>\n",
       "      <th>eng_overall</th>\n",
       "      <th>eng_self_declared</th>\n",
       "      <th>eng_spammer</th>\n",
       "      <th>uni_astroturf</th>\n",
       "      <th>uni_fake_follower</th>\n",
       "      <th>uni_financial</th>\n",
       "      <th>uni_other</th>\n",
       "      <th>uni_overall</th>\n",
       "      <th>uni_self_declared</th>\n",
       "      <th>uni_spammer</th>\n",
       "      <th>verified_author</th>\n",
       "      <th>followers_count_author</th>\n",
       "      <th>following_count_author</th>\n",
       "      <th>tweet_count_author</th>\n",
       "      <th>age_of_account_in_days_author</th>\n",
       "      <th>sentiment</th>\n",
       "      <th>created_at_day_of_week</th>\n",
       "      <th>created_at_month_of_year</th>\n",
       "      <th>created_at_time_of_day_in_seconds</th>\n",
       "      <th>reply_to_tweet_ratio</th>\n",
       "      <th>retweet_to_tweet_ratio</th>\n",
       "      <th>average_tweets_of_author_per_day</th>\n",
       "      <th>media_media_key_1</th>\n",
       "      <th>media_type_1</th>\n",
       "      <th>media_height_1</th>\n",
       "      <th>media_url_1</th>\n",
       "      <th>media_width_1</th>\n",
       "      <th>media_public_metrics_1</th>\n",
       "      <th>media_preview_image_url_1</th>\n",
       "      <th>media_duration_ms_1</th>\n",
       "      <th>media_alt_text_1</th>\n",
       "      <th>media_media_key_2</th>\n",
       "      <th>media_type_2</th>\n",
       "      <th>media_height_2</th>\n",
       "      <th>media_url_2</th>\n",
       "      <th>media_width_2</th>\n",
       "      <th>media_public_metrics_2</th>\n",
       "      <th>media_preview_image_url_2</th>\n",
       "      <th>media_duration_ms_2</th>\n",
       "      <th>media_alt_text_2</th>\n",
       "      <th>media_media_key_3</th>\n",
       "      <th>media_type_3</th>\n",
       "      <th>media_height_3</th>\n",
       "      <th>media_url_3</th>\n",
       "      <th>media_width_3</th>\n",
       "      <th>media_public_metrics_3</th>\n",
       "      <th>media_preview_image_url_3</th>\n",
       "      <th>media_duration_ms_3</th>\n",
       "      <th>media_alt_text_3</th>\n",
       "      <th>media_media_key_4</th>\n",
       "      <th>media_type_4</th>\n",
       "      <th>media_height_4</th>\n",
       "      <th>media_url_4</th>\n",
       "      <th>media_width_4</th>\n",
       "      <th>media_public_metrics_4</th>\n",
       "      <th>media_preview_image_url_4</th>\n",
       "      <th>media_duration_ms_4</th>\n",
       "      <th>media_alt_text_4</th>\n",
       "      <th>sttm_topic</th>\n",
       "      <th>political_context_annotation</th>\n",
       "      <th>created_at_year</th>\n",
       "      <th>created_at_time_of_day_in_seconds_sin</th>\n",
       "      <th>created_at_time_of_day_in_seconds_cos</th>\n",
       "      <th>n_media_keys</th>\n",
       "      <th>n_hashtags</th>\n",
       "      <th>n_urls</th>\n",
       "      <th>n_mentions</th>\n",
       "      <th>media_resolution_1</th>\n",
       "      <th>media_resolution_2</th>\n",
       "      <th>media_resolution_3</th>\n",
       "      <th>media_resolution_4</th>\n",
       "      <th>fear</th>\n",
       "      <th>anger</th>\n",
       "      <th>anticip</th>\n",
       "      <th>trust</th>\n",
       "      <th>surprise</th>\n",
       "      <th>positive</th>\n",
       "      <th>negative</th>\n",
       "      <th>sadness</th>\n",
       "      <th>disgust</th>\n",
       "      <th>joy</th>\n",
       "      <th>anticipation</th>\n",
       "      <th>translated_tweet</th>\n",
       "      <th>age_of_account_in_days_author_when_tweeted</th>\n",
       "      <th>posted_during_an_important_event</th>\n",
       "      <th>n_photos</th>\n",
       "      <th>n_videos</th>\n",
       "      <th>n_animated_gif</th>\n",
       "      <th>clean_text</th>\n",
       "      <th>word_count</th>\n",
       "      <th>new_lang</th>\n",
       "    </tr>\n",
       "  </thead>\n",
       "  <tbody>\n",
       "    <tr>\n",
       "      <th>0</th>\n",
       "      <td>1449804331142811655</td>\n",
       "      <td>[]</td>\n",
       "      <td>1617597872803041280</td>\n",
       "      <td>2023-01-23 18:59:21</td>\n",
       "      <td>[1617597872803041280]</td>\n",
       "      <td>1617597872803041280</td>\n",
       "      <td>NaN</td>\n",
       "      <td>tr</td>\n",
       "      <td>False</td>\n",
       "      <td>NaN</td>\n",
       "      <td>everyone</td>\n",
       "      <td>Kararlarındaki temel dayanak, hukukun evrensel...</td>\n",
       "      <td>Goksun_KHK</td>\n",
       "      <td>NaN</td>\n",
       "      <td>NaN</td>\n",
       "      <td>0</td>\n",
       "      <td>2</td>\n",
       "      <td>1</td>\n",
       "      <td>0</td>\n",
       "      <td>82</td>\n",
       "      <td>NaN</td>\n",
       "      <td>NaN</td>\n",
       "      <td>[{'start': 95, 'end': 120, 'tag': 'OhalKomisyo...</td>\n",
       "      <td>NaN</td>\n",
       "      <td>NaN</td>\n",
       "      <td>NaN</td>\n",
       "      <td>NaN</td>\n",
       "      <td>0</td>\n",
       "      <td>ORG</td>\n",
       "      <td>UNKNOWN</td>\n",
       "      <td>OhalKomisyonuHukuksuzdur</td>\n",
       "      <td>OhalKomisyonuHukuksuzdur</td>\n",
       "      <td>1</td>\n",
       "      <td>120</td>\n",
       "      <td>0</td>\n",
       "      <td>1</td>\n",
       "      <td>0</td>\n",
       "      <td>0</td>\n",
       "      <td>standard</td>\n",
       "      <td>0.012195</td>\n",
       "      <td>0.024390</td>\n",
       "      <td>tr</td>\n",
       "      <td>0.874858</td>\n",
       "      <td>0.847463</td>\n",
       "      <td>0.13</td>\n",
       "      <td>0.51</td>\n",
       "      <td>0.22</td>\n",
       "      <td>0.91</td>\n",
       "      <td>0.91</td>\n",
       "      <td>0.08</td>\n",
       "      <td>0.25</td>\n",
       "      <td>0.12</td>\n",
       "      <td>0.44</td>\n",
       "      <td>0.1</td>\n",
       "      <td>0.87</td>\n",
       "      <td>0.87</td>\n",
       "      <td>0.19</td>\n",
       "      <td>0.16</td>\n",
       "      <td>False</td>\n",
       "      <td>1107.0</td>\n",
       "      <td>174.0</td>\n",
       "      <td>2962.0</td>\n",
       "      <td>470.0</td>\n",
       "      <td>0.994189</td>\n",
       "      <td>0</td>\n",
       "      <td>1</td>\n",
       "      <td>68361</td>\n",
       "      <td>0.013817</td>\n",
       "      <td>0.435233</td>\n",
       "      <td>1.231915</td>\n",
       "      <td>NaN</td>\n",
       "      <td>NaN</td>\n",
       "      <td>NaN</td>\n",
       "      <td>NaN</td>\n",
       "      <td>NaN</td>\n",
       "      <td>NaN</td>\n",
       "      <td>NaN</td>\n",
       "      <td>NaN</td>\n",
       "      <td>NaN</td>\n",
       "      <td>NaN</td>\n",
       "      <td>NaN</td>\n",
       "      <td>NaN</td>\n",
       "      <td>NaN</td>\n",
       "      <td>NaN</td>\n",
       "      <td>NaN</td>\n",
       "      <td>NaN</td>\n",
       "      <td>NaN</td>\n",
       "      <td>NaN</td>\n",
       "      <td>NaN</td>\n",
       "      <td>NaN</td>\n",
       "      <td>NaN</td>\n",
       "      <td>NaN</td>\n",
       "      <td>NaN</td>\n",
       "      <td>NaN</td>\n",
       "      <td>NaN</td>\n",
       "      <td>NaN</td>\n",
       "      <td>NaN</td>\n",
       "      <td>NaN</td>\n",
       "      <td>NaN</td>\n",
       "      <td>NaN</td>\n",
       "      <td>NaN</td>\n",
       "      <td>NaN</td>\n",
       "      <td>NaN</td>\n",
       "      <td>NaN</td>\n",
       "      <td>NaN</td>\n",
       "      <td>NaN</td>\n",
       "      <td>search for justice</td>\n",
       "      <td>False</td>\n",
       "      <td>2023</td>\n",
       "      <td>0.976296</td>\n",
       "      <td>0.216440</td>\n",
       "      <td>0.0</td>\n",
       "      <td>1</td>\n",
       "      <td>0</td>\n",
       "      <td>0</td>\n",
       "      <td>NaN</td>\n",
       "      <td>NaN</td>\n",
       "      <td>NaN</td>\n",
       "      <td>NaN</td>\n",
       "      <td>0.0</td>\n",
       "      <td>0.0</td>\n",
       "      <td>0.0</td>\n",
       "      <td>1.0</td>\n",
       "      <td>0.0</td>\n",
       "      <td>0.0</td>\n",
       "      <td>0.0</td>\n",
       "      <td>0.0</td>\n",
       "      <td>0.0</td>\n",
       "      <td>0.0</td>\n",
       "      <td>0.0</td>\n",
       "      <td>The basic basis in their decisions is the demo...</td>\n",
       "      <td>463.0</td>\n",
       "      <td>0.0</td>\n",
       "      <td>0</td>\n",
       "      <td>0</td>\n",
       "      <td>0</td>\n",
       "      <td>Kararlarındaki temel dayanak, hukukun evrensel...</td>\n",
       "      <td>11</td>\n",
       "      <td>tr</td>\n",
       "    </tr>\n",
       "    <tr>\n",
       "      <th>1</th>\n",
       "      <td>1449804331142811655</td>\n",
       "      <td>[]</td>\n",
       "      <td>1617597646339702823</td>\n",
       "      <td>2023-01-23 18:58:27</td>\n",
       "      <td>[1617597646339702823]</td>\n",
       "      <td>1617597646339702823</td>\n",
       "      <td>NaN</td>\n",
       "      <td>fr</td>\n",
       "      <td>False</td>\n",
       "      <td>NaN</td>\n",
       "      <td>everyone</td>\n",
       "      <td>#OhalKomisyonuHukuksuzdur https://t.co/3aUr5MZWPU</td>\n",
       "      <td>Goksun_KHK</td>\n",
       "      <td>NaN</td>\n",
       "      <td>NaN</td>\n",
       "      <td>0</td>\n",
       "      <td>1</td>\n",
       "      <td>0</td>\n",
       "      <td>0</td>\n",
       "      <td>52</td>\n",
       "      <td>[3_1617597636604723228]</td>\n",
       "      <td>NaN</td>\n",
       "      <td>[{'start': 0, 'end': 25, 'tag': 'OhalKomisyonu...</td>\n",
       "      <td>[{'start': 26, 'end': 49, 'url': 'https://t.co...</td>\n",
       "      <td>NaN</td>\n",
       "      <td>NaN</td>\n",
       "      <td>NaN</td>\n",
       "      <td>0</td>\n",
       "      <td>ORG</td>\n",
       "      <td>UNKNOWN</td>\n",
       "      <td>OhalKomisyonuHukuksuzdur</td>\n",
       "      <td>OhalKomisyonuHukuksuzdur</td>\n",
       "      <td>1</td>\n",
       "      <td>49</td>\n",
       "      <td>1</td>\n",
       "      <td>1</td>\n",
       "      <td>0</td>\n",
       "      <td>0</td>\n",
       "      <td>standard</td>\n",
       "      <td>0.000000</td>\n",
       "      <td>0.019231</td>\n",
       "      <td>tr</td>\n",
       "      <td>0.874858</td>\n",
       "      <td>0.847463</td>\n",
       "      <td>0.13</td>\n",
       "      <td>0.51</td>\n",
       "      <td>0.22</td>\n",
       "      <td>0.91</td>\n",
       "      <td>0.91</td>\n",
       "      <td>0.08</td>\n",
       "      <td>0.25</td>\n",
       "      <td>0.12</td>\n",
       "      <td>0.44</td>\n",
       "      <td>0.1</td>\n",
       "      <td>0.87</td>\n",
       "      <td>0.87</td>\n",
       "      <td>0.19</td>\n",
       "      <td>0.16</td>\n",
       "      <td>False</td>\n",
       "      <td>1107.0</td>\n",
       "      <td>174.0</td>\n",
       "      <td>2962.0</td>\n",
       "      <td>470.0</td>\n",
       "      <td>0.733746</td>\n",
       "      <td>0</td>\n",
       "      <td>1</td>\n",
       "      <td>68307</td>\n",
       "      <td>0.013817</td>\n",
       "      <td>0.435233</td>\n",
       "      <td>1.231915</td>\n",
       "      <td>3_1617597636604723228</td>\n",
       "      <td>photo</td>\n",
       "      <td>1600.0</td>\n",
       "      <td>https://pbs.twimg.com/media/FnLceudWABwBC4b.jpg</td>\n",
       "      <td>1600.0</td>\n",
       "      <td>NaN</td>\n",
       "      <td>NaN</td>\n",
       "      <td>NaN</td>\n",
       "      <td>NaN</td>\n",
       "      <td>NaN</td>\n",
       "      <td>NaN</td>\n",
       "      <td>NaN</td>\n",
       "      <td>NaN</td>\n",
       "      <td>NaN</td>\n",
       "      <td>NaN</td>\n",
       "      <td>NaN</td>\n",
       "      <td>NaN</td>\n",
       "      <td>NaN</td>\n",
       "      <td>NaN</td>\n",
       "      <td>NaN</td>\n",
       "      <td>NaN</td>\n",
       "      <td>NaN</td>\n",
       "      <td>NaN</td>\n",
       "      <td>NaN</td>\n",
       "      <td>NaN</td>\n",
       "      <td>NaN</td>\n",
       "      <td>NaN</td>\n",
       "      <td>NaN</td>\n",
       "      <td>NaN</td>\n",
       "      <td>NaN</td>\n",
       "      <td>NaN</td>\n",
       "      <td>NaN</td>\n",
       "      <td>NaN</td>\n",
       "      <td>NaN</td>\n",
       "      <td>NaN</td>\n",
       "      <td>NaN</td>\n",
       "      <td>other</td>\n",
       "      <td>False</td>\n",
       "      <td>2023</td>\n",
       "      <td>-0.537300</td>\n",
       "      <td>-0.843391</td>\n",
       "      <td>1.0</td>\n",
       "      <td>1</td>\n",
       "      <td>1</td>\n",
       "      <td>0</td>\n",
       "      <td>2560000.0</td>\n",
       "      <td>NaN</td>\n",
       "      <td>NaN</td>\n",
       "      <td>NaN</td>\n",
       "      <td>NaN</td>\n",
       "      <td>NaN</td>\n",
       "      <td>NaN</td>\n",
       "      <td>NaN</td>\n",
       "      <td>NaN</td>\n",
       "      <td>NaN</td>\n",
       "      <td>NaN</td>\n",
       "      <td>NaN</td>\n",
       "      <td>NaN</td>\n",
       "      <td>NaN</td>\n",
       "      <td>NaN</td>\n",
       "      <td>NaN</td>\n",
       "      <td>463.0</td>\n",
       "      <td>0.0</td>\n",
       "      <td>1</td>\n",
       "      <td>0</td>\n",
       "      <td>0</td>\n",
       "      <td></td>\n",
       "      <td>0</td>\n",
       "      <td>short_text</td>\n",
       "    </tr>\n",
       "    <tr>\n",
       "      <th>3</th>\n",
       "      <td>1449804331142811655</td>\n",
       "      <td>[]</td>\n",
       "      <td>1617597543000440844</td>\n",
       "      <td>2023-01-23 18:58:02</td>\n",
       "      <td>[1617597543000440844]</td>\n",
       "      <td>1617597543000440844</td>\n",
       "      <td>NaN</td>\n",
       "      <td>de</td>\n",
       "      <td>False</td>\n",
       "      <td>NaN</td>\n",
       "      <td>everyone</td>\n",
       "      <td>#OhalKomisyonuHukuksuzdur https://t.co/FHdc5DQ0u0</td>\n",
       "      <td>Goksun_KHK</td>\n",
       "      <td>NaN</td>\n",
       "      <td>NaN</td>\n",
       "      <td>1</td>\n",
       "      <td>1</td>\n",
       "      <td>1</td>\n",
       "      <td>0</td>\n",
       "      <td>86</td>\n",
       "      <td>[3_1617597534494392354]</td>\n",
       "      <td>NaN</td>\n",
       "      <td>[{'start': 0, 'end': 25, 'tag': 'OhalKomisyonu...</td>\n",
       "      <td>[{'start': 26, 'end': 49, 'url': 'https://t.co...</td>\n",
       "      <td>NaN</td>\n",
       "      <td>NaN</td>\n",
       "      <td>NaN</td>\n",
       "      <td>0</td>\n",
       "      <td>ORG</td>\n",
       "      <td>UNKNOWN</td>\n",
       "      <td>OhalKomisyonuHukuksuzdur</td>\n",
       "      <td>OhalKomisyonuHukuksuzdur</td>\n",
       "      <td>1</td>\n",
       "      <td>49</td>\n",
       "      <td>1</td>\n",
       "      <td>1</td>\n",
       "      <td>0</td>\n",
       "      <td>0</td>\n",
       "      <td>standard</td>\n",
       "      <td>0.011628</td>\n",
       "      <td>0.011628</td>\n",
       "      <td>tr</td>\n",
       "      <td>0.874858</td>\n",
       "      <td>0.847463</td>\n",
       "      <td>0.13</td>\n",
       "      <td>0.51</td>\n",
       "      <td>0.22</td>\n",
       "      <td>0.91</td>\n",
       "      <td>0.91</td>\n",
       "      <td>0.08</td>\n",
       "      <td>0.25</td>\n",
       "      <td>0.12</td>\n",
       "      <td>0.44</td>\n",
       "      <td>0.1</td>\n",
       "      <td>0.87</td>\n",
       "      <td>0.87</td>\n",
       "      <td>0.19</td>\n",
       "      <td>0.16</td>\n",
       "      <td>False</td>\n",
       "      <td>1107.0</td>\n",
       "      <td>174.0</td>\n",
       "      <td>2962.0</td>\n",
       "      <td>470.0</td>\n",
       "      <td>-0.599463</td>\n",
       "      <td>0</td>\n",
       "      <td>1</td>\n",
       "      <td>68282</td>\n",
       "      <td>0.013817</td>\n",
       "      <td>0.435233</td>\n",
       "      <td>1.231915</td>\n",
       "      <td>3_1617597534494392354</td>\n",
       "      <td>photo</td>\n",
       "      <td>1600.0</td>\n",
       "      <td>https://pbs.twimg.com/media/FnLcYyEWACIc5jQ.jpg</td>\n",
       "      <td>1600.0</td>\n",
       "      <td>NaN</td>\n",
       "      <td>NaN</td>\n",
       "      <td>NaN</td>\n",
       "      <td>NaN</td>\n",
       "      <td>NaN</td>\n",
       "      <td>NaN</td>\n",
       "      <td>NaN</td>\n",
       "      <td>NaN</td>\n",
       "      <td>NaN</td>\n",
       "      <td>NaN</td>\n",
       "      <td>NaN</td>\n",
       "      <td>NaN</td>\n",
       "      <td>NaN</td>\n",
       "      <td>NaN</td>\n",
       "      <td>NaN</td>\n",
       "      <td>NaN</td>\n",
       "      <td>NaN</td>\n",
       "      <td>NaN</td>\n",
       "      <td>NaN</td>\n",
       "      <td>NaN</td>\n",
       "      <td>NaN</td>\n",
       "      <td>NaN</td>\n",
       "      <td>NaN</td>\n",
       "      <td>NaN</td>\n",
       "      <td>NaN</td>\n",
       "      <td>NaN</td>\n",
       "      <td>NaN</td>\n",
       "      <td>NaN</td>\n",
       "      <td>NaN</td>\n",
       "      <td>NaN</td>\n",
       "      <td>NaN</td>\n",
       "      <td>other</td>\n",
       "      <td>False</td>\n",
       "      <td>2023</td>\n",
       "      <td>0.949243</td>\n",
       "      <td>-0.314545</td>\n",
       "      <td>1.0</td>\n",
       "      <td>1</td>\n",
       "      <td>1</td>\n",
       "      <td>0</td>\n",
       "      <td>2560000.0</td>\n",
       "      <td>NaN</td>\n",
       "      <td>NaN</td>\n",
       "      <td>NaN</td>\n",
       "      <td>NaN</td>\n",
       "      <td>NaN</td>\n",
       "      <td>NaN</td>\n",
       "      <td>NaN</td>\n",
       "      <td>NaN</td>\n",
       "      <td>NaN</td>\n",
       "      <td>NaN</td>\n",
       "      <td>NaN</td>\n",
       "      <td>NaN</td>\n",
       "      <td>NaN</td>\n",
       "      <td>NaN</td>\n",
       "      <td>NaN</td>\n",
       "      <td>463.0</td>\n",
       "      <td>0.0</td>\n",
       "      <td>1</td>\n",
       "      <td>0</td>\n",
       "      <td>0</td>\n",
       "      <td></td>\n",
       "      <td>0</td>\n",
       "      <td>short_text</td>\n",
       "    </tr>\n",
       "  </tbody>\n",
       "</table>\n",
       "</div>"
      ],
      "text/plain": [
       "             author_id context_annotations      conversation_id  \\\n",
       "0  1449804331142811655                  []  1617597872803041280   \n",
       "1  1449804331142811655                  []  1617597646339702823   \n",
       "3  1449804331142811655                  []  1617597543000440844   \n",
       "\n",
       "           created_at edit_history_tweet_ids                   id  \\\n",
       "0 2023-01-23 18:59:21  [1617597872803041280]  1617597872803041280   \n",
       "1 2023-01-23 18:58:27  [1617597646339702823]  1617597646339702823   \n",
       "3 2023-01-23 18:58:02  [1617597543000440844]  1617597543000440844   \n",
       "\n",
       "   in_reply_to_user_id lang  possibly_sensitive referenced_tweets  \\\n",
       "0                  NaN   tr               False               NaN   \n",
       "1                  NaN   fr               False               NaN   \n",
       "3                  NaN   de               False               NaN   \n",
       "\n",
       "  reply_settings                                               text  \\\n",
       "0       everyone  Kararlarındaki temel dayanak, hukukun evrensel...   \n",
       "1       everyone  #OhalKomisyonuHukuksuzdur https://t.co/3aUr5MZWPU   \n",
       "3       everyone  #OhalKomisyonuHukuksuzdur https://t.co/FHdc5DQ0u0   \n",
       "\n",
       "       author withheld  geo  quote_count  retweet_count  like_count  \\\n",
       "0  Goksun_KHK      NaN  NaN            0              2           1   \n",
       "1  Goksun_KHK      NaN  NaN            0              1           0   \n",
       "3  Goksun_KHK      NaN  NaN            1              1           1   \n",
       "\n",
       "   reply_count  impression_count               media_keys poll_ids  \\\n",
       "0            0                82                      NaN      NaN   \n",
       "1            0                52  [3_1617597636604723228]      NaN   \n",
       "3            0                86  [3_1617597534494392354]      NaN   \n",
       "\n",
       "                                            hashtags  \\\n",
       "0  [{'start': 95, 'end': 120, 'tag': 'OhalKomisyo...   \n",
       "1  [{'start': 0, 'end': 25, 'tag': 'OhalKomisyonu...   \n",
       "3  [{'start': 0, 'end': 25, 'tag': 'OhalKomisyonu...   \n",
       "\n",
       "                                                urls mentions cashtags  \\\n",
       "0                                                NaN      NaN      NaN   \n",
       "1  [{'start': 26, 'end': 49, 'url': 'https://t.co...      NaN      NaN   \n",
       "3  [{'start': 26, 'end': 49, 'url': 'https://t.co...      NaN      NaN   \n",
       "\n",
       "  annotations  is_retweet gender_of_author profession_of_author  \\\n",
       "0         NaN           0              ORG              UNKNOWN   \n",
       "1         NaN           0              ORG              UNKNOWN   \n",
       "3         NaN           0              ORG              UNKNOWN   \n",
       "\n",
       "         hashtags_flattened              trend_topics  n_trend_topics  \\\n",
       "0  OhalKomisyonuHukuksuzdur  OhalKomisyonuHukuksuzdur               1   \n",
       "1  OhalKomisyonuHukuksuzdur  OhalKomisyonuHukuksuzdur               1   \n",
       "3  OhalKomisyonuHukuksuzdur  OhalKomisyonuHukuksuzdur               1   \n",
       "\n",
       "   text_length  has_media  has_hashtags  has_mentions  is_reply tweet_type  \\\n",
       "0          120          0             1             0         0   standard   \n",
       "1           49          1             1             0         0   standard   \n",
       "3           49          1             1             0         0   standard   \n",
       "\n",
       "   ratio_like  ratio_retweet majority_lang   english  universal  \\\n",
       "0    0.012195       0.024390            tr  0.874858   0.847463   \n",
       "1    0.000000       0.019231            tr  0.874858   0.847463   \n",
       "3    0.011628       0.011628            tr  0.874858   0.847463   \n",
       "\n",
       "   eng_astroturf  eng_fake_follower  eng_financial  eng_other  eng_overall  \\\n",
       "0           0.13               0.51           0.22       0.91         0.91   \n",
       "1           0.13               0.51           0.22       0.91         0.91   \n",
       "3           0.13               0.51           0.22       0.91         0.91   \n",
       "\n",
       "   eng_self_declared  eng_spammer  uni_astroturf  uni_fake_follower  \\\n",
       "0               0.08         0.25           0.12               0.44   \n",
       "1               0.08         0.25           0.12               0.44   \n",
       "3               0.08         0.25           0.12               0.44   \n",
       "\n",
       "   uni_financial  uni_other  uni_overall  uni_self_declared  uni_spammer  \\\n",
       "0            0.1       0.87         0.87               0.19         0.16   \n",
       "1            0.1       0.87         0.87               0.19         0.16   \n",
       "3            0.1       0.87         0.87               0.19         0.16   \n",
       "\n",
       "   verified_author  followers_count_author  following_count_author  \\\n",
       "0            False                  1107.0                   174.0   \n",
       "1            False                  1107.0                   174.0   \n",
       "3            False                  1107.0                   174.0   \n",
       "\n",
       "   tweet_count_author  age_of_account_in_days_author  sentiment  \\\n",
       "0              2962.0                          470.0   0.994189   \n",
       "1              2962.0                          470.0   0.733746   \n",
       "3              2962.0                          470.0  -0.599463   \n",
       "\n",
       "   created_at_day_of_week  created_at_month_of_year  \\\n",
       "0                       0                         1   \n",
       "1                       0                         1   \n",
       "3                       0                         1   \n",
       "\n",
       "   created_at_time_of_day_in_seconds  reply_to_tweet_ratio  \\\n",
       "0                              68361              0.013817   \n",
       "1                              68307              0.013817   \n",
       "3                              68282              0.013817   \n",
       "\n",
       "   retweet_to_tweet_ratio  average_tweets_of_author_per_day  \\\n",
       "0                0.435233                          1.231915   \n",
       "1                0.435233                          1.231915   \n",
       "3                0.435233                          1.231915   \n",
       "\n",
       "       media_media_key_1 media_type_1  media_height_1  \\\n",
       "0                    NaN          NaN             NaN   \n",
       "1  3_1617597636604723228        photo          1600.0   \n",
       "3  3_1617597534494392354        photo          1600.0   \n",
       "\n",
       "                                       media_url_1  media_width_1  \\\n",
       "0                                              NaN            NaN   \n",
       "1  https://pbs.twimg.com/media/FnLceudWABwBC4b.jpg         1600.0   \n",
       "3  https://pbs.twimg.com/media/FnLcYyEWACIc5jQ.jpg         1600.0   \n",
       "\n",
       "   media_public_metrics_1 media_preview_image_url_1  media_duration_ms_1  \\\n",
       "0                     NaN                       NaN                  NaN   \n",
       "1                     NaN                       NaN                  NaN   \n",
       "3                     NaN                       NaN                  NaN   \n",
       "\n",
       "  media_alt_text_1 media_media_key_2 media_type_2  media_height_2 media_url_2  \\\n",
       "0              NaN               NaN          NaN             NaN         NaN   \n",
       "1              NaN               NaN          NaN             NaN         NaN   \n",
       "3              NaN               NaN          NaN             NaN         NaN   \n",
       "\n",
       "   media_width_2  media_public_metrics_2 media_preview_image_url_2  \\\n",
       "0            NaN                     NaN                       NaN   \n",
       "1            NaN                     NaN                       NaN   \n",
       "3            NaN                     NaN                       NaN   \n",
       "\n",
       "   media_duration_ms_2 media_alt_text_2 media_media_key_3 media_type_3  \\\n",
       "0                  NaN              NaN               NaN          NaN   \n",
       "1                  NaN              NaN               NaN          NaN   \n",
       "3                  NaN              NaN               NaN          NaN   \n",
       "\n",
       "   media_height_3 media_url_3  media_width_3  media_public_metrics_3  \\\n",
       "0             NaN         NaN            NaN                     NaN   \n",
       "1             NaN         NaN            NaN                     NaN   \n",
       "3             NaN         NaN            NaN                     NaN   \n",
       "\n",
       "  media_preview_image_url_3  media_duration_ms_3  media_alt_text_3  \\\n",
       "0                       NaN                  NaN               NaN   \n",
       "1                       NaN                  NaN               NaN   \n",
       "3                       NaN                  NaN               NaN   \n",
       "\n",
       "  media_media_key_4 media_type_4  media_height_4 media_url_4  media_width_4  \\\n",
       "0               NaN          NaN             NaN         NaN            NaN   \n",
       "1               NaN          NaN             NaN         NaN            NaN   \n",
       "3               NaN          NaN             NaN         NaN            NaN   \n",
       "\n",
       "   media_public_metrics_4 media_preview_image_url_4  media_duration_ms_4  \\\n",
       "0                     NaN                       NaN                  NaN   \n",
       "1                     NaN                       NaN                  NaN   \n",
       "3                     NaN                       NaN                  NaN   \n",
       "\n",
       "   media_alt_text_4          sttm_topic  political_context_annotation  \\\n",
       "0               NaN  search for justice                         False   \n",
       "1               NaN               other                         False   \n",
       "3               NaN               other                         False   \n",
       "\n",
       "   created_at_year  created_at_time_of_day_in_seconds_sin  \\\n",
       "0             2023                               0.976296   \n",
       "1             2023                              -0.537300   \n",
       "3             2023                               0.949243   \n",
       "\n",
       "   created_at_time_of_day_in_seconds_cos  n_media_keys  n_hashtags  n_urls  \\\n",
       "0                               0.216440           0.0           1       0   \n",
       "1                              -0.843391           1.0           1       1   \n",
       "3                              -0.314545           1.0           1       1   \n",
       "\n",
       "   n_mentions  media_resolution_1  media_resolution_2  media_resolution_3  \\\n",
       "0           0                 NaN                 NaN                 NaN   \n",
       "1           0           2560000.0                 NaN                 NaN   \n",
       "3           0           2560000.0                 NaN                 NaN   \n",
       "\n",
       "   media_resolution_4  fear  anger  anticip  trust  surprise  positive  \\\n",
       "0                 NaN   0.0    0.0      0.0    1.0       0.0       0.0   \n",
       "1                 NaN   NaN    NaN      NaN    NaN       NaN       NaN   \n",
       "3                 NaN   NaN    NaN      NaN    NaN       NaN       NaN   \n",
       "\n",
       "   negative  sadness  disgust  joy  anticipation  \\\n",
       "0       0.0      0.0      0.0  0.0           0.0   \n",
       "1       NaN      NaN      NaN  NaN           NaN   \n",
       "3       NaN      NaN      NaN  NaN           NaN   \n",
       "\n",
       "                                    translated_tweet  \\\n",
       "0  The basic basis in their decisions is the demo...   \n",
       "1                                                NaN   \n",
       "3                                                NaN   \n",
       "\n",
       "   age_of_account_in_days_author_when_tweeted  \\\n",
       "0                                       463.0   \n",
       "1                                       463.0   \n",
       "3                                       463.0   \n",
       "\n",
       "   posted_during_an_important_event  n_photos  n_videos  n_animated_gif  \\\n",
       "0                               0.0         0         0               0   \n",
       "1                               0.0         1         0               0   \n",
       "3                               0.0         1         0               0   \n",
       "\n",
       "                                          clean_text  word_count    new_lang  \n",
       "0  Kararlarındaki temel dayanak, hukukun evrensel...          11          tr  \n",
       "1                                                              0  short_text  \n",
       "3                                                              0  short_text  "
      ]
     },
     "execution_count": 2,
     "metadata": {},
     "output_type": "execute_result"
    }
   ],
   "source": [
    "df = pd.read_pickle(\"all_tweets_v15.pkl\")\n",
    "df = df[df.tweet_type == \"standard\"]\n",
    "df.head(3)"
   ]
  },
  {
   "cell_type": "markdown",
   "id": "8715bae3-5634-4487-839e-2e868f62b3fa",
   "metadata": {
    "tags": []
   },
   "source": [
    "# All Research Questions:\n",
    "\n",
    "1. Does multimedia attachment in a tweet affect its user engagement?\n",
    "    - Mann-Whitney U test\n",
    "2. Does the sentiment of a tweet affect its user engagement?\n",
    "    - the Spearman's rank correlation test\n",
    "3. Does the emotion of a tweet affect its user engagement?\n",
    "    - for each emotion, Use the Spearman's rank correlation test\n",
    "4. Does the language of a tweet affect its user engagement?\n",
    "    - Kruskal-Wallis H test\n",
    "5. Does including the trend topic of the day in a tweet affect its user engagement?\n",
    "    - the Spearman's rank correlation test\n",
    "6. Does the creation time of a tweet affect its user engagement?\n",
    "    - watson.williams.test -> https://www.quantargo.com/help/r/latest/packages/circular/0.4-93/watson.williams.test\n",
    "7. Does including hashtags in a tweet affect its user engagement?\n",
    "    - the Spearman's rank correlation test\n",
    "8. Is the user engagement of a tweet containing political content different from the tweet without political content?\n",
    "    - Mann-Whitney U test\n",
    "9. Does an important societal event affect the user engagement of a tweet up until 7 days?\n",
    "    - the Spearman's rank correlation test\n",
    "10. Is the topic of the tweet affect its popularity?\n",
    "    - Kruskal-Wallis H test"
   ]
  },
  {
   "cell_type": "markdown",
   "id": "062d022c-9ff4-4fd6-89bc-491e83570b15",
   "metadata": {
    "jp-MarkdownHeadingCollapsed": true,
    "tags": []
   },
   "source": [
    "## Testing the normality of likes and retweets"
   ]
  },
  {
   "cell_type": "code",
   "execution_count": 66,
   "id": "7ffe9536-f4af-45fc-a0c5-863e785fb09c",
   "metadata": {
    "tags": []
   },
   "outputs": [],
   "source": [
    "like_counts = df.like_count.to_list()\n",
    "retweet_counts = df.retweet_count.to_list()"
   ]
  },
  {
   "cell_type": "markdown",
   "id": "fc4bf3dd-2068-4960-898d-acf963a27bd0",
   "metadata": {
    "jp-MarkdownHeadingCollapsed": true,
    "tags": []
   },
   "source": [
    "### Shapiroo-Wilk Test"
   ]
  },
  {
   "cell_type": "code",
   "execution_count": 67,
   "id": "ab477c1c-005f-4231-a55a-cc89b386330e",
   "metadata": {
    "tags": []
   },
   "outputs": [
    {
     "name": "stdout",
     "output_type": "stream",
     "text": [
      "Testing like counts\n",
      "Statistic = 0.134, p-value = 0.000\n",
      "Sample does not look Gaussian (reject H0)\n",
      "Testing retweet counts\n",
      "Statistic = 0.235, p-value = 0.000\n",
      "Sample does not look Gaussian (reject H0)\n"
     ]
    },
    {
     "name": "stderr",
     "output_type": "stream",
     "text": [
      "/Users/hasansalimkanmaz/environments/kuleuven-thesis/lib/python3.10/site-packages/scipy/stats/_morestats.py:1800: UserWarning: p-value may not be accurate for N > 5000.\n",
      "  warnings.warn(\"p-value may not be accurate for N > 5000.\")\n"
     ]
    }
   ],
   "source": [
    "def apply_shapiroo_wilk_test(counts: list[int], variable_name: str):\n",
    "    print(f\"Testing {variable_name} counts\")\n",
    "    stat, p = shapiro(counts)\n",
    "    print(f\"Statistic = {stat:.3f}, p-value = {p:.3f}\")\n",
    "    if p > 0.05:\n",
    "        print(\"Sample looks Gaussian (fail to reject H0)\")\n",
    "    else:\n",
    "        print(\"Sample does not look Gaussian (reject H0)\")\n",
    "\n",
    "\n",
    "apply_shapiroo_wilk_test(like_counts, \"like\")\n",
    "apply_shapiroo_wilk_test(retweet_counts, \"retweet\")"
   ]
  },
  {
   "cell_type": "markdown",
   "id": "270ab8c6-ce65-4fe1-a5f4-d73656b3d26b",
   "metadata": {
    "jp-MarkdownHeadingCollapsed": true,
    "tags": []
   },
   "source": [
    "### Anderson-Darling Test"
   ]
  },
  {
   "cell_type": "code",
   "execution_count": 68,
   "id": "02ef0028-73a3-467b-a11f-e08a60dd3201",
   "metadata": {
    "tags": []
   },
   "outputs": [
    {
     "name": "stdout",
     "output_type": "stream",
     "text": [
      "Testing like counts\n",
      "\n",
      "Anderson-Darling test:\n",
      "Statistic = 25457.045\n",
      "10%: Sample does not look Gaussian (reject H0)\n",
      "20%: Sample does not look Gaussian (reject H0)\n",
      "30%: Sample does not look Gaussian (reject H0)\n",
      "40%: Sample does not look Gaussian (reject H0)\n",
      "50%: Sample does not look Gaussian (reject H0)\n",
      "Testing retweet counts\n",
      "\n",
      "Anderson-Darling test:\n",
      "Statistic = 22320.416\n",
      "10%: Sample does not look Gaussian (reject H0)\n",
      "20%: Sample does not look Gaussian (reject H0)\n",
      "30%: Sample does not look Gaussian (reject H0)\n",
      "40%: Sample does not look Gaussian (reject H0)\n",
      "50%: Sample does not look Gaussian (reject H0)\n"
     ]
    }
   ],
   "source": [
    "def apply_anderson_darling_test(counts: list[int], variable_name: str):\n",
    "    print(f\"Testing {variable_name} counts\")\n",
    "    result = anderson(counts)\n",
    "    print(\"\\nAnderson-Darling test:\")\n",
    "    print(f\"Statistic = {result.statistic:.3f}\")\n",
    "    for i, crit_val in enumerate(result.critical_values):\n",
    "        if result.statistic < crit_val:\n",
    "            print(f\"{(i+1)*10}%: Sample looks Gaussian (fail to reject H0)\")\n",
    "        else:\n",
    "            print(f\"{(i+1)*10}%: Sample does not look Gaussian (reject H0)\")\n",
    "\n",
    "\n",
    "apply_anderson_darling_test(like_counts, \"like\")\n",
    "apply_anderson_darling_test(retweet_counts, \"retweet\")"
   ]
  },
  {
   "cell_type": "markdown",
   "id": "92efaab1-3305-4ae4-a8d2-c77e46d61a7a",
   "metadata": {},
   "source": [
    "### Visual Inspection for normality"
   ]
  },
  {
   "cell_type": "code",
   "execution_count": 69,
   "id": "d6f2cd45-628a-4e14-bd42-5a2aad86eb2b",
   "metadata": {
    "tags": []
   },
   "outputs": [
    {
     "data": {
      "image/png": "[encoded data removed]",
      "text/plain": [
       "<Figure size 640x480 with 2 Axes>"
      ]
     },
     "metadata": {},
     "output_type": "display_data"
    }
   ],
   "source": [
    "# Plot the distribution of list1\n",
    "plt.subplot(1, 2, 1)\n",
    "plt.hist(like_counts, bins=100)\n",
    "plt.title(\"The distribution of like counts\")\n",
    "\n",
    "# Plot the distribution of list2\n",
    "plt.subplot(1, 2, 2)\n",
    "plt.hist(retweet_counts, bins=100)\n",
    "plt.title(\"The distribution of retweet counts\")\n",
    "plt.show()"
   ]
  },
  {
   "cell_type": "markdown",
   "id": "c94ba960-819e-473f-9c40-ea8fa2678f2c",
   "metadata": {
    "tags": []
   },
   "source": [
    "## 1. Does multimedia attachment in a tweet affect its user engagement?\n",
    "\n",
    "- Yes, the Mann–Whitney U test is a nonparametric test of the null hypothesis that, for randomly selected values X and Y from two populations, the probability of X being greater than Y is equal to the probability of Y being greater than X. Below, it is shown that the test is significant and rejects null hypothesis for the tweets with/witout multimedia attachment. In visual inspection, the boxplot are so tiny that the difference can't be seen but it can be seen that the statistics like IQR and median values are different. The tweets with multimedia attachment attract more likes and retweets."
   ]
  },
  {
   "cell_type": "code",
   "execution_count": 128,
   "id": "f7f9e6db-190f-4411-9b7c-36d9a275f160",
   "metadata": {
    "tags": []
   },
   "outputs": [
    {
     "name": "stdout",
     "output_type": "stream",
     "text": [
      "\n",
      "The number of tweets with media: 36893,\n",
      "The number of tweets without media: 49640,\n",
      "\n",
      "\n",
      "H0 hypothesis is rejected. The mean of like counts for tweets with and without media are significantly different\n",
      "Test statistic: 1094904997.5, p-value: 0.0\n",
      "\n"
     ]
    }
   ],
   "source": [
    "likes_without_media = df[df.has_media != 1].like_count.to_list()\n",
    "likes_with_media = df[df.has_media == 1].like_count.to_list()\n",
    "print(\n",
    "    f\"\"\"\n",
    "The number of tweets with media: {len(likes_with_media)},\n",
    "The number of tweets without media: {len(likes_without_media)},\n",
    "\"\"\"\n",
    ")\n",
    "result = mannwhitneyu(likes_with_media, likes_without_media)\n",
    "print(\n",
    "    f\"\"\"\n",
    "H0 hypothesis is rejected. The mean of like counts for tweets with and without media are significantly different\n",
    "Test statistic: {result.statistic}, p-value: {result.pvalue}\n",
    "\"\"\"\n",
    ")"
   ]
  },
  {
   "cell_type": "code",
   "execution_count": 129,
   "id": "a51b8d3c-3b44-4dcd-9a9c-e44cb4a9dd55",
   "metadata": {
    "tags": []
   },
   "outputs": [
    {
     "name": "stdout",
     "output_type": "stream",
     "text": [
      "\n",
      "The number of tweets with media: 36893,\n",
      "The number of tweets without media: 49640,\n",
      "\n",
      "\n",
      "H0 hypothesis is rejected. The mean of like counts for tweets with and without media are significantly different\n",
      "Test statistic: 1077962128.0, p-value: 0.0\n",
      "\n"
     ]
    }
   ],
   "source": [
    "retweets_without_media = df[df.has_media != 1].retweet_count.to_list()\n",
    "retweets_with_media = df[df.has_media == 1].retweet_count.to_list()\n",
    "print(\n",
    "    f\"\"\"\n",
    "The number of tweets with media: {len(retweets_with_media)},\n",
    "The number of tweets without media: {len(retweets_without_media)},\n",
    "\"\"\"\n",
    ")\n",
    "result = mannwhitneyu(retweets_with_media, retweets_without_media)\n",
    "print(\n",
    "    f\"\"\"\n",
    "H0 hypothesis is rejected. The mean of like counts for tweets with and without media are significantly different\n",
    "Test statistic: {result.statistic}, p-value: {result.pvalue}\n",
    "\"\"\"\n",
    ")"
   ]
  },
  {
   "cell_type": "code",
   "execution_count": 88,
   "id": "f63572cb-7121-483f-8d50-890d4022d6f7",
   "metadata": {
    "tags": []
   },
   "outputs": [
    {
     "data": {
      "image/png": "[encoded data removed]",
      "text/plain": [
       "<Figure size 640x480 with 1 Axes>"
      ]
     },
     "metadata": {},
     "output_type": "display_data"
    }
   ],
   "source": [
    "plt.boxplot(\n",
    "    [\n",
    "        df.loc[df[\"has_media\"] == 0, \"retweet_count\"],\n",
    "        df.loc[df[\"has_media\"] == 1, \"retweet_count\"],\n",
    "        df.loc[df[\"has_media\"] == 0, \"like_count\"],\n",
    "        df.loc[df[\"has_media\"] == 1, \"like_count\"],\n",
    "    ]\n",
    ")\n",
    "plt.xticks(\n",
    "    [1, 2, 3, 4],\n",
    "    [\"No Media Retweets\", \"Media Retweets\", \"No Media Likes\", \"Media Likes\"],\n",
    ")\n",
    "plt.ylabel(\"Count\")\n",
    "plt.show()"
   ]
  },
  {
   "cell_type": "code",
   "execution_count": 73,
   "id": "95368340-0a18-4faf-ad36-4a3117c9364e",
   "metadata": {
    "tags": []
   },
   "outputs": [
    {
     "data": {
      "text/plain": [
       "count    49640.000000\n",
       "mean        39.739545\n",
       "std        191.310164\n",
       "min          0.000000\n",
       "25%          2.000000\n",
       "50%          5.000000\n",
       "75%         15.000000\n",
       "max       7150.000000\n",
       "Name: retweet_count, dtype: float64"
      ]
     },
     "execution_count": 73,
     "metadata": {},
     "output_type": "execute_result"
    }
   ],
   "source": [
    "df.loc[df[\"has_media\"] == 0, \"retweet_count\"].describe()"
   ]
  },
  {
   "cell_type": "code",
   "execution_count": 74,
   "id": "e8295706-a7d0-450a-b97a-53baf988ed07",
   "metadata": {
    "tags": []
   },
   "outputs": [
    {
     "data": {
      "text/plain": [
       "count    36893.000000\n",
       "mean        69.596861\n",
       "std        227.745718\n",
       "min          0.000000\n",
       "25%          2.000000\n",
       "50%          8.000000\n",
       "75%         35.000000\n",
       "max       7413.000000\n",
       "Name: retweet_count, dtype: float64"
      ]
     },
     "execution_count": 74,
     "metadata": {},
     "output_type": "execute_result"
    }
   ],
   "source": [
    "df.loc[df[\"has_media\"] == 1, \"retweet_count\"].describe()"
   ]
  },
  {
   "cell_type": "code",
   "execution_count": 75,
   "id": "df531692-64d9-4f45-93f7-84e61f34d31b",
   "metadata": {
    "tags": []
   },
   "outputs": [
    {
     "data": {
      "text/plain": [
       "count    49640.000000\n",
       "mean       240.935717\n",
       "std       1524.515103\n",
       "min          0.000000\n",
       "25%          4.000000\n",
       "50%         13.000000\n",
       "75%         44.000000\n",
       "max      73017.000000\n",
       "Name: like_count, dtype: float64"
      ]
     },
     "execution_count": 75,
     "metadata": {},
     "output_type": "execute_result"
    }
   ],
   "source": [
    "df.loc[df[\"has_media\"] == 0, \"like_count\"].describe()"
   ]
  },
  {
   "cell_type": "code",
   "execution_count": 76,
   "id": "9aaaa5a4-8e2f-4311-a510-8963382b8d0c",
   "metadata": {
    "tags": []
   },
   "outputs": [
    {
     "data": {
      "text/plain": [
       "count    36893.000000\n",
       "mean       217.303825\n",
       "std       1108.193270\n",
       "min          0.000000\n",
       "25%          7.000000\n",
       "50%         27.000000\n",
       "75%        107.000000\n",
       "max      57974.000000\n",
       "Name: like_count, dtype: float64"
      ]
     },
     "execution_count": 76,
     "metadata": {},
     "output_type": "execute_result"
    }
   ],
   "source": [
    "df.loc[df[\"has_media\"] == 1, \"like_count\"].describe()"
   ]
  },
  {
   "cell_type": "markdown",
   "id": "a195a639-ddbf-445d-93f7-59a9f395ba3a",
   "metadata": {
    "tags": []
   },
   "source": [
    "## 2. Does the sentiment of a tweet affect its user engagement?\n",
    "- Yes, according to Spearman's R correlation coefficient, there is a positive correlation between sentiment and like/retweet counts. This is also confirmed via visual inspection based on hexagonally-binned scatterplots."
   ]
  },
  {
   "cell_type": "code",
   "execution_count": 77,
   "id": "a9c0e44b-26db-49ee-ae60-6a8a711e8e66",
   "metadata": {
    "tags": []
   },
   "outputs": [],
   "source": [
    "df_with_sentiment_scores = df[df.lang.isin([\"en\", \"tr\", \"de\", \"fr\"])]\n",
    "assert set(df_with_sentiment_scores.lang.unique()) == set([\"en\", \"tr\", \"de\", \"fr\"])"
   ]
  },
  {
   "cell_type": "code",
   "execution_count": 78,
   "id": "87d87d0c-a53b-4a30-afd3-b419181af551",
   "metadata": {
    "tags": []
   },
   "outputs": [
    {
     "name": "stdout",
     "output_type": "stream",
     "text": [
      "\n",
      "H0 hypothesis is rejected. There is a positive correlation between like counts and the sentiment of the tweets.\n",
      "Correlation: 0.07007628472138114, p-value: 1.0306959135591092e-91\n",
      "\n"
     ]
    }
   ],
   "source": [
    "res = spearmanr(\n",
    "    df_with_sentiment_scores.sentiment.to_list(),\n",
    "    df_with_sentiment_scores.like_count.to_list(),\n",
    "    alternative=\"greater\",\n",
    ")\n",
    "print(\n",
    "    f\"\"\"\n",
    "H0 hypothesis is rejected. There is a positive correlation between like counts and the sentiment of the tweets.\n",
    "Correlation: {res.correlation}, p-value: {res.pvalue}\n",
    "\"\"\"\n",
    ")"
   ]
  },
  {
   "cell_type": "code",
   "execution_count": 79,
   "id": "61b0856f-67c2-4081-aeb6-40c7d155bf99",
   "metadata": {
    "tags": []
   },
   "outputs": [
    {
     "name": "stdout",
     "output_type": "stream",
     "text": [
      "\n",
      "H0 hypothesis is rejected. There is a positive correlation between retweet counts and the sentiment of the tweets.\n",
      "Correlation: 0.05569700879426289, p-value: 1.1064654269600274e-58\n",
      "\n"
     ]
    }
   ],
   "source": [
    "res = spearmanr(\n",
    "    df_with_sentiment_scores.sentiment.to_list(),\n",
    "    df_with_sentiment_scores.retweet_count.to_list(),\n",
    "    alternative=\"greater\",\n",
    ")\n",
    "print(\n",
    "    f\"\"\"\n",
    "H0 hypothesis is rejected. There is a positive correlation between retweet counts and the sentiment of the tweets.\n",
    "Correlation: {res.correlation}, p-value: {res.pvalue}\n",
    "\"\"\"\n",
    ")"
   ]
  },
  {
   "cell_type": "code",
   "execution_count": 81,
   "id": "ea8d4144-1a51-4a23-a6ce-9afff0bd3db3",
   "metadata": {
    "tags": []
   },
   "outputs": [
    {
     "data": {
      "image/png": "[encoded data removed]",
      "text/plain": [
       "<Figure size 600x600 with 3 Axes>"
      ]
     },
     "metadata": {},
     "output_type": "display_data"
    },
    {
     "data": {
      "image/png": "[encoded data removed]",
      "text/plain": [
       "<Figure size 600x600 with 3 Axes>"
      ]
     },
     "metadata": {},
     "output_type": "display_data"
    }
   ],
   "source": [
    "# Plot a hexbin plot for the x and y columns in the first subplot\n",
    "sns.jointplot(x=\"sentiment\", y=\"like_count\", data=df_with_sentiment_scores, kind=\"hex\")\n",
    "axs[0].set_xlabel(\"sentiment\")\n",
    "axs[0].set_ylabel(\"like_count\")\n",
    "\n",
    "# Plot a hexbin plot for the x and z columns in the second subplot\n",
    "sns.jointplot(\n",
    "    x=\"sentiment\",\n",
    "    y=\"retweet_count\",\n",
    "    data=df_with_sentiment_scores,\n",
    "    kind=\"hex\",\n",
    ")\n",
    "axs[1].set_xlabel(\"sentiment\")\n",
    "axs[1].set_ylabel(\"retweet_count\")\n",
    "\n",
    "plt.show()"
   ]
  },
  {
   "cell_type": "markdown",
   "id": "b08ea028-9d02-4ace-a20c-5817a7c1a3c6",
   "metadata": {
    "tags": []
   },
   "source": [
    "## 3. Does the emotion of a tweet affect its user engagement?\n",
    "\n",
    "- Yes, one test is done for each emotion and Spearman's r test shows significant positive correlations with all emotions with like/retweet count apart from trust and like count correlation."
   ]
  },
  {
   "cell_type": "code",
   "execution_count": 13,
   "id": "e6d8489f-968f-4cd1-8e85-0270ac5fbb8d",
   "metadata": {
    "tags": []
   },
   "outputs": [
    {
     "name": "stdout",
     "output_type": "stream",
     "text": [
      "\n",
      "        H0 hypothesis is rejected. There is a significant positive correlation between like counts and anger.\n",
      "        Correlation: 0.04573122558424203, p-value: 1.4089555416896011e-31\n",
      "        \n",
      "\n",
      "        H0 hypothesis is rejected. There is a significant positive correlation between like counts and fear.\n",
      "        Correlation: 0.057130183824601305, p-value: 3.569409937858113e-48\n",
      "        \n",
      "\n",
      "        H0 hypothesis is rejected. There is a significant positive correlation between like counts and anticipation.\n",
      "        Correlation: 0.06150962525121458, p-value: 1.5943959674550123e-55\n",
      "        \n",
      "\n",
      "        H0 hypothesis is not rejected. There is no significant correlation between like counts and trust.\n",
      "        Correlation: 0.0059362491407218086, p-value: 0.06562324260181629\n",
      "        \n",
      "\n",
      "        H0 hypothesis is rejected. There is a significant positive correlation between like counts and surprise.\n",
      "        Correlation: 0.03755382448263811, p-value: 6.435163377514879e-22\n",
      "        \n",
      "\n",
      "        H0 hypothesis is rejected. There is a significant positive correlation between like counts and sadness.\n",
      "        Correlation: 0.06501824993980185, p-value: 8.371623118459492e-62\n",
      "        \n",
      "\n",
      "        H0 hypothesis is rejected. There is a significant positive correlation between like counts and joy.\n",
      "        Correlation: 0.06710907024573895, p-value: 1.034763291832841e-65\n",
      "        \n",
      "\n",
      "        H0 hypothesis is rejected. There is a significant positive correlation between like counts and disgust.\n",
      "        Correlation: 0.03970706210656898, p-value: 2.7951355766282325e-24\n",
      "        \n"
     ]
    }
   ],
   "source": [
    "emotions = [\n",
    "    \"anger\",\n",
    "    \"fear\",\n",
    "    \"anticipation\",\n",
    "    \"trust\",\n",
    "    \"surprise\",\n",
    "    \"sadness\",\n",
    "    \"joy\",\n",
    "    \"disgust\",\n",
    "]\n",
    "for emotion in emotions:\n",
    "    emotion_df = df[~df[emotion].isna()]\n",
    "\n",
    "    res = spearmanr(\n",
    "        emotion_df[emotion].to_list(),\n",
    "        emotion_df.like_count.to_list(),\n",
    "        alternative=\"greater\",\n",
    "    )\n",
    "    if res.pvalue < 0.05:\n",
    "        print(\n",
    "            f\"\"\"\n",
    "        H0 hypothesis is rejected. There is a significant positive correlation between like counts and {emotion}.\n",
    "        Correlation: {res.correlation}, p-value: {res.pvalue}\n",
    "        \"\"\"\n",
    "        )\n",
    "    else:\n",
    "        print(\n",
    "            f\"\"\"\n",
    "        H0 hypothesis is not rejected. There is no significant correlation between like counts and {emotion}.\n",
    "        Correlation: {res.correlation}, p-value: {res.pvalue}\n",
    "        \"\"\"\n",
    "        )"
   ]
  },
  {
   "cell_type": "code",
   "execution_count": 16,
   "id": "da08926c-7c83-4598-9a75-ad60e8ebf3b9",
   "metadata": {
    "tags": []
   },
   "outputs": [
    {
     "name": "stdout",
     "output_type": "stream",
     "text": [
      "\n",
      "        H0 hypothesis is rejected. There is a significant positive correlation between retweet counts and anger.\n",
      "        Correlation: 0.07172470194826953, p-value: 8.884500000068638e-75\n",
      "        \n",
      "\n",
      "        H0 hypothesis is rejected. There is a significant positive correlation between retweet counts and fear.\n",
      "        Correlation: 0.08127593058015947, p-value: 1.8322682991175014e-95\n",
      "        \n",
      "\n",
      "        H0 hypothesis is rejected. There is a significant positive correlation between retweet counts and anticipation.\n",
      "        Correlation: 0.04184710201367878, p-value: 9.340228363642272e-27\n",
      "        \n",
      "\n",
      "        H0 hypothesis is rejected. There is a significant positive correlation between retweet counts and trust.\n",
      "        Correlation: 0.021721202111600293, p-value: 1.6672344164699186e-08\n",
      "        \n",
      "\n",
      "        H0 hypothesis is rejected. There is a significant positive correlation between retweet counts and surprise.\n",
      "        Correlation: 0.03229320734067942, p-value: 1.0863507734925709e-16\n",
      "        \n",
      "\n",
      "        H0 hypothesis is rejected. There is a significant positive correlation between retweet counts and sadness.\n",
      "        Correlation: 0.08962002656788397, p-value: 1.1460357693959693e-115\n",
      "        \n",
      "\n",
      "        H0 hypothesis is rejected. There is a significant positive correlation between retweet counts and joy.\n",
      "        Correlation: 0.02560541364182428, p-value: 3.7372665721135066e-11\n",
      "        \n",
      "\n",
      "        H0 hypothesis is rejected. There is a significant positive correlation between retweet counts and disgust.\n",
      "        Correlation: 0.060010983570067, p-value: 6.008224936327138e-53\n",
      "        \n"
     ]
    }
   ],
   "source": [
    "for emotion in emotions:\n",
    "    emotion_df = df[~df[emotion].isna()]\n",
    "\n",
    "    res = spearmanr(\n",
    "        emotion_df[emotion].to_list(),\n",
    "        emotion_df.retweet_count.to_list(),\n",
    "        alternative=\"greater\",\n",
    "    )\n",
    "    if res.pvalue < 0.05:\n",
    "        print(\n",
    "            f\"\"\"\n",
    "        H0 hypothesis is rejected. There is a significant positive correlation between retweet counts and {emotion}.\n",
    "        Correlation: {res.correlation}, p-value: {res.pvalue}\n",
    "        \"\"\"\n",
    "        )\n",
    "    else:\n",
    "        print(\n",
    "            f\"\"\"\n",
    "        H0 hypothesis is not rejected. There is no significant correlation between retweet counts and {emotion}.\n",
    "        Correlation: {res.correlation}, p-value: {res.pvalue}\n",
    "        \"\"\"\n",
    "        )"
   ]
  },
  {
   "cell_type": "markdown",
   "id": "93da36d3-434c-46af-a2dc-0bb3843bf2e8",
   "metadata": {
    "tags": []
   },
   "source": [
    "## 4. Does the language of a tweet affect its user engagement?"
   ]
  },
  {
   "cell_type": "code",
   "execution_count": 20,
   "id": "7c5ba79e-90c9-4309-b54c-d31438702dcd",
   "metadata": {
    "tags": []
   },
   "outputs": [
    {
     "name": "stdout",
     "output_type": "stream",
     "text": [
      "Kruskal-Wallis H test results:\n",
      "H-statistic: 144520.86533930188\n",
      "p-value: 0.0\n"
     ]
    },
    {
     "name": "stderr",
     "output_type": "stream",
     "text": [
      "/Users/hasansalimkanmaz/environments/kuleuven-thesis/lib/python3.10/site-packages/scipy/stats/_stats_py.py:112: RuntimeWarning: The input array could not be properly checked for nan values. nan values will be ignored.\n",
      "  warnings.warn(\"The input array could not be properly \"\n"
     ]
    }
   ],
   "source": [
    "H, p = kruskal(df[\"new_lang\"].to_list(), df[\"like_count\"].to_list())\n",
    "\n",
    "# Print the test results\n",
    "print(\"Kruskal-Wallis H test results:\")\n",
    "print(f\"H-statistic: {H}\")\n",
    "print(f\"p-value: {p}\")"
   ]
  },
  {
   "cell_type": "code",
   "execution_count": 21,
   "id": "8d81f3cc-054b-421b-9280-67d8d23b36aa",
   "metadata": {
    "tags": []
   },
   "outputs": [
    {
     "name": "stdout",
     "output_type": "stream",
     "text": [
      "Kruskal-Wallis H test results for group1 values ('tr', 'very_short'):\n",
      "H-statistic: 140823.51254420957\n",
      "p-value: 0.0\n",
      "Kruskal-Wallis H test results for group1 values ('tr', 'en'):\n",
      "H-statistic: 141053.9741910073\n",
      "p-value: 0.0\n",
      "Kruskal-Wallis H test results for group1 values ('tr', 'other'):\n",
      "H-statistic: 139320.6919696856\n",
      "p-value: 0.0\n",
      "Kruskal-Wallis H test results for group1 values ('tr', 'short_text'):\n",
      "H-statistic: 138691.66604422368\n",
      "p-value: 0.0\n",
      "Kruskal-Wallis H test results for group1 values ('very_short', 'en'):\n",
      "H-statistic: 7389.91675552772\n",
      "p-value: 0.0\n",
      "Kruskal-Wallis H test results for group1 values ('very_short', 'other'):\n",
      "H-statistic: 4867.170159047441\n",
      "p-value: 0.0\n",
      "Kruskal-Wallis H test results for group1 values ('very_short', 'short_text'):\n",
      "H-statistic: 4072.450293092248\n",
      "p-value: 0.0\n",
      "Kruskal-Wallis H test results for group1 values ('en', 'other'):\n",
      "H-statistic: 5234.305018201159\n",
      "p-value: 0.0\n",
      "Kruskal-Wallis H test results for group1 values ('en', 'short_text'):\n",
      "H-statistic: 4448.863684548627\n",
      "p-value: 0.0\n",
      "Kruskal-Wallis H test results for group1 values ('other', 'short_text'):\n",
      "H-statistic: 1551.6847053372699\n",
      "p-value: 0.0\n"
     ]
    }
   ],
   "source": [
    "group1_values = df[\"new_lang\"].unique()\n",
    "\n",
    "# Perform Kruskal-Wallis H test for each combination of two in group1_values\n",
    "for group1_pair in combinations(group1_values, 2):\n",
    "    group1_pair_df = df.loc[df[\"new_lang\"].isin(group1_pair)]\n",
    "    H, p = kruskal(\n",
    "        group1_pair_df[\"new_lang\"].to_list(), group1_pair_df[\"like_count\"].to_list()\n",
    "    )\n",
    "    print(f\"Kruskal-Wallis H test results for group1 values {group1_pair}:\")\n",
    "    print(f\"H-statistic: {H}\")\n",
    "    print(f\"p-value: {p}\")"
   ]
  },
  {
   "cell_type": "code",
   "execution_count": 85,
   "id": "eecd5bc9-cbe5-48b5-a123-21cc88112ba7",
   "metadata": {
    "tags": []
   },
   "outputs": [
    {
     "name": "stderr",
     "output_type": "stream",
     "text": [
      "/var/folders/z5/hjyvlbm54v1cpt9s019vbv9w0000gn/T/ipykernel_24642/3991137282.py:1: FutureWarning: Indexing with multiple keys (implicitly converted to a tuple of keys) will be deprecated, use a list instead.\n",
      "  df.groupby(\"new_lang\")[\"like_count\", \"retweet_count\"].describe()\n"
     ]
    },
    {
     "data": {
      "text/html": [
       "<div>\n",
       "<style scoped>\n",
       "    .dataframe tbody tr th:only-of-type {\n",
       "        vertical-align: middle;\n",
       "    }\n",
       "\n",
       "    .dataframe tbody tr th {\n",
       "        vertical-align: top;\n",
       "    }\n",
       "\n",
       "    .dataframe thead tr th {\n",
       "        text-align: left;\n",
       "    }\n",
       "\n",
       "    .dataframe thead tr:last-of-type th {\n",
       "        text-align: right;\n",
       "    }\n",
       "</style>\n",
       "<table border=\"1\" class=\"dataframe\">\n",
       "  <thead>\n",
       "    <tr>\n",
       "      <th></th>\n",
       "      <th colspan=\"8\" halign=\"left\">like_count</th>\n",
       "      <th colspan=\"8\" halign=\"left\">retweet_count</th>\n",
       "    </tr>\n",
       "    <tr>\n",
       "      <th></th>\n",
       "      <th>count</th>\n",
       "      <th>mean</th>\n",
       "      <th>std</th>\n",
       "      <th>min</th>\n",
       "      <th>25%</th>\n",
       "      <th>50%</th>\n",
       "      <th>75%</th>\n",
       "      <th>max</th>\n",
       "      <th>count</th>\n",
       "      <th>mean</th>\n",
       "      <th>std</th>\n",
       "      <th>min</th>\n",
       "      <th>25%</th>\n",
       "      <th>50%</th>\n",
       "      <th>75%</th>\n",
       "      <th>max</th>\n",
       "    </tr>\n",
       "    <tr>\n",
       "      <th>new_lang</th>\n",
       "      <th></th>\n",
       "      <th></th>\n",
       "      <th></th>\n",
       "      <th></th>\n",
       "      <th></th>\n",
       "      <th></th>\n",
       "      <th></th>\n",
       "      <th></th>\n",
       "      <th></th>\n",
       "      <th></th>\n",
       "      <th></th>\n",
       "      <th></th>\n",
       "      <th></th>\n",
       "      <th></th>\n",
       "      <th></th>\n",
       "      <th></th>\n",
       "    </tr>\n",
       "  </thead>\n",
       "  <tbody>\n",
       "    <tr>\n",
       "      <th>en</th>\n",
       "      <td>2496.0</td>\n",
       "      <td>297.172676</td>\n",
       "      <td>1824.628413</td>\n",
       "      <td>0.0</td>\n",
       "      <td>3.0</td>\n",
       "      <td>11.0</td>\n",
       "      <td>36.0</td>\n",
       "      <td>53460.0</td>\n",
       "      <td>2496.0</td>\n",
       "      <td>74.735577</td>\n",
       "      <td>308.842354</td>\n",
       "      <td>0.0</td>\n",
       "      <td>1.0</td>\n",
       "      <td>5.0</td>\n",
       "      <td>18.0</td>\n",
       "      <td>6762.0</td>\n",
       "    </tr>\n",
       "    <tr>\n",
       "      <th>other</th>\n",
       "      <td>797.0</td>\n",
       "      <td>108.393977</td>\n",
       "      <td>1119.151764</td>\n",
       "      <td>0.0</td>\n",
       "      <td>2.0</td>\n",
       "      <td>7.0</td>\n",
       "      <td>33.0</td>\n",
       "      <td>28136.0</td>\n",
       "      <td>797.0</td>\n",
       "      <td>13.606023</td>\n",
       "      <td>81.297088</td>\n",
       "      <td>0.0</td>\n",
       "      <td>0.0</td>\n",
       "      <td>2.0</td>\n",
       "      <td>7.0</td>\n",
       "      <td>1711.0</td>\n",
       "    </tr>\n",
       "    <tr>\n",
       "      <th>short_text</th>\n",
       "      <td>163.0</td>\n",
       "      <td>250.006135</td>\n",
       "      <td>1211.800459</td>\n",
       "      <td>0.0</td>\n",
       "      <td>4.5</td>\n",
       "      <td>12.0</td>\n",
       "      <td>65.0</td>\n",
       "      <td>12497.0</td>\n",
       "      <td>163.0</td>\n",
       "      <td>30.607362</td>\n",
       "      <td>143.298033</td>\n",
       "      <td>0.0</td>\n",
       "      <td>1.0</td>\n",
       "      <td>3.0</td>\n",
       "      <td>7.0</td>\n",
       "      <td>1256.0</td>\n",
       "    </tr>\n",
       "    <tr>\n",
       "      <th>tr</th>\n",
       "      <td>80804.0</td>\n",
       "      <td>234.857123</td>\n",
       "      <td>1362.701527</td>\n",
       "      <td>0.0</td>\n",
       "      <td>6.0</td>\n",
       "      <td>19.0</td>\n",
       "      <td>70.0</td>\n",
       "      <td>73017.0</td>\n",
       "      <td>80804.0</td>\n",
       "      <td>53.447243</td>\n",
       "      <td>207.729065</td>\n",
       "      <td>0.0</td>\n",
       "      <td>2.0</td>\n",
       "      <td>6.0</td>\n",
       "      <td>21.0</td>\n",
       "      <td>7413.0</td>\n",
       "    </tr>\n",
       "    <tr>\n",
       "      <th>very_short</th>\n",
       "      <td>2273.0</td>\n",
       "      <td>57.527497</td>\n",
       "      <td>665.203715</td>\n",
       "      <td>0.0</td>\n",
       "      <td>1.0</td>\n",
       "      <td>3.0</td>\n",
       "      <td>12.0</td>\n",
       "      <td>18951.0</td>\n",
       "      <td>2273.0</td>\n",
       "      <td>8.439947</td>\n",
       "      <td>62.304151</td>\n",
       "      <td>0.0</td>\n",
       "      <td>0.0</td>\n",
       "      <td>1.0</td>\n",
       "      <td>4.0</td>\n",
       "      <td>1467.0</td>\n",
       "    </tr>\n",
       "  </tbody>\n",
       "</table>\n",
       "</div>"
      ],
      "text/plain": [
       "           like_count                                                          \\\n",
       "                count        mean          std  min  25%   50%   75%      max   \n",
       "new_lang                                                                        \n",
       "en             2496.0  297.172676  1824.628413  0.0  3.0  11.0  36.0  53460.0   \n",
       "other           797.0  108.393977  1119.151764  0.0  2.0   7.0  33.0  28136.0   \n",
       "short_text      163.0  250.006135  1211.800459  0.0  4.5  12.0  65.0  12497.0   \n",
       "tr            80804.0  234.857123  1362.701527  0.0  6.0  19.0  70.0  73017.0   \n",
       "very_short     2273.0   57.527497   665.203715  0.0  1.0   3.0  12.0  18951.0   \n",
       "\n",
       "           retweet_count                                                      \n",
       "                   count       mean         std  min  25%  50%   75%     max  \n",
       "new_lang                                                                      \n",
       "en                2496.0  74.735577  308.842354  0.0  1.0  5.0  18.0  6762.0  \n",
       "other              797.0  13.606023   81.297088  0.0  0.0  2.0   7.0  1711.0  \n",
       "short_text         163.0  30.607362  143.298033  0.0  1.0  3.0   7.0  1256.0  \n",
       "tr               80804.0  53.447243  207.729065  0.0  2.0  6.0  21.0  7413.0  \n",
       "very_short        2273.0   8.439947   62.304151  0.0  0.0  1.0   4.0  1467.0  "
      ]
     },
     "execution_count": 85,
     "metadata": {},
     "output_type": "execute_result"
    }
   ],
   "source": [
    "df.groupby(\"new_lang\")[\"like_count\", \"retweet_count\"].describe()"
   ]
  },
  {
   "cell_type": "code",
   "execution_count": 90,
   "id": "8045da3a-a49a-429d-be24-f429208a5aa9",
   "metadata": {
    "tags": []
   },
   "outputs": [
    {
     "data": {
      "image/png": "[encoded data removed]",
      "text/plain": [
       "<Figure size 640x480 with 1 Axes>"
      ]
     },
     "metadata": {},
     "output_type": "display_data"
    }
   ],
   "source": [
    "sns.violinplot(x=\"new_lang\", y=\"like_count\", data=df)\n",
    "plt.show()"
   ]
  },
  {
   "cell_type": "markdown",
   "id": "679b4b0c-0b7a-4aa6-9fd6-a29077d52a9d",
   "metadata": {
    "tags": []
   },
   "source": [
    "## 5. Does including the trend topic of the day in a tweet affect its user engagement?"
   ]
  },
  {
   "cell_type": "code",
   "execution_count": 22,
   "id": "2a84b3b1-4f92-4ddd-bf23-7c2f2ef0e839",
   "metadata": {
    "tags": []
   },
   "outputs": [
    {
     "name": "stdout",
     "output_type": "stream",
     "text": [
      "\n",
      "H0 hypothesis is rejected. There is a negative correlation between like counts and the number of the trend topics.\n",
      "Correlation: -0.146508968440363, p-value: 0.0\n",
      "\n"
     ]
    }
   ],
   "source": [
    "res = spearmanr(\n",
    "    df.n_trend_topics.to_list(),\n",
    "    df.like_count.to_list(),\n",
    "    alternative=\"less\",\n",
    ")\n",
    "print(\n",
    "    f\"\"\"\n",
    "H0 hypothesis is rejected. There is a negative correlation between like counts and the number of the trend topics.\n",
    "Correlation: {res.correlation}, p-value: {res.pvalue}\n",
    "\"\"\"\n",
    ")"
   ]
  },
  {
   "cell_type": "code",
   "execution_count": 107,
   "id": "17636b34-7cd8-48f8-947e-920fdb8cc6a9",
   "metadata": {
    "tags": []
   },
   "outputs": [
    {
     "name": "stdout",
     "output_type": "stream",
     "text": [
      "\n",
      "H0 hypothesis is rejected. There is a negative correlation between retweet counts and the number of the trend topics.\n",
      "Correlation: -0.01617512029960235, p-value: 9.756893802633943e-07\n",
      "\n"
     ]
    }
   ],
   "source": [
    "res = spearmanr(\n",
    "    df.n_trend_topics.to_list(),\n",
    "    df.retweet_count.to_list(),\n",
    "    alternative=\"less\",\n",
    ")\n",
    "print(\n",
    "    f\"\"\"\n",
    "H0 hypothesis is rejected. There is a negative correlation between retweet counts and the number of the trend topics.\n",
    "Correlation: {res.correlation}, p-value: {res.pvalue}\n",
    "\"\"\"\n",
    ")"
   ]
  },
  {
   "cell_type": "code",
   "execution_count": 108,
   "id": "6c634352-9800-457b-9048-28fa7807f951",
   "metadata": {
    "tags": []
   },
   "outputs": [
    {
     "data": {
      "image/png": "[encoded data removed]",
      "text/plain": [
       "<Figure size 600x600 with 3 Axes>"
      ]
     },
     "metadata": {},
     "output_type": "display_data"
    },
    {
     "data": {
      "image/png": "[encoded data removed]",
      "text/plain": [
       "<Figure size 600x600 with 3 Axes>"
      ]
     },
     "metadata": {},
     "output_type": "display_data"
    }
   ],
   "source": [
    "sns.jointplot(x=\"n_trend_topics\", y=\"like_count\", data=df, kind=\"hex\")\n",
    "axs[0].set_xlabel(\"n_trend_topics\")\n",
    "axs[0].set_ylabel(\"like_count\")\n",
    "\n",
    "sns.jointplot(\n",
    "    x=\"n_trend_topics\",\n",
    "    y=\"retweet_count\",\n",
    "    data=df,\n",
    "    kind=\"hex\",\n",
    ")\n",
    "axs[1].set_xlabel(\"n_trend_topics\")\n",
    "axs[1].set_ylabel(\"retweet_count\")\n",
    "\n",
    "plt.show()"
   ]
  },
  {
   "cell_type": "markdown",
   "id": "eb24eaae-ab14-454c-a6c2-3f9edd0cbcba",
   "metadata": {
    "tags": []
   },
   "source": [
    "## 6. Does the creation time of a tweet affect its user engagement?"
   ]
  },
  {
   "cell_type": "code",
   "execution_count": 13,
   "id": "0f6c3797-fb0a-4a76-b771-37c9c5614f32",
   "metadata": {},
   "outputs": [],
   "source": [
    "a = df[['created_at', 'like_count', 'retweet_count']].copy()"
   ]
  },
  {
   "cell_type": "code",
   "execution_count": 14,
   "id": "b16a4253-7dc5-4a68-96d3-e15596da10f7",
   "metadata": {},
   "outputs": [],
   "source": [
    "a['created_at_hour'] = a['created_at'].dt.hour"
   ]
  },
  {
   "cell_type": "markdown",
   "id": "1e6b29e4-5aa9-487c-bb30-1958dcf046df",
   "metadata": {},
   "source": [
    "Like count"
   ]
  },
  {
   "cell_type": "code",
   "execution_count": 19,
   "id": "7918b6e4-fdc7-4ecf-93e7-a71061320eba",
   "metadata": {},
   "outputs": [],
   "source": [
    "kruskal_test = kruskal(\n",
    "    a.loc[a['created_at_hour']==0, 'like_count'],\n",
    "    a.loc[a['created_at_hour']==1, 'like_count'],\n",
    "    a.loc[a['created_at_hour']==2, 'like_count'],\n",
    "    a.loc[a['created_at_hour']==3, 'like_count'],\n",
    "    a.loc[a['created_at_hour']==4, 'like_count'],\n",
    "    a.loc[a['created_at_hour']==5, 'like_count'],\n",
    "    a.loc[a['created_at_hour']==6, 'like_count'],\n",
    "    a.loc[a['created_at_hour']==7, 'like_count'],\n",
    "    a.loc[a['created_at_hour']==8, 'like_count'],\n",
    "    a.loc[a['created_at_hour']==9, 'like_count'],\n",
    "    a.loc[a['created_at_hour']==10, 'like_count'],\n",
    "    a.loc[a['created_at_hour']==11, 'like_count'],\n",
    "    a.loc[a['created_at_hour']==12, 'like_count'],\n",
    "    a.loc[a['created_at_hour']==13, 'like_count'],\n",
    "    a.loc[a['created_at_hour']==14, 'like_count'],\n",
    "    a.loc[a['created_at_hour']==15, 'like_count'],\n",
    "    a.loc[a['created_at_hour']==16, 'like_count'],\n",
    "    a.loc[a['created_at_hour']==17, 'like_count'],\n",
    "    a.loc[a['created_at_hour']==18, 'like_count'],\n",
    "    a.loc[a['created_at_hour']==19, 'like_count'],\n",
    "    a.loc[a['created_at_hour']==20, 'like_count'],\n",
    "    a.loc[a['created_at_hour']==21, 'like_count'],\n",
    "    a.loc[a['created_at_hour']==22, 'like_count'],\n",
    "    a.loc[a['created_at_hour']==23, 'like_count']\n",
    ")"
   ]
  },
  {
   "cell_type": "markdown",
   "id": "08602eb0-4f1d-4666-88a8-90354a2b8fcf",
   "metadata": {},
   "source": [
    "Created hour has an effect on like count"
   ]
  },
  {
   "cell_type": "code",
   "execution_count": 20,
   "id": "fc1ffb52-cbd3-4456-a311-d7aa8c8931ad",
   "metadata": {},
   "outputs": [
    {
     "name": "stdout",
     "output_type": "stream",
     "text": [
      "Kruskal-Wallis test:\n",
      "H statistic: 4926.436839696231\n",
      "p-value: 0.0\n"
     ]
    }
   ],
   "source": [
    "print(\"Kruskal-Wallis test:\")\n",
    "print(\"H statistic:\", kruskal_test.statistic)\n",
    "print(\"p-value:\", kruskal_test.pvalue)"
   ]
  },
  {
   "cell_type": "code",
   "execution_count": 24,
   "id": "f12f1ea0-c964-4d55-bd36-e3825d8421fe",
   "metadata": {},
   "outputs": [],
   "source": [
    "# Dunn's post hoc test\n",
    "dunn_test = posthoc_dunn(a, val_col=\"like_count\", group_col=\"created_at_hour\", p_adjust=\"holm\")"
   ]
  },
  {
   "cell_type": "code",
   "execution_count": null,
   "id": "0bf1090e-2156-464a-87d0-b5386dcb1988",
   "metadata": {},
   "outputs": [],
   "source": [
    "s = pd.DataFrame(np.triu(dunn_test.round(3)), index=dunn_test.index, columns=dunn_test.columns)"
   ]
  },
  {
   "cell_type": "markdown",
   "id": "592fd569-93e5-49e1-a7b1-c7f1e5154fb6",
   "metadata": {},
   "source": [
    "- The below table shows the p-value of the pairwise comparison\n",
    "- if p-value is less than 0.05, then we conclude there is a sigfinicant difference between the two groups \n",
    "- 19h is the created time with the lowest likes, and might not be much different from tweets at 1h and 2h\n",
    "- 21h is the created time with the highest likes, and might not be much different from tweets at 22h and 4h"
   ]
  },
  {
   "cell_type": "code",
   "execution_count": 56,
   "id": "ab23d100-950f-4b46-9001-c8d8bc7ac6ac",
   "metadata": {},
   "outputs": [
    {
     "name": "stdout",
     "output_type": "stream",
     "text": [
      "Dunn's post hoc test:\n"
     ]
    },
    {
     "data": {
      "image/png": "[encoded data removed]",
      "text/plain": [
       "<Figure size 1008x432 with 2 Axes>"
      ]
     },
     "metadata": {
      "needs_background": "light"
     },
     "output_type": "display_data"
    }
   ],
   "source": [
    "print(\"Dunn's post hoc test:\")\n",
    "plt.figure(figsize=(14, 6))\n",
    "sns.heatmap(s, cmap='RdBu_r', annot=True, center=0.05, fmt='.5g');"
   ]
  },
  {
   "cell_type": "code",
   "execution_count": 91,
   "id": "3bc960dc-a217-49c5-9bac-827f84ee50dc",
   "metadata": {},
   "outputs": [
    {
     "data": {
      "image/png": "[encoded data removed]",
      "text/plain": [
       "<Figure size 432x288 with 1 Axes>"
      ]
     },
     "metadata": {
      "needs_background": "light"
     },
     "output_type": "display_data"
    }
   ],
   "source": [
    "a.groupby('created_at_hour')['like_count'].median().plot.bar();"
   ]
  },
  {
   "cell_type": "markdown",
   "id": "e44d288d-46cc-4a2d-bd91-f5b0ad18006f",
   "metadata": {},
   "source": [
    "Retweet count"
   ]
  },
  {
   "cell_type": "code",
   "execution_count": 93,
   "id": "2bdd1f9f-5c58-4418-8b62-5bc1436bb1d4",
   "metadata": {},
   "outputs": [],
   "source": [
    "kruskal_test = kruskal(\n",
    "    a.loc[a['created_at_hour']==0, 'retweet_count'],\n",
    "    a.loc[a['created_at_hour']==1, 'retweet_count'],\n",
    "    a.loc[a['created_at_hour']==2, 'retweet_count'],\n",
    "    a.loc[a['created_at_hour']==3, 'retweet_count'],\n",
    "    a.loc[a['created_at_hour']==4, 'retweet_count'],\n",
    "    a.loc[a['created_at_hour']==5, 'retweet_count'],\n",
    "    a.loc[a['created_at_hour']==6, 'retweet_count'],\n",
    "    a.loc[a['created_at_hour']==7, 'retweet_count'],\n",
    "    a.loc[a['created_at_hour']==8, 'retweet_count'],\n",
    "    a.loc[a['created_at_hour']==9, 'retweet_count'],\n",
    "    a.loc[a['created_at_hour']==10, 'retweet_count'],\n",
    "    a.loc[a['created_at_hour']==11, 'retweet_count'],\n",
    "    a.loc[a['created_at_hour']==12, 'retweet_count'],\n",
    "    a.loc[a['created_at_hour']==13, 'retweet_count'],\n",
    "    a.loc[a['created_at_hour']==14, 'retweet_count'],\n",
    "    a.loc[a['created_at_hour']==15, 'retweet_count'],\n",
    "    a.loc[a['created_at_hour']==16, 'retweet_count'],\n",
    "    a.loc[a['created_at_hour']==17, 'retweet_count'],\n",
    "    a.loc[a['created_at_hour']==18, 'retweet_count'],\n",
    "    a.loc[a['created_at_hour']==19, 'retweet_count'],\n",
    "    a.loc[a['created_at_hour']==20, 'retweet_count'],\n",
    "    a.loc[a['created_at_hour']==21, 'retweet_count'],\n",
    "    a.loc[a['created_at_hour']==22, 'retweet_count'],\n",
    "    a.loc[a['created_at_hour']==23, 'retweet_count']\n",
    ")"
   ]
  },
  {
   "cell_type": "markdown",
   "id": "8e44b3b7-8790-4656-a2ff-8a229ac924bc",
   "metadata": {},
   "source": [
    "Created hour has an effect on retweet count"
   ]
  },
  {
   "cell_type": "code",
   "execution_count": 94,
   "id": "acafa6c7-f937-430d-ab7c-33b4f37ba7e4",
   "metadata": {},
   "outputs": [
    {
     "name": "stdout",
     "output_type": "stream",
     "text": [
      "Kruskal-Wallis test:\n",
      "H statistic: 1641.6240008903123\n",
      "p-value: 0.0\n"
     ]
    }
   ],
   "source": [
    "print(\"Kruskal-Wallis test:\")\n",
    "print(\"H statistic:\", kruskal_test.statistic)\n",
    "print(\"p-value:\", kruskal_test.pvalue)"
   ]
  },
  {
   "cell_type": "code",
   "execution_count": 95,
   "id": "c1fe6da5-d2a9-450d-ad17-e326aa48e11f",
   "metadata": {},
   "outputs": [],
   "source": [
    "# Dunn's post hoc test\n",
    "dunn_test = posthoc_dunn(a, val_col=\"retweet_count\", group_col=\"created_at_hour\", p_adjust=\"holm\")"
   ]
  },
  {
   "cell_type": "code",
   "execution_count": 96,
   "id": "55722bf1-e50e-42f4-810f-7fb1dc7f1c5c",
   "metadata": {},
   "outputs": [],
   "source": [
    "s = pd.DataFrame(np.triu(dunn_test.round(3)), index=dunn_test.index, columns=dunn_test.columns)"
   ]
  },
  {
   "cell_type": "markdown",
   "id": "683c918b-8e5e-4603-9507-5678a72f2e81",
   "metadata": {},
   "source": [
    "- The below table shows the p-value of the pairwise comparison\n",
    "- if p-value is less than 0.05, then we conclude there is a sigfinicant difference between the two groups \n",
    "- 19h is the created time with the lowest likes, and might not be much different from tweets at 1h and 2h\n",
    "- 21h is the created time with the highest likes, and might not be much different from tweets at 22h and 4h"
   ]
  },
  {
   "cell_type": "code",
   "execution_count": 101,
   "id": "5ae11ffb-e037-4e9c-956c-80e99bf8115e",
   "metadata": {},
   "outputs": [
    {
     "name": "stdout",
     "output_type": "stream",
     "text": [
      "Dunn's post hoc test:\n"
     ]
    },
    {
     "data": {
      "image/png": "[encoded data removed]",
      "text/plain": [
       "<Figure size 1008x432 with 2 Axes>"
      ]
     },
     "metadata": {
      "needs_background": "light"
     },
     "output_type": "display_data"
    }
   ],
   "source": [
    "print(\"Dunn's post hoc test:\")\n",
    "plt.figure(figsize=(14, 6))\n",
    "sns.heatmap(s, cmap='RdBu_r', annot=True, center=0.05, fmt='.5g');"
   ]
  },
  {
   "cell_type": "code",
   "execution_count": 99,
   "id": "3ebe1710-62ba-4008-ab0f-7378a570f401",
   "metadata": {},
   "outputs": [
    {
     "data": {
      "image/png": "[encoded data removed]",
      "text/plain": [
       "<Figure size 432x288 with 1 Axes>"
      ]
     },
     "metadata": {
      "needs_background": "light"
     },
     "output_type": "display_data"
    }
   ],
   "source": [
    "a.groupby('created_at_hour')['retweet_count'].median().plot.bar();"
   ]
  },
  {
   "cell_type": "markdown",
   "id": "9c8fe2d5-652e-41f7-bfb4-b93f94542aae",
   "metadata": {
    "tags": []
   },
   "source": [
    "## 7. Does including hashtags in a tweet affect its user engagement? "
   ]
  },
  {
   "cell_type": "code",
   "execution_count": 23,
   "id": "6f59a86a-b710-4215-b8b6-0f51e2ff91f9",
   "metadata": {
    "tags": []
   },
   "outputs": [
    {
     "name": "stdout",
     "output_type": "stream",
     "text": [
      "\n",
      "H0 hypothesis is rejected. There is a negative correlation between like counts and the number of the trend topics.\n",
      "Correlation: -0.06700737101232843, p-value: 5.602693979091816e-87\n",
      "\n"
     ]
    }
   ],
   "source": [
    "res = spearmanr(\n",
    "    df.n_hashtags.to_list(),\n",
    "    df.like_count.to_list(),\n",
    "    alternative=\"less\",\n",
    ")\n",
    "print(\n",
    "    f\"\"\"\n",
    "H0 hypothesis is rejected. There is a negative correlation between like counts and the number of the trend topics.\n",
    "Correlation: {res.correlation}, p-value: {res.pvalue}\n",
    "\"\"\"\n",
    ")"
   ]
  },
  {
   "cell_type": "code",
   "execution_count": 24,
   "id": "b461f758-8a53-4cbf-9a78-bb25638648f5",
   "metadata": {
    "tags": []
   },
   "outputs": [
    {
     "name": "stdout",
     "output_type": "stream",
     "text": [
      "\n",
      "H0 hypothesis is rejected. There is a positive correlation between retweet counts and the number of the trend topics.\n",
      "Correlation: 0.012377358209511169, p-value: 0.0001357528854822984\n",
      "\n"
     ]
    }
   ],
   "source": [
    "res = spearmanr(\n",
    "    df.n_hashtags.to_list(),\n",
    "    df.retweet_count.to_list(),\n",
    "    alternative=\"greater\",\n",
    ")\n",
    "print(\n",
    "    f\"\"\"\n",
    "H0 hypothesis is rejected. There is a positive correlation between retweet counts and the number of the trend topics.\n",
    "Correlation: {res.correlation}, p-value: {res.pvalue}\n",
    "\"\"\"\n",
    ")"
   ]
  },
  {
   "cell_type": "code",
   "execution_count": 114,
   "id": "30812be4-1eee-4aa5-9ad3-01c03632e556",
   "metadata": {
    "tags": []
   },
   "outputs": [
    {
     "data": {
      "image/png": "[encoded data removed]",
      "text/plain": [
       "<Figure size 600x600 with 3 Axes>"
      ]
     },
     "metadata": {},
     "output_type": "display_data"
    },
    {
     "data": {
      "image/png": "[encoded data removed]",
      "text/plain": [
       "<Figure size 600x600 with 3 Axes>"
      ]
     },
     "metadata": {},
     "output_type": "display_data"
    }
   ],
   "source": [
    "sns.jointplot(x=\"n_hashtags\", y=\"like_count\", data=df, kind=\"hex\")\n",
    "axs[0].set_xlabel(\"n_hashtags\")\n",
    "axs[0].set_ylabel(\"like_count\")\n",
    "\n",
    "sns.jointplot(\n",
    "    x=\"n_hashtags\",\n",
    "    y=\"retweet_count\",\n",
    "    data=df,\n",
    "    kind=\"hex\",\n",
    ")\n",
    "axs[1].set_xlabel(\"n_hashtags\")\n",
    "axs[1].set_ylabel(\"retweet_count\")\n",
    "\n",
    "plt.show()"
   ]
  },
  {
   "cell_type": "code",
   "execution_count": 118,
   "id": "4352ed75-37b5-43a2-bfc4-cbd93dc25520",
   "metadata": {
    "tags": []
   },
   "outputs": [
    {
     "name": "stderr",
     "output_type": "stream",
     "text": [
      "/var/folders/z5/hjyvlbm54v1cpt9s019vbv9w0000gn/T/ipykernel_24642/3910865875.py:1: FutureWarning: Indexing with multiple keys (implicitly converted to a tuple of keys) will be deprecated, use a list instead.\n",
      "  df.groupby(\"n_hashtags\")[\"like_count\", \"retweet_count\"].describe()\n"
     ]
    },
    {
     "data": {
      "text/html": [
       "<div>\n",
       "<style scoped>\n",
       "    .dataframe tbody tr th:only-of-type {\n",
       "        vertical-align: middle;\n",
       "    }\n",
       "\n",
       "    .dataframe tbody tr th {\n",
       "        vertical-align: top;\n",
       "    }\n",
       "\n",
       "    .dataframe thead tr th {\n",
       "        text-align: left;\n",
       "    }\n",
       "\n",
       "    .dataframe thead tr:last-of-type th {\n",
       "        text-align: right;\n",
       "    }\n",
       "</style>\n",
       "<table border=\"1\" class=\"dataframe\">\n",
       "  <thead>\n",
       "    <tr>\n",
       "      <th></th>\n",
       "      <th colspan=\"8\" halign=\"left\">like_count</th>\n",
       "      <th colspan=\"8\" halign=\"left\">retweet_count</th>\n",
       "    </tr>\n",
       "    <tr>\n",
       "      <th></th>\n",
       "      <th>count</th>\n",
       "      <th>mean</th>\n",
       "      <th>std</th>\n",
       "      <th>min</th>\n",
       "      <th>25%</th>\n",
       "      <th>50%</th>\n",
       "      <th>75%</th>\n",
       "      <th>max</th>\n",
       "      <th>count</th>\n",
       "      <th>mean</th>\n",
       "      <th>std</th>\n",
       "      <th>min</th>\n",
       "      <th>25%</th>\n",
       "      <th>50%</th>\n",
       "      <th>75%</th>\n",
       "      <th>max</th>\n",
       "    </tr>\n",
       "    <tr>\n",
       "      <th>n_hashtags</th>\n",
       "      <th></th>\n",
       "      <th></th>\n",
       "      <th></th>\n",
       "      <th></th>\n",
       "      <th></th>\n",
       "      <th></th>\n",
       "      <th></th>\n",
       "      <th></th>\n",
       "      <th></th>\n",
       "      <th></th>\n",
       "      <th></th>\n",
       "      <th></th>\n",
       "      <th></th>\n",
       "      <th></th>\n",
       "      <th></th>\n",
       "      <th></th>\n",
       "    </tr>\n",
       "  </thead>\n",
       "  <tbody>\n",
       "    <tr>\n",
       "      <th>0</th>\n",
       "      <td>50361.0</td>\n",
       "      <td>325.237346</td>\n",
       "      <td>1733.050472</td>\n",
       "      <td>0.0</td>\n",
       "      <td>6.00</td>\n",
       "      <td>20.0</td>\n",
       "      <td>78.00</td>\n",
       "      <td>73017.0</td>\n",
       "      <td>50361.0</td>\n",
       "      <td>65.701654</td>\n",
       "      <td>253.339990</td>\n",
       "      <td>0.0</td>\n",
       "      <td>2.00</td>\n",
       "      <td>6.0</td>\n",
       "      <td>22.00</td>\n",
       "      <td>7150.0</td>\n",
       "    </tr>\n",
       "    <tr>\n",
       "      <th>1</th>\n",
       "      <td>29987.0</td>\n",
       "      <td>93.280988</td>\n",
       "      <td>470.901902</td>\n",
       "      <td>0.0</td>\n",
       "      <td>4.00</td>\n",
       "      <td>13.0</td>\n",
       "      <td>48.00</td>\n",
       "      <td>22041.0</td>\n",
       "      <td>29987.0</td>\n",
       "      <td>32.844266</td>\n",
       "      <td>114.169276</td>\n",
       "      <td>0.0</td>\n",
       "      <td>2.00</td>\n",
       "      <td>6.0</td>\n",
       "      <td>18.00</td>\n",
       "      <td>7413.0</td>\n",
       "    </tr>\n",
       "    <tr>\n",
       "      <th>2</th>\n",
       "      <td>3931.0</td>\n",
       "      <td>145.039685</td>\n",
       "      <td>515.838370</td>\n",
       "      <td>0.0</td>\n",
       "      <td>8.00</td>\n",
       "      <td>26.0</td>\n",
       "      <td>103.50</td>\n",
       "      <td>19270.0</td>\n",
       "      <td>3931.0</td>\n",
       "      <td>46.044264</td>\n",
       "      <td>129.283668</td>\n",
       "      <td>0.0</td>\n",
       "      <td>2.00</td>\n",
       "      <td>7.0</td>\n",
       "      <td>25.00</td>\n",
       "      <td>2335.0</td>\n",
       "    </tr>\n",
       "    <tr>\n",
       "      <th>3</th>\n",
       "      <td>1360.0</td>\n",
       "      <td>117.927206</td>\n",
       "      <td>617.745057</td>\n",
       "      <td>0.0</td>\n",
       "      <td>8.00</td>\n",
       "      <td>25.5</td>\n",
       "      <td>73.25</td>\n",
       "      <td>17848.0</td>\n",
       "      <td>1360.0</td>\n",
       "      <td>34.135294</td>\n",
       "      <td>148.595740</td>\n",
       "      <td>0.0</td>\n",
       "      <td>2.00</td>\n",
       "      <td>7.0</td>\n",
       "      <td>28.00</td>\n",
       "      <td>3675.0</td>\n",
       "    </tr>\n",
       "    <tr>\n",
       "      <th>4</th>\n",
       "      <td>563.0</td>\n",
       "      <td>85.142096</td>\n",
       "      <td>467.844540</td>\n",
       "      <td>0.0</td>\n",
       "      <td>9.00</td>\n",
       "      <td>17.0</td>\n",
       "      <td>38.00</td>\n",
       "      <td>8657.0</td>\n",
       "      <td>563.0</td>\n",
       "      <td>22.241563</td>\n",
       "      <td>116.677424</td>\n",
       "      <td>0.0</td>\n",
       "      <td>3.00</td>\n",
       "      <td>7.0</td>\n",
       "      <td>15.00</td>\n",
       "      <td>2218.0</td>\n",
       "    </tr>\n",
       "    <tr>\n",
       "      <th>5</th>\n",
       "      <td>169.0</td>\n",
       "      <td>68.792899</td>\n",
       "      <td>193.755058</td>\n",
       "      <td>0.0</td>\n",
       "      <td>7.00</td>\n",
       "      <td>15.0</td>\n",
       "      <td>44.00</td>\n",
       "      <td>1516.0</td>\n",
       "      <td>169.0</td>\n",
       "      <td>18.236686</td>\n",
       "      <td>54.176439</td>\n",
       "      <td>0.0</td>\n",
       "      <td>2.00</td>\n",
       "      <td>5.0</td>\n",
       "      <td>12.00</td>\n",
       "      <td>518.0</td>\n",
       "    </tr>\n",
       "    <tr>\n",
       "      <th>6</th>\n",
       "      <td>95.0</td>\n",
       "      <td>59.410526</td>\n",
       "      <td>107.697221</td>\n",
       "      <td>0.0</td>\n",
       "      <td>6.00</td>\n",
       "      <td>27.0</td>\n",
       "      <td>75.00</td>\n",
       "      <td>744.0</td>\n",
       "      <td>95.0</td>\n",
       "      <td>23.336842</td>\n",
       "      <td>45.070774</td>\n",
       "      <td>0.0</td>\n",
       "      <td>3.50</td>\n",
       "      <td>9.0</td>\n",
       "      <td>32.50</td>\n",
       "      <td>394.0</td>\n",
       "    </tr>\n",
       "    <tr>\n",
       "      <th>7</th>\n",
       "      <td>39.0</td>\n",
       "      <td>31.743590</td>\n",
       "      <td>41.883119</td>\n",
       "      <td>0.0</td>\n",
       "      <td>4.50</td>\n",
       "      <td>14.0</td>\n",
       "      <td>43.50</td>\n",
       "      <td>173.0</td>\n",
       "      <td>39.0</td>\n",
       "      <td>13.384615</td>\n",
       "      <td>24.602755</td>\n",
       "      <td>0.0</td>\n",
       "      <td>1.00</td>\n",
       "      <td>6.0</td>\n",
       "      <td>13.00</td>\n",
       "      <td>139.0</td>\n",
       "    </tr>\n",
       "    <tr>\n",
       "      <th>8</th>\n",
       "      <td>10.0</td>\n",
       "      <td>66.100000</td>\n",
       "      <td>136.169380</td>\n",
       "      <td>2.0</td>\n",
       "      <td>9.75</td>\n",
       "      <td>17.0</td>\n",
       "      <td>51.25</td>\n",
       "      <td>449.0</td>\n",
       "      <td>10.0</td>\n",
       "      <td>21.300000</td>\n",
       "      <td>37.694827</td>\n",
       "      <td>0.0</td>\n",
       "      <td>3.25</td>\n",
       "      <td>6.5</td>\n",
       "      <td>19.50</td>\n",
       "      <td>124.0</td>\n",
       "    </tr>\n",
       "    <tr>\n",
       "      <th>9</th>\n",
       "      <td>10.0</td>\n",
       "      <td>275.500000</td>\n",
       "      <td>689.464567</td>\n",
       "      <td>6.0</td>\n",
       "      <td>7.25</td>\n",
       "      <td>14.0</td>\n",
       "      <td>63.25</td>\n",
       "      <td>2211.0</td>\n",
       "      <td>10.0</td>\n",
       "      <td>57.800000</td>\n",
       "      <td>149.148546</td>\n",
       "      <td>0.0</td>\n",
       "      <td>2.75</td>\n",
       "      <td>6.5</td>\n",
       "      <td>25.50</td>\n",
       "      <td>481.0</td>\n",
       "    </tr>\n",
       "    <tr>\n",
       "      <th>10</th>\n",
       "      <td>4.0</td>\n",
       "      <td>14.250000</td>\n",
       "      <td>19.939492</td>\n",
       "      <td>2.0</td>\n",
       "      <td>3.50</td>\n",
       "      <td>5.5</td>\n",
       "      <td>16.25</td>\n",
       "      <td>44.0</td>\n",
       "      <td>4.0</td>\n",
       "      <td>6.500000</td>\n",
       "      <td>11.030261</td>\n",
       "      <td>0.0</td>\n",
       "      <td>0.75</td>\n",
       "      <td>1.5</td>\n",
       "      <td>7.25</td>\n",
       "      <td>23.0</td>\n",
       "    </tr>\n",
       "    <tr>\n",
       "      <th>11</th>\n",
       "      <td>1.0</td>\n",
       "      <td>6.000000</td>\n",
       "      <td>NaN</td>\n",
       "      <td>6.0</td>\n",
       "      <td>6.00</td>\n",
       "      <td>6.0</td>\n",
       "      <td>6.00</td>\n",
       "      <td>6.0</td>\n",
       "      <td>1.0</td>\n",
       "      <td>3.000000</td>\n",
       "      <td>NaN</td>\n",
       "      <td>3.0</td>\n",
       "      <td>3.00</td>\n",
       "      <td>3.0</td>\n",
       "      <td>3.00</td>\n",
       "      <td>3.0</td>\n",
       "    </tr>\n",
       "    <tr>\n",
       "      <th>12</th>\n",
       "      <td>1.0</td>\n",
       "      <td>34.000000</td>\n",
       "      <td>NaN</td>\n",
       "      <td>34.0</td>\n",
       "      <td>34.00</td>\n",
       "      <td>34.0</td>\n",
       "      <td>34.00</td>\n",
       "      <td>34.0</td>\n",
       "      <td>1.0</td>\n",
       "      <td>7.000000</td>\n",
       "      <td>NaN</td>\n",
       "      <td>7.0</td>\n",
       "      <td>7.00</td>\n",
       "      <td>7.0</td>\n",
       "      <td>7.00</td>\n",
       "      <td>7.0</td>\n",
       "    </tr>\n",
       "    <tr>\n",
       "      <th>13</th>\n",
       "      <td>1.0</td>\n",
       "      <td>2.000000</td>\n",
       "      <td>NaN</td>\n",
       "      <td>2.0</td>\n",
       "      <td>2.00</td>\n",
       "      <td>2.0</td>\n",
       "      <td>2.00</td>\n",
       "      <td>2.0</td>\n",
       "      <td>1.0</td>\n",
       "      <td>2.000000</td>\n",
       "      <td>NaN</td>\n",
       "      <td>2.0</td>\n",
       "      <td>2.00</td>\n",
       "      <td>2.0</td>\n",
       "      <td>2.00</td>\n",
       "      <td>2.0</td>\n",
       "    </tr>\n",
       "    <tr>\n",
       "      <th>18</th>\n",
       "      <td>1.0</td>\n",
       "      <td>54.000000</td>\n",
       "      <td>NaN</td>\n",
       "      <td>54.0</td>\n",
       "      <td>54.00</td>\n",
       "      <td>54.0</td>\n",
       "      <td>54.00</td>\n",
       "      <td>54.0</td>\n",
       "      <td>1.0</td>\n",
       "      <td>10.000000</td>\n",
       "      <td>NaN</td>\n",
       "      <td>10.0</td>\n",
       "      <td>10.00</td>\n",
       "      <td>10.0</td>\n",
       "      <td>10.00</td>\n",
       "      <td>10.0</td>\n",
       "    </tr>\n",
       "  </tbody>\n",
       "</table>\n",
       "</div>"
      ],
      "text/plain": [
       "           like_count                                                      \\\n",
       "                count        mean          std   min    25%   50%     75%   \n",
       "n_hashtags                                                                  \n",
       "0             50361.0  325.237346  1733.050472   0.0   6.00  20.0   78.00   \n",
       "1             29987.0   93.280988   470.901902   0.0   4.00  13.0   48.00   \n",
       "2              3931.0  145.039685   515.838370   0.0   8.00  26.0  103.50   \n",
       "3              1360.0  117.927206   617.745057   0.0   8.00  25.5   73.25   \n",
       "4               563.0   85.142096   467.844540   0.0   9.00  17.0   38.00   \n",
       "5               169.0   68.792899   193.755058   0.0   7.00  15.0   44.00   \n",
       "6                95.0   59.410526   107.697221   0.0   6.00  27.0   75.00   \n",
       "7                39.0   31.743590    41.883119   0.0   4.50  14.0   43.50   \n",
       "8                10.0   66.100000   136.169380   2.0   9.75  17.0   51.25   \n",
       "9                10.0  275.500000   689.464567   6.0   7.25  14.0   63.25   \n",
       "10                4.0   14.250000    19.939492   2.0   3.50   5.5   16.25   \n",
       "11                1.0    6.000000          NaN   6.0   6.00   6.0    6.00   \n",
       "12                1.0   34.000000          NaN  34.0  34.00  34.0   34.00   \n",
       "13                1.0    2.000000          NaN   2.0   2.00   2.0    2.00   \n",
       "18                1.0   54.000000          NaN  54.0  54.00  54.0   54.00   \n",
       "\n",
       "                    retweet_count                                            \\\n",
       "                max         count       mean         std   min    25%   50%   \n",
       "n_hashtags                                                                    \n",
       "0           73017.0       50361.0  65.701654  253.339990   0.0   2.00   6.0   \n",
       "1           22041.0       29987.0  32.844266  114.169276   0.0   2.00   6.0   \n",
       "2           19270.0        3931.0  46.044264  129.283668   0.0   2.00   7.0   \n",
       "3           17848.0        1360.0  34.135294  148.595740   0.0   2.00   7.0   \n",
       "4            8657.0         563.0  22.241563  116.677424   0.0   3.00   7.0   \n",
       "5            1516.0         169.0  18.236686   54.176439   0.0   2.00   5.0   \n",
       "6             744.0          95.0  23.336842   45.070774   0.0   3.50   9.0   \n",
       "7             173.0          39.0  13.384615   24.602755   0.0   1.00   6.0   \n",
       "8             449.0          10.0  21.300000   37.694827   0.0   3.25   6.5   \n",
       "9            2211.0          10.0  57.800000  149.148546   0.0   2.75   6.5   \n",
       "10             44.0           4.0   6.500000   11.030261   0.0   0.75   1.5   \n",
       "11              6.0           1.0   3.000000         NaN   3.0   3.00   3.0   \n",
       "12             34.0           1.0   7.000000         NaN   7.0   7.00   7.0   \n",
       "13              2.0           1.0   2.000000         NaN   2.0   2.00   2.0   \n",
       "18             54.0           1.0  10.000000         NaN  10.0  10.00  10.0   \n",
       "\n",
       "                           \n",
       "              75%     max  \n",
       "n_hashtags                 \n",
       "0           22.00  7150.0  \n",
       "1           18.00  7413.0  \n",
       "2           25.00  2335.0  \n",
       "3           28.00  3675.0  \n",
       "4           15.00  2218.0  \n",
       "5           12.00   518.0  \n",
       "6           32.50   394.0  \n",
       "7           13.00   139.0  \n",
       "8           19.50   124.0  \n",
       "9           25.50   481.0  \n",
       "10           7.25    23.0  \n",
       "11           3.00     3.0  \n",
       "12           7.00     7.0  \n",
       "13           2.00     2.0  \n",
       "18          10.00    10.0  "
      ]
     },
     "execution_count": 118,
     "metadata": {},
     "output_type": "execute_result"
    }
   ],
   "source": [
    "df.groupby(\"n_hashtags\")[\"like_count\", \"retweet_count\"].describe()"
   ]
  },
  {
   "cell_type": "markdown",
   "id": "0cef6f0d-2730-4627-9b5b-634b1b050fa0",
   "metadata": {
    "tags": []
   },
   "source": [
    "## 8. Is the user engagement of a tweet containing political content different from the tweet without political content?"
   ]
  },
  {
   "cell_type": "code",
   "execution_count": 25,
   "id": "3893f465-43d6-4c96-b167-f8cf63ac4e8d",
   "metadata": {
    "tags": []
   },
   "outputs": [
    {
     "name": "stdout",
     "output_type": "stream",
     "text": [
      "\n",
      "The number of tweets with political_context: 3070,\n",
      "The number of tweets without political_context: 83463,\n",
      "\n"
     ]
    }
   ],
   "source": [
    "likes_without_political_context = df[\n",
    "    df.political_context_annotation != 1\n",
    "].like_count.to_list()\n",
    "likes_with_political_context = df[\n",
    "    df.political_context_annotation == 1\n",
    "].like_count.to_list()\n",
    "print(\n",
    "    f\"\"\"\n",
    "The number of tweets with political_context: {len(likes_with_political_context)},\n",
    "The number of tweets without political_context: {len(likes_without_political_context)},\n",
    "\"\"\"\n",
    ")"
   ]
  },
  {
   "cell_type": "code",
   "execution_count": 29,
   "id": "7ccaf657-be60-49c8-9a95-1fc8df2253bb",
   "metadata": {
    "tags": []
   },
   "outputs": [
    {
     "name": "stdout",
     "output_type": "stream",
     "text": [
      "\n",
      "H0 hypothesis is rejected. The mean of like counts for tweets with and without political context are significantly different\n",
      "Test statistic: 134516290.0, p-value: 2.4740332224471758e-06\n",
      "\n"
     ]
    }
   ],
   "source": [
    "result = mannwhitneyu(likes_with_political_context, likes_without_political_context)\n",
    "print(\n",
    "    f\"\"\"\n",
    "H0 hypothesis is rejected. The mean of like counts for tweets with and without political context are significantly different\n",
    "Test statistic: {result.statistic}, p-value: {result.pvalue}\n",
    "\"\"\"\n",
    ")"
   ]
  },
  {
   "cell_type": "code",
   "execution_count": 27,
   "id": "420cec5a-4a9a-4fcc-8f36-caf92cfc6415",
   "metadata": {},
   "outputs": [
    {
     "name": "stdout",
     "output_type": "stream",
     "text": [
      "\n",
      "The number of tweets with political_context: 3070,\n",
      "The number of tweets without political_context: 83463,\n",
      "\n"
     ]
    }
   ],
   "source": [
    "retweets_without_political_context = df[\n",
    "    df.political_context_annotation != 1\n",
    "].retweet_count.to_list()\n",
    "retweets_with_political_context = df[\n",
    "    df.political_context_annotation == 1\n",
    "].retweet_count.to_list()\n",
    "print(\n",
    "    f\"\"\"\n",
    "The number of tweets with political_context: {len(retweets_with_political_context)},\n",
    "The number of tweets without political_context: {len(retweets_without_political_context)},\n",
    "\"\"\"\n",
    ")"
   ]
  },
  {
   "cell_type": "code",
   "execution_count": 30,
   "id": "f5c69566-0336-476b-ae73-7eaa88c79655",
   "metadata": {
    "tags": []
   },
   "outputs": [
    {
     "name": "stdout",
     "output_type": "stream",
     "text": [
      "\n",
      "H0 hypothesis is rejected. The mean of retweet counts for tweets with and without political context are significantly different\n",
      "Test statistic: 133513458.5, p-value: 6.923736124860105e-05\n",
      "\n"
     ]
    }
   ],
   "source": [
    "result = mannwhitneyu(\n",
    "    retweets_with_political_context, retweets_without_political_context\n",
    ")\n",
    "print(\n",
    "    f\"\"\"\n",
    "H0 hypothesis is rejected. The mean of retweet counts for tweets with and without political context are significantly different\n",
    "Test statistic: {result.statistic}, p-value: {result.pvalue}\n",
    "\"\"\"\n",
    ")"
   ]
  },
  {
   "cell_type": "code",
   "execution_count": 31,
   "id": "7cc02881-4bc8-4cc8-870a-df7caf11a50f",
   "metadata": {
    "tags": []
   },
   "outputs": [
    {
     "data": {
      "image/png": "[encoded data removed]",
      "text/plain": [
       "<Figure size 640x480 with 1 Axes>"
      ]
     },
     "metadata": {},
     "output_type": "display_data"
    }
   ],
   "source": [
    "plt.boxplot(\n",
    "    [\n",
    "        df.loc[df[\"political_context_annotation\"] == 0, \"retweet_count\"],\n",
    "        df.loc[df[\"political_context_annotation\"] == 1, \"retweet_count\"],\n",
    "        df.loc[df[\"political_context_annotation\"] == 0, \"like_count\"],\n",
    "        df.loc[df[\"political_context_annotation\"] == 1, \"like_count\"],\n",
    "    ]\n",
    ")\n",
    "plt.xticks(\n",
    "    [1, 2, 3, 4],\n",
    "    [\n",
    "        \"No Political Content Retweets\",\n",
    "        \"Political Content Retweets\",\n",
    "        \"No Political Content Likes\",\n",
    "        \"Political Content Likes\",\n",
    "    ],\n",
    ")\n",
    "plt.ylabel(\"Count\")\n",
    "plt.xticks(rotation=90)\n",
    "plt.show()"
   ]
  },
  {
   "cell_type": "code",
   "execution_count": 32,
   "id": "74d40a71-ef12-46db-adb6-ba5e2ed8f08e",
   "metadata": {
    "tags": []
   },
   "outputs": [
    {
     "name": "stderr",
     "output_type": "stream",
     "text": [
      "/var/folders/z5/hjyvlbm54v1cpt9s019vbv9w0000gn/T/ipykernel_55756/2960214711.py:1: FutureWarning: Indexing with multiple keys (implicitly converted to a tuple of keys) will be deprecated, use a list instead.\n",
      "  df.groupby(\"political_context_annotation\")[\"like_count\", \"retweet_count\"].describe()\n"
     ]
    },
    {
     "data": {
      "text/html": [
       "<div>\n",
       "<style scoped>\n",
       "    .dataframe tbody tr th:only-of-type {\n",
       "        vertical-align: middle;\n",
       "    }\n",
       "\n",
       "    .dataframe tbody tr th {\n",
       "        vertical-align: top;\n",
       "    }\n",
       "\n",
       "    .dataframe thead tr th {\n",
       "        text-align: left;\n",
       "    }\n",
       "\n",
       "    .dataframe thead tr:last-of-type th {\n",
       "        text-align: right;\n",
       "    }\n",
       "</style>\n",
       "<table border=\"1\" class=\"dataframe\">\n",
       "  <thead>\n",
       "    <tr>\n",
       "      <th></th>\n",
       "      <th colspan=\"8\" halign=\"left\">like_count</th>\n",
       "      <th colspan=\"8\" halign=\"left\">retweet_count</th>\n",
       "    </tr>\n",
       "    <tr>\n",
       "      <th></th>\n",
       "      <th>count</th>\n",
       "      <th>mean</th>\n",
       "      <th>std</th>\n",
       "      <th>min</th>\n",
       "      <th>25%</th>\n",
       "      <th>50%</th>\n",
       "      <th>75%</th>\n",
       "      <th>max</th>\n",
       "      <th>count</th>\n",
       "      <th>mean</th>\n",
       "      <th>std</th>\n",
       "      <th>min</th>\n",
       "      <th>25%</th>\n",
       "      <th>50%</th>\n",
       "      <th>75%</th>\n",
       "      <th>max</th>\n",
       "    </tr>\n",
       "    <tr>\n",
       "      <th>political_context_annotation</th>\n",
       "      <th></th>\n",
       "      <th></th>\n",
       "      <th></th>\n",
       "      <th></th>\n",
       "      <th></th>\n",
       "      <th></th>\n",
       "      <th></th>\n",
       "      <th></th>\n",
       "      <th></th>\n",
       "      <th></th>\n",
       "      <th></th>\n",
       "      <th></th>\n",
       "      <th></th>\n",
       "      <th></th>\n",
       "      <th></th>\n",
       "      <th></th>\n",
       "    </tr>\n",
       "  </thead>\n",
       "  <tbody>\n",
       "    <tr>\n",
       "      <th>False</th>\n",
       "      <td>83463.0</td>\n",
       "      <td>226.503277</td>\n",
       "      <td>1338.883998</td>\n",
       "      <td>0.0</td>\n",
       "      <td>5.0</td>\n",
       "      <td>17.0</td>\n",
       "      <td>66.0</td>\n",
       "      <td>73017.0</td>\n",
       "      <td>83463.0</td>\n",
       "      <td>51.965709</td>\n",
       "      <td>206.514962</td>\n",
       "      <td>0.0</td>\n",
       "      <td>2.0</td>\n",
       "      <td>6.0</td>\n",
       "      <td>20.0</td>\n",
       "      <td>7413.0</td>\n",
       "    </tr>\n",
       "    <tr>\n",
       "      <th>True</th>\n",
       "      <td>3070.0</td>\n",
       "      <td>349.314658</td>\n",
       "      <td>1895.561912</td>\n",
       "      <td>0.0</td>\n",
       "      <td>6.0</td>\n",
       "      <td>22.0</td>\n",
       "      <td>75.0</td>\n",
       "      <td>47967.0</td>\n",
       "      <td>3070.0</td>\n",
       "      <td>66.154397</td>\n",
       "      <td>248.181543</td>\n",
       "      <td>0.0</td>\n",
       "      <td>2.0</td>\n",
       "      <td>7.0</td>\n",
       "      <td>28.0</td>\n",
       "      <td>5263.0</td>\n",
       "    </tr>\n",
       "  </tbody>\n",
       "</table>\n",
       "</div>"
      ],
      "text/plain": [
       "                             like_count                                     \\\n",
       "                                  count        mean          std  min  25%   \n",
       "political_context_annotation                                                 \n",
       "False                           83463.0  226.503277  1338.883998  0.0  5.0   \n",
       "True                             3070.0  349.314658  1895.561912  0.0  6.0   \n",
       "\n",
       "                                                  retweet_count             \\\n",
       "                               50%   75%      max         count       mean   \n",
       "political_context_annotation                                                 \n",
       "False                         17.0  66.0  73017.0       83463.0  51.965709   \n",
       "True                          22.0  75.0  47967.0        3070.0  66.154397   \n",
       "\n",
       "                                                                       \n",
       "                                     std  min  25%  50%   75%     max  \n",
       "political_context_annotation                                           \n",
       "False                         206.514962  0.0  2.0  6.0  20.0  7413.0  \n",
       "True                          248.181543  0.0  2.0  7.0  28.0  5263.0  "
      ]
     },
     "execution_count": 32,
     "metadata": {},
     "output_type": "execute_result"
    }
   ],
   "source": [
    "df.groupby(\"political_context_annotation\")[\"like_count\", \"retweet_count\"].describe()"
   ]
  },
  {
   "cell_type": "markdown",
   "id": "1e9a9f07-36c6-40aa-8991-59addc3c82ae",
   "metadata": {
    "tags": []
   },
   "source": [
    "## 9. Does an important societal event affect the user engagement of a tweet up until 7 days?"
   ]
  },
  {
   "cell_type": "code",
   "execution_count": 42,
   "id": "74f3d38c-af3d-4d1d-9ccd-74338ebfe865",
   "metadata": {
    "tags": []
   },
   "outputs": [
    {
     "name": "stdout",
     "output_type": "stream",
     "text": [
      "\n",
      "    H0 hypothesis is not rejected. There is a NO correlation between like counts and whether the tweet is posted during an important event.\n",
      "    \n"
     ]
    }
   ],
   "source": [
    "lowest_pvalue = 1\n",
    "for alternative in [\"less\", \"greater\", \"two-sided\"]:\n",
    "    res = spearmanr(\n",
    "        df.posted_during_an_important_event.to_list(),\n",
    "        df.like_count.to_list(),\n",
    "        alternative=alternative,\n",
    "    )\n",
    "    lowest_pvalue = min(lowest_pvalue, res.pvalue)\n",
    "\n",
    "if lowest_pvalue > 0.05:\n",
    "    print(\n",
    "        f\"\"\"\n",
    "    H0 hypothesis is not rejected. There is a NO correlation between like counts and whether the tweet is posted during an important event.\n",
    "    \"\"\"\n",
    "    )"
   ]
  },
  {
   "cell_type": "code",
   "execution_count": 51,
   "id": "6467cd84-fabf-4d6c-97cf-e2be47dbe90f",
   "metadata": {
    "tags": []
   },
   "outputs": [
    {
     "name": "stdout",
     "output_type": "stream",
     "text": [
      "\n",
      "H0 hypothesis is rejected. There is a negative correlation between retweet counts and whether the tweet is posted during an important event.\n",
      "Correlation: -0.005656021026035797, p-value: 0.04807697731214641\n",
      "\n"
     ]
    }
   ],
   "source": [
    "res = spearmanr(\n",
    "    df.posted_during_an_important_event.to_list(),\n",
    "    df.retweet_count.to_list(),\n",
    "    alternative=\"less\",\n",
    ")\n",
    "\n",
    "print(\n",
    "    f\"\"\"\n",
    "H0 hypothesis is rejected. There is a negative correlation between retweet counts and whether the tweet is posted during an important event.\n",
    "Correlation: {res.correlation}, p-value: {res.pvalue}\n",
    "\"\"\"\n",
    ")"
   ]
  },
  {
   "cell_type": "markdown",
   "id": "6a9ded45-e1c6-4f87-9763-6fc90d9430b5",
   "metadata": {
    "tags": []
   },
   "source": [
    "## 10. Is the topic of the tweet affect its popularity?"
   ]
  },
  {
   "cell_type": "code",
   "execution_count": 54,
   "id": "c6568090-e197-4810-8172-3e2758dcc481",
   "metadata": {
    "tags": []
   },
   "outputs": [
    {
     "name": "stdout",
     "output_type": "stream",
     "text": [
      "Kruskal-Wallis H test results:\n",
      "H-statistic: 129885.54397304611\n",
      "p-value: 0.0\n"
     ]
    },
    {
     "name": "stderr",
     "output_type": "stream",
     "text": [
      "/Users/hasansalimkanmaz/environments/kuleuven-thesis/lib/python3.10/site-packages/scipy/stats/_stats_py.py:112: RuntimeWarning: The input array could not be properly checked for nan values. nan values will be ignored.\n",
      "  warnings.warn(\"The input array could not be properly \"\n"
     ]
    }
   ],
   "source": [
    "H, p = kruskal(df[\"sttm_topic\"].to_list(), df[\"like_count\"].to_list())\n",
    "\n",
    "# Print the test results\n",
    "print(\"Kruskal-Wallis H test results:\")\n",
    "print(f\"H-statistic: {H}\")\n",
    "print(f\"p-value: {p}\")"
   ]
  },
  {
   "cell_type": "code",
   "execution_count": 56,
   "id": "6399ecca-3cfc-44d9-a9c3-f3a65758a62d",
   "metadata": {
    "tags": []
   },
   "outputs": [],
   "source": [
    "group1_values = df[\"sttm_topic\"].unique()\n",
    "\n",
    "# Perform Kruskal-Wallis H test for each combination of two in group1_values\n",
    "for group1_pair in combinations(group1_values, 2):\n",
    "    group1_pair_df = df.loc[df[\"sttm_topic\"].isin(group1_pair)]\n",
    "    H, p = kruskal(\n",
    "        group1_pair_df[\"sttm_topic\"].to_list(), group1_pair_df[\"like_count\"].to_list()\n",
    "    )\n",
    "    if p > 0.05:\n",
    "        print(f\"Kruskal-Wallis H test results for group1 values {group1_pair}:\")\n",
    "        print(f\"H-statistic: {H}\")\n",
    "        print(f\"p-value: {p}\")"
   ]
  },
  {
   "cell_type": "code",
   "execution_count": 57,
   "id": "39b39130-9dbb-4eb1-9238-59b3e4b570c5",
   "metadata": {
    "tags": []
   },
   "outputs": [],
   "source": [
    "# Perform Kruskal-Wallis H test for each combination of two in group1_values\n",
    "for group1_pair in combinations(group1_values, 2):\n",
    "    group1_pair_df = df.loc[df[\"sttm_topic\"].isin(group1_pair)]\n",
    "    H, p = kruskal(\n",
    "        group1_pair_df[\"sttm_topic\"].to_list(),\n",
    "        group1_pair_df[\"retweet_count\"].to_list(),\n",
    "    )\n",
    "    if p > 0.05:\n",
    "        print(f\"Kruskal-Wallis H test results for group1 values {group1_pair}:\")\n",
    "        print(f\"H-statistic: {H}\")\n",
    "        print(f\"p-value: {p}\")"
   ]
  },
  {
   "cell_type": "markdown",
   "id": "e0341117-891d-42e4-ada2-9e7de72c9912",
   "metadata": {
    "tags": []
   },
   "source": [
    "## 11. Users characteristics"
   ]
  },
  {
   "cell_type": "markdown",
   "id": "bf02dba0-c34c-44a7-8124-8336d57146c7",
   "metadata": {
    "tags": []
   },
   "source": [
    "### Gender"
   ]
  },
  {
   "cell_type": "code",
   "execution_count": 5,
   "id": "45bf2f45-41ac-4b3a-84be-74470500c813",
   "metadata": {},
   "outputs": [],
   "source": [
    "a = df[['gender_of_author', 'like_count', 'retweet_count']].copy()"
   ]
  },
  {
   "cell_type": "markdown",
   "id": "9eef3eea-d02c-4b66-9d35-ae500a0b7fc4",
   "metadata": {},
   "source": [
    "Like count"
   ]
  },
  {
   "cell_type": "code",
   "execution_count": 7,
   "id": "fe4cb3c6-97c0-4ab8-bf91-d4f852bdf92f",
   "metadata": {},
   "outputs": [],
   "source": [
    "kruskal_test = kruskal(\n",
    "    a.loc[a['gender_of_author']=='ORG', 'like_count'],\n",
    "    a.loc[a['gender_of_author']=='M', 'like_count'],\n",
    "    a.loc[a['gender_of_author']=='F', 'like_count']\n",
    ")"
   ]
  },
  {
   "cell_type": "code",
   "execution_count": 8,
   "id": "321f0adf-0491-4d59-8900-7423b9111825",
   "metadata": {},
   "outputs": [
    {
     "name": "stdout",
     "output_type": "stream",
     "text": [
      "Kruskal-Wallis test:\n",
      "H statistic: 9815.689128044714\n",
      "p-value: 0.0\n"
     ]
    }
   ],
   "source": [
    "print(\"Kruskal-Wallis test:\")\n",
    "print(\"H statistic:\", kruskal_test.statistic)\n",
    "print(\"p-value:\", kruskal_test.pvalue)"
   ]
  },
  {
   "cell_type": "code",
   "execution_count": 9,
   "id": "c9537c78-c8ef-460e-9c95-f99af3417db0",
   "metadata": {},
   "outputs": [],
   "source": [
    "# Dunn's post hoc test\n",
    "dunn_test = posthoc_dunn(a, val_col=\"like_count\", group_col=\"gender_of_author\", p_adjust=\"holm\")"
   ]
  },
  {
   "cell_type": "code",
   "execution_count": 12,
   "id": "56dd7ab1-3b9a-4038-a0a1-e540aa6e6df4",
   "metadata": {},
   "outputs": [],
   "source": [
    "s = pd.DataFrame(np.triu(dunn_test.round(5)), index=dunn_test.index, columns=dunn_test.columns)"
   ]
  },
  {
   "cell_type": "code",
   "execution_count": 13,
   "id": "75645c76-8a23-42c8-9d87-9be2f41f6e4b",
   "metadata": {},
   "outputs": [
    {
     "name": "stdout",
     "output_type": "stream",
     "text": [
      "Dunn's post hoc test:\n"
     ]
    },
    {
     "data": {
      "image/png": "[encoded data removed]",
      "text/plain": [
       "<Figure size 1008x432 with 2 Axes>"
      ]
     },
     "metadata": {
      "needs_background": "light"
     },
     "output_type": "display_data"
    }
   ],
   "source": [
    "print(\"Dunn's post hoc test:\")\n",
    "plt.figure(figsize=(14, 6))\n",
    "sns.heatmap(s, cmap='RdBu_r', annot=True, center=0.05, fmt='.5g');"
   ]
  },
  {
   "cell_type": "code",
   "execution_count": 15,
   "id": "ee949b82-e1d2-43ac-8cc5-46f25407ae88",
   "metadata": {},
   "outputs": [],
   "source": [
    "kruskal_test = kruskal(\n",
    "    a.loc[a['gender_of_author']=='ORG', 'retweet_count'],\n",
    "    a.loc[a['gender_of_author']=='M', 'retweet_count'],\n",
    "    a.loc[a['gender_of_author']=='F', 'retweet_count']\n",
    ")"
   ]
  },
  {
   "cell_type": "code",
   "execution_count": 16,
   "id": "a0f79809-94f3-4c8e-81a2-7c7c5a666d18",
   "metadata": {},
   "outputs": [
    {
     "name": "stdout",
     "output_type": "stream",
     "text": [
      "Kruskal-Wallis test:\n",
      "H statistic: 1298.9497760765366\n",
      "p-value: 8.642511980526671e-283\n"
     ]
    }
   ],
   "source": [
    "print(\"Kruskal-Wallis test:\")\n",
    "print(\"H statistic:\", kruskal_test.statistic)\n",
    "print(\"p-value:\", kruskal_test.pvalue)"
   ]
  },
  {
   "cell_type": "code",
   "execution_count": 17,
   "id": "308b1b2b-84e4-487f-bf5f-fa9e384893dd",
   "metadata": {},
   "outputs": [],
   "source": [
    "# Dunn's post hoc test\n",
    "dunn_test = posthoc_dunn(a, val_col=\"like_count\", group_col=\"gender_of_author\", p_adjust=\"holm\")"
   ]
  },
  {
   "cell_type": "code",
   "execution_count": 21,
   "id": "12802675-e418-45fb-b08e-e4c50aeeda0d",
   "metadata": {},
   "outputs": [
    {
     "data": {
      "text/html": [
       "<div>\n",
       "<style scoped>\n",
       "    .dataframe tbody tr th:only-of-type {\n",
       "        vertical-align: middle;\n",
       "    }\n",
       "\n",
       "    .dataframe tbody tr th {\n",
       "        vertical-align: top;\n",
       "    }\n",
       "\n",
       "    .dataframe thead th {\n",
       "        text-align: right;\n",
       "    }\n",
       "</style>\n",
       "<table border=\"1\" class=\"dataframe\">\n",
       "  <thead>\n",
       "    <tr style=\"text-align: right;\">\n",
       "      <th></th>\n",
       "      <th>F</th>\n",
       "      <th>M</th>\n",
       "      <th>ORG</th>\n",
       "    </tr>\n",
       "  </thead>\n",
       "  <tbody>\n",
       "    <tr>\n",
       "      <th>F</th>\n",
       "      <td>1.000000e+00</td>\n",
       "      <td>6.469625e-150</td>\n",
       "      <td>0.0</td>\n",
       "    </tr>\n",
       "    <tr>\n",
       "      <th>M</th>\n",
       "      <td>6.469625e-150</td>\n",
       "      <td>1.000000e+00</td>\n",
       "      <td>0.0</td>\n",
       "    </tr>\n",
       "    <tr>\n",
       "      <th>ORG</th>\n",
       "      <td>0.000000e+00</td>\n",
       "      <td>0.000000e+00</td>\n",
       "      <td>1.0</td>\n",
       "    </tr>\n",
       "  </tbody>\n",
       "</table>\n",
       "</div>"
      ],
      "text/plain": [
       "                 F              M  ORG\n",
       "F     1.000000e+00  6.469625e-150  0.0\n",
       "M    6.469625e-150   1.000000e+00  0.0\n",
       "ORG   0.000000e+00   0.000000e+00  1.0"
      ]
     },
     "execution_count": 21,
     "metadata": {},
     "output_type": "execute_result"
    }
   ],
   "source": [
    "dunn_test"
   ]
  },
  {
   "cell_type": "markdown",
   "id": "c8bde0ac-72cb-4f70-8779-8646ce559969",
   "metadata": {},
   "source": [
    "### Verified"
   ]
  },
  {
   "cell_type": "code",
   "execution_count": 31,
   "id": "437147c0-bb68-435b-b617-daed2a06b3d2",
   "metadata": {},
   "outputs": [],
   "source": [
    "def check_mannwhitneyu(data, feat, target):\n",
    "    data_yes = data[data[feat]==1][target]\n",
    "    data_no = data[data[feat]!=1][target]\n",
    "    \n",
    "    print(\n",
    "        f\"\"\"The number of tweets with {feat}: {len(data_yes)},\n",
    "The number of tweets without {feat}: {len(data_no)},\"\"\"\n",
    "    )\n",
    "    \n",
    "    result = mannwhitneyu(data_yes, data_no)\n",
    "    print(f'Test statistic: {result.statistic} | p-value: {result.pvalue}')"
   ]
  },
  {
   "cell_type": "code",
   "execution_count": 32,
   "id": "46b3f7ac-93ad-476d-8b9e-c2913f7cac57",
   "metadata": {},
   "outputs": [
    {
     "name": "stdout",
     "output_type": "stream",
     "text": [
      "The number of tweets with verified_author: 10539,\n",
      "The number of tweets without verified_author: 76725,\n",
      "Test statistic: 519705811.0 | p-value: 0.0\n"
     ]
    }
   ],
   "source": [
    "check_mannwhitneyu(df, 'verified_author', 'like_count')"
   ]
  },
  {
   "cell_type": "code",
   "execution_count": 33,
   "id": "46f37ba4-25b4-4f5e-80c1-710ef408413a",
   "metadata": {},
   "outputs": [
    {
     "name": "stdout",
     "output_type": "stream",
     "text": [
      "The number of tweets with verified_author: 10539,\n",
      "The number of tweets without verified_author: 76725,\n",
      "Test statistic: 459711649.5 | p-value: 4.867152287195678e-116\n"
     ]
    }
   ],
   "source": [
    "check_mannwhitneyu(df, 'verified_author', 'retweet_count')"
   ]
  },
  {
   "cell_type": "code",
   "execution_count": null,
   "id": "1cf4d115-cb04-4be7-90bd-e5848c60e37e",
   "metadata": {},
   "outputs": [],
   "source": []
  },
  {
   "cell_type": "markdown",
   "id": "1891ff5e-a49c-4f6b-9bad-5c7b12c67af3",
   "metadata": {},
   "source": [
    "### Profession"
   ]
  },
  {
   "cell_type": "code",
   "execution_count": 35,
   "id": "d39c9aee-05ce-4de9-80a8-35967ea4fdf0",
   "metadata": {},
   "outputs": [
    {
     "data": {
      "text/plain": [
       "array(['UNKNOWN', 'LAWYER', 'JOURNALIST', 'POLITICIAN'], dtype=object)"
      ]
     },
     "execution_count": 35,
     "metadata": {},
     "output_type": "execute_result"
    }
   ],
   "source": [
    "df['profession_of_author'].unique()"
   ]
  },
  {
   "cell_type": "code",
   "execution_count": 36,
   "id": "d7f8413d-86a1-44e9-bb74-7436602d9c1a",
   "metadata": {},
   "outputs": [],
   "source": [
    "kruskal_test = kruskal(\n",
    "    df.loc[df['profession_of_author']=='UNKNOWN', 'like_count'],\n",
    "    df.loc[df['profession_of_author']=='LAWYER', 'like_count'],\n",
    "    df.loc[df['profession_of_author']=='JOURNALIST', 'like_count'],\n",
    "    df.loc[df['profession_of_author']=='POLITICIAN', 'like_count'],\n",
    ")"
   ]
  },
  {
   "cell_type": "code",
   "execution_count": 37,
   "id": "7b6989d8-0bca-41e0-a3e1-dea16f4a3991",
   "metadata": {},
   "outputs": [
    {
     "name": "stdout",
     "output_type": "stream",
     "text": [
      "Kruskal-Wallis test:\n",
      "H statistic: 5773.635913251941\n",
      "p-value: 0.0\n"
     ]
    }
   ],
   "source": [
    "print(\"Kruskal-Wallis test:\")\n",
    "print(\"H statistic:\", kruskal_test.statistic)\n",
    "print(\"p-value:\", kruskal_test.pvalue)"
   ]
  },
  {
   "cell_type": "code",
   "execution_count": 38,
   "id": "4fdd976c-d930-4798-9db5-a9817ca8317a",
   "metadata": {},
   "outputs": [],
   "source": [
    "# Dunn's post hoc test\n",
    "dunn_test = posthoc_dunn(df, val_col=\"like_count\", group_col=\"profession_of_author\", p_adjust=\"holm\")"
   ]
  },
  {
   "cell_type": "code",
   "execution_count": 39,
   "id": "d966d355-6292-4916-8191-8fc8c78df892",
   "metadata": {},
   "outputs": [],
   "source": [
    "s = pd.DataFrame(np.triu(dunn_test.round(5)), index=dunn_test.index, columns=dunn_test.columns)"
   ]
  },
  {
   "cell_type": "code",
   "execution_count": 41,
   "id": "dde500ab-5231-41a5-acf0-54eac2d03cbe",
   "metadata": {},
   "outputs": [
    {
     "data": {
      "text/html": [
       "<div>\n",
       "<style scoped>\n",
       "    .dataframe tbody tr th:only-of-type {\n",
       "        vertical-align: middle;\n",
       "    }\n",
       "\n",
       "    .dataframe tbody tr th {\n",
       "        vertical-align: top;\n",
       "    }\n",
       "\n",
       "    .dataframe thead th {\n",
       "        text-align: right;\n",
       "    }\n",
       "</style>\n",
       "<table border=\"1\" class=\"dataframe\">\n",
       "  <thead>\n",
       "    <tr style=\"text-align: right;\">\n",
       "      <th></th>\n",
       "      <th>JOURNALIST</th>\n",
       "      <th>LAWYER</th>\n",
       "      <th>POLITICIAN</th>\n",
       "      <th>UNKNOWN</th>\n",
       "    </tr>\n",
       "  </thead>\n",
       "  <tbody>\n",
       "    <tr>\n",
       "      <th>JOURNALIST</th>\n",
       "      <td>1.0</td>\n",
       "      <td>0.0</td>\n",
       "      <td>0.0</td>\n",
       "      <td>0.0</td>\n",
       "    </tr>\n",
       "    <tr>\n",
       "      <th>LAWYER</th>\n",
       "      <td>0.0</td>\n",
       "      <td>1.0</td>\n",
       "      <td>0.0</td>\n",
       "      <td>0.0</td>\n",
       "    </tr>\n",
       "    <tr>\n",
       "      <th>POLITICIAN</th>\n",
       "      <td>0.0</td>\n",
       "      <td>0.0</td>\n",
       "      <td>1.0</td>\n",
       "      <td>0.0</td>\n",
       "    </tr>\n",
       "    <tr>\n",
       "      <th>UNKNOWN</th>\n",
       "      <td>0.0</td>\n",
       "      <td>0.0</td>\n",
       "      <td>0.0</td>\n",
       "      <td>1.0</td>\n",
       "    </tr>\n",
       "  </tbody>\n",
       "</table>\n",
       "</div>"
      ],
      "text/plain": [
       "            JOURNALIST  LAWYER  POLITICIAN  UNKNOWN\n",
       "JOURNALIST         1.0     0.0         0.0      0.0\n",
       "LAWYER             0.0     1.0         0.0      0.0\n",
       "POLITICIAN         0.0     0.0         1.0      0.0\n",
       "UNKNOWN            0.0     0.0         0.0      1.0"
      ]
     },
     "execution_count": 41,
     "metadata": {},
     "output_type": "execute_result"
    }
   ],
   "source": [
    "s"
   ]
  },
  {
   "cell_type": "code",
   "execution_count": 42,
   "id": "860d965a-7058-4e2f-8235-ba80587b658f",
   "metadata": {},
   "outputs": [],
   "source": [
    "kruskal_test = kruskal(\n",
    "    df.loc[df['profession_of_author']=='UNKNOWN', 'retweet_count'],\n",
    "    df.loc[df['profession_of_author']=='LAWYER', 'retweet_count'],\n",
    "    df.loc[df['profession_of_author']=='JOURNALIST', 'retweet_count'],\n",
    "    df.loc[df['profession_of_author']=='POLITICIAN', 'retweet_count'],\n",
    ")"
   ]
  },
  {
   "cell_type": "code",
   "execution_count": 43,
   "id": "a66a7748-cd49-40b7-b41b-677c0a9ddc0c",
   "metadata": {},
   "outputs": [
    {
     "name": "stdout",
     "output_type": "stream",
     "text": [
      "Kruskal-Wallis test:\n",
      "H statistic: 1820.0969969843256\n",
      "p-value: 0.0\n"
     ]
    }
   ],
   "source": [
    "print(\"Kruskal-Wallis test:\")\n",
    "print(\"H statistic:\", kruskal_test.statistic)\n",
    "print(\"p-value:\", kruskal_test.pvalue)"
   ]
  },
  {
   "cell_type": "code",
   "execution_count": 44,
   "id": "8d6eba15-1980-4f7b-ae5e-a00f360107eb",
   "metadata": {},
   "outputs": [],
   "source": [
    "# Dunn's post hoc test\n",
    "dunn_test = posthoc_dunn(df, val_col=\"retweet_count\", group_col=\"profession_of_author\", p_adjust=\"holm\")"
   ]
  },
  {
   "cell_type": "code",
   "execution_count": 45,
   "id": "28c8298a-c24d-486f-9b7f-28b32c792309",
   "metadata": {},
   "outputs": [
    {
     "data": {
      "text/html": [
       "<div>\n",
       "<style scoped>\n",
       "    .dataframe tbody tr th:only-of-type {\n",
       "        vertical-align: middle;\n",
       "    }\n",
       "\n",
       "    .dataframe tbody tr th {\n",
       "        vertical-align: top;\n",
       "    }\n",
       "\n",
       "    .dataframe thead th {\n",
       "        text-align: right;\n",
       "    }\n",
       "</style>\n",
       "<table border=\"1\" class=\"dataframe\">\n",
       "  <thead>\n",
       "    <tr style=\"text-align: right;\">\n",
       "      <th></th>\n",
       "      <th>JOURNALIST</th>\n",
       "      <th>LAWYER</th>\n",
       "      <th>POLITICIAN</th>\n",
       "      <th>UNKNOWN</th>\n",
       "    </tr>\n",
       "  </thead>\n",
       "  <tbody>\n",
       "    <tr>\n",
       "      <th>JOURNALIST</th>\n",
       "      <td>1.000000e+00</td>\n",
       "      <td>8.424072e-81</td>\n",
       "      <td>0.000000e+00</td>\n",
       "      <td>9.953314e-36</td>\n",
       "    </tr>\n",
       "    <tr>\n",
       "      <th>LAWYER</th>\n",
       "      <td>8.424072e-81</td>\n",
       "      <td>1.000000e+00</td>\n",
       "      <td>9.709932e-15</td>\n",
       "      <td>1.035137e-44</td>\n",
       "    </tr>\n",
       "    <tr>\n",
       "      <th>POLITICIAN</th>\n",
       "      <td>0.000000e+00</td>\n",
       "      <td>9.709932e-15</td>\n",
       "      <td>1.000000e+00</td>\n",
       "      <td>1.354063e-299</td>\n",
       "    </tr>\n",
       "    <tr>\n",
       "      <th>UNKNOWN</th>\n",
       "      <td>9.953314e-36</td>\n",
       "      <td>1.035137e-44</td>\n",
       "      <td>1.354063e-299</td>\n",
       "      <td>1.000000e+00</td>\n",
       "    </tr>\n",
       "  </tbody>\n",
       "</table>\n",
       "</div>"
      ],
      "text/plain": [
       "              JOURNALIST        LAWYER     POLITICIAN        UNKNOWN\n",
       "JOURNALIST  1.000000e+00  8.424072e-81   0.000000e+00   9.953314e-36\n",
       "LAWYER      8.424072e-81  1.000000e+00   9.709932e-15   1.035137e-44\n",
       "POLITICIAN  0.000000e+00  9.709932e-15   1.000000e+00  1.354063e-299\n",
       "UNKNOWN     9.953314e-36  1.035137e-44  1.354063e-299   1.000000e+00"
      ]
     },
     "execution_count": 45,
     "metadata": {},
     "output_type": "execute_result"
    }
   ],
   "source": [
    "dunn_test"
   ]
  },
  {
   "cell_type": "markdown",
   "id": "e07c0bd7-160a-429e-81c9-f6014ef26cd8",
   "metadata": {},
   "source": [
    "### Has hashtags"
   ]
  },
  {
   "cell_type": "code",
   "execution_count": 46,
   "id": "735aee72-e96e-4a8d-8361-debdb395abac",
   "metadata": {},
   "outputs": [
    {
     "name": "stdout",
     "output_type": "stream",
     "text": [
      "The number of tweets with has_hashtags: 36623,\n",
      "The number of tweets without has_hashtags: 50641,\n",
      "Test statistic: 833944842.5 | p-value: 1.1008256175368152e-142\n"
     ]
    }
   ],
   "source": [
    "check_mannwhitneyu(df, 'has_hashtags', 'like_count')"
   ]
  },
  {
   "cell_type": "code",
   "execution_count": 47,
   "id": "2c415d3c-a66b-431e-aa6e-8518f8c5404f",
   "metadata": {},
   "outputs": [
    {
     "name": "stdout",
     "output_type": "stream",
     "text": [
      "The number of tweets with has_hashtags: 36623,\n",
      "The number of tweets without has_hashtags: 50641,\n",
      "Test statistic: 932756614.5 | p-value: 0.13741537169171622\n"
     ]
    }
   ],
   "source": [
    "check_mannwhitneyu(df, 'has_hashtags', 'retweet_count')"
   ]
  },
  {
   "cell_type": "markdown",
   "id": "ecf6391f-16c6-4e90-b61d-247354599a4e",
   "metadata": {},
   "source": [
    "### Has mentions"
   ]
  },
  {
   "cell_type": "code",
   "execution_count": 48,
   "id": "b65c4f44-ba21-4097-9b21-93d9dd5f3432",
   "metadata": {},
   "outputs": [
    {
     "name": "stdout",
     "output_type": "stream",
     "text": [
      "The number of tweets with has_mentions: 19948,\n",
      "The number of tweets without has_mentions: 67316,\n",
      "Test statistic: 682872707.5 | p-value: 0.00024302020884668622\n"
     ]
    }
   ],
   "source": [
    "check_mannwhitneyu(df, 'has_mentions', 'like_count')"
   ]
  },
  {
   "cell_type": "code",
   "execution_count": 49,
   "id": "9a5519a5-44c6-41ed-a9bf-3cdfe580d156",
   "metadata": {},
   "outputs": [
    {
     "name": "stdout",
     "output_type": "stream",
     "text": [
      "The number of tweets with has_mentions: 19948,\n",
      "The number of tweets without has_mentions: 67316,\n",
      "Test statistic: 704335504.0 | p-value: 4.6316720993160323e-26\n"
     ]
    }
   ],
   "source": [
    "check_mannwhitneyu(df, 'has_mentions', 'retweet_count')"
   ]
  },
  {
   "cell_type": "code",
   "execution_count": 50,
   "id": "8eec9923-bd40-4e28-b1a9-e1494ef87fcc",
   "metadata": {},
   "outputs": [
    {
     "data": {
      "text/html": [
       "<div>\n",
       "<style scoped>\n",
       "    .dataframe tbody tr th:only-of-type {\n",
       "        vertical-align: middle;\n",
       "    }\n",
       "\n",
       "    .dataframe tbody tr th {\n",
       "        vertical-align: top;\n",
       "    }\n",
       "\n",
       "    .dataframe thead th {\n",
       "        text-align: right;\n",
       "    }\n",
       "</style>\n",
       "<table border=\"1\" class=\"dataframe\">\n",
       "  <thead>\n",
       "    <tr style=\"text-align: right;\">\n",
       "      <th></th>\n",
       "      <th>count</th>\n",
       "      <th>mean</th>\n",
       "      <th>std</th>\n",
       "      <th>min</th>\n",
       "      <th>25%</th>\n",
       "      <th>50%</th>\n",
       "      <th>75%</th>\n",
       "      <th>max</th>\n",
       "    </tr>\n",
       "    <tr>\n",
       "      <th>has_mentions</th>\n",
       "      <th></th>\n",
       "      <th></th>\n",
       "      <th></th>\n",
       "      <th></th>\n",
       "      <th></th>\n",
       "      <th></th>\n",
       "      <th></th>\n",
       "      <th></th>\n",
       "    </tr>\n",
       "  </thead>\n",
       "  <tbody>\n",
       "    <tr>\n",
       "      <th>0</th>\n",
       "      <td>67316.0</td>\n",
       "      <td>47.624844</td>\n",
       "      <td>205.208294</td>\n",
       "      <td>0.0</td>\n",
       "      <td>2.0</td>\n",
       "      <td>6.0</td>\n",
       "      <td>19.0</td>\n",
       "      <td>7413.0</td>\n",
       "    </tr>\n",
       "    <tr>\n",
       "      <th>1</th>\n",
       "      <td>19948.0</td>\n",
       "      <td>66.391368</td>\n",
       "      <td>212.765313</td>\n",
       "      <td>0.0</td>\n",
       "      <td>2.0</td>\n",
       "      <td>6.0</td>\n",
       "      <td>28.0</td>\n",
       "      <td>6762.0</td>\n",
       "    </tr>\n",
       "  </tbody>\n",
       "</table>\n",
       "</div>"
      ],
      "text/plain": [
       "                count       mean         std  min  25%  50%   75%     max\n",
       "has_mentions                                                             \n",
       "0             67316.0  47.624844  205.208294  0.0  2.0  6.0  19.0  7413.0\n",
       "1             19948.0  66.391368  212.765313  0.0  2.0  6.0  28.0  6762.0"
      ]
     },
     "execution_count": 50,
     "metadata": {},
     "output_type": "execute_result"
    }
   ],
   "source": [
    "df.groupby('has_mentions')['retweet_count'].describe()"
   ]
  },
  {
   "cell_type": "markdown",
   "id": "992f853f-608e-4fce-8bfa-058d1bc0e0e1",
   "metadata": {},
   "source": [
    "### Language"
   ]
  },
  {
   "cell_type": "code",
   "execution_count": 51,
   "id": "c900011d-e35a-4b56-9627-c411adb196fb",
   "metadata": {},
   "outputs": [
    {
     "data": {
      "text/plain": [
       "array(['tr', 'short_text', 'en', 'other'], dtype=object)"
      ]
     },
     "execution_count": 51,
     "metadata": {},
     "output_type": "execute_result"
    }
   ],
   "source": [
    "df['new_lang'].unique()"
   ]
  },
  {
   "cell_type": "code",
   "execution_count": 52,
   "id": "0173f95d-6b12-42de-baae-e3542e340e49",
   "metadata": {},
   "outputs": [],
   "source": [
    "kruskal_test = kruskal(\n",
    "    df.loc[df['new_lang']=='tr', 'like_count'],\n",
    "    df.loc[df['new_lang']=='short_text', 'like_count'],\n",
    "    df.loc[df['new_lang']=='en', 'like_count'],\n",
    "    df.loc[df['new_lang']=='other', 'like_count'],\n",
    ")"
   ]
  },
  {
   "cell_type": "code",
   "execution_count": 53,
   "id": "0c40b2ea-fc1f-4d4f-864d-9839c9f9d0b7",
   "metadata": {},
   "outputs": [
    {
     "name": "stdout",
     "output_type": "stream",
     "text": [
      "Kruskal-Wallis test:\n",
      "H statistic: 1974.3216257060367\n",
      "p-value: 0.0\n"
     ]
    }
   ],
   "source": [
    "print(\"Kruskal-Wallis test:\")\n",
    "print(\"H statistic:\", kruskal_test.statistic)\n",
    "print(\"p-value:\", kruskal_test.pvalue)"
   ]
  },
  {
   "cell_type": "code",
   "execution_count": 54,
   "id": "7f5aed42-43ac-45c5-af13-d71638b65c58",
   "metadata": {},
   "outputs": [],
   "source": [
    "# Dunn's post hoc test\n",
    "dunn_test = posthoc_dunn(df, val_col=\"like_count\", group_col=\"new_lang\", p_adjust=\"holm\")"
   ]
  },
  {
   "cell_type": "code",
   "execution_count": 55,
   "id": "2b9706a2-d5f6-4797-baa1-ca5bb73c6e0e",
   "metadata": {},
   "outputs": [],
   "source": [
    "s = pd.DataFrame(np.triu(dunn_test.round(5)), index=dunn_test.index, columns=dunn_test.columns)"
   ]
  },
  {
   "cell_type": "code",
   "execution_count": 56,
   "id": "5bbb71dc-6ad0-475e-af0c-43835193a53c",
   "metadata": {},
   "outputs": [
    {
     "data": {
      "text/html": [
       "<div>\n",
       "<style scoped>\n",
       "    .dataframe tbody tr th:only-of-type {\n",
       "        vertical-align: middle;\n",
       "    }\n",
       "\n",
       "    .dataframe tbody tr th {\n",
       "        vertical-align: top;\n",
       "    }\n",
       "\n",
       "    .dataframe thead th {\n",
       "        text-align: right;\n",
       "    }\n",
       "</style>\n",
       "<table border=\"1\" class=\"dataframe\">\n",
       "  <thead>\n",
       "    <tr style=\"text-align: right;\">\n",
       "      <th></th>\n",
       "      <th>en</th>\n",
       "      <th>other</th>\n",
       "      <th>short_text</th>\n",
       "      <th>tr</th>\n",
       "    </tr>\n",
       "  </thead>\n",
       "  <tbody>\n",
       "    <tr>\n",
       "      <th>en</th>\n",
       "      <td>1.0</td>\n",
       "      <td>0.00004</td>\n",
       "      <td>0.0</td>\n",
       "      <td>0.0</td>\n",
       "    </tr>\n",
       "    <tr>\n",
       "      <th>other</th>\n",
       "      <td>0.0</td>\n",
       "      <td>1.00000</td>\n",
       "      <td>0.0</td>\n",
       "      <td>0.0</td>\n",
       "    </tr>\n",
       "    <tr>\n",
       "      <th>short_text</th>\n",
       "      <td>0.0</td>\n",
       "      <td>0.00000</td>\n",
       "      <td>1.0</td>\n",
       "      <td>0.0</td>\n",
       "    </tr>\n",
       "    <tr>\n",
       "      <th>tr</th>\n",
       "      <td>0.0</td>\n",
       "      <td>0.00000</td>\n",
       "      <td>0.0</td>\n",
       "      <td>1.0</td>\n",
       "    </tr>\n",
       "  </tbody>\n",
       "</table>\n",
       "</div>"
      ],
      "text/plain": [
       "             en    other  short_text   tr\n",
       "en          1.0  0.00004         0.0  0.0\n",
       "other       0.0  1.00000         0.0  0.0\n",
       "short_text  0.0  0.00000         1.0  0.0\n",
       "tr          0.0  0.00000         0.0  1.0"
      ]
     },
     "execution_count": 56,
     "metadata": {},
     "output_type": "execute_result"
    }
   ],
   "source": [
    "s"
   ]
  },
  {
   "cell_type": "code",
   "execution_count": 57,
   "id": "bf80ad7f-2311-4e7e-a1c3-a45a2bce711c",
   "metadata": {},
   "outputs": [],
   "source": [
    "kruskal_test = kruskal(\n",
    "    df.loc[df['new_lang']=='tr', 'retweet_count'],\n",
    "    df.loc[df['new_lang']=='short_text', 'retweet_count'],\n",
    "    df.loc[df['new_lang']=='en', 'retweet_count'],\n",
    "    df.loc[df['new_lang']=='other', 'retweet_count'],\n",
    ")"
   ]
  },
  {
   "cell_type": "code",
   "execution_count": 58,
   "id": "939a0804-b047-4199-9e41-a65843d31781",
   "metadata": {},
   "outputs": [
    {
     "name": "stdout",
     "output_type": "stream",
     "text": [
      "Kruskal-Wallis test:\n",
      "H statistic: 1889.8062769682933\n",
      "p-value: 0.0\n"
     ]
    }
   ],
   "source": [
    "print(\"Kruskal-Wallis test:\")\n",
    "print(\"H statistic:\", kruskal_test.statistic)\n",
    "print(\"p-value:\", kruskal_test.pvalue)"
   ]
  },
  {
   "cell_type": "code",
   "execution_count": 59,
   "id": "c556507b-7fe9-4784-a55c-07a7bbd4b09a",
   "metadata": {},
   "outputs": [],
   "source": [
    "# Dunn's post hoc test\n",
    "dunn_test = posthoc_dunn(df, val_col=\"retweet_count\", group_col=\"new_lang\", p_adjust=\"holm\")"
   ]
  },
  {
   "cell_type": "code",
   "execution_count": 60,
   "id": "81323901-2d2b-44c8-aabe-70ec8a302f0c",
   "metadata": {},
   "outputs": [
    {
     "data": {
      "text/html": [
       "<div>\n",
       "<style scoped>\n",
       "    .dataframe tbody tr th:only-of-type {\n",
       "        vertical-align: middle;\n",
       "    }\n",
       "\n",
       "    .dataframe tbody tr th {\n",
       "        vertical-align: top;\n",
       "    }\n",
       "\n",
       "    .dataframe thead th {\n",
       "        text-align: right;\n",
       "    }\n",
       "</style>\n",
       "<table border=\"1\" class=\"dataframe\">\n",
       "  <thead>\n",
       "    <tr style=\"text-align: right;\">\n",
       "      <th></th>\n",
       "      <th>en</th>\n",
       "      <th>other</th>\n",
       "      <th>short_text</th>\n",
       "      <th>tr</th>\n",
       "    </tr>\n",
       "  </thead>\n",
       "  <tbody>\n",
       "    <tr>\n",
       "      <th>en</th>\n",
       "      <td>1.000000e+00</td>\n",
       "      <td>1.545965e-31</td>\n",
       "      <td>1.161211e-126</td>\n",
       "      <td>7.174543e-11</td>\n",
       "    </tr>\n",
       "    <tr>\n",
       "      <th>other</th>\n",
       "      <td>1.545965e-31</td>\n",
       "      <td>1.000000e+00</td>\n",
       "      <td>1.906527e-06</td>\n",
       "      <td>3.647320e-65</td>\n",
       "    </tr>\n",
       "    <tr>\n",
       "      <th>short_text</th>\n",
       "      <td>1.161211e-126</td>\n",
       "      <td>1.906527e-06</td>\n",
       "      <td>1.000000e+00</td>\n",
       "      <td>0.000000e+00</td>\n",
       "    </tr>\n",
       "    <tr>\n",
       "      <th>tr</th>\n",
       "      <td>7.174543e-11</td>\n",
       "      <td>3.647320e-65</td>\n",
       "      <td>0.000000e+00</td>\n",
       "      <td>1.000000e+00</td>\n",
       "    </tr>\n",
       "  </tbody>\n",
       "</table>\n",
       "</div>"
      ],
      "text/plain": [
       "                       en         other     short_text            tr\n",
       "en           1.000000e+00  1.545965e-31  1.161211e-126  7.174543e-11\n",
       "other        1.545965e-31  1.000000e+00   1.906527e-06  3.647320e-65\n",
       "short_text  1.161211e-126  1.906527e-06   1.000000e+00  0.000000e+00\n",
       "tr           7.174543e-11  3.647320e-65   0.000000e+00  1.000000e+00"
      ]
     },
     "execution_count": 60,
     "metadata": {},
     "output_type": "execute_result"
    }
   ],
   "source": [
    "dunn_test"
   ]
  },
  {
   "cell_type": "markdown",
   "id": "336c3284-537c-4766-88f6-bbf4bf71c967",
   "metadata": {},
   "source": [
    "### Trend topic"
   ]
  },
  {
   "cell_type": "code",
   "execution_count": 61,
   "id": "517d6c92-09be-4201-9a55-c3cb90c49ddc",
   "metadata": {},
   "outputs": [],
   "source": [
    "a = df[['n_trend_topics', 'like_count', 'retweet_count']].copy()"
   ]
  },
  {
   "cell_type": "code",
   "execution_count": 66,
   "id": "65e8c77b-d1ec-4406-a2b6-b0a434df072b",
   "metadata": {},
   "outputs": [
    {
     "data": {
      "text/plain": [
       "0     63712\n",
       "1     22514\n",
       "2       931\n",
       "3        91\n",
       "4        13\n",
       "13        1\n",
       "10        1\n",
       "5         1\n",
       "Name: n_trend_topics, dtype: int64"
      ]
     },
     "execution_count": 66,
     "metadata": {},
     "output_type": "execute_result"
    }
   ],
   "source": [
    "a['n_trend_topics'].value_counts()"
   ]
  },
  {
   "cell_type": "code",
   "execution_count": 63,
   "id": "c2e505f4-4f54-4786-a3ed-8d5fead4ba6a",
   "metadata": {},
   "outputs": [],
   "source": [
    "a['is_trend_topic'] = np.where(a['n_trend_topics']>1, 1, 0)"
   ]
  },
  {
   "cell_type": "code",
   "execution_count": 64,
   "id": "dab867a0-228e-4e54-a613-ccfa0bfa5abd",
   "metadata": {},
   "outputs": [
    {
     "name": "stdout",
     "output_type": "stream",
     "text": [
      "The number of tweets with is_trend_topic: 1038,\n",
      "The number of tweets without is_trend_topic: 86226,\n",
      "Test statistic: 50085440.5 | p-value: 3.739216974085841e-11\n"
     ]
    }
   ],
   "source": [
    "check_mannwhitneyu(a, 'is_trend_topic', 'like_count')"
   ]
  },
  {
   "cell_type": "code",
   "execution_count": 65,
   "id": "e485605b-e630-4f7b-bfa7-bee87d43593d",
   "metadata": {},
   "outputs": [
    {
     "name": "stdout",
     "output_type": "stream",
     "text": [
      "The number of tweets with is_trend_topic: 1038,\n",
      "The number of tweets without is_trend_topic: 86226,\n",
      "Test statistic: 52020800.0 | p-value: 1.722539038720754e-19\n"
     ]
    }
   ],
   "source": [
    "check_mannwhitneyu(a, 'is_trend_topic', 'retweet_count')"
   ]
  },
  {
   "cell_type": "code",
   "execution_count": null,
   "id": "bb9ba9a3-6c43-4542-81e2-7a2f776d52de",
   "metadata": {},
   "outputs": [],
   "source": []
  },
  {
   "cell_type": "code",
   "execution_count": null,
   "id": "ac550303-b1dc-44eb-95d7-47b9b6e9f41b",
   "metadata": {},
   "outputs": [],
   "source": []
  },
  {
   "cell_type": "code",
   "execution_count": null,
   "id": "7fb97582-315e-424a-a27c-4f47f94e4aee",
   "metadata": {},
   "outputs": [],
   "source": []
  },
  {
   "cell_type": "code",
   "execution_count": null,
   "id": "316d17fd-d583-4139-ae8d-23413b20487f",
   "metadata": {},
   "outputs": [],
   "source": []
  },
  {
   "cell_type": "code",
   "execution_count": null,
   "id": "4d115c65-ae99-43d6-95b6-a83274b47e7a",
   "metadata": {},
   "outputs": [],
   "source": []
  },
  {
   "cell_type": "code",
   "execution_count": null,
   "id": "aa28757c-5d77-4b3a-b162-cf49fd786039",
   "metadata": {},
   "outputs": [],
   "source": []
  }
 ],
 "metadata": {
  "kernelspec": {
   "display_name": "Python 3 (ipykernel)",
   "language": "python",
   "name": "python3"
  },
  "language_info": {
   "codemirror_mode": {
    "name": "ipython",
    "version": 3
   },
   "file_extension": ".py",
   "mimetype": "text/x-python",
   "name": "python",
   "nbconvert_exporter": "python",
   "pygments_lexer": "ipython3",
   "version": "3.9.7"
  }
 },
 "nbformat": 4,
 "nbformat_minor": 5
}
